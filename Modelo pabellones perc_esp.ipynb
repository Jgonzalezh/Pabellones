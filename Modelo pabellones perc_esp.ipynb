{
 "cells": [
  {
   "cell_type": "markdown",
   "metadata": {},
   "source": [
    "# Modelo de pabellones"
   ]
  },
  {
   "cell_type": "markdown",
   "metadata": {},
   "source": [
    "### Librerías"
   ]
  },
  {
   "cell_type": "code",
   "execution_count": 1,
   "metadata": {},
   "outputs": [],
   "source": [
    "# -*- coding: utf-8 -*-\n",
    "\"\"\"\n",
    "Created on Wed Jun 10 15:23:09 2020\n",
    "\n",
    "@author: jgonzalezh\n",
    "\n",
    "\"\"\"\n",
    "\n",
    "import pyodbc\n",
    "import pandas as pd\n",
    "import random\n",
    "import matplotlib.pyplot as plt\n",
    "import numpy as np\n",
    "import time\n",
    "from pulp import *\n",
    "import matplotlib.colors as mcolors\n",
    "import matplotlib.transforms as mtransforms\n",
    "import matplotlib.patches as mpatches\n",
    "import math\n",
    "import plotly.graph_objs as go\n",
    "import plotly.figure_factory as ff\n",
    "from plotly.figure_factory import create_gantt\n",
    "\n"
   ]
  },
  {
   "cell_type": "markdown",
   "metadata": {},
   "source": [
    "### Clases y funciones"
   ]
  },
  {
   "cell_type": "code",
   "execution_count": 2,
   "metadata": {},
   "outputs": [
    {
     "name": "stdout",
     "output_type": "stream",
     "text": [
      "Wall time: 0 ns\n"
     ]
    }
   ],
   "source": [
    "%%time\n",
    "\n",
    "class DATA:\n",
    "    def __init__(self,archivo_dmd,archivo_equipos,instr):\n",
    "        self.instrumental=instr\n",
    "        x=instr.drop(instr.columns[[0, 1]], axis=1).iloc[1]\n",
    "        y=instr.drop(instr.columns[[0, 1]], axis=1).iloc[0]\n",
    "        self.Sub_Esp=x.unique()\n",
    "        self.Esp=y.unique()\n",
    "        Esp=self.Esp\n",
    "        shape=instr.shape\n",
    "        REST3=instr\n",
    "        for i in range(2,shape[1]):\n",
    "            for j in range(5,shape[0]):\n",
    "                REST3.iat[j,i]=instr.fillna(0).iat[j,i]*instr.fillna(0).iat[2,i]/instr.fillna(0).iat[j,1]\n",
    "        similitudes=[[0 for i in range(len(Esp))]for j in range(len(Esp))]\n",
    "        columnas_esp=[[] for i in range(len(Esp))]\n",
    "        for i in range(REST3.shape[1]):\n",
    "            for j in range(len(Esp)):\n",
    "                if REST3.iat[0,i]==Esp[j]:\n",
    "                    columnas_esp[j].append(i)\n",
    "        instrumentos=[[0 for x in range(5,REST3.shape[0])]for i in range(len(Esp))]\n",
    "        for i in range(5,REST3.shape[0]):\n",
    "            for j in range(len(Esp)):\n",
    "                for z in columnas_esp[j]:\n",
    "                    instrumentos[j][i-5]+=REST3.iat[i,z]\n",
    "        for i in range(len(Esp)):\n",
    "                for j in range(len(Esp)):\n",
    "                    for z in range(len(instrumentos[0])):\n",
    "                        if instrumentos[j][z]>0 and instrumentos[i][z]>0:\n",
    "                            similitudes[i][j]+= round(instrumentos[i][z]+instrumentos[j][z],2)\n",
    "                            similitudes[j][i]+= round(instrumentos[i][z]+instrumentos[j][z],2)\n",
    "        self.instrumentos=instrumentos\n",
    "        self.similitudes=similitudes\n",
    "        self.Especialidades=archivo_dmd.Especialidad.unique()\n",
    "        self.Cobertura=archivo_dmd.Tipo.unique() \n",
    "        a=len(self.Especialidades)\n",
    "        b=len(self.Cobertura)\n",
    "        self.N_Especialidad=a\n",
    "        self.N_Cobertura=b\n",
    "        self.Dmd_semanal=np.zeros(shape=(a,b))\n",
    "        self.Bloquesmax= np.zeros(shape=(a,b))\n",
    "        self.Cirujanos= np.zeros(shape=(a,b))\n",
    "        for i in range(len(archivo_dmd.index)):\n",
    "            for e in range(a):\n",
    "                for c in range(b):\n",
    "                    if archivo_dmd.iat[i,0]==self.Especialidades[e]:\n",
    "                        if archivo_dmd.iat[i,1]==self.Cobertura[c]:\n",
    "                            self.Dmd_semanal[e,c]=archivo_dmd.iat[i,6]\n",
    "                            self.Bloquesmax[e,c]=archivo_dmd.iat[i,3]\n",
    "                            self.Cirujanos[e,c]=archivo_dmd.iat[i,4]                \n",
    "        dias=['Lunes','Martes','Miércoles','Jueves','Viernes','Sábado','Domingo'] \n",
    "        horas=['00:00:00','00:30:00','01:00:00','01:30:00','02:00:00','02:30:00','03:00:00','03:30:00',\n",
    "            '04:00:00','04:30:00','05:00:00','05:30:00','06:00:00','06:30:00','07:00:00','07:30:00',\n",
    "            '08:00:00','08:30:00','09:00:00','09:30:00','10:00:00','10:30:00','11:00:00','11:30:00',\n",
    "            '12:00:00','12:30:00','13:00:00','13:30:00','14:00:00','14:30:00','15:00:00','15:30:00',\n",
    "            '16:00:00','16:30:00','17:00:00','17:30:00','18:00:00','18:30:00','19:00:00','19:30:00',\n",
    "            '20:00:00','20:30:00','21:00:00','21:30:00','22:00:00','22:30:00','23:00:00','23:30:00']\n",
    "        FTE=1\n",
    "        self.turno=archivo_equipos \n",
    "        turnos=self.turno\n",
    "        fill=len(turnos.index)\n",
    "        turnos['Hora Inicio']=turnos['Hora inicio Turno'].dt.hour\n",
    "        turnos['Minutos Inicio']=turnos['Hora inicio Turno'].dt.minute\n",
    "        turnos['Hora Fin']=turnos['Hora Fin Turno'].dt.hour\n",
    "        turnos['Minutos Fin']=turnos['Hora Fin Turno'].dt.minute\n",
    "        self.T=[[[0 for i in range(48)]for j in range(7)]for e in range(self.N_Especialidad)]\n",
    "        for g in range(fill):\n",
    "            for e in  range(self.N_Especialidad):\n",
    "                if turnos.iat[g,0]==self.Especialidades[e]:\n",
    "                    for h in range(7):\n",
    "                        if turnos.iat[g,2]==dias[h]:\n",
    "                            for j in range(int(round(2*turnos.iat[g,9]+turnos.iat[g,10]/30))):\n",
    "                                if j>=int(round(2*turnos.iat[g,7]+turnos.iat[g,8]/30)) and j<=int(round(2*turnos.iat[g,9]+(turnos.iat[g,10]/30))): #revisa si tiene que ponerle -1\n",
    "                                    self.T[e][h][j]+=FTE\n",
    "\n",
    "def diccionario_bloques(bloque_ini,bloque_fin):\n",
    "    diccionario=[]\n",
    "    h=bloque_ini\n",
    "    g=bloque_fin\n",
    "    for k in range(h,g):\n",
    "        for j in range (k,g):    \n",
    "            largo=[]\n",
    "            for u in range(k):\n",
    "                largo.append(0)\n",
    "            for i in range(k,g):\n",
    "                if i<=j:\n",
    "                    largo.append(1)\n",
    "                else:\n",
    "                    largo.append(0)\n",
    "            for p in range(g,48):\n",
    "                largo.append(0)\n",
    "            diccionario.append(largo)\n",
    "    return diccionario\n",
    "def minmax_bloques(bloques,min_,max_):\n",
    "    output=[]\n",
    "    for x in range(len(bloques)):\n",
    "        contar=0\n",
    "        for i in range(len(bloques[x])):\n",
    "            contar+=bloques[x][i]\n",
    "        if contar>=min_ and contar<=max_:\n",
    "            output.append(bloques[x])\n",
    "    return output\n",
    "def posicion(a,b):\n",
    "    leng=len(b)\n",
    "    x=None\n",
    "    for i in range(leng):\n",
    "        if a==b[i]:\n",
    "            x=i\n",
    "    return x\n",
    "def score(e,e2, b):\n",
    "    x=posicion(e,b)\n",
    "    y=posicion(e2,b)\n",
    "    if x!=None and y!=None:\n",
    "        z=data.similitudes[x][y]\n",
    "    else:\n",
    "        z=0\n",
    "    return z\n",
    "\n",
    "#Transformar index a inicio y finde turno\n",
    "\n",
    "def search_ini(list):\n",
    "    for i in range(48):\n",
    "        if list[i-1]==0 and list[i]==1:\n",
    "            z=i\n",
    "    return z\n",
    "def search_fin(list):\n",
    "    for i in range(48):\n",
    "        if list[i-1]==1 and list[i]==0:\n",
    "            z=i\n",
    "    return z\n",
    "\n",
    "def turno(lista):\n",
    "    #lista=[0, 0, 0, 0, 0, 0, 0, 0, 0, 0, 0, 0, 0, 0, 0, 0, 0, 0, 0, 0, 0, 0, 1, 1, 1, 1, 0, 1, 1, 1, 1, 1, 1, 1, 1, 1, 1, 1, 1, 1, 0, 0, 0, 0, 0, 0, 0, 0]\n",
    "    largo=len(lista)\n",
    "    i=0\n",
    "    while lista[i]==0:  \n",
    "        i+=1\n",
    "    inicio=i\n",
    "    while lista[i]==1 or lista[i+1]==1:\n",
    "        fin=i\n",
    "        i+=1\n",
    "    if math.modf((inicio)/2)[0] ==0:\n",
    "        inicio_str=str(int(math.modf((inicio)/2)[1]))+':00:00'\n",
    "    else:\n",
    "        inicio_str=str(int(math.modf((inicio)/2)[1]))+':30:00'\n",
    "    if math.modf((fin)/2)[0] ==0:\n",
    "        fin_str=str(int(math.modf((fin)/2)[1]))+':30:00'\n",
    "    else:\n",
    "        fin_str=str(int(math.modf(((fin)/2)+1)[1]))+':00:00'\n",
    "    return [inicio_str,fin_str]\n",
    "\n",
    "#Colores de Gantt\n",
    "def colores(largo):\n",
    "    colores=['rgb(34,116,66)','rgb(7,195,80)', 'rgb(93,205,187)',\n",
    "             'rgb(14,194,220)','rgb(14,122,220)', 'rgb(102,14,220)',\n",
    "             'rgb(199,171,235)','rgb(229,15,103)', 'rgb(234,126,31)',\n",
    "             'rgb(250,212,47)','rgb(153,213,0)', 'rgb(144,251,252)',\n",
    "             'rgb(110, 0, 110)','rgb(25, 90, 40)','rgb(220, 0, 110)','rgb(110, 0, 220)',\n",
    "                'rgb(220, 55, 0)','rgb(220, 110, 0)','rgb(220, 175, 0)',\n",
    "                'rgb(220, 220, 110)',\n",
    "                'rgb(220, 220, 0)','rgb(55, 0, 0)','rgb(220, 0, 220)', 'rgb(220, 110, 220)',\n",
    "                'rgb(110, 0, 0)','rgb(220, 0, 0)','rgb(175, 0, 0)','rgb(220, 0, 110)','rgb(220, 55, 110)',\n",
    "                'rgb(175, 0, 110)','rgb(220, 55, 220)','rgb(220, 110, 110)',\n",
    "                'rgb(220, 175, 220)','rgb(55, 0, 110)','rgb(220, 220, 220)','rgb(55, 0, 220)',\n",
    "                'rgb(220, 175, 110)','rgb(175, 0, 220)','rgb(220, 0, 220)','rgb(220, 0, 0)']\n",
    "    return colores[:largo]\n"
   ]
  },
  {
   "cell_type": "markdown",
   "metadata": {},
   "source": [
    "# Lectura de datos"
   ]
  },
  {
   "cell_type": "code",
   "execution_count": 3,
   "metadata": {},
   "outputs": [],
   "source": [
    "DMD=pd.read_excel('C:/Users/jgonzalezh/Documents/Pabellones 2/input/Input_2.xlsx', sheet_name='Horas semanales')\n",
    "EQ=pd.read_excel('C:/Users/jgonzalezh/Documents/Pabellones 2/input/Horarios médicos_2.xlsx')\n",
    "REST=pd.read_excel('C:/Users/jgonzalezh/Documents/Pabellones 2/input/Instrumental.xlsx',  header=None )\n",
    "Horas_esp=pd.read_excel('C:/Users/jgonzalezh/Documents/Pabellones 2/input/Porcent Horas Subesp.xlsx',  header=0, index_col=None )\n"
   ]
  },
  {
   "cell_type": "markdown",
   "metadata": {},
   "source": [
    "### Variables PPL"
   ]
  },
  {
   "cell_type": "code",
   "execution_count": 4,
   "metadata": {},
   "outputs": [],
   "source": [
    "#Transformar a formato horas\n",
    "EQ['Hora inicio Turno']=pd.to_datetime(EQ['Hora inicio Turno'], format='%H:%M:%S')\n",
    "EQ['Hora Fin Turno']=pd.to_datetime(EQ['Hora Fin Turno'], format='%H:%M:%S')\n",
    "\n",
    "#Lectura de data según calse\n",
    "data=DATA(DMD,EQ,REST) \n",
    "\n",
    "#String especialidades\n",
    "E_str=data.Especialidades\n",
    "#String ley-VSC\n",
    "C_str=data.Cobertura\n",
    "#Especialidades númericas\n",
    "E=range(data.N_Especialidad)\n",
    "#Tipo ley y VSC\n",
    "C=range(data.N_Cobertura)\n",
    "\n",
    "#Tipo de pabellones (no utilizada, pero manera alternativa de solucionar primer PPL)\n",
    "Tipo=[0,1,2]\n",
    "#Tipo en String\n",
    "Tipo_str=['Tipo 1','Tipo 2','Tipo 3']\n",
    "\n",
    "#Pabellones numerico\n",
    "P=[0,1,2,3,4,5,6,7,8,9]\n",
    "#Pabellones String\n",
    "P_str=['Pabellón 1','Pabellón 2','Pabellón 3','Pabellón 4','Pabellón 5','Pabellón 7','Pabellón 8','UCA 1','UCA 2','UCA 3']\n",
    "#Index en string (48 medias horas del día)\n",
    "horas=['00:00:00','00:30:00','01:00:00','01:30:00','02:00:00','02:30:00','03:00:00','03:30:00',\n",
    "    '04:00:00','04:30:00','05:00:00','05:30:00','06:00:00','06:30:00','07:00:00','07:30:00',\n",
    "    '08:00:00','08:30:00','09:00:00','09:30:00','10:00:00','10:30:00','11:00:00','11:30:00',\n",
    "    '12:00:00','12:30:00','13:00:00','13:30:00','14:00:00','14:30:00','15:00:00','15:30:00',\n",
    "    '16:00:00','16:30:00','17:00:00','17:30:00','18:00:00','18:30:00','19:00:00','19:30:00',\n",
    "    '20:00:00','20:30:00','21:00:00','21:30:00','22:00:00','22:30:00','23:00:00','23:30:00']\n",
    "#Dias numericos\n",
    "dias=[0,1,2,3,4] \n",
    "#Medias horas en numeros\n",
    "index = np.arange(48)\n",
    "#dias en string\n",
    "dias_str=['Lunes','Martes','Miércoles','Jueves','Viernes','Sábado','Domingo'] \n",
    "#Tensor de demanda semanal\n",
    "Q_horas=data.Dmd_semanal \n",
    "\n",
    "#diccionario de bloques, todas las combinaciones posibles entre 16-42 horas (8:00 am - 21:00)\n",
    "dic=diccionario_bloques(16,42)\n",
    "#Eliminar todos los turnos de menos de 5 bloques de largo y de más de 16\n",
    "turnos=minmax_bloques(dic,5,16)\n",
    "\n",
    "#Largo de los diferentes turnos\n",
    "T=range(len(turnos))\n",
    "\n",
    "#Data de cirujanos por especialidad y media hora\n",
    "Cirujanos=data.T\n",
    "\n",
    "#primedio de cirujanos necesarios para cada especialidad\n",
    "Avg_Cirujanos=data.Cirujanos\n",
    "\n",
    "#mínimo de bloques necesarios por especialidad\n",
    "min_sem=data.Bloquesmax\n",
    "\n",
    "#Porcentaje de horas necesarias en cada pabellón\n",
    "Horas_por_pabellon=[[[0 for e in E]for c in C]for tipo in Tipo]\n",
    "for i in range(Horas_esp.shape[0]):\n",
    "    for e in E:\n",
    "        for tipo in Tipo:\n",
    "            if Horas_esp.iat[i,0]==E_str[e] and Horas_esp.iat[i,5]==Tipo_str[tipo]:\n",
    "                Horas_por_pabellon[tipo][0][e]+=Horas_esp.iat[i,3] \n",
    "                Horas_por_pabellon[tipo][1][e]+=Horas_esp.iat[i,4]"
   ]
  },
  {
   "cell_type": "code",
   "execution_count": 40,
   "metadata": {},
   "outputs": [
    {
     "data": {
      "text/plain": [
       "' '"
      ]
     },
     "execution_count": 40,
     "metadata": {},
     "output_type": "execute_result"
    }
   ],
   "source": [
    "##########################----------Visualización de turnos por especialidad y días -------#############################\n",
    "\"\"\"\n",
    "for e in E:\n",
    "    for c in [0]:\n",
    "        print(E_str[e],' ',C_str[c],'\\n')\n",
    "        print('\\t\\t', dias_str[0],'\\t',dias_str[1], dias_str[2],dias_str[3],dias_str[4])\n",
    "        \n",
    "        for h in index [16:42]:\n",
    "            if E_str[e]!='Libre' and Avg_Cirujanos[e,c]!=0:\n",
    "                print(horas[h],'\\t',round(Cirujanos[e][0][h]/Avg_Cirujanos[e,c],0),'\\t',Cirujanos[e][1][h]/Avg_Cirujanos[e,c],'\\t',Cirujanos[e][2][h]/Avg_Cirujanos[e,c],'\\t',Cirujanos[e][3][h]/Avg_Cirujanos[e,c],'\\t',Cirujanos[e][4][h])\n",
    "                #print(horas[h],'\\t',Cirujanos[e][0][h],'\\t',Cirujanos[e][1][h],'\\t',Cirujanos[e][2][h],'\\t',Cirujanos[e][3][h],'\\t',Cirujanos[e][4][h])\n",
    "                \n",
    "\"\"\"                \n",
    "##################### Matriz de scores  ##########################\n",
    "# No se utiliza en modelo actual\n",
    "\"\"\"\n",
    "x=0\n",
    "y=0\n",
    "for e in E:\n",
    "    for e2 in E[e:]:\n",
    "        x+=1\n",
    "        y+=score(E_str[e],E_str[e2],data.Esp)\n",
    "        #print(x,E_str[e],E_str[e2],score(E_str[e],E_str[e2],data.Esp))\n",
    "avg=y/x\n",
    "print(avg)\n",
    "puntaje=[[0 for e in E] for e2 in E]\n",
    "for e in E:\n",
    "    for e2 in E:\n",
    "        if score(E_str[e],E_str[e2],data.Esp)>=avg:\n",
    "            puntaje[e][e2]=1\n",
    "            #puntaje.append((E_str[e],E_str[e2],1, score(E_str[e],E_str[e2],data.Esp)))\n",
    "        else:\n",
    "            puntaje[e][e2]=0\n",
    "            #puntaje.append((E_str[e],E_str[e2],0,0))\n",
    "            \n",
    "for i in puntaje:\n",
    "    print(i)\n",
    "            \n",
    "#data.Esp           \n",
    "E_str  \n",
    "\"\"\"                \n",
    "' '            \n",
    "        "
   ]
  },
  {
   "cell_type": "markdown",
   "metadata": {},
   "source": [
    "## PPL Asignación de bloques"
   ]
  },
  {
   "cell_type": "code",
   "execution_count": 6,
   "metadata": {},
   "outputs": [
    {
     "name": "stdout",
     "output_type": "stream",
     "text": [
      "Wall time: 19min 49s\n"
     ]
    }
   ],
   "source": [
    "%%time\n",
    "\n",
    "#Definir problema\n",
    "modelo=LpProblem('Bloques_pabellones', LpMinimize) # Se define el modelo\n",
    "\n",
    "#Variables\n",
    "A=LpVariable.dicts('Bloques_propuestos', [(e,p,t,d,c) for t in T for d in dias for p in P for e in E for c in C],lowBound=0, upBound=None,cat='Continuous')\n",
    "\n",
    "#Función objetivo \n",
    "x=0\n",
    "\n",
    "#Minimizar el número de bloques asignados\n",
    "x+=pulp.lpSum([A[(e,p,t,d,c)] for d in dias for t in T for p in P for e in E for c in C]) \n",
    "#Penalizar entre más tarde se asigna el bloque (preferir en la mañana)\n",
    "x+=pulp.lpSum([A[(e,p,t,d,c)]*h*turnos[t][h] for d in dias for t in T for p in P for e in E for c in C for h in index])*0.003\n",
    "#Preferir Caundo hay mnás cirujanos contratados\n",
    "x+=pulp.lpSum([(-1)*(Cirujanos[e][d][h])*turnos[t][h]*A[(e,p,t,d,c)] for d in dias for t in T for p in P for e in E for c in [0] for h in index])*0.01\n",
    "\n",
    "#Se agregan a la función objetivo \n",
    "modelo+=x\n",
    "#Restricciones\n",
    "\n",
    "# Solo se asigna a una especialidad al mismo tiempo el pabellón\n",
    "for  p in P:\n",
    "    for d in dias:\n",
    "        for h in index:\n",
    "            modelo+=pulp.lpSum([turnos[t][h]*A[(e,p,t,d,c)] for e in E for t in T for c in C])<=1 \n",
    "\n",
    "\n",
    "# Se satisface la demanda semanal\n",
    "for e in E:\n",
    "    for c in C:\n",
    "        modelo+=pulp.lpSum([turnos[t][h]*A[(e,p,t,d,c)] for t in T for h in index for d in dias for p in P])>=Q_horas[e,c]*2\n",
    "\n",
    "#Bloques mínimos semanales, si esq tienen demanda, ROA ley no tiene por ejemplo\n",
    "for e in E:\n",
    "    for c in C:\n",
    "        if Q_horas[e,c]>0:\n",
    "            modelo+=pulp.lpSum([A[(e,p,t,d,c)] for t in T for d in dias for p in P])>=min_sem[e,c]\n",
    "\n",
    "# Número de lboques máximo en simultaneo\n",
    "for d in dias:\n",
    "    for e in E:\n",
    "        for h in index:\n",
    "            for c in C:\n",
    "                if E_str[e]=='Roa':\n",
    "                    modelo+=pulp.lpSum([turnos[t][h]*A[(e,p,t,d,c)] for t in T for p in P])<=1\n",
    "                elif E_str[e]=='Maxilo':\n",
    "                    modelo+=pulp.lpSum([turnos[t][h]*A[(e,p,t,d,c)] for t in T for p in P])<=2\n",
    "                else:\n",
    "                    modelo+=pulp.lpSum([turnos[t][h]*A[(e,p,t,d,c)] for t in T for p in P])<=4   \n",
    "\n",
    "# Se busca que los bloques tenga cirujanos disponibles (hay un promedio de cirujanois necesarios para un bloque) para los bloques LEY . \n",
    "# La restricción muy dura e infactible, se agrega como si siempre hubiera un equipo más disponible del que hay\n",
    "for d in dias:\n",
    "    for e in E:\n",
    "        for h in index:\n",
    "            for c in [0]:\n",
    "                if E_str[e]!='Libre' and Q_horas[e,c]!=0:\n",
    "                    modelo+=pulp.lpSum([turnos[t][h]*A[(e,p,t,d,c)] for t in T for p in P])<=round(Cirujanos[e][d][h]/Avg_Cirujanos[e,c]+1,0)   \n",
    "\n",
    "#Restriccionés particulares (Se toman por complejidad en tiempos de resolución de abordar de forma correcta la restricción de instrumental)\n",
    "\n",
    "#No hay más de tres bloques en simultaneo de rodilla\n",
    "\"\"\"\n",
    "Abordada por simultaneo cadera y rodilla\n",
    "for d in dias:\n",
    "    for e in [1]:#con eso debería qeudar rodilla\n",
    "        for h in index:\n",
    "            if E_str[e]=='Rodilla' #chqueo rodilla\n",
    "                modelo+=pulp.lpSum([turnos[t][h]*A[(e,p,t,d,c)] for t in T for p in P for c in C])<=3   \n",
    "            else:\n",
    "                print('error restricción rodilla')\n",
    "\"\"\"\n",
    "#No más de tres bloques en simultaneo cadera rodilla\n",
    "for d in dias:\n",
    "    for h in index:\n",
    "        if E_str[1]=='Rodilla' and E_str[9]=='Cadera': #chqueo rodilla\n",
    "            modelo+=pulp.lpSum([turnos[t][h]*A[(e,p,t,d,c)] for t in T for p in P for c in C for e in [1,9]])<=3   \n",
    "        else:\n",
    "            print('error restricción rodilla-cadera simultaneos ')\n",
    "#No más de tres bloques ley cadera rodilla al día\n",
    "for d in dias:\n",
    "    if E_str[1]=='Rodilla' and E_str[9]=='Cadera': #chqueo rodilla\n",
    "        modelo+=pulp.lpSum([A[(e,p,t,d,c)] for t in T for p in P for c in [0] for e in [1,9]])<=3   \n",
    "    else:\n",
    "        print('error restricción rodilla-cadera diarios')\n",
    "\n",
    "#No más de 5 bloques en simultaneo EESS TyP\n",
    "for d in dias:\n",
    "    for h in index:\n",
    "        if E_str[0]=='EESS' and E_str[3]=='TyP': #chqueo \n",
    "            modelo+=pulp.lpSum([turnos[t][h]*A[(e,p,t,d,c)] for t in T for p in P for c in C for e in [0,3]])<=5  \n",
    "        else:\n",
    "            print('error restricción EESS TyP simultaneos ')\n",
    "\n",
    "#No más de 5 bloques ley EES TyP al día\n",
    "for d in dias:\n",
    "    if E_str[0]=='EESS' and E_str[3]=='TyP': #chequeo\n",
    "        modelo+=pulp.lpSum([A[(e,p,t,d,c)] for t in T for p in P for c in [0] for e in [0,3]])<=5   \n",
    "    else:\n",
    "        print('error restricción EESS TyP diarios')\n",
    "        \n",
    "#No más de 1 bloques en simultaneo neuro y columna\n",
    "for d in dias:\n",
    "    for h in index:\n",
    "        if E_str[4]=='Columna' and E_str[8]=='Neuro': #chqueo \n",
    "            modelo+=pulp.lpSum([turnos[t][h]*A[(e,p,t,d,c)] for t in T for p in P for c in C for e in [4,8]])<=1  \n",
    "        else:\n",
    "            print('error restricción Columna Neuro simultaneos ')\n",
    "\n",
    "#No más de 5 bloques ley EES TyP al día\n",
    "for d in dias:\n",
    "    if E_str[4]=='Columna' and E_str[8]=='Neuro': #chequeo\n",
    "        modelo+=pulp.lpSum([A[(e,p,t,d,c)] for t in T for p in P for c in C for e in [4,8]])<=2  \n",
    "    else:\n",
    "        print('error restricción Columna Neuro diarios')\n",
    "\n",
    "\n",
    "for d in dias:\n",
    "    if E_str[2]=='CPQ':# and E_str[8]=='Neuro': #chequeo\n",
    "        modelo+=pulp.lpSum([A[(e,p,t,d,c)] for t in T for p in P for c in [0] for e in [2]])>=1  \n",
    "    else: \n",
    "        print('error CPQ')\n",
    "\n"
   ]
  },
  {
   "cell_type": "markdown",
   "metadata": {},
   "source": [
    "## Resolver PPL"
   ]
  },
  {
   "cell_type": "code",
   "execution_count": 7,
   "metadata": {},
   "outputs": [
    {
     "name": "stdout",
     "output_type": "stream",
     "text": [
      "Optimal\n",
      "127.69516124716412\n",
      "Wall time: 1min 52s\n"
     ]
    }
   ],
   "source": [
    "%%time\n",
    "modelo.solve()#pulp.PULP_CBC_CMD(maxSeconds=36000, msg=0, fracGap=0))#pulp.GLPK())#\n",
    "print(LpStatus[modelo.status])\n",
    "print(value(modelo.objective))"
   ]
  },
  {
   "cell_type": "markdown",
   "metadata": {},
   "source": [
    "### Pasar resultados de relajación de variables a resultados enteros\n"
   ]
  },
  {
   "cell_type": "code",
   "execution_count": 8,
   "metadata": {},
   "outputs": [],
   "source": [
    "\n",
    "Result= [[[[[0 for d in dias] for t in T]for p in P ]for c in C]for e in E]\n",
    "for e in E:\n",
    "    for p in P:\n",
    "        for t in T:\n",
    "            for d in dias:\n",
    "                for c in C:\n",
    "                    #Se agrega la especialidad al pabellón si y solo si es superior a 50%, para que no se puedan agregar dos\n",
    "                    if A[(e,p,t,d,c)].varValue>0.5:\n",
    "                        Result[e][c][p][t][d]=1\n",
    "                        #print('E', E_str[e],'C',C_str[c], P_str[p],'T',t,'\\nTurno',turnos[t][:],'\\nDia',d, 'value',Result[e][c][p][t][d])\n",
    "                    else:\n",
    "                        Result[e][c][p][t][d]=0\n",
    "                        "
   ]
  },
  {
   "cell_type": "markdown",
   "metadata": {},
   "source": [
    "### Horas por especialidad"
   ]
  },
  {
   "cell_type": "code",
   "execution_count": 9,
   "metadata": {},
   "outputs": [],
   "source": [
    "#Se ocupa para los porcentajes \n",
    "# (no se penazila por el total de horas si faltan de la relajación previa, se penaliza dado lo que dió el modelo anterior)\n",
    "Horas=[[0 for c in C]for e in E]\n",
    "for e in E:\n",
    "    for p in P:\n",
    "        for t in T:\n",
    "            for d in dias: \n",
    "                for c in C:\n",
    "                    for h in index:\n",
    "                        Horas[e][c]+=Result[e][c][p][t][d]*turnos[t][h]"
   ]
  },
  {
   "cell_type": "markdown",
   "metadata": {},
   "source": [
    "## 2° PPL; Asignación de pabellones"
   ]
  },
  {
   "cell_type": "code",
   "execution_count": 10,
   "metadata": {},
   "outputs": [
    {
     "name": "stdout",
     "output_type": "stream",
     "text": [
      "Wall time: 8min 55s\n"
     ]
    }
   ],
   "source": [
    "%%time\n",
    "\n",
    "import pulp\n",
    "\n",
    "\n",
    "\n",
    "\n",
    "#Definir problema\n",
    "pabellones=LpProblem('Pabellones_asignacion', LpMinimize) # Se define el modelo\n",
    "#Variables\n",
    "\n",
    "#Misma variable que el problema pasado, mismas dimensiones\n",
    "Pab=LpVariable.dicts('Pabellones', [(e,p,t,d,c) for t in T for d in dias for p in P for e in E for c in C],lowBound=0, upBound=None,cat='Binary')\n",
    "\n",
    "#Porcentaje, que srive para que se cumpla la mayor cantidad de veces las horas solicitadas por especilidad, pero que devuelva solución cuando es infactible\n",
    "Porcent=LpVariable.dicts('Porcentaje', [(e,c)for e in E for c in C],lowBound=0, upBound=1,cat='Continuous')\n",
    "\n",
    "#Función objetivo \n",
    "#Obtener el mayor porcentaje posible de cump´limiento de las horas de pabellones\n",
    "pabellones+=pulp.lpSum([Porcent[(e,c)]*(-100) for e in E for c in C])\n",
    "\n",
    "#Restricciones\n",
    "\n",
    "#La nueva variable es exactamente la misma que la anterior, solo puede cambiar el pabellón que fue asignada\n",
    "for e in E:\n",
    "    for c in C:\n",
    "        for d in dias:\n",
    "            for t in T:\n",
    "                pabellones+=pulp.lpSum([Pab[(e,p,t,d,c)] for p in P ])>=pulp.lpSum([Result[e][c][p][t][d] for p in P])\n",
    "                pabellones+=pulp.lpSum([Pab[(e,p,t,d,c)] for p in P ])<=pulp.lpSum([Result[e][c][p][t][d] for p in P])\n",
    "                \n",
    "#Solo se asigna una especialidad al mismo tiempo a un pabellón                \n",
    "for p in P:\n",
    "    for d in dias:\n",
    "        for h in index:\n",
    "            pabellones+=pulp.lpSum([turnos[t][h]*Pab[(e,p,t,d,c)] for e in E for t in T for c in C])<=1 \n",
    "\n",
    "#Se cumple el mayor porcentaje de la horas requeridas de cada pabellón\n",
    "#Pabellon tipo 2 [0,1,2,3,4,6,7,8,9]\n",
    "#Tipo 1 [0,1,2,3,4,6]\n",
    "for e in E:\n",
    "    for c in C:\n",
    "        #Restricción Tipo 1\n",
    "        pabellones+=pulp.lpSum([turnos[t][h]*Pab[(e,p,t,d,c)] for d in dias for t in T for p in [0,1,2,3,4,6] for h in index])>=Porcent[(e,c)]*Horas_por_pabellon[0][c][e]*Horas[e][c]\n",
    "        #Restricción Tipo 2\n",
    "        pabellones+=pulp.lpSum([turnos[t][h]*Pab[(e,p,t,d,c)] for d in dias for t in T for p in [0,1,2,3,4,6,7,8,9] for h in index])>=Porcent[(e,c)]*(Horas_por_pabellon[0][c][e]+Horas_por_pabellon[1][c][e])*Horas[e][c]\n",
    "\n"
   ]
  },
  {
   "cell_type": "markdown",
   "metadata": {},
   "source": [
    "## Solve"
   ]
  },
  {
   "cell_type": "code",
   "execution_count": 11,
   "metadata": {},
   "outputs": [
    {
     "name": "stdout",
     "output_type": "stream",
     "text": [
      "Optimal\n",
      "-2129.980174\n",
      "Wall time: 58.6 s\n"
     ]
    }
   ],
   "source": [
    "%%time\n",
    "\n",
    "pabellones.solve()\n",
    "print(LpStatus[pabellones.status])\n",
    "print(value(pabellones.objective))\n"
   ]
  },
  {
   "cell_type": "code",
   "execution_count": 47,
   "metadata": {},
   "outputs": [
    {
     "name": "stdout",
     "output_type": "stream",
     "text": [
      "EESS Ley 0.93487075\n",
      "EESS VSC 1.0\n",
      "Rodilla Ley 0.64502165\n",
      "Rodilla VSC 0.98323787\n",
      "CPQ Ley 0.90127828\n",
      "CPQ VSC 1.0\n",
      "TyP Ley 0.96661491\n",
      "TyP VSC 1.0\n",
      "Columna Ley 0.95022624\n",
      "Columna VSC 1.0\n",
      "Maxilo Ley 0.91855204\n",
      "Maxilo VSC 1.0\n",
      "Hombro Ley 1.0\n",
      "Hombro VSC 1.0\n",
      "Libre Ley 1.0\n",
      "Libre VSC 1.0\n",
      "Neuro Ley 1.0\n",
      "Neuro VSC 1.0\n",
      "Cadera Ley 1.0\n",
      "Cadera VSC 1.0\n",
      "Roa Ley 1.0\n",
      "Roa VSC 1.0\n"
     ]
    }
   ],
   "source": [
    "for e in E:\n",
    "    for c in C:\n",
    "        print (E_str[e], C_str[c],Porcent[(e,c)].varValue)"
   ]
  },
  {
   "cell_type": "markdown",
   "metadata": {},
   "source": [
    "### Pasar resultados a Tensor"
   ]
  },
  {
   "cell_type": "code",
   "execution_count": 12,
   "metadata": {},
   "outputs": [],
   "source": [
    "Result= [[[[[0 for d in dias] for t in T]for p in P ]for c in C]for e in E]\n",
    "for e in E:\n",
    "    for p in P:\n",
    "        for t in T:\n",
    "            for d in dias:\n",
    "                for c in C:\n",
    "                    Result[e][c][p][t][d]=Pab[(e,p,t,d,c)].varValue\n",
    "                    #if Pab[(e,p,t,d,c)].varValue==1:\n",
    "                        #print('E', E_str[e],'C',C_str[c], P_str[p],'T',t,'\\nTurno',turnos[t][:],'\\nDia',d)"
   ]
  },
  {
   "cell_type": "markdown",
   "metadata": {},
   "source": [
    "### Chequear resultados"
   ]
  },
  {
   "cell_type": "code",
   "execution_count": 13,
   "metadata": {},
   "outputs": [],
   "source": [
    "#Horas asignadas\n",
    "Horas=[[0 for c in C]for e in E]\n",
    "delta_de_mhoras=[[0 for c in C]for e in E]\n",
    "for e in E:\n",
    "    for p in P:\n",
    "        for t in T:\n",
    "            for d in dias: \n",
    "                for c in C:\n",
    "                    for h in index:\n",
    "                        Horas[e][c]+=Result[e][c][p][t][d]*turnos[t][h]\n",
    "                        \n",
    "#Descomentar línea siguiente para ver resultados del modelo                        \n",
    "#print('Especialidad', '\\t', 'Horas modelo', '\\t','Horas necesarias', '\\t','Delta horas')\n",
    "for e in E:\n",
    "    for c in C:\n",
    "        delta_de_mhoras[e][c]=Horas[e][c]/2-Q_horas[e,c]\n",
    "        #Descomentar línea siguiente para ver resultados del modelo \n",
    "        #print (E_str[e] + ' '+ C_str[c], '\\t',Horas[e][c]/2, '\\t\\t',Q_horas[e,c], '\\t\\t',delta_de_mhoras[e][c])\n",
    "                                "
   ]
  },
  {
   "cell_type": "code",
   "execution_count": 48,
   "metadata": {},
   "outputs": [],
   "source": [
    "#Horas por pabellón \n",
    "for e in E:\n",
    "    for c in C:\n",
    "        #print(E_str[e],C_str[c])\n",
    "        for p in P:\n",
    "            H_P=0\n",
    "            for d in dias:\n",
    "                for h in index:\n",
    "                    for t in T:\n",
    "                        H_P+=(Result[e][c][p][t][d]*turnos[t][h]/2)\n",
    "            #if H_P!=0:\n",
    "                #print('\\t',P_str[p], H_P)\n",
    "        "
   ]
  },
  {
   "cell_type": "markdown",
   "metadata": {},
   "source": [
    "## Plots carta Gantt"
   ]
  },
  {
   "cell_type": "code",
   "execution_count": 31,
   "metadata": {},
   "outputs": [],
   "source": [
    "resources=[]\n",
    "colors={}\n",
    "l=0\n",
    "for e in E:\n",
    "    for c in C: \n",
    "        resources.append(E_str[e]+' '+C_str[c])\n",
    "\n",
    "colores2=colores(len(resources))\n",
    "for e in E:\n",
    "    for c in C: \n",
    "        colors[E_str[e]+' '+C_str[c]]=colores2[l]\n",
    "        l+=1\n"
   ]
  },
  {
   "cell_type": "code",
   "execution_count": 32,
   "metadata": {},
   "outputs": [],
   "source": [
    "\n",
    "df0=[]\n",
    "df1=[]\n",
    "df2=[]\n",
    "df3=[]\n",
    "df4=[]\n",
    "\n",
    "for e in E:\n",
    "    for p in P:\n",
    "        for t in T:\n",
    "            for d in dias:\n",
    "                for c in C:\n",
    "                    if Result[e][c][p][t][d]>0:\n",
    "                        if d==0:\n",
    "                            df0.append(dict(Task=P_str[p], Start=pd.to_datetime(\"2020:01:01 \"+turno(turnos[t])[0],format='%Y:%m:%d %H:%M:%S'), Finish=pd.to_datetime(\"2020:01:01 \"+turno(turnos[t])[1],format='%Y:%m:%d %H:%M:%S'), Resource=E_str[e]+' '+C_str[c]))       \n",
    "                        elif d==1:\n",
    "                            df1.append(dict(Task=P_str[p], Start=pd.to_datetime(\"2020:01:01 \"+turno(turnos[t])[0],format='%Y:%m:%d %H:%M:%S'), Finish=pd.to_datetime(\"2020:01:01 \"+turno(turnos[t])[1],format='%Y:%m:%d %H:%M:%S'), Resource=E_str[e]+' '+C_str[c]))       \n",
    "                        elif d==2:\n",
    "                            df2.append(dict(Task=P_str[p], Start=pd.to_datetime(\"2020:01:01 \"+turno(turnos[t])[0],format='%Y:%m:%d %H:%M:%S'), Finish=pd.to_datetime(\"2020:01:01 \"+turno(turnos[t])[1],format='%Y:%m:%d %H:%M:%S'), Resource=E_str[e]+' '+C_str[c]))       \n",
    "                        elif d==3:\n",
    "                            df3.append(dict(Task=P_str[p], Start=pd.to_datetime(\"2020:01:01 \"+turno(turnos[t])[0],format='%Y:%m:%d %H:%M:%S'), Finish=pd.to_datetime(\"2020:01:01 \"+turno(turnos[t])[1],format='%Y:%m:%d %H:%M:%S'), Resource=E_str[e]+' '+C_str[c]))       \n",
    "                        elif d==4:\n",
    "                            df4.append(dict(Task=P_str[p], Start=pd.to_datetime(\"2020:01:01 \"+turno(turnos[t])[0],format='%Y:%m:%d %H:%M:%S'), Finish=pd.to_datetime(\"2020:01:01 \"+turno(turnos[t])[1],format='%Y:%m:%d %H:%M:%S'), Resource=E_str[e]+' '+C_str[c]))       \n",
    "\n"
   ]
  },
  {
   "cell_type": "markdown",
   "metadata": {},
   "source": [
    "## Plot Gannt diarias\n"
   ]
  },
  {
   "cell_type": "code",
   "execution_count": 33,
   "metadata": {},
   "outputs": [
    {
     "data": {
      "application/vnd.plotly.v1+json": {
       "config": {
        "plotlyServerURL": "https://plot.ly"
       },
       "data": [
        {
         "fill": "toself",
         "fillcolor": "rgb(110, 0, 220)",
         "hoverinfo": "name",
         "legendgroup": "rgb(110, 0, 220)",
         "mode": "none",
         "name": "Libre VSC",
         "type": "scatter",
         "x": [
          "2020-01-01T14:00:00",
          "2020-01-01T21:00:00",
          "2020-01-01T21:00:00",
          "2020-01-01T14:00:00",
          "2020-01-01T14:00:00",
          "2020-01-01T14:00:00",
          "2020-01-01T21:00:00",
          "2020-01-01T21:00:00",
          "2020-01-01T14:00:00",
          "2020-01-01T14:00:00",
          "2020-01-01T14:00:00",
          "2020-01-01T21:00:00",
          "2020-01-01T21:00:00",
          "2020-01-01T14:00:00"
         ],
         "y": [
          3.8,
          3.8,
          4.2,
          4.2,
          null,
          6.8,
          6.8,
          7.2,
          7.2,
          null,
          5.8,
          5.8,
          6.2,
          6.2
         ]
        },
        {
         "fill": "toself",
         "fillcolor": "rgb(14, 122, 220)",
         "hoverinfo": "name",
         "legendgroup": "rgb(14, 122, 220)",
         "mode": "none",
         "name": "CPQ Ley",
         "type": "scatter",
         "x": [
          "2020-01-01T08:00:00",
          "2020-01-01T13:00:00",
          "2020-01-01T13:00:00",
          "2020-01-01T08:00:00"
         ],
         "y": [
          4.8,
          4.8,
          5.2,
          5.2
         ]
        },
        {
         "fill": "toself",
         "fillcolor": "rgb(199, 171, 235)",
         "hoverinfo": "name",
         "legendgroup": "rgb(199, 171, 235)",
         "mode": "none",
         "name": "TyP Ley",
         "type": "scatter",
         "x": [
          "2020-01-01T08:00:00",
          "2020-01-01T14:00:00",
          "2020-01-01T14:00:00",
          "2020-01-01T08:00:00",
          "2020-01-01T08:00:00",
          "2020-01-01T08:00:00",
          "2020-01-01T14:00:00",
          "2020-01-01T14:00:00",
          "2020-01-01T08:00:00",
          "2020-01-01T08:00:00",
          "2020-01-01T08:00:00",
          "2020-01-01T14:00:00",
          "2020-01-01T14:00:00",
          "2020-01-01T08:00:00",
          "2020-01-01T08:00:00",
          "2020-01-01T08:00:00",
          "2020-01-01T14:00:00",
          "2020-01-01T14:00:00",
          "2020-01-01T08:00:00"
         ],
         "y": [
          3.8,
          3.8,
          4.2,
          4.2,
          null,
          2.8,
          2.8,
          3.2,
          3.2,
          null,
          1.8,
          1.8,
          2.2,
          2.2,
          null,
          0.8,
          0.8,
          1.2,
          1.2
         ]
        },
        {
         "fill": "toself",
         "fillcolor": "rgb(220, 0, 110)",
         "hoverinfo": "name",
         "legendgroup": "rgb(220, 0, 110)",
         "mode": "none",
         "name": "Libre Ley",
         "type": "scatter",
         "x": [
          "2020-01-01T13:00:00",
          "2020-01-01T21:00:00",
          "2020-01-01T21:00:00",
          "2020-01-01T13:00:00",
          "2020-01-01T13:00:00",
          "2020-01-01T14:00:00",
          "2020-01-01T21:00:00",
          "2020-01-01T21:00:00",
          "2020-01-01T14:00:00"
         ],
         "y": [
          4.8,
          4.8,
          5.2,
          5.2,
          null,
          0.8,
          0.8,
          1.2,
          1.2
         ]
        },
        {
         "fill": "toself",
         "fillcolor": "rgb(220, 110, 0)",
         "hoverinfo": "name",
         "legendgroup": "rgb(220, 110, 0)",
         "mode": "none",
         "name": "Neuro VSC",
         "type": "scatter",
         "x": [
          "2020-01-01T16:00:00",
          "2020-01-01T20:00:00",
          "2020-01-01T20:00:00",
          "2020-01-01T16:00:00"
         ],
         "y": [
          -0.2,
          -0.2,
          0.2,
          0.2
         ]
        },
        {
         "fill": "toself",
         "fillcolor": "rgb(234, 126, 31)",
         "hoverinfo": "name",
         "legendgroup": "rgb(234, 126, 31)",
         "mode": "none",
         "name": "Columna Ley",
         "type": "scatter",
         "x": [
          "2020-01-01T08:00:00",
          "2020-01-01T16:00:00",
          "2020-01-01T16:00:00",
          "2020-01-01T08:00:00"
         ],
         "y": [
          -0.2,
          -0.2,
          0.2,
          0.2
         ]
        },
        {
         "fill": "toself",
         "fillcolor": "rgb(25, 90, 40)",
         "hoverinfo": "name",
         "legendgroup": "rgb(25, 90, 40)",
         "mode": "none",
         "name": "Hombro VSC",
         "type": "scatter",
         "x": [
          "2020-01-01T14:00:00",
          "2020-01-01T21:00:00",
          "2020-01-01T21:00:00",
          "2020-01-01T14:00:00"
         ],
         "y": [
          2.8,
          2.8,
          3.2,
          3.2
         ]
        },
        {
         "fill": "toself",
         "fillcolor": "rgb(34, 116, 66)",
         "hoverinfo": "name",
         "legendgroup": "rgb(34, 116, 66)",
         "mode": "none",
         "name": "EESS Ley",
         "type": "scatter",
         "x": [
          "2020-01-01T08:00:00",
          "2020-01-01T16:00:00",
          "2020-01-01T16:00:00",
          "2020-01-01T08:00:00"
         ],
         "y": [
          8.8,
          8.8,
          9.2,
          9.2
         ]
        },
        {
         "fill": "toself",
         "fillcolor": "rgb(55, 0, 0)",
         "hoverinfo": "name",
         "legendgroup": "rgb(55, 0, 0)",
         "mode": "none",
         "name": "Roa VSC",
         "type": "scatter",
         "x": [
          "2020-01-01T14:00:00",
          "2020-01-01T21:00:00",
          "2020-01-01T21:00:00",
          "2020-01-01T14:00:00"
         ],
         "y": [
          1.8,
          1.8,
          2.2,
          2.2
         ]
        },
        {
         "fill": "toself",
         "fillcolor": "rgb(93, 205, 187)",
         "hoverinfo": "name",
         "legendgroup": "rgb(93, 205, 187)",
         "mode": "none",
         "name": "Rodilla Ley",
         "type": "scatter",
         "x": [
          "2020-01-01T08:00:00",
          "2020-01-01T16:00:00",
          "2020-01-01T16:00:00",
          "2020-01-01T08:00:00",
          "2020-01-01T08:00:00",
          "2020-01-01T08:00:00",
          "2020-01-01T14:00:00",
          "2020-01-01T14:00:00",
          "2020-01-01T08:00:00",
          "2020-01-01T08:00:00",
          "2020-01-01T08:00:00",
          "2020-01-01T14:00:00",
          "2020-01-01T14:00:00",
          "2020-01-01T08:00:00"
         ],
         "y": [
          7.8,
          7.8,
          8.2,
          8.2,
          null,
          6.8,
          6.8,
          7.2,
          7.2,
          null,
          5.8,
          5.8,
          6.2,
          6.2
         ]
        },
        {
         "legendgroup": "rgb(110, 0, 220)",
         "marker": {
          "color": "rgb(110, 0, 220)",
          "opacity": 0,
          "size": 1
         },
         "mode": "markers",
         "name": "",
         "showlegend": false,
         "text": [
          null,
          null,
          null,
          null,
          null,
          null
         ],
         "type": "scatter",
         "x": [
          "2020-01-01T14:00:00",
          "2020-01-01T21:00:00",
          "2020-01-01T14:00:00",
          "2020-01-01T21:00:00",
          "2020-01-01T14:00:00",
          "2020-01-01T21:00:00"
         ],
         "y": [
          4,
          4,
          7,
          7,
          6,
          6
         ]
        },
        {
         "legendgroup": "rgb(14, 122, 220)",
         "marker": {
          "color": "rgb(14, 122, 220)",
          "opacity": 0,
          "size": 1
         },
         "mode": "markers",
         "name": "",
         "showlegend": false,
         "text": [
          null,
          null
         ],
         "type": "scatter",
         "x": [
          "2020-01-01T08:00:00",
          "2020-01-01T13:00:00"
         ],
         "y": [
          5,
          5
         ]
        },
        {
         "legendgroup": "rgb(199, 171, 235)",
         "marker": {
          "color": "rgb(199, 171, 235)",
          "opacity": 0,
          "size": 1
         },
         "mode": "markers",
         "name": "",
         "showlegend": false,
         "text": [
          null,
          null,
          null,
          null,
          null,
          null,
          null,
          null
         ],
         "type": "scatter",
         "x": [
          "2020-01-01T08:00:00",
          "2020-01-01T14:00:00",
          "2020-01-01T08:00:00",
          "2020-01-01T14:00:00",
          "2020-01-01T08:00:00",
          "2020-01-01T14:00:00",
          "2020-01-01T08:00:00",
          "2020-01-01T14:00:00"
         ],
         "y": [
          4,
          4,
          3,
          3,
          2,
          2,
          1,
          1
         ]
        },
        {
         "legendgroup": "rgb(220, 0, 110)",
         "marker": {
          "color": "rgb(220, 0, 110)",
          "opacity": 0,
          "size": 1
         },
         "mode": "markers",
         "name": "",
         "showlegend": false,
         "text": [
          null,
          null,
          null,
          null
         ],
         "type": "scatter",
         "x": [
          "2020-01-01T13:00:00",
          "2020-01-01T21:00:00",
          "2020-01-01T14:00:00",
          "2020-01-01T21:00:00"
         ],
         "y": [
          5,
          5,
          1,
          1
         ]
        },
        {
         "legendgroup": "rgb(220, 110, 0)",
         "marker": {
          "color": "rgb(220, 110, 0)",
          "opacity": 0,
          "size": 1
         },
         "mode": "markers",
         "name": "",
         "showlegend": false,
         "text": [
          null,
          null
         ],
         "type": "scatter",
         "x": [
          "2020-01-01T16:00:00",
          "2020-01-01T20:00:00"
         ],
         "y": [
          0,
          0
         ]
        },
        {
         "legendgroup": "rgb(234, 126, 31)",
         "marker": {
          "color": "rgb(234, 126, 31)",
          "opacity": 0,
          "size": 1
         },
         "mode": "markers",
         "name": "",
         "showlegend": false,
         "text": [
          null,
          null
         ],
         "type": "scatter",
         "x": [
          "2020-01-01T08:00:00",
          "2020-01-01T16:00:00"
         ],
         "y": [
          0,
          0
         ]
        },
        {
         "legendgroup": "rgb(25, 90, 40)",
         "marker": {
          "color": "rgb(25, 90, 40)",
          "opacity": 0,
          "size": 1
         },
         "mode": "markers",
         "name": "",
         "showlegend": false,
         "text": [
          null,
          null
         ],
         "type": "scatter",
         "x": [
          "2020-01-01T14:00:00",
          "2020-01-01T21:00:00"
         ],
         "y": [
          3,
          3
         ]
        },
        {
         "legendgroup": "rgb(34, 116, 66)",
         "marker": {
          "color": "rgb(34, 116, 66)",
          "opacity": 0,
          "size": 1
         },
         "mode": "markers",
         "name": "",
         "showlegend": false,
         "text": [
          null,
          null
         ],
         "type": "scatter",
         "x": [
          "2020-01-01T08:00:00",
          "2020-01-01T16:00:00"
         ],
         "y": [
          9,
          9
         ]
        },
        {
         "legendgroup": "rgb(55, 0, 0)",
         "marker": {
          "color": "rgb(55, 0, 0)",
          "opacity": 0,
          "size": 1
         },
         "mode": "markers",
         "name": "",
         "showlegend": false,
         "text": [
          null,
          null
         ],
         "type": "scatter",
         "x": [
          "2020-01-01T14:00:00",
          "2020-01-01T21:00:00"
         ],
         "y": [
          2,
          2
         ]
        },
        {
         "legendgroup": "rgb(93, 205, 187)",
         "marker": {
          "color": "rgb(93, 205, 187)",
          "opacity": 0,
          "size": 1
         },
         "mode": "markers",
         "name": "",
         "showlegend": false,
         "text": [
          null,
          null,
          null,
          null,
          null,
          null
         ],
         "type": "scatter",
         "x": [
          "2020-01-01T08:00:00",
          "2020-01-01T16:00:00",
          "2020-01-01T08:00:00",
          "2020-01-01T14:00:00",
          "2020-01-01T08:00:00",
          "2020-01-01T14:00:00"
         ],
         "y": [
          8,
          8,
          7,
          7,
          6,
          6
         ]
        }
       ],
       "layout": {
        "height": 600,
        "hovermode": "closest",
        "showlegend": true,
        "template": {
         "data": {
          "bar": [
           {
            "error_x": {
             "color": "#2a3f5f"
            },
            "error_y": {
             "color": "#2a3f5f"
            },
            "marker": {
             "line": {
              "color": "#E5ECF6",
              "width": 0.5
             }
            },
            "type": "bar"
           }
          ],
          "barpolar": [
           {
            "marker": {
             "line": {
              "color": "#E5ECF6",
              "width": 0.5
             }
            },
            "type": "barpolar"
           }
          ],
          "carpet": [
           {
            "aaxis": {
             "endlinecolor": "#2a3f5f",
             "gridcolor": "white",
             "linecolor": "white",
             "minorgridcolor": "white",
             "startlinecolor": "#2a3f5f"
            },
            "baxis": {
             "endlinecolor": "#2a3f5f",
             "gridcolor": "white",
             "linecolor": "white",
             "minorgridcolor": "white",
             "startlinecolor": "#2a3f5f"
            },
            "type": "carpet"
           }
          ],
          "choropleth": [
           {
            "colorbar": {
             "outlinewidth": 0,
             "ticks": ""
            },
            "type": "choropleth"
           }
          ],
          "contour": [
           {
            "colorbar": {
             "outlinewidth": 0,
             "ticks": ""
            },
            "colorscale": [
             [
              0,
              "#0d0887"
             ],
             [
              0.1111111111111111,
              "#46039f"
             ],
             [
              0.2222222222222222,
              "#7201a8"
             ],
             [
              0.3333333333333333,
              "#9c179e"
             ],
             [
              0.4444444444444444,
              "#bd3786"
             ],
             [
              0.5555555555555556,
              "#d8576b"
             ],
             [
              0.6666666666666666,
              "#ed7953"
             ],
             [
              0.7777777777777778,
              "#fb9f3a"
             ],
             [
              0.8888888888888888,
              "#fdca26"
             ],
             [
              1,
              "#f0f921"
             ]
            ],
            "type": "contour"
           }
          ],
          "contourcarpet": [
           {
            "colorbar": {
             "outlinewidth": 0,
             "ticks": ""
            },
            "type": "contourcarpet"
           }
          ],
          "heatmap": [
           {
            "colorbar": {
             "outlinewidth": 0,
             "ticks": ""
            },
            "colorscale": [
             [
              0,
              "#0d0887"
             ],
             [
              0.1111111111111111,
              "#46039f"
             ],
             [
              0.2222222222222222,
              "#7201a8"
             ],
             [
              0.3333333333333333,
              "#9c179e"
             ],
             [
              0.4444444444444444,
              "#bd3786"
             ],
             [
              0.5555555555555556,
              "#d8576b"
             ],
             [
              0.6666666666666666,
              "#ed7953"
             ],
             [
              0.7777777777777778,
              "#fb9f3a"
             ],
             [
              0.8888888888888888,
              "#fdca26"
             ],
             [
              1,
              "#f0f921"
             ]
            ],
            "type": "heatmap"
           }
          ],
          "heatmapgl": [
           {
            "colorbar": {
             "outlinewidth": 0,
             "ticks": ""
            },
            "colorscale": [
             [
              0,
              "#0d0887"
             ],
             [
              0.1111111111111111,
              "#46039f"
             ],
             [
              0.2222222222222222,
              "#7201a8"
             ],
             [
              0.3333333333333333,
              "#9c179e"
             ],
             [
              0.4444444444444444,
              "#bd3786"
             ],
             [
              0.5555555555555556,
              "#d8576b"
             ],
             [
              0.6666666666666666,
              "#ed7953"
             ],
             [
              0.7777777777777778,
              "#fb9f3a"
             ],
             [
              0.8888888888888888,
              "#fdca26"
             ],
             [
              1,
              "#f0f921"
             ]
            ],
            "type": "heatmapgl"
           }
          ],
          "histogram": [
           {
            "marker": {
             "colorbar": {
              "outlinewidth": 0,
              "ticks": ""
             }
            },
            "type": "histogram"
           }
          ],
          "histogram2d": [
           {
            "colorbar": {
             "outlinewidth": 0,
             "ticks": ""
            },
            "colorscale": [
             [
              0,
              "#0d0887"
             ],
             [
              0.1111111111111111,
              "#46039f"
             ],
             [
              0.2222222222222222,
              "#7201a8"
             ],
             [
              0.3333333333333333,
              "#9c179e"
             ],
             [
              0.4444444444444444,
              "#bd3786"
             ],
             [
              0.5555555555555556,
              "#d8576b"
             ],
             [
              0.6666666666666666,
              "#ed7953"
             ],
             [
              0.7777777777777778,
              "#fb9f3a"
             ],
             [
              0.8888888888888888,
              "#fdca26"
             ],
             [
              1,
              "#f0f921"
             ]
            ],
            "type": "histogram2d"
           }
          ],
          "histogram2dcontour": [
           {
            "colorbar": {
             "outlinewidth": 0,
             "ticks": ""
            },
            "colorscale": [
             [
              0,
              "#0d0887"
             ],
             [
              0.1111111111111111,
              "#46039f"
             ],
             [
              0.2222222222222222,
              "#7201a8"
             ],
             [
              0.3333333333333333,
              "#9c179e"
             ],
             [
              0.4444444444444444,
              "#bd3786"
             ],
             [
              0.5555555555555556,
              "#d8576b"
             ],
             [
              0.6666666666666666,
              "#ed7953"
             ],
             [
              0.7777777777777778,
              "#fb9f3a"
             ],
             [
              0.8888888888888888,
              "#fdca26"
             ],
             [
              1,
              "#f0f921"
             ]
            ],
            "type": "histogram2dcontour"
           }
          ],
          "mesh3d": [
           {
            "colorbar": {
             "outlinewidth": 0,
             "ticks": ""
            },
            "type": "mesh3d"
           }
          ],
          "parcoords": [
           {
            "line": {
             "colorbar": {
              "outlinewidth": 0,
              "ticks": ""
             }
            },
            "type": "parcoords"
           }
          ],
          "pie": [
           {
            "automargin": true,
            "type": "pie"
           }
          ],
          "scatter": [
           {
            "marker": {
             "colorbar": {
              "outlinewidth": 0,
              "ticks": ""
             }
            },
            "type": "scatter"
           }
          ],
          "scatter3d": [
           {
            "line": {
             "colorbar": {
              "outlinewidth": 0,
              "ticks": ""
             }
            },
            "marker": {
             "colorbar": {
              "outlinewidth": 0,
              "ticks": ""
             }
            },
            "type": "scatter3d"
           }
          ],
          "scattercarpet": [
           {
            "marker": {
             "colorbar": {
              "outlinewidth": 0,
              "ticks": ""
             }
            },
            "type": "scattercarpet"
           }
          ],
          "scattergeo": [
           {
            "marker": {
             "colorbar": {
              "outlinewidth": 0,
              "ticks": ""
             }
            },
            "type": "scattergeo"
           }
          ],
          "scattergl": [
           {
            "marker": {
             "colorbar": {
              "outlinewidth": 0,
              "ticks": ""
             }
            },
            "type": "scattergl"
           }
          ],
          "scattermapbox": [
           {
            "marker": {
             "colorbar": {
              "outlinewidth": 0,
              "ticks": ""
             }
            },
            "type": "scattermapbox"
           }
          ],
          "scatterpolar": [
           {
            "marker": {
             "colorbar": {
              "outlinewidth": 0,
              "ticks": ""
             }
            },
            "type": "scatterpolar"
           }
          ],
          "scatterpolargl": [
           {
            "marker": {
             "colorbar": {
              "outlinewidth": 0,
              "ticks": ""
             }
            },
            "type": "scatterpolargl"
           }
          ],
          "scatterternary": [
           {
            "marker": {
             "colorbar": {
              "outlinewidth": 0,
              "ticks": ""
             }
            },
            "type": "scatterternary"
           }
          ],
          "surface": [
           {
            "colorbar": {
             "outlinewidth": 0,
             "ticks": ""
            },
            "colorscale": [
             [
              0,
              "#0d0887"
             ],
             [
              0.1111111111111111,
              "#46039f"
             ],
             [
              0.2222222222222222,
              "#7201a8"
             ],
             [
              0.3333333333333333,
              "#9c179e"
             ],
             [
              0.4444444444444444,
              "#bd3786"
             ],
             [
              0.5555555555555556,
              "#d8576b"
             ],
             [
              0.6666666666666666,
              "#ed7953"
             ],
             [
              0.7777777777777778,
              "#fb9f3a"
             ],
             [
              0.8888888888888888,
              "#fdca26"
             ],
             [
              1,
              "#f0f921"
             ]
            ],
            "type": "surface"
           }
          ],
          "table": [
           {
            "cells": {
             "fill": {
              "color": "#EBF0F8"
             },
             "line": {
              "color": "white"
             }
            },
            "header": {
             "fill": {
              "color": "#C8D4E3"
             },
             "line": {
              "color": "white"
             }
            },
            "type": "table"
           }
          ]
         },
         "layout": {
          "annotationdefaults": {
           "arrowcolor": "#2a3f5f",
           "arrowhead": 0,
           "arrowwidth": 1
          },
          "coloraxis": {
           "colorbar": {
            "outlinewidth": 0,
            "ticks": ""
           }
          },
          "colorscale": {
           "diverging": [
            [
             0,
             "#8e0152"
            ],
            [
             0.1,
             "#c51b7d"
            ],
            [
             0.2,
             "#de77ae"
            ],
            [
             0.3,
             "#f1b6da"
            ],
            [
             0.4,
             "#fde0ef"
            ],
            [
             0.5,
             "#f7f7f7"
            ],
            [
             0.6,
             "#e6f5d0"
            ],
            [
             0.7,
             "#b8e186"
            ],
            [
             0.8,
             "#7fbc41"
            ],
            [
             0.9,
             "#4d9221"
            ],
            [
             1,
             "#276419"
            ]
           ],
           "sequential": [
            [
             0,
             "#0d0887"
            ],
            [
             0.1111111111111111,
             "#46039f"
            ],
            [
             0.2222222222222222,
             "#7201a8"
            ],
            [
             0.3333333333333333,
             "#9c179e"
            ],
            [
             0.4444444444444444,
             "#bd3786"
            ],
            [
             0.5555555555555556,
             "#d8576b"
            ],
            [
             0.6666666666666666,
             "#ed7953"
            ],
            [
             0.7777777777777778,
             "#fb9f3a"
            ],
            [
             0.8888888888888888,
             "#fdca26"
            ],
            [
             1,
             "#f0f921"
            ]
           ],
           "sequentialminus": [
            [
             0,
             "#0d0887"
            ],
            [
             0.1111111111111111,
             "#46039f"
            ],
            [
             0.2222222222222222,
             "#7201a8"
            ],
            [
             0.3333333333333333,
             "#9c179e"
            ],
            [
             0.4444444444444444,
             "#bd3786"
            ],
            [
             0.5555555555555556,
             "#d8576b"
            ],
            [
             0.6666666666666666,
             "#ed7953"
            ],
            [
             0.7777777777777778,
             "#fb9f3a"
            ],
            [
             0.8888888888888888,
             "#fdca26"
            ],
            [
             1,
             "#f0f921"
            ]
           ]
          },
          "colorway": [
           "#636efa",
           "#EF553B",
           "#00cc96",
           "#ab63fa",
           "#FFA15A",
           "#19d3f3",
           "#FF6692",
           "#B6E880",
           "#FF97FF",
           "#FECB52"
          ],
          "font": {
           "color": "#2a3f5f"
          },
          "geo": {
           "bgcolor": "white",
           "lakecolor": "white",
           "landcolor": "#E5ECF6",
           "showlakes": true,
           "showland": true,
           "subunitcolor": "white"
          },
          "hoverlabel": {
           "align": "left"
          },
          "hovermode": "closest",
          "mapbox": {
           "style": "light"
          },
          "paper_bgcolor": "white",
          "plot_bgcolor": "#E5ECF6",
          "polar": {
           "angularaxis": {
            "gridcolor": "white",
            "linecolor": "white",
            "ticks": ""
           },
           "bgcolor": "#E5ECF6",
           "radialaxis": {
            "gridcolor": "white",
            "linecolor": "white",
            "ticks": ""
           }
          },
          "scene": {
           "xaxis": {
            "backgroundcolor": "#E5ECF6",
            "gridcolor": "white",
            "gridwidth": 2,
            "linecolor": "white",
            "showbackground": true,
            "ticks": "",
            "zerolinecolor": "white"
           },
           "yaxis": {
            "backgroundcolor": "#E5ECF6",
            "gridcolor": "white",
            "gridwidth": 2,
            "linecolor": "white",
            "showbackground": true,
            "ticks": "",
            "zerolinecolor": "white"
           },
           "zaxis": {
            "backgroundcolor": "#E5ECF6",
            "gridcolor": "white",
            "gridwidth": 2,
            "linecolor": "white",
            "showbackground": true,
            "ticks": "",
            "zerolinecolor": "white"
           }
          },
          "shapedefaults": {
           "line": {
            "color": "#2a3f5f"
           }
          },
          "ternary": {
           "aaxis": {
            "gridcolor": "white",
            "linecolor": "white",
            "ticks": ""
           },
           "baxis": {
            "gridcolor": "white",
            "linecolor": "white",
            "ticks": ""
           },
           "bgcolor": "#E5ECF6",
           "caxis": {
            "gridcolor": "white",
            "linecolor": "white",
            "ticks": ""
           }
          },
          "title": {
           "x": 0.05
          },
          "xaxis": {
           "automargin": true,
           "gridcolor": "white",
           "linecolor": "white",
           "ticks": "",
           "title": {
            "standoff": 15
           },
           "zerolinecolor": "white",
           "zerolinewidth": 2
          },
          "yaxis": {
           "automargin": true,
           "gridcolor": "white",
           "linecolor": "white",
           "ticks": "",
           "title": {
            "standoff": 15
           },
           "zerolinecolor": "white",
           "zerolinewidth": 2
          }
         }
        },
        "title": {
         "text": "Día Lunes"
        },
        "xaxis": {
         "rangeselector": {
          "buttons": [
           {
            "count": 7,
            "label": "1w",
            "step": "day",
            "stepmode": "backward"
           },
           {
            "count": 1,
            "label": "1m",
            "step": "month",
            "stepmode": "backward"
           },
           {
            "count": 6,
            "label": "6m",
            "step": "month",
            "stepmode": "backward"
           },
           {
            "count": 1,
            "label": "YTD",
            "step": "year",
            "stepmode": "todate"
           },
           {
            "count": 1,
            "label": "1y",
            "step": "year",
            "stepmode": "backward"
           },
           {
            "step": "all"
           }
          ]
         },
         "showgrid": true,
         "type": "date",
         "zeroline": false
        },
        "yaxis": {
         "autorange": false,
         "range": [
          -1,
          11
         ],
         "showgrid": true,
         "ticktext": [
          "Pabellón 8",
          "UCA 3",
          "UCA 1",
          "Pabellón 4",
          "Pabellón 1",
          "UCA 2",
          "Pabellón 7",
          "Pabellón 5",
          "Pabellón 3",
          "Pabellón 2"
         ],
         "tickvals": [
          0,
          1,
          2,
          3,
          4,
          5,
          6,
          7,
          8,
          9
         ],
         "zeroline": false
        }
       }
      },
      "text/html": [
       "<div>\n",
       "        \n",
       "        \n",
       "            <div id=\"31af2378-94b1-4079-92e4-c4eadeae9210\" class=\"plotly-graph-div\" style=\"height:600px; width:100%;\"></div>\n",
       "            <script type=\"text/javascript\">\n",
       "                require([\"plotly\"], function(Plotly) {\n",
       "                    window.PLOTLYENV=window.PLOTLYENV || {};\n",
       "                    \n",
       "                if (document.getElementById(\"31af2378-94b1-4079-92e4-c4eadeae9210\")) {\n",
       "                    Plotly.newPlot(\n",
       "                        '31af2378-94b1-4079-92e4-c4eadeae9210',\n",
       "                        [{\"fill\": \"toself\", \"fillcolor\": \"rgb(110, 0, 220)\", \"hoverinfo\": \"name\", \"legendgroup\": \"rgb(110, 0, 220)\", \"mode\": \"none\", \"name\": \"Libre VSC\", \"type\": \"scatter\", \"x\": [\"2020-01-01T14:00:00\", \"2020-01-01T21:00:00\", \"2020-01-01T21:00:00\", \"2020-01-01T14:00:00\", \"2020-01-01T14:00:00\", \"2020-01-01T14:00:00\", \"2020-01-01T21:00:00\", \"2020-01-01T21:00:00\", \"2020-01-01T14:00:00\", \"2020-01-01T14:00:00\", \"2020-01-01T14:00:00\", \"2020-01-01T21:00:00\", \"2020-01-01T21:00:00\", \"2020-01-01T14:00:00\"], \"y\": [3.8, 3.8, 4.2, 4.2, null, 6.8, 6.8, 7.2, 7.2, null, 5.8, 5.8, 6.2, 6.2]}, {\"fill\": \"toself\", \"fillcolor\": \"rgb(14, 122, 220)\", \"hoverinfo\": \"name\", \"legendgroup\": \"rgb(14, 122, 220)\", \"mode\": \"none\", \"name\": \"CPQ Ley\", \"type\": \"scatter\", \"x\": [\"2020-01-01T08:00:00\", \"2020-01-01T13:00:00\", \"2020-01-01T13:00:00\", \"2020-01-01T08:00:00\"], \"y\": [4.8, 4.8, 5.2, 5.2]}, {\"fill\": \"toself\", \"fillcolor\": \"rgb(199, 171, 235)\", \"hoverinfo\": \"name\", \"legendgroup\": \"rgb(199, 171, 235)\", \"mode\": \"none\", \"name\": \"TyP Ley\", \"type\": \"scatter\", \"x\": [\"2020-01-01T08:00:00\", \"2020-01-01T14:00:00\", \"2020-01-01T14:00:00\", \"2020-01-01T08:00:00\", \"2020-01-01T08:00:00\", \"2020-01-01T08:00:00\", \"2020-01-01T14:00:00\", \"2020-01-01T14:00:00\", \"2020-01-01T08:00:00\", \"2020-01-01T08:00:00\", \"2020-01-01T08:00:00\", \"2020-01-01T14:00:00\", \"2020-01-01T14:00:00\", \"2020-01-01T08:00:00\", \"2020-01-01T08:00:00\", \"2020-01-01T08:00:00\", \"2020-01-01T14:00:00\", \"2020-01-01T14:00:00\", \"2020-01-01T08:00:00\"], \"y\": [3.8, 3.8, 4.2, 4.2, null, 2.8, 2.8, 3.2, 3.2, null, 1.8, 1.8, 2.2, 2.2, null, 0.8, 0.8, 1.2, 1.2]}, {\"fill\": \"toself\", \"fillcolor\": \"rgb(220, 0, 110)\", \"hoverinfo\": \"name\", \"legendgroup\": \"rgb(220, 0, 110)\", \"mode\": \"none\", \"name\": \"Libre Ley\", \"type\": \"scatter\", \"x\": [\"2020-01-01T13:00:00\", \"2020-01-01T21:00:00\", \"2020-01-01T21:00:00\", \"2020-01-01T13:00:00\", \"2020-01-01T13:00:00\", \"2020-01-01T14:00:00\", \"2020-01-01T21:00:00\", \"2020-01-01T21:00:00\", \"2020-01-01T14:00:00\"], \"y\": [4.8, 4.8, 5.2, 5.2, null, 0.8, 0.8, 1.2, 1.2]}, {\"fill\": \"toself\", \"fillcolor\": \"rgb(220, 110, 0)\", \"hoverinfo\": \"name\", \"legendgroup\": \"rgb(220, 110, 0)\", \"mode\": \"none\", \"name\": \"Neuro VSC\", \"type\": \"scatter\", \"x\": [\"2020-01-01T16:00:00\", \"2020-01-01T20:00:00\", \"2020-01-01T20:00:00\", \"2020-01-01T16:00:00\"], \"y\": [-0.2, -0.2, 0.2, 0.2]}, {\"fill\": \"toself\", \"fillcolor\": \"rgb(234, 126, 31)\", \"hoverinfo\": \"name\", \"legendgroup\": \"rgb(234, 126, 31)\", \"mode\": \"none\", \"name\": \"Columna Ley\", \"type\": \"scatter\", \"x\": [\"2020-01-01T08:00:00\", \"2020-01-01T16:00:00\", \"2020-01-01T16:00:00\", \"2020-01-01T08:00:00\"], \"y\": [-0.2, -0.2, 0.2, 0.2]}, {\"fill\": \"toself\", \"fillcolor\": \"rgb(25, 90, 40)\", \"hoverinfo\": \"name\", \"legendgroup\": \"rgb(25, 90, 40)\", \"mode\": \"none\", \"name\": \"Hombro VSC\", \"type\": \"scatter\", \"x\": [\"2020-01-01T14:00:00\", \"2020-01-01T21:00:00\", \"2020-01-01T21:00:00\", \"2020-01-01T14:00:00\"], \"y\": [2.8, 2.8, 3.2, 3.2]}, {\"fill\": \"toself\", \"fillcolor\": \"rgb(34, 116, 66)\", \"hoverinfo\": \"name\", \"legendgroup\": \"rgb(34, 116, 66)\", \"mode\": \"none\", \"name\": \"EESS Ley\", \"type\": \"scatter\", \"x\": [\"2020-01-01T08:00:00\", \"2020-01-01T16:00:00\", \"2020-01-01T16:00:00\", \"2020-01-01T08:00:00\"], \"y\": [8.8, 8.8, 9.2, 9.2]}, {\"fill\": \"toself\", \"fillcolor\": \"rgb(55, 0, 0)\", \"hoverinfo\": \"name\", \"legendgroup\": \"rgb(55, 0, 0)\", \"mode\": \"none\", \"name\": \"Roa VSC\", \"type\": \"scatter\", \"x\": [\"2020-01-01T14:00:00\", \"2020-01-01T21:00:00\", \"2020-01-01T21:00:00\", \"2020-01-01T14:00:00\"], \"y\": [1.8, 1.8, 2.2, 2.2]}, {\"fill\": \"toself\", \"fillcolor\": \"rgb(93, 205, 187)\", \"hoverinfo\": \"name\", \"legendgroup\": \"rgb(93, 205, 187)\", \"mode\": \"none\", \"name\": \"Rodilla Ley\", \"type\": \"scatter\", \"x\": [\"2020-01-01T08:00:00\", \"2020-01-01T16:00:00\", \"2020-01-01T16:00:00\", \"2020-01-01T08:00:00\", \"2020-01-01T08:00:00\", \"2020-01-01T08:00:00\", \"2020-01-01T14:00:00\", \"2020-01-01T14:00:00\", \"2020-01-01T08:00:00\", \"2020-01-01T08:00:00\", \"2020-01-01T08:00:00\", \"2020-01-01T14:00:00\", \"2020-01-01T14:00:00\", \"2020-01-01T08:00:00\"], \"y\": [7.8, 7.8, 8.2, 8.2, null, 6.8, 6.8, 7.2, 7.2, null, 5.8, 5.8, 6.2, 6.2]}, {\"legendgroup\": \"rgb(110, 0, 220)\", \"marker\": {\"color\": \"rgb(110, 0, 220)\", \"opacity\": 0, \"size\": 1}, \"mode\": \"markers\", \"name\": \"\", \"showlegend\": false, \"text\": [null, null, null, null, null, null], \"type\": \"scatter\", \"x\": [\"2020-01-01T14:00:00\", \"2020-01-01T21:00:00\", \"2020-01-01T14:00:00\", \"2020-01-01T21:00:00\", \"2020-01-01T14:00:00\", \"2020-01-01T21:00:00\"], \"y\": [4, 4, 7, 7, 6, 6]}, {\"legendgroup\": \"rgb(14, 122, 220)\", \"marker\": {\"color\": \"rgb(14, 122, 220)\", \"opacity\": 0, \"size\": 1}, \"mode\": \"markers\", \"name\": \"\", \"showlegend\": false, \"text\": [null, null], \"type\": \"scatter\", \"x\": [\"2020-01-01T08:00:00\", \"2020-01-01T13:00:00\"], \"y\": [5, 5]}, {\"legendgroup\": \"rgb(199, 171, 235)\", \"marker\": {\"color\": \"rgb(199, 171, 235)\", \"opacity\": 0, \"size\": 1}, \"mode\": \"markers\", \"name\": \"\", \"showlegend\": false, \"text\": [null, null, null, null, null, null, null, null], \"type\": \"scatter\", \"x\": [\"2020-01-01T08:00:00\", \"2020-01-01T14:00:00\", \"2020-01-01T08:00:00\", \"2020-01-01T14:00:00\", \"2020-01-01T08:00:00\", \"2020-01-01T14:00:00\", \"2020-01-01T08:00:00\", \"2020-01-01T14:00:00\"], \"y\": [4, 4, 3, 3, 2, 2, 1, 1]}, {\"legendgroup\": \"rgb(220, 0, 110)\", \"marker\": {\"color\": \"rgb(220, 0, 110)\", \"opacity\": 0, \"size\": 1}, \"mode\": \"markers\", \"name\": \"\", \"showlegend\": false, \"text\": [null, null, null, null], \"type\": \"scatter\", \"x\": [\"2020-01-01T13:00:00\", \"2020-01-01T21:00:00\", \"2020-01-01T14:00:00\", \"2020-01-01T21:00:00\"], \"y\": [5, 5, 1, 1]}, {\"legendgroup\": \"rgb(220, 110, 0)\", \"marker\": {\"color\": \"rgb(220, 110, 0)\", \"opacity\": 0, \"size\": 1}, \"mode\": \"markers\", \"name\": \"\", \"showlegend\": false, \"text\": [null, null], \"type\": \"scatter\", \"x\": [\"2020-01-01T16:00:00\", \"2020-01-01T20:00:00\"], \"y\": [0, 0]}, {\"legendgroup\": \"rgb(234, 126, 31)\", \"marker\": {\"color\": \"rgb(234, 126, 31)\", \"opacity\": 0, \"size\": 1}, \"mode\": \"markers\", \"name\": \"\", \"showlegend\": false, \"text\": [null, null], \"type\": \"scatter\", \"x\": [\"2020-01-01T08:00:00\", \"2020-01-01T16:00:00\"], \"y\": [0, 0]}, {\"legendgroup\": \"rgb(25, 90, 40)\", \"marker\": {\"color\": \"rgb(25, 90, 40)\", \"opacity\": 0, \"size\": 1}, \"mode\": \"markers\", \"name\": \"\", \"showlegend\": false, \"text\": [null, null], \"type\": \"scatter\", \"x\": [\"2020-01-01T14:00:00\", \"2020-01-01T21:00:00\"], \"y\": [3, 3]}, {\"legendgroup\": \"rgb(34, 116, 66)\", \"marker\": {\"color\": \"rgb(34, 116, 66)\", \"opacity\": 0, \"size\": 1}, \"mode\": \"markers\", \"name\": \"\", \"showlegend\": false, \"text\": [null, null], \"type\": \"scatter\", \"x\": [\"2020-01-01T08:00:00\", \"2020-01-01T16:00:00\"], \"y\": [9, 9]}, {\"legendgroup\": \"rgb(55, 0, 0)\", \"marker\": {\"color\": \"rgb(55, 0, 0)\", \"opacity\": 0, \"size\": 1}, \"mode\": \"markers\", \"name\": \"\", \"showlegend\": false, \"text\": [null, null], \"type\": \"scatter\", \"x\": [\"2020-01-01T14:00:00\", \"2020-01-01T21:00:00\"], \"y\": [2, 2]}, {\"legendgroup\": \"rgb(93, 205, 187)\", \"marker\": {\"color\": \"rgb(93, 205, 187)\", \"opacity\": 0, \"size\": 1}, \"mode\": \"markers\", \"name\": \"\", \"showlegend\": false, \"text\": [null, null, null, null, null, null], \"type\": \"scatter\", \"x\": [\"2020-01-01T08:00:00\", \"2020-01-01T16:00:00\", \"2020-01-01T08:00:00\", \"2020-01-01T14:00:00\", \"2020-01-01T08:00:00\", \"2020-01-01T14:00:00\"], \"y\": [8, 8, 7, 7, 6, 6]}],\n",
       "                        {\"height\": 600, \"hovermode\": \"closest\", \"showlegend\": true, \"template\": {\"data\": {\"bar\": [{\"error_x\": {\"color\": \"#2a3f5f\"}, \"error_y\": {\"color\": \"#2a3f5f\"}, \"marker\": {\"line\": {\"color\": \"#E5ECF6\", \"width\": 0.5}}, \"type\": \"bar\"}], \"barpolar\": [{\"marker\": {\"line\": {\"color\": \"#E5ECF6\", \"width\": 0.5}}, \"type\": \"barpolar\"}], \"carpet\": [{\"aaxis\": {\"endlinecolor\": \"#2a3f5f\", \"gridcolor\": \"white\", \"linecolor\": \"white\", \"minorgridcolor\": \"white\", \"startlinecolor\": \"#2a3f5f\"}, \"baxis\": {\"endlinecolor\": \"#2a3f5f\", \"gridcolor\": \"white\", \"linecolor\": \"white\", \"minorgridcolor\": \"white\", \"startlinecolor\": \"#2a3f5f\"}, \"type\": \"carpet\"}], \"choropleth\": [{\"colorbar\": {\"outlinewidth\": 0, \"ticks\": \"\"}, \"type\": \"choropleth\"}], \"contour\": [{\"colorbar\": {\"outlinewidth\": 0, \"ticks\": \"\"}, \"colorscale\": [[0.0, \"#0d0887\"], [0.1111111111111111, \"#46039f\"], [0.2222222222222222, \"#7201a8\"], [0.3333333333333333, \"#9c179e\"], [0.4444444444444444, \"#bd3786\"], [0.5555555555555556, \"#d8576b\"], [0.6666666666666666, \"#ed7953\"], [0.7777777777777778, \"#fb9f3a\"], [0.8888888888888888, \"#fdca26\"], [1.0, \"#f0f921\"]], \"type\": \"contour\"}], \"contourcarpet\": [{\"colorbar\": {\"outlinewidth\": 0, \"ticks\": \"\"}, \"type\": \"contourcarpet\"}], \"heatmap\": [{\"colorbar\": {\"outlinewidth\": 0, \"ticks\": \"\"}, \"colorscale\": [[0.0, \"#0d0887\"], [0.1111111111111111, \"#46039f\"], [0.2222222222222222, \"#7201a8\"], [0.3333333333333333, \"#9c179e\"], [0.4444444444444444, \"#bd3786\"], [0.5555555555555556, \"#d8576b\"], [0.6666666666666666, \"#ed7953\"], [0.7777777777777778, \"#fb9f3a\"], [0.8888888888888888, \"#fdca26\"], [1.0, \"#f0f921\"]], \"type\": \"heatmap\"}], \"heatmapgl\": [{\"colorbar\": {\"outlinewidth\": 0, \"ticks\": \"\"}, \"colorscale\": [[0.0, \"#0d0887\"], [0.1111111111111111, \"#46039f\"], [0.2222222222222222, \"#7201a8\"], [0.3333333333333333, \"#9c179e\"], [0.4444444444444444, \"#bd3786\"], [0.5555555555555556, \"#d8576b\"], [0.6666666666666666, \"#ed7953\"], [0.7777777777777778, \"#fb9f3a\"], [0.8888888888888888, \"#fdca26\"], [1.0, \"#f0f921\"]], \"type\": \"heatmapgl\"}], \"histogram\": [{\"marker\": {\"colorbar\": {\"outlinewidth\": 0, \"ticks\": \"\"}}, \"type\": \"histogram\"}], \"histogram2d\": [{\"colorbar\": {\"outlinewidth\": 0, \"ticks\": \"\"}, \"colorscale\": [[0.0, \"#0d0887\"], [0.1111111111111111, \"#46039f\"], [0.2222222222222222, \"#7201a8\"], [0.3333333333333333, \"#9c179e\"], [0.4444444444444444, \"#bd3786\"], [0.5555555555555556, \"#d8576b\"], [0.6666666666666666, \"#ed7953\"], [0.7777777777777778, \"#fb9f3a\"], [0.8888888888888888, \"#fdca26\"], [1.0, \"#f0f921\"]], \"type\": \"histogram2d\"}], \"histogram2dcontour\": [{\"colorbar\": {\"outlinewidth\": 0, \"ticks\": \"\"}, \"colorscale\": [[0.0, \"#0d0887\"], [0.1111111111111111, \"#46039f\"], [0.2222222222222222, \"#7201a8\"], [0.3333333333333333, \"#9c179e\"], [0.4444444444444444, \"#bd3786\"], [0.5555555555555556, \"#d8576b\"], [0.6666666666666666, \"#ed7953\"], [0.7777777777777778, \"#fb9f3a\"], [0.8888888888888888, \"#fdca26\"], [1.0, \"#f0f921\"]], \"type\": \"histogram2dcontour\"}], \"mesh3d\": [{\"colorbar\": {\"outlinewidth\": 0, \"ticks\": \"\"}, \"type\": \"mesh3d\"}], \"parcoords\": [{\"line\": {\"colorbar\": {\"outlinewidth\": 0, \"ticks\": \"\"}}, \"type\": \"parcoords\"}], \"pie\": [{\"automargin\": true, \"type\": \"pie\"}], \"scatter\": [{\"marker\": {\"colorbar\": {\"outlinewidth\": 0, \"ticks\": \"\"}}, \"type\": \"scatter\"}], \"scatter3d\": [{\"line\": {\"colorbar\": {\"outlinewidth\": 0, \"ticks\": \"\"}}, \"marker\": {\"colorbar\": {\"outlinewidth\": 0, \"ticks\": \"\"}}, \"type\": \"scatter3d\"}], \"scattercarpet\": [{\"marker\": {\"colorbar\": {\"outlinewidth\": 0, \"ticks\": \"\"}}, \"type\": \"scattercarpet\"}], \"scattergeo\": [{\"marker\": {\"colorbar\": {\"outlinewidth\": 0, \"ticks\": \"\"}}, \"type\": \"scattergeo\"}], \"scattergl\": [{\"marker\": {\"colorbar\": {\"outlinewidth\": 0, \"ticks\": \"\"}}, \"type\": \"scattergl\"}], \"scattermapbox\": [{\"marker\": {\"colorbar\": {\"outlinewidth\": 0, \"ticks\": \"\"}}, \"type\": \"scattermapbox\"}], \"scatterpolar\": [{\"marker\": {\"colorbar\": {\"outlinewidth\": 0, \"ticks\": \"\"}}, \"type\": \"scatterpolar\"}], \"scatterpolargl\": [{\"marker\": {\"colorbar\": {\"outlinewidth\": 0, \"ticks\": \"\"}}, \"type\": \"scatterpolargl\"}], \"scatterternary\": [{\"marker\": {\"colorbar\": {\"outlinewidth\": 0, \"ticks\": \"\"}}, \"type\": \"scatterternary\"}], \"surface\": [{\"colorbar\": {\"outlinewidth\": 0, \"ticks\": \"\"}, \"colorscale\": [[0.0, \"#0d0887\"], [0.1111111111111111, \"#46039f\"], [0.2222222222222222, \"#7201a8\"], [0.3333333333333333, \"#9c179e\"], [0.4444444444444444, \"#bd3786\"], [0.5555555555555556, \"#d8576b\"], [0.6666666666666666, \"#ed7953\"], [0.7777777777777778, \"#fb9f3a\"], [0.8888888888888888, \"#fdca26\"], [1.0, \"#f0f921\"]], \"type\": \"surface\"}], \"table\": [{\"cells\": {\"fill\": {\"color\": \"#EBF0F8\"}, \"line\": {\"color\": \"white\"}}, \"header\": {\"fill\": {\"color\": \"#C8D4E3\"}, \"line\": {\"color\": \"white\"}}, \"type\": \"table\"}]}, \"layout\": {\"annotationdefaults\": {\"arrowcolor\": \"#2a3f5f\", \"arrowhead\": 0, \"arrowwidth\": 1}, \"coloraxis\": {\"colorbar\": {\"outlinewidth\": 0, \"ticks\": \"\"}}, \"colorscale\": {\"diverging\": [[0, \"#8e0152\"], [0.1, \"#c51b7d\"], [0.2, \"#de77ae\"], [0.3, \"#f1b6da\"], [0.4, \"#fde0ef\"], [0.5, \"#f7f7f7\"], [0.6, \"#e6f5d0\"], [0.7, \"#b8e186\"], [0.8, \"#7fbc41\"], [0.9, \"#4d9221\"], [1, \"#276419\"]], \"sequential\": [[0.0, \"#0d0887\"], [0.1111111111111111, \"#46039f\"], [0.2222222222222222, \"#7201a8\"], [0.3333333333333333, \"#9c179e\"], [0.4444444444444444, \"#bd3786\"], [0.5555555555555556, \"#d8576b\"], [0.6666666666666666, \"#ed7953\"], [0.7777777777777778, \"#fb9f3a\"], [0.8888888888888888, \"#fdca26\"], [1.0, \"#f0f921\"]], \"sequentialminus\": [[0.0, \"#0d0887\"], [0.1111111111111111, \"#46039f\"], [0.2222222222222222, \"#7201a8\"], [0.3333333333333333, \"#9c179e\"], [0.4444444444444444, \"#bd3786\"], [0.5555555555555556, \"#d8576b\"], [0.6666666666666666, \"#ed7953\"], [0.7777777777777778, \"#fb9f3a\"], [0.8888888888888888, \"#fdca26\"], [1.0, \"#f0f921\"]]}, \"colorway\": [\"#636efa\", \"#EF553B\", \"#00cc96\", \"#ab63fa\", \"#FFA15A\", \"#19d3f3\", \"#FF6692\", \"#B6E880\", \"#FF97FF\", \"#FECB52\"], \"font\": {\"color\": \"#2a3f5f\"}, \"geo\": {\"bgcolor\": \"white\", \"lakecolor\": \"white\", \"landcolor\": \"#E5ECF6\", \"showlakes\": true, \"showland\": true, \"subunitcolor\": \"white\"}, \"hoverlabel\": {\"align\": \"left\"}, \"hovermode\": \"closest\", \"mapbox\": {\"style\": \"light\"}, \"paper_bgcolor\": \"white\", \"plot_bgcolor\": \"#E5ECF6\", \"polar\": {\"angularaxis\": {\"gridcolor\": \"white\", \"linecolor\": \"white\", \"ticks\": \"\"}, \"bgcolor\": \"#E5ECF6\", \"radialaxis\": {\"gridcolor\": \"white\", \"linecolor\": \"white\", \"ticks\": \"\"}}, \"scene\": {\"xaxis\": {\"backgroundcolor\": \"#E5ECF6\", \"gridcolor\": \"white\", \"gridwidth\": 2, \"linecolor\": \"white\", \"showbackground\": true, \"ticks\": \"\", \"zerolinecolor\": \"white\"}, \"yaxis\": {\"backgroundcolor\": \"#E5ECF6\", \"gridcolor\": \"white\", \"gridwidth\": 2, \"linecolor\": \"white\", \"showbackground\": true, \"ticks\": \"\", \"zerolinecolor\": \"white\"}, \"zaxis\": {\"backgroundcolor\": \"#E5ECF6\", \"gridcolor\": \"white\", \"gridwidth\": 2, \"linecolor\": \"white\", \"showbackground\": true, \"ticks\": \"\", \"zerolinecolor\": \"white\"}}, \"shapedefaults\": {\"line\": {\"color\": \"#2a3f5f\"}}, \"ternary\": {\"aaxis\": {\"gridcolor\": \"white\", \"linecolor\": \"white\", \"ticks\": \"\"}, \"baxis\": {\"gridcolor\": \"white\", \"linecolor\": \"white\", \"ticks\": \"\"}, \"bgcolor\": \"#E5ECF6\", \"caxis\": {\"gridcolor\": \"white\", \"linecolor\": \"white\", \"ticks\": \"\"}}, \"title\": {\"x\": 0.05}, \"xaxis\": {\"automargin\": true, \"gridcolor\": \"white\", \"linecolor\": \"white\", \"ticks\": \"\", \"title\": {\"standoff\": 15}, \"zerolinecolor\": \"white\", \"zerolinewidth\": 2}, \"yaxis\": {\"automargin\": true, \"gridcolor\": \"white\", \"linecolor\": \"white\", \"ticks\": \"\", \"title\": {\"standoff\": 15}, \"zerolinecolor\": \"white\", \"zerolinewidth\": 2}}}, \"title\": {\"text\": \"D\\u00eda Lunes\"}, \"xaxis\": {\"rangeselector\": {\"buttons\": [{\"count\": 7, \"label\": \"1w\", \"step\": \"day\", \"stepmode\": \"backward\"}, {\"count\": 1, \"label\": \"1m\", \"step\": \"month\", \"stepmode\": \"backward\"}, {\"count\": 6, \"label\": \"6m\", \"step\": \"month\", \"stepmode\": \"backward\"}, {\"count\": 1, \"label\": \"YTD\", \"step\": \"year\", \"stepmode\": \"todate\"}, {\"count\": 1, \"label\": \"1y\", \"step\": \"year\", \"stepmode\": \"backward\"}, {\"step\": \"all\"}]}, \"showgrid\": true, \"type\": \"date\", \"zeroline\": false}, \"yaxis\": {\"autorange\": false, \"range\": [-1, 11], \"showgrid\": true, \"ticktext\": [\"Pabell\\u00f3n 8\", \"UCA 3\", \"UCA 1\", \"Pabell\\u00f3n 4\", \"Pabell\\u00f3n 1\", \"UCA 2\", \"Pabell\\u00f3n 7\", \"Pabell\\u00f3n 5\", \"Pabell\\u00f3n 3\", \"Pabell\\u00f3n 2\"], \"tickvals\": [0, 1, 2, 3, 4, 5, 6, 7, 8, 9], \"zeroline\": false}},\n",
       "                        {\"responsive\": true}\n",
       "                    ).then(function(){\n",
       "                            \n",
       "var gd = document.getElementById('31af2378-94b1-4079-92e4-c4eadeae9210');\n",
       "var x = new MutationObserver(function (mutations, observer) {{\n",
       "        var display = window.getComputedStyle(gd).display;\n",
       "        if (!display || display === 'none') {{\n",
       "            console.log([gd, 'removed!']);\n",
       "            Plotly.purge(gd);\n",
       "            observer.disconnect();\n",
       "        }}\n",
       "}});\n",
       "\n",
       "// Listen for the removal of the full notebook cells\n",
       "var notebookContainer = gd.closest('#notebook-container');\n",
       "if (notebookContainer) {{\n",
       "    x.observe(notebookContainer, {childList: true});\n",
       "}}\n",
       "\n",
       "// Listen for the clearing of the current output cell\n",
       "var outputEl = gd.closest('.output');\n",
       "if (outputEl) {{\n",
       "    x.observe(outputEl, {childList: true});\n",
       "}}\n",
       "\n",
       "                        })\n",
       "                };\n",
       "                });\n",
       "            </script>\n",
       "        </div>"
      ]
     },
     "metadata": {},
     "output_type": "display_data"
    }
   ],
   "source": [
    "\n",
    "                            \n",
    "fig_0 = ff.create_gantt(df0, colors=colors, index_col='Resource', show_colorbar=True, title='Día Lunes',\n",
    "                        showgrid_x=True, showgrid_y=True, group_tasks=True)\n",
    "fig_0.show()\n",
    "\n"
   ]
  },
  {
   "cell_type": "code",
   "execution_count": 34,
   "metadata": {},
   "outputs": [
    {
     "data": {
      "application/vnd.plotly.v1+json": {
       "config": {
        "plotlyServerURL": "https://plot.ly"
       },
       "data": [
        {
         "fill": "toself",
         "fillcolor": "rgb(102, 14, 220)",
         "hoverinfo": "name",
         "legendgroup": "rgb(102, 14, 220)",
         "mode": "none",
         "name": "CPQ VSC",
         "type": "scatter",
         "x": [
          "2020-01-01T14:00:00",
          "2020-01-01T21:00:00",
          "2020-01-01T21:00:00",
          "2020-01-01T14:00:00",
          "2020-01-01T14:00:00",
          "2020-01-01T14:00:00",
          "2020-01-01T21:00:00",
          "2020-01-01T21:00:00",
          "2020-01-01T14:00:00"
         ],
         "y": [
          8.8,
          8.8,
          9.2,
          9.2,
          null,
          6.8,
          6.8,
          7.2,
          7.2
         ]
        },
        {
         "fill": "toself",
         "fillcolor": "rgb(14, 122, 220)",
         "hoverinfo": "name",
         "legendgroup": "rgb(14, 122, 220)",
         "mode": "none",
         "name": "CPQ Ley",
         "type": "scatter",
         "x": [
          "2020-01-01T08:00:00",
          "2020-01-01T13:00:00",
          "2020-01-01T13:00:00",
          "2020-01-01T08:00:00",
          "2020-01-01T08:00:00",
          "2020-01-01T08:00:00",
          "2020-01-01T13:00:00",
          "2020-01-01T13:00:00",
          "2020-01-01T08:00:00"
         ],
         "y": [
          5.8,
          5.8,
          6.2,
          6.2,
          null,
          4.8,
          4.8,
          5.2,
          5.2
         ]
        },
        {
         "fill": "toself",
         "fillcolor": "rgb(153, 213, 0)",
         "hoverinfo": "name",
         "legendgroup": "rgb(153, 213, 0)",
         "mode": "none",
         "name": "Maxilo Ley",
         "type": "scatter",
         "x": [
          "2020-01-01T08:00:00",
          "2020-01-01T16:00:00",
          "2020-01-01T16:00:00",
          "2020-01-01T08:00:00",
          "2020-01-01T08:00:00",
          "2020-01-01T08:00:00",
          "2020-01-01T16:00:00",
          "2020-01-01T16:00:00",
          "2020-01-01T08:00:00"
         ],
         "y": [
          0.8,
          0.8,
          1.2,
          1.2,
          null,
          -0.2,
          -0.2,
          0.2,
          0.2
         ]
        },
        {
         "fill": "toself",
         "fillcolor": "rgb(199, 171, 235)",
         "hoverinfo": "name",
         "legendgroup": "rgb(199, 171, 235)",
         "mode": "none",
         "name": "TyP Ley",
         "type": "scatter",
         "x": [
          "2020-01-01T08:00:00",
          "2020-01-01T16:00:00",
          "2020-01-01T16:00:00",
          "2020-01-01T08:00:00",
          "2020-01-01T08:00:00",
          "2020-01-01T08:00:00",
          "2020-01-01T16:00:00",
          "2020-01-01T16:00:00",
          "2020-01-01T08:00:00",
          "2020-01-01T08:00:00",
          "2020-01-01T08:00:00",
          "2020-01-01T16:00:00",
          "2020-01-01T16:00:00",
          "2020-01-01T08:00:00"
         ],
         "y": [
          3.8,
          3.8,
          4.2,
          4.2,
          null,
          2.8,
          2.8,
          3.2,
          3.2,
          null,
          1.8,
          1.8,
          2.2,
          2.2
         ]
        },
        {
         "fill": "toself",
         "fillcolor": "rgb(250, 212, 47)",
         "hoverinfo": "name",
         "legendgroup": "rgb(250, 212, 47)",
         "mode": "none",
         "name": "Columna VSC",
         "type": "scatter",
         "x": [
          "2020-01-01T13:00:00",
          "2020-01-01T21:00:00",
          "2020-01-01T21:00:00",
          "2020-01-01T13:00:00"
         ],
         "y": [
          5.8,
          5.8,
          6.2,
          6.2
         ]
        },
        {
         "fill": "toself",
         "fillcolor": "rgb(55, 0, 0)",
         "hoverinfo": "name",
         "legendgroup": "rgb(55, 0, 0)",
         "mode": "none",
         "name": "Roa VSC",
         "type": "scatter",
         "x": [
          "2020-01-01T13:00:00",
          "2020-01-01T21:00:00",
          "2020-01-01T21:00:00",
          "2020-01-01T13:00:00"
         ],
         "y": [
          4.8,
          4.8,
          5.2,
          5.2
         ]
        },
        {
         "fill": "toself",
         "fillcolor": "rgb(93, 205, 187)",
         "hoverinfo": "name",
         "legendgroup": "rgb(93, 205, 187)",
         "mode": "none",
         "name": "Rodilla Ley",
         "type": "scatter",
         "x": [
          "2020-01-01T08:00:00",
          "2020-01-01T14:00:00",
          "2020-01-01T14:00:00",
          "2020-01-01T08:00:00",
          "2020-01-01T08:00:00",
          "2020-01-01T08:00:00",
          "2020-01-01T14:00:00",
          "2020-01-01T14:00:00",
          "2020-01-01T08:00:00",
          "2020-01-01T08:00:00",
          "2020-01-01T08:00:00",
          "2020-01-01T14:00:00",
          "2020-01-01T14:00:00",
          "2020-01-01T08:00:00"
         ],
         "y": [
          8.8,
          8.8,
          9.2,
          9.2,
          null,
          7.8,
          7.8,
          8.2,
          8.2,
          null,
          6.8,
          6.8,
          7.2,
          7.2
         ]
        },
        {
         "legendgroup": "rgb(102, 14, 220)",
         "marker": {
          "color": "rgb(102, 14, 220)",
          "opacity": 0,
          "size": 1
         },
         "mode": "markers",
         "name": "",
         "showlegend": false,
         "text": [
          null,
          null,
          null,
          null
         ],
         "type": "scatter",
         "x": [
          "2020-01-01T14:00:00",
          "2020-01-01T21:00:00",
          "2020-01-01T14:00:00",
          "2020-01-01T21:00:00"
         ],
         "y": [
          9,
          9,
          7,
          7
         ]
        },
        {
         "legendgroup": "rgb(14, 122, 220)",
         "marker": {
          "color": "rgb(14, 122, 220)",
          "opacity": 0,
          "size": 1
         },
         "mode": "markers",
         "name": "",
         "showlegend": false,
         "text": [
          null,
          null,
          null,
          null
         ],
         "type": "scatter",
         "x": [
          "2020-01-01T08:00:00",
          "2020-01-01T13:00:00",
          "2020-01-01T08:00:00",
          "2020-01-01T13:00:00"
         ],
         "y": [
          6,
          6,
          5,
          5
         ]
        },
        {
         "legendgroup": "rgb(153, 213, 0)",
         "marker": {
          "color": "rgb(153, 213, 0)",
          "opacity": 0,
          "size": 1
         },
         "mode": "markers",
         "name": "",
         "showlegend": false,
         "text": [
          null,
          null,
          null,
          null
         ],
         "type": "scatter",
         "x": [
          "2020-01-01T08:00:00",
          "2020-01-01T16:00:00",
          "2020-01-01T08:00:00",
          "2020-01-01T16:00:00"
         ],
         "y": [
          1,
          1,
          0,
          0
         ]
        },
        {
         "legendgroup": "rgb(199, 171, 235)",
         "marker": {
          "color": "rgb(199, 171, 235)",
          "opacity": 0,
          "size": 1
         },
         "mode": "markers",
         "name": "",
         "showlegend": false,
         "text": [
          null,
          null,
          null,
          null,
          null,
          null
         ],
         "type": "scatter",
         "x": [
          "2020-01-01T08:00:00",
          "2020-01-01T16:00:00",
          "2020-01-01T08:00:00",
          "2020-01-01T16:00:00",
          "2020-01-01T08:00:00",
          "2020-01-01T16:00:00"
         ],
         "y": [
          4,
          4,
          3,
          3,
          2,
          2
         ]
        },
        {
         "legendgroup": "rgb(250, 212, 47)",
         "marker": {
          "color": "rgb(250, 212, 47)",
          "opacity": 0,
          "size": 1
         },
         "mode": "markers",
         "name": "",
         "showlegend": false,
         "text": [
          null,
          null
         ],
         "type": "scatter",
         "x": [
          "2020-01-01T13:00:00",
          "2020-01-01T21:00:00"
         ],
         "y": [
          6,
          6
         ]
        },
        {
         "legendgroup": "rgb(55, 0, 0)",
         "marker": {
          "color": "rgb(55, 0, 0)",
          "opacity": 0,
          "size": 1
         },
         "mode": "markers",
         "name": "",
         "showlegend": false,
         "text": [
          null,
          null
         ],
         "type": "scatter",
         "x": [
          "2020-01-01T13:00:00",
          "2020-01-01T21:00:00"
         ],
         "y": [
          5,
          5
         ]
        },
        {
         "legendgroup": "rgb(93, 205, 187)",
         "marker": {
          "color": "rgb(93, 205, 187)",
          "opacity": 0,
          "size": 1
         },
         "mode": "markers",
         "name": "",
         "showlegend": false,
         "text": [
          null,
          null,
          null,
          null,
          null,
          null
         ],
         "type": "scatter",
         "x": [
          "2020-01-01T08:00:00",
          "2020-01-01T14:00:00",
          "2020-01-01T08:00:00",
          "2020-01-01T14:00:00",
          "2020-01-01T08:00:00",
          "2020-01-01T14:00:00"
         ],
         "y": [
          9,
          9,
          8,
          8,
          7,
          7
         ]
        }
       ],
       "layout": {
        "height": 600,
        "hovermode": "closest",
        "showlegend": true,
        "template": {
         "data": {
          "bar": [
           {
            "error_x": {
             "color": "#2a3f5f"
            },
            "error_y": {
             "color": "#2a3f5f"
            },
            "marker": {
             "line": {
              "color": "#E5ECF6",
              "width": 0.5
             }
            },
            "type": "bar"
           }
          ],
          "barpolar": [
           {
            "marker": {
             "line": {
              "color": "#E5ECF6",
              "width": 0.5
             }
            },
            "type": "barpolar"
           }
          ],
          "carpet": [
           {
            "aaxis": {
             "endlinecolor": "#2a3f5f",
             "gridcolor": "white",
             "linecolor": "white",
             "minorgridcolor": "white",
             "startlinecolor": "#2a3f5f"
            },
            "baxis": {
             "endlinecolor": "#2a3f5f",
             "gridcolor": "white",
             "linecolor": "white",
             "minorgridcolor": "white",
             "startlinecolor": "#2a3f5f"
            },
            "type": "carpet"
           }
          ],
          "choropleth": [
           {
            "colorbar": {
             "outlinewidth": 0,
             "ticks": ""
            },
            "type": "choropleth"
           }
          ],
          "contour": [
           {
            "colorbar": {
             "outlinewidth": 0,
             "ticks": ""
            },
            "colorscale": [
             [
              0,
              "#0d0887"
             ],
             [
              0.1111111111111111,
              "#46039f"
             ],
             [
              0.2222222222222222,
              "#7201a8"
             ],
             [
              0.3333333333333333,
              "#9c179e"
             ],
             [
              0.4444444444444444,
              "#bd3786"
             ],
             [
              0.5555555555555556,
              "#d8576b"
             ],
             [
              0.6666666666666666,
              "#ed7953"
             ],
             [
              0.7777777777777778,
              "#fb9f3a"
             ],
             [
              0.8888888888888888,
              "#fdca26"
             ],
             [
              1,
              "#f0f921"
             ]
            ],
            "type": "contour"
           }
          ],
          "contourcarpet": [
           {
            "colorbar": {
             "outlinewidth": 0,
             "ticks": ""
            },
            "type": "contourcarpet"
           }
          ],
          "heatmap": [
           {
            "colorbar": {
             "outlinewidth": 0,
             "ticks": ""
            },
            "colorscale": [
             [
              0,
              "#0d0887"
             ],
             [
              0.1111111111111111,
              "#46039f"
             ],
             [
              0.2222222222222222,
              "#7201a8"
             ],
             [
              0.3333333333333333,
              "#9c179e"
             ],
             [
              0.4444444444444444,
              "#bd3786"
             ],
             [
              0.5555555555555556,
              "#d8576b"
             ],
             [
              0.6666666666666666,
              "#ed7953"
             ],
             [
              0.7777777777777778,
              "#fb9f3a"
             ],
             [
              0.8888888888888888,
              "#fdca26"
             ],
             [
              1,
              "#f0f921"
             ]
            ],
            "type": "heatmap"
           }
          ],
          "heatmapgl": [
           {
            "colorbar": {
             "outlinewidth": 0,
             "ticks": ""
            },
            "colorscale": [
             [
              0,
              "#0d0887"
             ],
             [
              0.1111111111111111,
              "#46039f"
             ],
             [
              0.2222222222222222,
              "#7201a8"
             ],
             [
              0.3333333333333333,
              "#9c179e"
             ],
             [
              0.4444444444444444,
              "#bd3786"
             ],
             [
              0.5555555555555556,
              "#d8576b"
             ],
             [
              0.6666666666666666,
              "#ed7953"
             ],
             [
              0.7777777777777778,
              "#fb9f3a"
             ],
             [
              0.8888888888888888,
              "#fdca26"
             ],
             [
              1,
              "#f0f921"
             ]
            ],
            "type": "heatmapgl"
           }
          ],
          "histogram": [
           {
            "marker": {
             "colorbar": {
              "outlinewidth": 0,
              "ticks": ""
             }
            },
            "type": "histogram"
           }
          ],
          "histogram2d": [
           {
            "colorbar": {
             "outlinewidth": 0,
             "ticks": ""
            },
            "colorscale": [
             [
              0,
              "#0d0887"
             ],
             [
              0.1111111111111111,
              "#46039f"
             ],
             [
              0.2222222222222222,
              "#7201a8"
             ],
             [
              0.3333333333333333,
              "#9c179e"
             ],
             [
              0.4444444444444444,
              "#bd3786"
             ],
             [
              0.5555555555555556,
              "#d8576b"
             ],
             [
              0.6666666666666666,
              "#ed7953"
             ],
             [
              0.7777777777777778,
              "#fb9f3a"
             ],
             [
              0.8888888888888888,
              "#fdca26"
             ],
             [
              1,
              "#f0f921"
             ]
            ],
            "type": "histogram2d"
           }
          ],
          "histogram2dcontour": [
           {
            "colorbar": {
             "outlinewidth": 0,
             "ticks": ""
            },
            "colorscale": [
             [
              0,
              "#0d0887"
             ],
             [
              0.1111111111111111,
              "#46039f"
             ],
             [
              0.2222222222222222,
              "#7201a8"
             ],
             [
              0.3333333333333333,
              "#9c179e"
             ],
             [
              0.4444444444444444,
              "#bd3786"
             ],
             [
              0.5555555555555556,
              "#d8576b"
             ],
             [
              0.6666666666666666,
              "#ed7953"
             ],
             [
              0.7777777777777778,
              "#fb9f3a"
             ],
             [
              0.8888888888888888,
              "#fdca26"
             ],
             [
              1,
              "#f0f921"
             ]
            ],
            "type": "histogram2dcontour"
           }
          ],
          "mesh3d": [
           {
            "colorbar": {
             "outlinewidth": 0,
             "ticks": ""
            },
            "type": "mesh3d"
           }
          ],
          "parcoords": [
           {
            "line": {
             "colorbar": {
              "outlinewidth": 0,
              "ticks": ""
             }
            },
            "type": "parcoords"
           }
          ],
          "pie": [
           {
            "automargin": true,
            "type": "pie"
           }
          ],
          "scatter": [
           {
            "marker": {
             "colorbar": {
              "outlinewidth": 0,
              "ticks": ""
             }
            },
            "type": "scatter"
           }
          ],
          "scatter3d": [
           {
            "line": {
             "colorbar": {
              "outlinewidth": 0,
              "ticks": ""
             }
            },
            "marker": {
             "colorbar": {
              "outlinewidth": 0,
              "ticks": ""
             }
            },
            "type": "scatter3d"
           }
          ],
          "scattercarpet": [
           {
            "marker": {
             "colorbar": {
              "outlinewidth": 0,
              "ticks": ""
             }
            },
            "type": "scattercarpet"
           }
          ],
          "scattergeo": [
           {
            "marker": {
             "colorbar": {
              "outlinewidth": 0,
              "ticks": ""
             }
            },
            "type": "scattergeo"
           }
          ],
          "scattergl": [
           {
            "marker": {
             "colorbar": {
              "outlinewidth": 0,
              "ticks": ""
             }
            },
            "type": "scattergl"
           }
          ],
          "scattermapbox": [
           {
            "marker": {
             "colorbar": {
              "outlinewidth": 0,
              "ticks": ""
             }
            },
            "type": "scattermapbox"
           }
          ],
          "scatterpolar": [
           {
            "marker": {
             "colorbar": {
              "outlinewidth": 0,
              "ticks": ""
             }
            },
            "type": "scatterpolar"
           }
          ],
          "scatterpolargl": [
           {
            "marker": {
             "colorbar": {
              "outlinewidth": 0,
              "ticks": ""
             }
            },
            "type": "scatterpolargl"
           }
          ],
          "scatterternary": [
           {
            "marker": {
             "colorbar": {
              "outlinewidth": 0,
              "ticks": ""
             }
            },
            "type": "scatterternary"
           }
          ],
          "surface": [
           {
            "colorbar": {
             "outlinewidth": 0,
             "ticks": ""
            },
            "colorscale": [
             [
              0,
              "#0d0887"
             ],
             [
              0.1111111111111111,
              "#46039f"
             ],
             [
              0.2222222222222222,
              "#7201a8"
             ],
             [
              0.3333333333333333,
              "#9c179e"
             ],
             [
              0.4444444444444444,
              "#bd3786"
             ],
             [
              0.5555555555555556,
              "#d8576b"
             ],
             [
              0.6666666666666666,
              "#ed7953"
             ],
             [
              0.7777777777777778,
              "#fb9f3a"
             ],
             [
              0.8888888888888888,
              "#fdca26"
             ],
             [
              1,
              "#f0f921"
             ]
            ],
            "type": "surface"
           }
          ],
          "table": [
           {
            "cells": {
             "fill": {
              "color": "#EBF0F8"
             },
             "line": {
              "color": "white"
             }
            },
            "header": {
             "fill": {
              "color": "#C8D4E3"
             },
             "line": {
              "color": "white"
             }
            },
            "type": "table"
           }
          ]
         },
         "layout": {
          "annotationdefaults": {
           "arrowcolor": "#2a3f5f",
           "arrowhead": 0,
           "arrowwidth": 1
          },
          "coloraxis": {
           "colorbar": {
            "outlinewidth": 0,
            "ticks": ""
           }
          },
          "colorscale": {
           "diverging": [
            [
             0,
             "#8e0152"
            ],
            [
             0.1,
             "#c51b7d"
            ],
            [
             0.2,
             "#de77ae"
            ],
            [
             0.3,
             "#f1b6da"
            ],
            [
             0.4,
             "#fde0ef"
            ],
            [
             0.5,
             "#f7f7f7"
            ],
            [
             0.6,
             "#e6f5d0"
            ],
            [
             0.7,
             "#b8e186"
            ],
            [
             0.8,
             "#7fbc41"
            ],
            [
             0.9,
             "#4d9221"
            ],
            [
             1,
             "#276419"
            ]
           ],
           "sequential": [
            [
             0,
             "#0d0887"
            ],
            [
             0.1111111111111111,
             "#46039f"
            ],
            [
             0.2222222222222222,
             "#7201a8"
            ],
            [
             0.3333333333333333,
             "#9c179e"
            ],
            [
             0.4444444444444444,
             "#bd3786"
            ],
            [
             0.5555555555555556,
             "#d8576b"
            ],
            [
             0.6666666666666666,
             "#ed7953"
            ],
            [
             0.7777777777777778,
             "#fb9f3a"
            ],
            [
             0.8888888888888888,
             "#fdca26"
            ],
            [
             1,
             "#f0f921"
            ]
           ],
           "sequentialminus": [
            [
             0,
             "#0d0887"
            ],
            [
             0.1111111111111111,
             "#46039f"
            ],
            [
             0.2222222222222222,
             "#7201a8"
            ],
            [
             0.3333333333333333,
             "#9c179e"
            ],
            [
             0.4444444444444444,
             "#bd3786"
            ],
            [
             0.5555555555555556,
             "#d8576b"
            ],
            [
             0.6666666666666666,
             "#ed7953"
            ],
            [
             0.7777777777777778,
             "#fb9f3a"
            ],
            [
             0.8888888888888888,
             "#fdca26"
            ],
            [
             1,
             "#f0f921"
            ]
           ]
          },
          "colorway": [
           "#636efa",
           "#EF553B",
           "#00cc96",
           "#ab63fa",
           "#FFA15A",
           "#19d3f3",
           "#FF6692",
           "#B6E880",
           "#FF97FF",
           "#FECB52"
          ],
          "font": {
           "color": "#2a3f5f"
          },
          "geo": {
           "bgcolor": "white",
           "lakecolor": "white",
           "landcolor": "#E5ECF6",
           "showlakes": true,
           "showland": true,
           "subunitcolor": "white"
          },
          "hoverlabel": {
           "align": "left"
          },
          "hovermode": "closest",
          "mapbox": {
           "style": "light"
          },
          "paper_bgcolor": "white",
          "plot_bgcolor": "#E5ECF6",
          "polar": {
           "angularaxis": {
            "gridcolor": "white",
            "linecolor": "white",
            "ticks": ""
           },
           "bgcolor": "#E5ECF6",
           "radialaxis": {
            "gridcolor": "white",
            "linecolor": "white",
            "ticks": ""
           }
          },
          "scene": {
           "xaxis": {
            "backgroundcolor": "#E5ECF6",
            "gridcolor": "white",
            "gridwidth": 2,
            "linecolor": "white",
            "showbackground": true,
            "ticks": "",
            "zerolinecolor": "white"
           },
           "yaxis": {
            "backgroundcolor": "#E5ECF6",
            "gridcolor": "white",
            "gridwidth": 2,
            "linecolor": "white",
            "showbackground": true,
            "ticks": "",
            "zerolinecolor": "white"
           },
           "zaxis": {
            "backgroundcolor": "#E5ECF6",
            "gridcolor": "white",
            "gridwidth": 2,
            "linecolor": "white",
            "showbackground": true,
            "ticks": "",
            "zerolinecolor": "white"
           }
          },
          "shapedefaults": {
           "line": {
            "color": "#2a3f5f"
           }
          },
          "ternary": {
           "aaxis": {
            "gridcolor": "white",
            "linecolor": "white",
            "ticks": ""
           },
           "baxis": {
            "gridcolor": "white",
            "linecolor": "white",
            "ticks": ""
           },
           "bgcolor": "#E5ECF6",
           "caxis": {
            "gridcolor": "white",
            "linecolor": "white",
            "ticks": ""
           }
          },
          "title": {
           "x": 0.05
          },
          "xaxis": {
           "automargin": true,
           "gridcolor": "white",
           "linecolor": "white",
           "ticks": "",
           "title": {
            "standoff": 15
           },
           "zerolinecolor": "white",
           "zerolinewidth": 2
          },
          "yaxis": {
           "automargin": true,
           "gridcolor": "white",
           "linecolor": "white",
           "ticks": "",
           "title": {
            "standoff": 15
           },
           "zerolinecolor": "white",
           "zerolinewidth": 2
          }
         }
        },
        "title": {
         "text": "Día Martes"
        },
        "xaxis": {
         "rangeselector": {
          "buttons": [
           {
            "count": 7,
            "label": "1w",
            "step": "day",
            "stepmode": "backward"
           },
           {
            "count": 1,
            "label": "1m",
            "step": "month",
            "stepmode": "backward"
           },
           {
            "count": 6,
            "label": "6m",
            "step": "month",
            "stepmode": "backward"
           },
           {
            "count": 1,
            "label": "YTD",
            "step": "year",
            "stepmode": "todate"
           },
           {
            "count": 1,
            "label": "1y",
            "step": "year",
            "stepmode": "backward"
           },
           {
            "step": "all"
           }
          ]
         },
         "showgrid": true,
         "type": "date",
         "zeroline": false
        },
        "yaxis": {
         "autorange": false,
         "range": [
          -1,
          11
         ],
         "showgrid": true,
         "ticktext": [
          "UCA 1",
          "Pabellón 1",
          "Pabellón 8",
          "Pabellón 5",
          "Pabellón 2",
          "UCA 3",
          "Pabellón 3",
          "UCA 2",
          "Pabellón 7",
          "Pabellón 4"
         ],
         "tickvals": [
          0,
          1,
          2,
          3,
          4,
          5,
          6,
          7,
          8,
          9
         ],
         "zeroline": false
        }
       }
      },
      "text/html": [
       "<div>\n",
       "        \n",
       "        \n",
       "            <div id=\"b1830a24-c07f-46d5-bc08-c8a7a0f5d4c7\" class=\"plotly-graph-div\" style=\"height:600px; width:100%;\"></div>\n",
       "            <script type=\"text/javascript\">\n",
       "                require([\"plotly\"], function(Plotly) {\n",
       "                    window.PLOTLYENV=window.PLOTLYENV || {};\n",
       "                    \n",
       "                if (document.getElementById(\"b1830a24-c07f-46d5-bc08-c8a7a0f5d4c7\")) {\n",
       "                    Plotly.newPlot(\n",
       "                        'b1830a24-c07f-46d5-bc08-c8a7a0f5d4c7',\n",
       "                        [{\"fill\": \"toself\", \"fillcolor\": \"rgb(102, 14, 220)\", \"hoverinfo\": \"name\", \"legendgroup\": \"rgb(102, 14, 220)\", \"mode\": \"none\", \"name\": \"CPQ VSC\", \"type\": \"scatter\", \"x\": [\"2020-01-01T14:00:00\", \"2020-01-01T21:00:00\", \"2020-01-01T21:00:00\", \"2020-01-01T14:00:00\", \"2020-01-01T14:00:00\", \"2020-01-01T14:00:00\", \"2020-01-01T21:00:00\", \"2020-01-01T21:00:00\", \"2020-01-01T14:00:00\"], \"y\": [8.8, 8.8, 9.2, 9.2, null, 6.8, 6.8, 7.2, 7.2]}, {\"fill\": \"toself\", \"fillcolor\": \"rgb(14, 122, 220)\", \"hoverinfo\": \"name\", \"legendgroup\": \"rgb(14, 122, 220)\", \"mode\": \"none\", \"name\": \"CPQ Ley\", \"type\": \"scatter\", \"x\": [\"2020-01-01T08:00:00\", \"2020-01-01T13:00:00\", \"2020-01-01T13:00:00\", \"2020-01-01T08:00:00\", \"2020-01-01T08:00:00\", \"2020-01-01T08:00:00\", \"2020-01-01T13:00:00\", \"2020-01-01T13:00:00\", \"2020-01-01T08:00:00\"], \"y\": [5.8, 5.8, 6.2, 6.2, null, 4.8, 4.8, 5.2, 5.2]}, {\"fill\": \"toself\", \"fillcolor\": \"rgb(153, 213, 0)\", \"hoverinfo\": \"name\", \"legendgroup\": \"rgb(153, 213, 0)\", \"mode\": \"none\", \"name\": \"Maxilo Ley\", \"type\": \"scatter\", \"x\": [\"2020-01-01T08:00:00\", \"2020-01-01T16:00:00\", \"2020-01-01T16:00:00\", \"2020-01-01T08:00:00\", \"2020-01-01T08:00:00\", \"2020-01-01T08:00:00\", \"2020-01-01T16:00:00\", \"2020-01-01T16:00:00\", \"2020-01-01T08:00:00\"], \"y\": [0.8, 0.8, 1.2, 1.2, null, -0.2, -0.2, 0.2, 0.2]}, {\"fill\": \"toself\", \"fillcolor\": \"rgb(199, 171, 235)\", \"hoverinfo\": \"name\", \"legendgroup\": \"rgb(199, 171, 235)\", \"mode\": \"none\", \"name\": \"TyP Ley\", \"type\": \"scatter\", \"x\": [\"2020-01-01T08:00:00\", \"2020-01-01T16:00:00\", \"2020-01-01T16:00:00\", \"2020-01-01T08:00:00\", \"2020-01-01T08:00:00\", \"2020-01-01T08:00:00\", \"2020-01-01T16:00:00\", \"2020-01-01T16:00:00\", \"2020-01-01T08:00:00\", \"2020-01-01T08:00:00\", \"2020-01-01T08:00:00\", \"2020-01-01T16:00:00\", \"2020-01-01T16:00:00\", \"2020-01-01T08:00:00\"], \"y\": [3.8, 3.8, 4.2, 4.2, null, 2.8, 2.8, 3.2, 3.2, null, 1.8, 1.8, 2.2, 2.2]}, {\"fill\": \"toself\", \"fillcolor\": \"rgb(250, 212, 47)\", \"hoverinfo\": \"name\", \"legendgroup\": \"rgb(250, 212, 47)\", \"mode\": \"none\", \"name\": \"Columna VSC\", \"type\": \"scatter\", \"x\": [\"2020-01-01T13:00:00\", \"2020-01-01T21:00:00\", \"2020-01-01T21:00:00\", \"2020-01-01T13:00:00\"], \"y\": [5.8, 5.8, 6.2, 6.2]}, {\"fill\": \"toself\", \"fillcolor\": \"rgb(55, 0, 0)\", \"hoverinfo\": \"name\", \"legendgroup\": \"rgb(55, 0, 0)\", \"mode\": \"none\", \"name\": \"Roa VSC\", \"type\": \"scatter\", \"x\": [\"2020-01-01T13:00:00\", \"2020-01-01T21:00:00\", \"2020-01-01T21:00:00\", \"2020-01-01T13:00:00\"], \"y\": [4.8, 4.8, 5.2, 5.2]}, {\"fill\": \"toself\", \"fillcolor\": \"rgb(93, 205, 187)\", \"hoverinfo\": \"name\", \"legendgroup\": \"rgb(93, 205, 187)\", \"mode\": \"none\", \"name\": \"Rodilla Ley\", \"type\": \"scatter\", \"x\": [\"2020-01-01T08:00:00\", \"2020-01-01T14:00:00\", \"2020-01-01T14:00:00\", \"2020-01-01T08:00:00\", \"2020-01-01T08:00:00\", \"2020-01-01T08:00:00\", \"2020-01-01T14:00:00\", \"2020-01-01T14:00:00\", \"2020-01-01T08:00:00\", \"2020-01-01T08:00:00\", \"2020-01-01T08:00:00\", \"2020-01-01T14:00:00\", \"2020-01-01T14:00:00\", \"2020-01-01T08:00:00\"], \"y\": [8.8, 8.8, 9.2, 9.2, null, 7.8, 7.8, 8.2, 8.2, null, 6.8, 6.8, 7.2, 7.2]}, {\"legendgroup\": \"rgb(102, 14, 220)\", \"marker\": {\"color\": \"rgb(102, 14, 220)\", \"opacity\": 0, \"size\": 1}, \"mode\": \"markers\", \"name\": \"\", \"showlegend\": false, \"text\": [null, null, null, null], \"type\": \"scatter\", \"x\": [\"2020-01-01T14:00:00\", \"2020-01-01T21:00:00\", \"2020-01-01T14:00:00\", \"2020-01-01T21:00:00\"], \"y\": [9, 9, 7, 7]}, {\"legendgroup\": \"rgb(14, 122, 220)\", \"marker\": {\"color\": \"rgb(14, 122, 220)\", \"opacity\": 0, \"size\": 1}, \"mode\": \"markers\", \"name\": \"\", \"showlegend\": false, \"text\": [null, null, null, null], \"type\": \"scatter\", \"x\": [\"2020-01-01T08:00:00\", \"2020-01-01T13:00:00\", \"2020-01-01T08:00:00\", \"2020-01-01T13:00:00\"], \"y\": [6, 6, 5, 5]}, {\"legendgroup\": \"rgb(153, 213, 0)\", \"marker\": {\"color\": \"rgb(153, 213, 0)\", \"opacity\": 0, \"size\": 1}, \"mode\": \"markers\", \"name\": \"\", \"showlegend\": false, \"text\": [null, null, null, null], \"type\": \"scatter\", \"x\": [\"2020-01-01T08:00:00\", \"2020-01-01T16:00:00\", \"2020-01-01T08:00:00\", \"2020-01-01T16:00:00\"], \"y\": [1, 1, 0, 0]}, {\"legendgroup\": \"rgb(199, 171, 235)\", \"marker\": {\"color\": \"rgb(199, 171, 235)\", \"opacity\": 0, \"size\": 1}, \"mode\": \"markers\", \"name\": \"\", \"showlegend\": false, \"text\": [null, null, null, null, null, null], \"type\": \"scatter\", \"x\": [\"2020-01-01T08:00:00\", \"2020-01-01T16:00:00\", \"2020-01-01T08:00:00\", \"2020-01-01T16:00:00\", \"2020-01-01T08:00:00\", \"2020-01-01T16:00:00\"], \"y\": [4, 4, 3, 3, 2, 2]}, {\"legendgroup\": \"rgb(250, 212, 47)\", \"marker\": {\"color\": \"rgb(250, 212, 47)\", \"opacity\": 0, \"size\": 1}, \"mode\": \"markers\", \"name\": \"\", \"showlegend\": false, \"text\": [null, null], \"type\": \"scatter\", \"x\": [\"2020-01-01T13:00:00\", \"2020-01-01T21:00:00\"], \"y\": [6, 6]}, {\"legendgroup\": \"rgb(55, 0, 0)\", \"marker\": {\"color\": \"rgb(55, 0, 0)\", \"opacity\": 0, \"size\": 1}, \"mode\": \"markers\", \"name\": \"\", \"showlegend\": false, \"text\": [null, null], \"type\": \"scatter\", \"x\": [\"2020-01-01T13:00:00\", \"2020-01-01T21:00:00\"], \"y\": [5, 5]}, {\"legendgroup\": \"rgb(93, 205, 187)\", \"marker\": {\"color\": \"rgb(93, 205, 187)\", \"opacity\": 0, \"size\": 1}, \"mode\": \"markers\", \"name\": \"\", \"showlegend\": false, \"text\": [null, null, null, null, null, null], \"type\": \"scatter\", \"x\": [\"2020-01-01T08:00:00\", \"2020-01-01T14:00:00\", \"2020-01-01T08:00:00\", \"2020-01-01T14:00:00\", \"2020-01-01T08:00:00\", \"2020-01-01T14:00:00\"], \"y\": [9, 9, 8, 8, 7, 7]}],\n",
       "                        {\"height\": 600, \"hovermode\": \"closest\", \"showlegend\": true, \"template\": {\"data\": {\"bar\": [{\"error_x\": {\"color\": \"#2a3f5f\"}, \"error_y\": {\"color\": \"#2a3f5f\"}, \"marker\": {\"line\": {\"color\": \"#E5ECF6\", \"width\": 0.5}}, \"type\": \"bar\"}], \"barpolar\": [{\"marker\": {\"line\": {\"color\": \"#E5ECF6\", \"width\": 0.5}}, \"type\": \"barpolar\"}], \"carpet\": [{\"aaxis\": {\"endlinecolor\": \"#2a3f5f\", \"gridcolor\": \"white\", \"linecolor\": \"white\", \"minorgridcolor\": \"white\", \"startlinecolor\": \"#2a3f5f\"}, \"baxis\": {\"endlinecolor\": \"#2a3f5f\", \"gridcolor\": \"white\", \"linecolor\": \"white\", \"minorgridcolor\": \"white\", \"startlinecolor\": \"#2a3f5f\"}, \"type\": \"carpet\"}], \"choropleth\": [{\"colorbar\": {\"outlinewidth\": 0, \"ticks\": \"\"}, \"type\": \"choropleth\"}], \"contour\": [{\"colorbar\": {\"outlinewidth\": 0, \"ticks\": \"\"}, \"colorscale\": [[0.0, \"#0d0887\"], [0.1111111111111111, \"#46039f\"], [0.2222222222222222, \"#7201a8\"], [0.3333333333333333, \"#9c179e\"], [0.4444444444444444, \"#bd3786\"], [0.5555555555555556, \"#d8576b\"], [0.6666666666666666, \"#ed7953\"], [0.7777777777777778, \"#fb9f3a\"], [0.8888888888888888, \"#fdca26\"], [1.0, \"#f0f921\"]], \"type\": \"contour\"}], \"contourcarpet\": [{\"colorbar\": {\"outlinewidth\": 0, \"ticks\": \"\"}, \"type\": \"contourcarpet\"}], \"heatmap\": [{\"colorbar\": {\"outlinewidth\": 0, \"ticks\": \"\"}, \"colorscale\": [[0.0, \"#0d0887\"], [0.1111111111111111, \"#46039f\"], [0.2222222222222222, \"#7201a8\"], [0.3333333333333333, \"#9c179e\"], [0.4444444444444444, \"#bd3786\"], [0.5555555555555556, \"#d8576b\"], [0.6666666666666666, \"#ed7953\"], [0.7777777777777778, \"#fb9f3a\"], [0.8888888888888888, \"#fdca26\"], [1.0, \"#f0f921\"]], \"type\": \"heatmap\"}], \"heatmapgl\": [{\"colorbar\": {\"outlinewidth\": 0, \"ticks\": \"\"}, \"colorscale\": [[0.0, \"#0d0887\"], [0.1111111111111111, \"#46039f\"], [0.2222222222222222, \"#7201a8\"], [0.3333333333333333, \"#9c179e\"], [0.4444444444444444, \"#bd3786\"], [0.5555555555555556, \"#d8576b\"], [0.6666666666666666, \"#ed7953\"], [0.7777777777777778, \"#fb9f3a\"], [0.8888888888888888, \"#fdca26\"], [1.0, \"#f0f921\"]], \"type\": \"heatmapgl\"}], \"histogram\": [{\"marker\": {\"colorbar\": {\"outlinewidth\": 0, \"ticks\": \"\"}}, \"type\": \"histogram\"}], \"histogram2d\": [{\"colorbar\": {\"outlinewidth\": 0, \"ticks\": \"\"}, \"colorscale\": [[0.0, \"#0d0887\"], [0.1111111111111111, \"#46039f\"], [0.2222222222222222, \"#7201a8\"], [0.3333333333333333, \"#9c179e\"], [0.4444444444444444, \"#bd3786\"], [0.5555555555555556, \"#d8576b\"], [0.6666666666666666, \"#ed7953\"], [0.7777777777777778, \"#fb9f3a\"], [0.8888888888888888, \"#fdca26\"], [1.0, \"#f0f921\"]], \"type\": \"histogram2d\"}], \"histogram2dcontour\": [{\"colorbar\": {\"outlinewidth\": 0, \"ticks\": \"\"}, \"colorscale\": [[0.0, \"#0d0887\"], [0.1111111111111111, \"#46039f\"], [0.2222222222222222, \"#7201a8\"], [0.3333333333333333, \"#9c179e\"], [0.4444444444444444, \"#bd3786\"], [0.5555555555555556, \"#d8576b\"], [0.6666666666666666, \"#ed7953\"], [0.7777777777777778, \"#fb9f3a\"], [0.8888888888888888, \"#fdca26\"], [1.0, \"#f0f921\"]], \"type\": \"histogram2dcontour\"}], \"mesh3d\": [{\"colorbar\": {\"outlinewidth\": 0, \"ticks\": \"\"}, \"type\": \"mesh3d\"}], \"parcoords\": [{\"line\": {\"colorbar\": {\"outlinewidth\": 0, \"ticks\": \"\"}}, \"type\": \"parcoords\"}], \"pie\": [{\"automargin\": true, \"type\": \"pie\"}], \"scatter\": [{\"marker\": {\"colorbar\": {\"outlinewidth\": 0, \"ticks\": \"\"}}, \"type\": \"scatter\"}], \"scatter3d\": [{\"line\": {\"colorbar\": {\"outlinewidth\": 0, \"ticks\": \"\"}}, \"marker\": {\"colorbar\": {\"outlinewidth\": 0, \"ticks\": \"\"}}, \"type\": \"scatter3d\"}], \"scattercarpet\": [{\"marker\": {\"colorbar\": {\"outlinewidth\": 0, \"ticks\": \"\"}}, \"type\": \"scattercarpet\"}], \"scattergeo\": [{\"marker\": {\"colorbar\": {\"outlinewidth\": 0, \"ticks\": \"\"}}, \"type\": \"scattergeo\"}], \"scattergl\": [{\"marker\": {\"colorbar\": {\"outlinewidth\": 0, \"ticks\": \"\"}}, \"type\": \"scattergl\"}], \"scattermapbox\": [{\"marker\": {\"colorbar\": {\"outlinewidth\": 0, \"ticks\": \"\"}}, \"type\": \"scattermapbox\"}], \"scatterpolar\": [{\"marker\": {\"colorbar\": {\"outlinewidth\": 0, \"ticks\": \"\"}}, \"type\": \"scatterpolar\"}], \"scatterpolargl\": [{\"marker\": {\"colorbar\": {\"outlinewidth\": 0, \"ticks\": \"\"}}, \"type\": \"scatterpolargl\"}], \"scatterternary\": [{\"marker\": {\"colorbar\": {\"outlinewidth\": 0, \"ticks\": \"\"}}, \"type\": \"scatterternary\"}], \"surface\": [{\"colorbar\": {\"outlinewidth\": 0, \"ticks\": \"\"}, \"colorscale\": [[0.0, \"#0d0887\"], [0.1111111111111111, \"#46039f\"], [0.2222222222222222, \"#7201a8\"], [0.3333333333333333, \"#9c179e\"], [0.4444444444444444, \"#bd3786\"], [0.5555555555555556, \"#d8576b\"], [0.6666666666666666, \"#ed7953\"], [0.7777777777777778, \"#fb9f3a\"], [0.8888888888888888, \"#fdca26\"], [1.0, \"#f0f921\"]], \"type\": \"surface\"}], \"table\": [{\"cells\": {\"fill\": {\"color\": \"#EBF0F8\"}, \"line\": {\"color\": \"white\"}}, \"header\": {\"fill\": {\"color\": \"#C8D4E3\"}, \"line\": {\"color\": \"white\"}}, \"type\": \"table\"}]}, \"layout\": {\"annotationdefaults\": {\"arrowcolor\": \"#2a3f5f\", \"arrowhead\": 0, \"arrowwidth\": 1}, \"coloraxis\": {\"colorbar\": {\"outlinewidth\": 0, \"ticks\": \"\"}}, \"colorscale\": {\"diverging\": [[0, \"#8e0152\"], [0.1, \"#c51b7d\"], [0.2, \"#de77ae\"], [0.3, \"#f1b6da\"], [0.4, \"#fde0ef\"], [0.5, \"#f7f7f7\"], [0.6, \"#e6f5d0\"], [0.7, \"#b8e186\"], [0.8, \"#7fbc41\"], [0.9, \"#4d9221\"], [1, \"#276419\"]], \"sequential\": [[0.0, \"#0d0887\"], [0.1111111111111111, \"#46039f\"], [0.2222222222222222, \"#7201a8\"], [0.3333333333333333, \"#9c179e\"], [0.4444444444444444, \"#bd3786\"], [0.5555555555555556, \"#d8576b\"], [0.6666666666666666, \"#ed7953\"], [0.7777777777777778, \"#fb9f3a\"], [0.8888888888888888, \"#fdca26\"], [1.0, \"#f0f921\"]], \"sequentialminus\": [[0.0, \"#0d0887\"], [0.1111111111111111, \"#46039f\"], [0.2222222222222222, \"#7201a8\"], [0.3333333333333333, \"#9c179e\"], [0.4444444444444444, \"#bd3786\"], [0.5555555555555556, \"#d8576b\"], [0.6666666666666666, \"#ed7953\"], [0.7777777777777778, \"#fb9f3a\"], [0.8888888888888888, \"#fdca26\"], [1.0, \"#f0f921\"]]}, \"colorway\": [\"#636efa\", \"#EF553B\", \"#00cc96\", \"#ab63fa\", \"#FFA15A\", \"#19d3f3\", \"#FF6692\", \"#B6E880\", \"#FF97FF\", \"#FECB52\"], \"font\": {\"color\": \"#2a3f5f\"}, \"geo\": {\"bgcolor\": \"white\", \"lakecolor\": \"white\", \"landcolor\": \"#E5ECF6\", \"showlakes\": true, \"showland\": true, \"subunitcolor\": \"white\"}, \"hoverlabel\": {\"align\": \"left\"}, \"hovermode\": \"closest\", \"mapbox\": {\"style\": \"light\"}, \"paper_bgcolor\": \"white\", \"plot_bgcolor\": \"#E5ECF6\", \"polar\": {\"angularaxis\": {\"gridcolor\": \"white\", \"linecolor\": \"white\", \"ticks\": \"\"}, \"bgcolor\": \"#E5ECF6\", \"radialaxis\": {\"gridcolor\": \"white\", \"linecolor\": \"white\", \"ticks\": \"\"}}, \"scene\": {\"xaxis\": {\"backgroundcolor\": \"#E5ECF6\", \"gridcolor\": \"white\", \"gridwidth\": 2, \"linecolor\": \"white\", \"showbackground\": true, \"ticks\": \"\", \"zerolinecolor\": \"white\"}, \"yaxis\": {\"backgroundcolor\": \"#E5ECF6\", \"gridcolor\": \"white\", \"gridwidth\": 2, \"linecolor\": \"white\", \"showbackground\": true, \"ticks\": \"\", \"zerolinecolor\": \"white\"}, \"zaxis\": {\"backgroundcolor\": \"#E5ECF6\", \"gridcolor\": \"white\", \"gridwidth\": 2, \"linecolor\": \"white\", \"showbackground\": true, \"ticks\": \"\", \"zerolinecolor\": \"white\"}}, \"shapedefaults\": {\"line\": {\"color\": \"#2a3f5f\"}}, \"ternary\": {\"aaxis\": {\"gridcolor\": \"white\", \"linecolor\": \"white\", \"ticks\": \"\"}, \"baxis\": {\"gridcolor\": \"white\", \"linecolor\": \"white\", \"ticks\": \"\"}, \"bgcolor\": \"#E5ECF6\", \"caxis\": {\"gridcolor\": \"white\", \"linecolor\": \"white\", \"ticks\": \"\"}}, \"title\": {\"x\": 0.05}, \"xaxis\": {\"automargin\": true, \"gridcolor\": \"white\", \"linecolor\": \"white\", \"ticks\": \"\", \"title\": {\"standoff\": 15}, \"zerolinecolor\": \"white\", \"zerolinewidth\": 2}, \"yaxis\": {\"automargin\": true, \"gridcolor\": \"white\", \"linecolor\": \"white\", \"ticks\": \"\", \"title\": {\"standoff\": 15}, \"zerolinecolor\": \"white\", \"zerolinewidth\": 2}}}, \"title\": {\"text\": \"D\\u00eda Martes\"}, \"xaxis\": {\"rangeselector\": {\"buttons\": [{\"count\": 7, \"label\": \"1w\", \"step\": \"day\", \"stepmode\": \"backward\"}, {\"count\": 1, \"label\": \"1m\", \"step\": \"month\", \"stepmode\": \"backward\"}, {\"count\": 6, \"label\": \"6m\", \"step\": \"month\", \"stepmode\": \"backward\"}, {\"count\": 1, \"label\": \"YTD\", \"step\": \"year\", \"stepmode\": \"todate\"}, {\"count\": 1, \"label\": \"1y\", \"step\": \"year\", \"stepmode\": \"backward\"}, {\"step\": \"all\"}]}, \"showgrid\": true, \"type\": \"date\", \"zeroline\": false}, \"yaxis\": {\"autorange\": false, \"range\": [-1, 11], \"showgrid\": true, \"ticktext\": [\"UCA 1\", \"Pabell\\u00f3n 1\", \"Pabell\\u00f3n 8\", \"Pabell\\u00f3n 5\", \"Pabell\\u00f3n 2\", \"UCA 3\", \"Pabell\\u00f3n 3\", \"UCA 2\", \"Pabell\\u00f3n 7\", \"Pabell\\u00f3n 4\"], \"tickvals\": [0, 1, 2, 3, 4, 5, 6, 7, 8, 9], \"zeroline\": false}},\n",
       "                        {\"responsive\": true}\n",
       "                    ).then(function(){\n",
       "                            \n",
       "var gd = document.getElementById('b1830a24-c07f-46d5-bc08-c8a7a0f5d4c7');\n",
       "var x = new MutationObserver(function (mutations, observer) {{\n",
       "        var display = window.getComputedStyle(gd).display;\n",
       "        if (!display || display === 'none') {{\n",
       "            console.log([gd, 'removed!']);\n",
       "            Plotly.purge(gd);\n",
       "            observer.disconnect();\n",
       "        }}\n",
       "}});\n",
       "\n",
       "// Listen for the removal of the full notebook cells\n",
       "var notebookContainer = gd.closest('#notebook-container');\n",
       "if (notebookContainer) {{\n",
       "    x.observe(notebookContainer, {childList: true});\n",
       "}}\n",
       "\n",
       "// Listen for the clearing of the current output cell\n",
       "var outputEl = gd.closest('.output');\n",
       "if (outputEl) {{\n",
       "    x.observe(outputEl, {childList: true});\n",
       "}}\n",
       "\n",
       "                        })\n",
       "                };\n",
       "                });\n",
       "            </script>\n",
       "        </div>"
      ]
     },
     "metadata": {},
     "output_type": "display_data"
    }
   ],
   "source": [
    "fig_1 = ff.create_gantt(df1, colors=colors, index_col='Resource', show_colorbar=True, title='Día Martes',showgrid_x=True, showgrid_y=True,\n",
    "                      group_tasks=True)\n",
    "fig_1.show()\n",
    "\n"
   ]
  },
  {
   "cell_type": "code",
   "execution_count": 35,
   "metadata": {},
   "outputs": [
    {
     "data": {
      "application/vnd.plotly.v1+json": {
       "config": {
        "plotlyServerURL": "https://plot.ly"
       },
       "data": [
        {
         "fill": "toself",
         "fillcolor": "rgb(110, 0, 110)",
         "hoverinfo": "name",
         "legendgroup": "rgb(110, 0, 110)",
         "mode": "none",
         "name": "Hombro Ley",
         "type": "scatter",
         "x": [
          "2020-01-01T08:00:00",
          "2020-01-01T16:00:00",
          "2020-01-01T16:00:00",
          "2020-01-01T08:00:00",
          "2020-01-01T08:00:00",
          "2020-01-01T08:00:00",
          "2020-01-01T16:00:00",
          "2020-01-01T16:00:00",
          "2020-01-01T08:00:00"
         ],
         "y": [
          2.8,
          2.8,
          3.2,
          3.2,
          null,
          1.8,
          1.8,
          2.2,
          2.2
         ]
        },
        {
         "fill": "toself",
         "fillcolor": "rgb(14, 122, 220)",
         "hoverinfo": "name",
         "legendgroup": "rgb(14, 122, 220)",
         "mode": "none",
         "name": "CPQ Ley",
         "type": "scatter",
         "x": [
          "2020-01-01T08:00:00",
          "2020-01-01T13:00:00",
          "2020-01-01T13:00:00",
          "2020-01-01T08:00:00",
          "2020-01-01T08:00:00",
          "2020-01-01T08:00:00",
          "2020-01-01T13:30:00",
          "2020-01-01T13:30:00",
          "2020-01-01T08:00:00"
         ],
         "y": [
          4.8,
          4.8,
          5.2,
          5.2,
          null,
          3.8,
          3.8,
          4.2,
          4.2
         ]
        },
        {
         "fill": "toself",
         "fillcolor": "rgb(220, 175, 0)",
         "hoverinfo": "name",
         "legendgroup": "rgb(220, 175, 0)",
         "mode": "none",
         "name": "Cadera Ley",
         "type": "scatter",
         "x": [
          "2020-01-01T08:00:00",
          "2020-01-01T13:00:00",
          "2020-01-01T13:00:00",
          "2020-01-01T08:00:00",
          "2020-01-01T08:00:00",
          "2020-01-01T08:00:00",
          "2020-01-01T16:00:00",
          "2020-01-01T16:00:00",
          "2020-01-01T08:00:00"
         ],
         "y": [
          0.8,
          0.8,
          1.2,
          1.2,
          null,
          -0.2,
          -0.2,
          0.2,
          0.2
         ]
        },
        {
         "fill": "toself",
         "fillcolor": "rgb(220, 220, 110)",
         "hoverinfo": "name",
         "legendgroup": "rgb(220, 220, 110)",
         "mode": "none",
         "name": "Cadera VSC",
         "type": "scatter",
         "x": [
          "2020-01-01T13:00:00",
          "2020-01-01T21:00:00",
          "2020-01-01T21:00:00",
          "2020-01-01T13:00:00",
          "2020-01-01T13:00:00",
          "2020-01-01T13:30:00",
          "2020-01-01T21:00:00",
          "2020-01-01T21:00:00",
          "2020-01-01T13:30:00"
         ],
         "y": [
          0.8,
          0.8,
          1.2,
          1.2,
          null,
          3.8,
          3.8,
          4.2,
          4.2
         ]
        },
        {
         "fill": "toself",
         "fillcolor": "rgb(250, 212, 47)",
         "hoverinfo": "name",
         "legendgroup": "rgb(250, 212, 47)",
         "mode": "none",
         "name": "Columna VSC",
         "type": "scatter",
         "x": [
          "2020-01-01T13:00:00",
          "2020-01-01T21:00:00",
          "2020-01-01T21:00:00",
          "2020-01-01T13:00:00"
         ],
         "y": [
          4.8,
          4.8,
          5.2,
          5.2
         ]
        },
        {
         "fill": "toself",
         "fillcolor": "rgb(34, 116, 66)",
         "hoverinfo": "name",
         "legendgroup": "rgb(34, 116, 66)",
         "mode": "none",
         "name": "EESS Ley",
         "type": "scatter",
         "x": [
          "2020-01-01T08:00:00",
          "2020-01-01T16:00:00",
          "2020-01-01T16:00:00",
          "2020-01-01T08:00:00",
          "2020-01-01T08:00:00",
          "2020-01-01T08:00:00",
          "2020-01-01T16:00:00",
          "2020-01-01T16:00:00",
          "2020-01-01T08:00:00",
          "2020-01-01T08:00:00",
          "2020-01-01T08:00:00",
          "2020-01-01T16:00:00",
          "2020-01-01T16:00:00",
          "2020-01-01T08:00:00",
          "2020-01-01T08:00:00",
          "2020-01-01T08:00:00",
          "2020-01-01T16:00:00",
          "2020-01-01T16:00:00",
          "2020-01-01T08:00:00"
         ],
         "y": [
          8.8,
          8.8,
          9.2,
          9.2,
          null,
          7.8,
          7.8,
          8.2,
          8.2,
          null,
          6.8,
          6.8,
          7.2,
          7.2,
          null,
          5.8,
          5.8,
          6.2,
          6.2
         ]
        },
        {
         "legendgroup": "rgb(110, 0, 110)",
         "marker": {
          "color": "rgb(110, 0, 110)",
          "opacity": 0,
          "size": 1
         },
         "mode": "markers",
         "name": "",
         "showlegend": false,
         "text": [
          null,
          null,
          null,
          null
         ],
         "type": "scatter",
         "x": [
          "2020-01-01T08:00:00",
          "2020-01-01T16:00:00",
          "2020-01-01T08:00:00",
          "2020-01-01T16:00:00"
         ],
         "y": [
          3,
          3,
          2,
          2
         ]
        },
        {
         "legendgroup": "rgb(14, 122, 220)",
         "marker": {
          "color": "rgb(14, 122, 220)",
          "opacity": 0,
          "size": 1
         },
         "mode": "markers",
         "name": "",
         "showlegend": false,
         "text": [
          null,
          null,
          null,
          null
         ],
         "type": "scatter",
         "x": [
          "2020-01-01T08:00:00",
          "2020-01-01T13:00:00",
          "2020-01-01T08:00:00",
          "2020-01-01T13:30:00"
         ],
         "y": [
          5,
          5,
          4,
          4
         ]
        },
        {
         "legendgroup": "rgb(220, 175, 0)",
         "marker": {
          "color": "rgb(220, 175, 0)",
          "opacity": 0,
          "size": 1
         },
         "mode": "markers",
         "name": "",
         "showlegend": false,
         "text": [
          null,
          null,
          null,
          null
         ],
         "type": "scatter",
         "x": [
          "2020-01-01T08:00:00",
          "2020-01-01T13:00:00",
          "2020-01-01T08:00:00",
          "2020-01-01T16:00:00"
         ],
         "y": [
          1,
          1,
          0,
          0
         ]
        },
        {
         "legendgroup": "rgb(220, 220, 110)",
         "marker": {
          "color": "rgb(220, 220, 110)",
          "opacity": 0,
          "size": 1
         },
         "mode": "markers",
         "name": "",
         "showlegend": false,
         "text": [
          null,
          null,
          null,
          null
         ],
         "type": "scatter",
         "x": [
          "2020-01-01T13:00:00",
          "2020-01-01T21:00:00",
          "2020-01-01T13:30:00",
          "2020-01-01T21:00:00"
         ],
         "y": [
          1,
          1,
          4,
          4
         ]
        },
        {
         "legendgroup": "rgb(250, 212, 47)",
         "marker": {
          "color": "rgb(250, 212, 47)",
          "opacity": 0,
          "size": 1
         },
         "mode": "markers",
         "name": "",
         "showlegend": false,
         "text": [
          null,
          null
         ],
         "type": "scatter",
         "x": [
          "2020-01-01T13:00:00",
          "2020-01-01T21:00:00"
         ],
         "y": [
          5,
          5
         ]
        },
        {
         "legendgroup": "rgb(34, 116, 66)",
         "marker": {
          "color": "rgb(34, 116, 66)",
          "opacity": 0,
          "size": 1
         },
         "mode": "markers",
         "name": "",
         "showlegend": false,
         "text": [
          null,
          null,
          null,
          null,
          null,
          null,
          null,
          null
         ],
         "type": "scatter",
         "x": [
          "2020-01-01T08:00:00",
          "2020-01-01T16:00:00",
          "2020-01-01T08:00:00",
          "2020-01-01T16:00:00",
          "2020-01-01T08:00:00",
          "2020-01-01T16:00:00",
          "2020-01-01T08:00:00",
          "2020-01-01T16:00:00"
         ],
         "y": [
          9,
          9,
          8,
          8,
          7,
          7,
          6,
          6
         ]
        }
       ],
       "layout": {
        "height": 600,
        "hovermode": "closest",
        "showlegend": true,
        "template": {
         "data": {
          "bar": [
           {
            "error_x": {
             "color": "#2a3f5f"
            },
            "error_y": {
             "color": "#2a3f5f"
            },
            "marker": {
             "line": {
              "color": "#E5ECF6",
              "width": 0.5
             }
            },
            "type": "bar"
           }
          ],
          "barpolar": [
           {
            "marker": {
             "line": {
              "color": "#E5ECF6",
              "width": 0.5
             }
            },
            "type": "barpolar"
           }
          ],
          "carpet": [
           {
            "aaxis": {
             "endlinecolor": "#2a3f5f",
             "gridcolor": "white",
             "linecolor": "white",
             "minorgridcolor": "white",
             "startlinecolor": "#2a3f5f"
            },
            "baxis": {
             "endlinecolor": "#2a3f5f",
             "gridcolor": "white",
             "linecolor": "white",
             "minorgridcolor": "white",
             "startlinecolor": "#2a3f5f"
            },
            "type": "carpet"
           }
          ],
          "choropleth": [
           {
            "colorbar": {
             "outlinewidth": 0,
             "ticks": ""
            },
            "type": "choropleth"
           }
          ],
          "contour": [
           {
            "colorbar": {
             "outlinewidth": 0,
             "ticks": ""
            },
            "colorscale": [
             [
              0,
              "#0d0887"
             ],
             [
              0.1111111111111111,
              "#46039f"
             ],
             [
              0.2222222222222222,
              "#7201a8"
             ],
             [
              0.3333333333333333,
              "#9c179e"
             ],
             [
              0.4444444444444444,
              "#bd3786"
             ],
             [
              0.5555555555555556,
              "#d8576b"
             ],
             [
              0.6666666666666666,
              "#ed7953"
             ],
             [
              0.7777777777777778,
              "#fb9f3a"
             ],
             [
              0.8888888888888888,
              "#fdca26"
             ],
             [
              1,
              "#f0f921"
             ]
            ],
            "type": "contour"
           }
          ],
          "contourcarpet": [
           {
            "colorbar": {
             "outlinewidth": 0,
             "ticks": ""
            },
            "type": "contourcarpet"
           }
          ],
          "heatmap": [
           {
            "colorbar": {
             "outlinewidth": 0,
             "ticks": ""
            },
            "colorscale": [
             [
              0,
              "#0d0887"
             ],
             [
              0.1111111111111111,
              "#46039f"
             ],
             [
              0.2222222222222222,
              "#7201a8"
             ],
             [
              0.3333333333333333,
              "#9c179e"
             ],
             [
              0.4444444444444444,
              "#bd3786"
             ],
             [
              0.5555555555555556,
              "#d8576b"
             ],
             [
              0.6666666666666666,
              "#ed7953"
             ],
             [
              0.7777777777777778,
              "#fb9f3a"
             ],
             [
              0.8888888888888888,
              "#fdca26"
             ],
             [
              1,
              "#f0f921"
             ]
            ],
            "type": "heatmap"
           }
          ],
          "heatmapgl": [
           {
            "colorbar": {
             "outlinewidth": 0,
             "ticks": ""
            },
            "colorscale": [
             [
              0,
              "#0d0887"
             ],
             [
              0.1111111111111111,
              "#46039f"
             ],
             [
              0.2222222222222222,
              "#7201a8"
             ],
             [
              0.3333333333333333,
              "#9c179e"
             ],
             [
              0.4444444444444444,
              "#bd3786"
             ],
             [
              0.5555555555555556,
              "#d8576b"
             ],
             [
              0.6666666666666666,
              "#ed7953"
             ],
             [
              0.7777777777777778,
              "#fb9f3a"
             ],
             [
              0.8888888888888888,
              "#fdca26"
             ],
             [
              1,
              "#f0f921"
             ]
            ],
            "type": "heatmapgl"
           }
          ],
          "histogram": [
           {
            "marker": {
             "colorbar": {
              "outlinewidth": 0,
              "ticks": ""
             }
            },
            "type": "histogram"
           }
          ],
          "histogram2d": [
           {
            "colorbar": {
             "outlinewidth": 0,
             "ticks": ""
            },
            "colorscale": [
             [
              0,
              "#0d0887"
             ],
             [
              0.1111111111111111,
              "#46039f"
             ],
             [
              0.2222222222222222,
              "#7201a8"
             ],
             [
              0.3333333333333333,
              "#9c179e"
             ],
             [
              0.4444444444444444,
              "#bd3786"
             ],
             [
              0.5555555555555556,
              "#d8576b"
             ],
             [
              0.6666666666666666,
              "#ed7953"
             ],
             [
              0.7777777777777778,
              "#fb9f3a"
             ],
             [
              0.8888888888888888,
              "#fdca26"
             ],
             [
              1,
              "#f0f921"
             ]
            ],
            "type": "histogram2d"
           }
          ],
          "histogram2dcontour": [
           {
            "colorbar": {
             "outlinewidth": 0,
             "ticks": ""
            },
            "colorscale": [
             [
              0,
              "#0d0887"
             ],
             [
              0.1111111111111111,
              "#46039f"
             ],
             [
              0.2222222222222222,
              "#7201a8"
             ],
             [
              0.3333333333333333,
              "#9c179e"
             ],
             [
              0.4444444444444444,
              "#bd3786"
             ],
             [
              0.5555555555555556,
              "#d8576b"
             ],
             [
              0.6666666666666666,
              "#ed7953"
             ],
             [
              0.7777777777777778,
              "#fb9f3a"
             ],
             [
              0.8888888888888888,
              "#fdca26"
             ],
             [
              1,
              "#f0f921"
             ]
            ],
            "type": "histogram2dcontour"
           }
          ],
          "mesh3d": [
           {
            "colorbar": {
             "outlinewidth": 0,
             "ticks": ""
            },
            "type": "mesh3d"
           }
          ],
          "parcoords": [
           {
            "line": {
             "colorbar": {
              "outlinewidth": 0,
              "ticks": ""
             }
            },
            "type": "parcoords"
           }
          ],
          "pie": [
           {
            "automargin": true,
            "type": "pie"
           }
          ],
          "scatter": [
           {
            "marker": {
             "colorbar": {
              "outlinewidth": 0,
              "ticks": ""
             }
            },
            "type": "scatter"
           }
          ],
          "scatter3d": [
           {
            "line": {
             "colorbar": {
              "outlinewidth": 0,
              "ticks": ""
             }
            },
            "marker": {
             "colorbar": {
              "outlinewidth": 0,
              "ticks": ""
             }
            },
            "type": "scatter3d"
           }
          ],
          "scattercarpet": [
           {
            "marker": {
             "colorbar": {
              "outlinewidth": 0,
              "ticks": ""
             }
            },
            "type": "scattercarpet"
           }
          ],
          "scattergeo": [
           {
            "marker": {
             "colorbar": {
              "outlinewidth": 0,
              "ticks": ""
             }
            },
            "type": "scattergeo"
           }
          ],
          "scattergl": [
           {
            "marker": {
             "colorbar": {
              "outlinewidth": 0,
              "ticks": ""
             }
            },
            "type": "scattergl"
           }
          ],
          "scattermapbox": [
           {
            "marker": {
             "colorbar": {
              "outlinewidth": 0,
              "ticks": ""
             }
            },
            "type": "scattermapbox"
           }
          ],
          "scatterpolar": [
           {
            "marker": {
             "colorbar": {
              "outlinewidth": 0,
              "ticks": ""
             }
            },
            "type": "scatterpolar"
           }
          ],
          "scatterpolargl": [
           {
            "marker": {
             "colorbar": {
              "outlinewidth": 0,
              "ticks": ""
             }
            },
            "type": "scatterpolargl"
           }
          ],
          "scatterternary": [
           {
            "marker": {
             "colorbar": {
              "outlinewidth": 0,
              "ticks": ""
             }
            },
            "type": "scatterternary"
           }
          ],
          "surface": [
           {
            "colorbar": {
             "outlinewidth": 0,
             "ticks": ""
            },
            "colorscale": [
             [
              0,
              "#0d0887"
             ],
             [
              0.1111111111111111,
              "#46039f"
             ],
             [
              0.2222222222222222,
              "#7201a8"
             ],
             [
              0.3333333333333333,
              "#9c179e"
             ],
             [
              0.4444444444444444,
              "#bd3786"
             ],
             [
              0.5555555555555556,
              "#d8576b"
             ],
             [
              0.6666666666666666,
              "#ed7953"
             ],
             [
              0.7777777777777778,
              "#fb9f3a"
             ],
             [
              0.8888888888888888,
              "#fdca26"
             ],
             [
              1,
              "#f0f921"
             ]
            ],
            "type": "surface"
           }
          ],
          "table": [
           {
            "cells": {
             "fill": {
              "color": "#EBF0F8"
             },
             "line": {
              "color": "white"
             }
            },
            "header": {
             "fill": {
              "color": "#C8D4E3"
             },
             "line": {
              "color": "white"
             }
            },
            "type": "table"
           }
          ]
         },
         "layout": {
          "annotationdefaults": {
           "arrowcolor": "#2a3f5f",
           "arrowhead": 0,
           "arrowwidth": 1
          },
          "coloraxis": {
           "colorbar": {
            "outlinewidth": 0,
            "ticks": ""
           }
          },
          "colorscale": {
           "diverging": [
            [
             0,
             "#8e0152"
            ],
            [
             0.1,
             "#c51b7d"
            ],
            [
             0.2,
             "#de77ae"
            ],
            [
             0.3,
             "#f1b6da"
            ],
            [
             0.4,
             "#fde0ef"
            ],
            [
             0.5,
             "#f7f7f7"
            ],
            [
             0.6,
             "#e6f5d0"
            ],
            [
             0.7,
             "#b8e186"
            ],
            [
             0.8,
             "#7fbc41"
            ],
            [
             0.9,
             "#4d9221"
            ],
            [
             1,
             "#276419"
            ]
           ],
           "sequential": [
            [
             0,
             "#0d0887"
            ],
            [
             0.1111111111111111,
             "#46039f"
            ],
            [
             0.2222222222222222,
             "#7201a8"
            ],
            [
             0.3333333333333333,
             "#9c179e"
            ],
            [
             0.4444444444444444,
             "#bd3786"
            ],
            [
             0.5555555555555556,
             "#d8576b"
            ],
            [
             0.6666666666666666,
             "#ed7953"
            ],
            [
             0.7777777777777778,
             "#fb9f3a"
            ],
            [
             0.8888888888888888,
             "#fdca26"
            ],
            [
             1,
             "#f0f921"
            ]
           ],
           "sequentialminus": [
            [
             0,
             "#0d0887"
            ],
            [
             0.1111111111111111,
             "#46039f"
            ],
            [
             0.2222222222222222,
             "#7201a8"
            ],
            [
             0.3333333333333333,
             "#9c179e"
            ],
            [
             0.4444444444444444,
             "#bd3786"
            ],
            [
             0.5555555555555556,
             "#d8576b"
            ],
            [
             0.6666666666666666,
             "#ed7953"
            ],
            [
             0.7777777777777778,
             "#fb9f3a"
            ],
            [
             0.8888888888888888,
             "#fdca26"
            ],
            [
             1,
             "#f0f921"
            ]
           ]
          },
          "colorway": [
           "#636efa",
           "#EF553B",
           "#00cc96",
           "#ab63fa",
           "#FFA15A",
           "#19d3f3",
           "#FF6692",
           "#B6E880",
           "#FF97FF",
           "#FECB52"
          ],
          "font": {
           "color": "#2a3f5f"
          },
          "geo": {
           "bgcolor": "white",
           "lakecolor": "white",
           "landcolor": "#E5ECF6",
           "showlakes": true,
           "showland": true,
           "subunitcolor": "white"
          },
          "hoverlabel": {
           "align": "left"
          },
          "hovermode": "closest",
          "mapbox": {
           "style": "light"
          },
          "paper_bgcolor": "white",
          "plot_bgcolor": "#E5ECF6",
          "polar": {
           "angularaxis": {
            "gridcolor": "white",
            "linecolor": "white",
            "ticks": ""
           },
           "bgcolor": "#E5ECF6",
           "radialaxis": {
            "gridcolor": "white",
            "linecolor": "white",
            "ticks": ""
           }
          },
          "scene": {
           "xaxis": {
            "backgroundcolor": "#E5ECF6",
            "gridcolor": "white",
            "gridwidth": 2,
            "linecolor": "white",
            "showbackground": true,
            "ticks": "",
            "zerolinecolor": "white"
           },
           "yaxis": {
            "backgroundcolor": "#E5ECF6",
            "gridcolor": "white",
            "gridwidth": 2,
            "linecolor": "white",
            "showbackground": true,
            "ticks": "",
            "zerolinecolor": "white"
           },
           "zaxis": {
            "backgroundcolor": "#E5ECF6",
            "gridcolor": "white",
            "gridwidth": 2,
            "linecolor": "white",
            "showbackground": true,
            "ticks": "",
            "zerolinecolor": "white"
           }
          },
          "shapedefaults": {
           "line": {
            "color": "#2a3f5f"
           }
          },
          "ternary": {
           "aaxis": {
            "gridcolor": "white",
            "linecolor": "white",
            "ticks": ""
           },
           "baxis": {
            "gridcolor": "white",
            "linecolor": "white",
            "ticks": ""
           },
           "bgcolor": "#E5ECF6",
           "caxis": {
            "gridcolor": "white",
            "linecolor": "white",
            "ticks": ""
           }
          },
          "title": {
           "x": 0.05
          },
          "xaxis": {
           "automargin": true,
           "gridcolor": "white",
           "linecolor": "white",
           "ticks": "",
           "title": {
            "standoff": 15
           },
           "zerolinecolor": "white",
           "zerolinewidth": 2
          },
          "yaxis": {
           "automargin": true,
           "gridcolor": "white",
           "linecolor": "white",
           "ticks": "",
           "title": {
            "standoff": 15
           },
           "zerolinecolor": "white",
           "zerolinewidth": 2
          }
         }
        },
        "title": {
         "text": "Día Miércoles"
        },
        "xaxis": {
         "rangeselector": {
          "buttons": [
           {
            "count": 7,
            "label": "1w",
            "step": "day",
            "stepmode": "backward"
           },
           {
            "count": 1,
            "label": "1m",
            "step": "month",
            "stepmode": "backward"
           },
           {
            "count": 6,
            "label": "6m",
            "step": "month",
            "stepmode": "backward"
           },
           {
            "count": 1,
            "label": "YTD",
            "step": "year",
            "stepmode": "todate"
           },
           {
            "count": 1,
            "label": "1y",
            "step": "year",
            "stepmode": "backward"
           },
           {
            "step": "all"
           }
          ]
         },
         "showgrid": true,
         "type": "date",
         "zeroline": false
        },
        "yaxis": {
         "autorange": false,
         "range": [
          -1,
          11
         ],
         "showgrid": true,
         "ticktext": [
          "Pabellón 3",
          "Pabellón 2",
          "Pabellón 8",
          "Pabellón 4",
          "Pabellón 7",
          "Pabellón 1",
          "UCA 3",
          "UCA 2",
          "UCA 1",
          "Pabellón 5"
         ],
         "tickvals": [
          0,
          1,
          2,
          3,
          4,
          5,
          6,
          7,
          8,
          9
         ],
         "zeroline": false
        }
       }
      },
      "text/html": [
       "<div>\n",
       "        \n",
       "        \n",
       "            <div id=\"bef3b3d3-0359-4d00-a771-f4ac4463e915\" class=\"plotly-graph-div\" style=\"height:600px; width:100%;\"></div>\n",
       "            <script type=\"text/javascript\">\n",
       "                require([\"plotly\"], function(Plotly) {\n",
       "                    window.PLOTLYENV=window.PLOTLYENV || {};\n",
       "                    \n",
       "                if (document.getElementById(\"bef3b3d3-0359-4d00-a771-f4ac4463e915\")) {\n",
       "                    Plotly.newPlot(\n",
       "                        'bef3b3d3-0359-4d00-a771-f4ac4463e915',\n",
       "                        [{\"fill\": \"toself\", \"fillcolor\": \"rgb(110, 0, 110)\", \"hoverinfo\": \"name\", \"legendgroup\": \"rgb(110, 0, 110)\", \"mode\": \"none\", \"name\": \"Hombro Ley\", \"type\": \"scatter\", \"x\": [\"2020-01-01T08:00:00\", \"2020-01-01T16:00:00\", \"2020-01-01T16:00:00\", \"2020-01-01T08:00:00\", \"2020-01-01T08:00:00\", \"2020-01-01T08:00:00\", \"2020-01-01T16:00:00\", \"2020-01-01T16:00:00\", \"2020-01-01T08:00:00\"], \"y\": [2.8, 2.8, 3.2, 3.2, null, 1.8, 1.8, 2.2, 2.2]}, {\"fill\": \"toself\", \"fillcolor\": \"rgb(14, 122, 220)\", \"hoverinfo\": \"name\", \"legendgroup\": \"rgb(14, 122, 220)\", \"mode\": \"none\", \"name\": \"CPQ Ley\", \"type\": \"scatter\", \"x\": [\"2020-01-01T08:00:00\", \"2020-01-01T13:00:00\", \"2020-01-01T13:00:00\", \"2020-01-01T08:00:00\", \"2020-01-01T08:00:00\", \"2020-01-01T08:00:00\", \"2020-01-01T13:30:00\", \"2020-01-01T13:30:00\", \"2020-01-01T08:00:00\"], \"y\": [4.8, 4.8, 5.2, 5.2, null, 3.8, 3.8, 4.2, 4.2]}, {\"fill\": \"toself\", \"fillcolor\": \"rgb(220, 175, 0)\", \"hoverinfo\": \"name\", \"legendgroup\": \"rgb(220, 175, 0)\", \"mode\": \"none\", \"name\": \"Cadera Ley\", \"type\": \"scatter\", \"x\": [\"2020-01-01T08:00:00\", \"2020-01-01T13:00:00\", \"2020-01-01T13:00:00\", \"2020-01-01T08:00:00\", \"2020-01-01T08:00:00\", \"2020-01-01T08:00:00\", \"2020-01-01T16:00:00\", \"2020-01-01T16:00:00\", \"2020-01-01T08:00:00\"], \"y\": [0.8, 0.8, 1.2, 1.2, null, -0.2, -0.2, 0.2, 0.2]}, {\"fill\": \"toself\", \"fillcolor\": \"rgb(220, 220, 110)\", \"hoverinfo\": \"name\", \"legendgroup\": \"rgb(220, 220, 110)\", \"mode\": \"none\", \"name\": \"Cadera VSC\", \"type\": \"scatter\", \"x\": [\"2020-01-01T13:00:00\", \"2020-01-01T21:00:00\", \"2020-01-01T21:00:00\", \"2020-01-01T13:00:00\", \"2020-01-01T13:00:00\", \"2020-01-01T13:30:00\", \"2020-01-01T21:00:00\", \"2020-01-01T21:00:00\", \"2020-01-01T13:30:00\"], \"y\": [0.8, 0.8, 1.2, 1.2, null, 3.8, 3.8, 4.2, 4.2]}, {\"fill\": \"toself\", \"fillcolor\": \"rgb(250, 212, 47)\", \"hoverinfo\": \"name\", \"legendgroup\": \"rgb(250, 212, 47)\", \"mode\": \"none\", \"name\": \"Columna VSC\", \"type\": \"scatter\", \"x\": [\"2020-01-01T13:00:00\", \"2020-01-01T21:00:00\", \"2020-01-01T21:00:00\", \"2020-01-01T13:00:00\"], \"y\": [4.8, 4.8, 5.2, 5.2]}, {\"fill\": \"toself\", \"fillcolor\": \"rgb(34, 116, 66)\", \"hoverinfo\": \"name\", \"legendgroup\": \"rgb(34, 116, 66)\", \"mode\": \"none\", \"name\": \"EESS Ley\", \"type\": \"scatter\", \"x\": [\"2020-01-01T08:00:00\", \"2020-01-01T16:00:00\", \"2020-01-01T16:00:00\", \"2020-01-01T08:00:00\", \"2020-01-01T08:00:00\", \"2020-01-01T08:00:00\", \"2020-01-01T16:00:00\", \"2020-01-01T16:00:00\", \"2020-01-01T08:00:00\", \"2020-01-01T08:00:00\", \"2020-01-01T08:00:00\", \"2020-01-01T16:00:00\", \"2020-01-01T16:00:00\", \"2020-01-01T08:00:00\", \"2020-01-01T08:00:00\", \"2020-01-01T08:00:00\", \"2020-01-01T16:00:00\", \"2020-01-01T16:00:00\", \"2020-01-01T08:00:00\"], \"y\": [8.8, 8.8, 9.2, 9.2, null, 7.8, 7.8, 8.2, 8.2, null, 6.8, 6.8, 7.2, 7.2, null, 5.8, 5.8, 6.2, 6.2]}, {\"legendgroup\": \"rgb(110, 0, 110)\", \"marker\": {\"color\": \"rgb(110, 0, 110)\", \"opacity\": 0, \"size\": 1}, \"mode\": \"markers\", \"name\": \"\", \"showlegend\": false, \"text\": [null, null, null, null], \"type\": \"scatter\", \"x\": [\"2020-01-01T08:00:00\", \"2020-01-01T16:00:00\", \"2020-01-01T08:00:00\", \"2020-01-01T16:00:00\"], \"y\": [3, 3, 2, 2]}, {\"legendgroup\": \"rgb(14, 122, 220)\", \"marker\": {\"color\": \"rgb(14, 122, 220)\", \"opacity\": 0, \"size\": 1}, \"mode\": \"markers\", \"name\": \"\", \"showlegend\": false, \"text\": [null, null, null, null], \"type\": \"scatter\", \"x\": [\"2020-01-01T08:00:00\", \"2020-01-01T13:00:00\", \"2020-01-01T08:00:00\", \"2020-01-01T13:30:00\"], \"y\": [5, 5, 4, 4]}, {\"legendgroup\": \"rgb(220, 175, 0)\", \"marker\": {\"color\": \"rgb(220, 175, 0)\", \"opacity\": 0, \"size\": 1}, \"mode\": \"markers\", \"name\": \"\", \"showlegend\": false, \"text\": [null, null, null, null], \"type\": \"scatter\", \"x\": [\"2020-01-01T08:00:00\", \"2020-01-01T13:00:00\", \"2020-01-01T08:00:00\", \"2020-01-01T16:00:00\"], \"y\": [1, 1, 0, 0]}, {\"legendgroup\": \"rgb(220, 220, 110)\", \"marker\": {\"color\": \"rgb(220, 220, 110)\", \"opacity\": 0, \"size\": 1}, \"mode\": \"markers\", \"name\": \"\", \"showlegend\": false, \"text\": [null, null, null, null], \"type\": \"scatter\", \"x\": [\"2020-01-01T13:00:00\", \"2020-01-01T21:00:00\", \"2020-01-01T13:30:00\", \"2020-01-01T21:00:00\"], \"y\": [1, 1, 4, 4]}, {\"legendgroup\": \"rgb(250, 212, 47)\", \"marker\": {\"color\": \"rgb(250, 212, 47)\", \"opacity\": 0, \"size\": 1}, \"mode\": \"markers\", \"name\": \"\", \"showlegend\": false, \"text\": [null, null], \"type\": \"scatter\", \"x\": [\"2020-01-01T13:00:00\", \"2020-01-01T21:00:00\"], \"y\": [5, 5]}, {\"legendgroup\": \"rgb(34, 116, 66)\", \"marker\": {\"color\": \"rgb(34, 116, 66)\", \"opacity\": 0, \"size\": 1}, \"mode\": \"markers\", \"name\": \"\", \"showlegend\": false, \"text\": [null, null, null, null, null, null, null, null], \"type\": \"scatter\", \"x\": [\"2020-01-01T08:00:00\", \"2020-01-01T16:00:00\", \"2020-01-01T08:00:00\", \"2020-01-01T16:00:00\", \"2020-01-01T08:00:00\", \"2020-01-01T16:00:00\", \"2020-01-01T08:00:00\", \"2020-01-01T16:00:00\"], \"y\": [9, 9, 8, 8, 7, 7, 6, 6]}],\n",
       "                        {\"height\": 600, \"hovermode\": \"closest\", \"showlegend\": true, \"template\": {\"data\": {\"bar\": [{\"error_x\": {\"color\": \"#2a3f5f\"}, \"error_y\": {\"color\": \"#2a3f5f\"}, \"marker\": {\"line\": {\"color\": \"#E5ECF6\", \"width\": 0.5}}, \"type\": \"bar\"}], \"barpolar\": [{\"marker\": {\"line\": {\"color\": \"#E5ECF6\", \"width\": 0.5}}, \"type\": \"barpolar\"}], \"carpet\": [{\"aaxis\": {\"endlinecolor\": \"#2a3f5f\", \"gridcolor\": \"white\", \"linecolor\": \"white\", \"minorgridcolor\": \"white\", \"startlinecolor\": \"#2a3f5f\"}, \"baxis\": {\"endlinecolor\": \"#2a3f5f\", \"gridcolor\": \"white\", \"linecolor\": \"white\", \"minorgridcolor\": \"white\", \"startlinecolor\": \"#2a3f5f\"}, \"type\": \"carpet\"}], \"choropleth\": [{\"colorbar\": {\"outlinewidth\": 0, \"ticks\": \"\"}, \"type\": \"choropleth\"}], \"contour\": [{\"colorbar\": {\"outlinewidth\": 0, \"ticks\": \"\"}, \"colorscale\": [[0.0, \"#0d0887\"], [0.1111111111111111, \"#46039f\"], [0.2222222222222222, \"#7201a8\"], [0.3333333333333333, \"#9c179e\"], [0.4444444444444444, \"#bd3786\"], [0.5555555555555556, \"#d8576b\"], [0.6666666666666666, \"#ed7953\"], [0.7777777777777778, \"#fb9f3a\"], [0.8888888888888888, \"#fdca26\"], [1.0, \"#f0f921\"]], \"type\": \"contour\"}], \"contourcarpet\": [{\"colorbar\": {\"outlinewidth\": 0, \"ticks\": \"\"}, \"type\": \"contourcarpet\"}], \"heatmap\": [{\"colorbar\": {\"outlinewidth\": 0, \"ticks\": \"\"}, \"colorscale\": [[0.0, \"#0d0887\"], [0.1111111111111111, \"#46039f\"], [0.2222222222222222, \"#7201a8\"], [0.3333333333333333, \"#9c179e\"], [0.4444444444444444, \"#bd3786\"], [0.5555555555555556, \"#d8576b\"], [0.6666666666666666, \"#ed7953\"], [0.7777777777777778, \"#fb9f3a\"], [0.8888888888888888, \"#fdca26\"], [1.0, \"#f0f921\"]], \"type\": \"heatmap\"}], \"heatmapgl\": [{\"colorbar\": {\"outlinewidth\": 0, \"ticks\": \"\"}, \"colorscale\": [[0.0, \"#0d0887\"], [0.1111111111111111, \"#46039f\"], [0.2222222222222222, \"#7201a8\"], [0.3333333333333333, \"#9c179e\"], [0.4444444444444444, \"#bd3786\"], [0.5555555555555556, \"#d8576b\"], [0.6666666666666666, \"#ed7953\"], [0.7777777777777778, \"#fb9f3a\"], [0.8888888888888888, \"#fdca26\"], [1.0, \"#f0f921\"]], \"type\": \"heatmapgl\"}], \"histogram\": [{\"marker\": {\"colorbar\": {\"outlinewidth\": 0, \"ticks\": \"\"}}, \"type\": \"histogram\"}], \"histogram2d\": [{\"colorbar\": {\"outlinewidth\": 0, \"ticks\": \"\"}, \"colorscale\": [[0.0, \"#0d0887\"], [0.1111111111111111, \"#46039f\"], [0.2222222222222222, \"#7201a8\"], [0.3333333333333333, \"#9c179e\"], [0.4444444444444444, \"#bd3786\"], [0.5555555555555556, \"#d8576b\"], [0.6666666666666666, \"#ed7953\"], [0.7777777777777778, \"#fb9f3a\"], [0.8888888888888888, \"#fdca26\"], [1.0, \"#f0f921\"]], \"type\": \"histogram2d\"}], \"histogram2dcontour\": [{\"colorbar\": {\"outlinewidth\": 0, \"ticks\": \"\"}, \"colorscale\": [[0.0, \"#0d0887\"], [0.1111111111111111, \"#46039f\"], [0.2222222222222222, \"#7201a8\"], [0.3333333333333333, \"#9c179e\"], [0.4444444444444444, \"#bd3786\"], [0.5555555555555556, \"#d8576b\"], [0.6666666666666666, \"#ed7953\"], [0.7777777777777778, \"#fb9f3a\"], [0.8888888888888888, \"#fdca26\"], [1.0, \"#f0f921\"]], \"type\": \"histogram2dcontour\"}], \"mesh3d\": [{\"colorbar\": {\"outlinewidth\": 0, \"ticks\": \"\"}, \"type\": \"mesh3d\"}], \"parcoords\": [{\"line\": {\"colorbar\": {\"outlinewidth\": 0, \"ticks\": \"\"}}, \"type\": \"parcoords\"}], \"pie\": [{\"automargin\": true, \"type\": \"pie\"}], \"scatter\": [{\"marker\": {\"colorbar\": {\"outlinewidth\": 0, \"ticks\": \"\"}}, \"type\": \"scatter\"}], \"scatter3d\": [{\"line\": {\"colorbar\": {\"outlinewidth\": 0, \"ticks\": \"\"}}, \"marker\": {\"colorbar\": {\"outlinewidth\": 0, \"ticks\": \"\"}}, \"type\": \"scatter3d\"}], \"scattercarpet\": [{\"marker\": {\"colorbar\": {\"outlinewidth\": 0, \"ticks\": \"\"}}, \"type\": \"scattercarpet\"}], \"scattergeo\": [{\"marker\": {\"colorbar\": {\"outlinewidth\": 0, \"ticks\": \"\"}}, \"type\": \"scattergeo\"}], \"scattergl\": [{\"marker\": {\"colorbar\": {\"outlinewidth\": 0, \"ticks\": \"\"}}, \"type\": \"scattergl\"}], \"scattermapbox\": [{\"marker\": {\"colorbar\": {\"outlinewidth\": 0, \"ticks\": \"\"}}, \"type\": \"scattermapbox\"}], \"scatterpolar\": [{\"marker\": {\"colorbar\": {\"outlinewidth\": 0, \"ticks\": \"\"}}, \"type\": \"scatterpolar\"}], \"scatterpolargl\": [{\"marker\": {\"colorbar\": {\"outlinewidth\": 0, \"ticks\": \"\"}}, \"type\": \"scatterpolargl\"}], \"scatterternary\": [{\"marker\": {\"colorbar\": {\"outlinewidth\": 0, \"ticks\": \"\"}}, \"type\": \"scatterternary\"}], \"surface\": [{\"colorbar\": {\"outlinewidth\": 0, \"ticks\": \"\"}, \"colorscale\": [[0.0, \"#0d0887\"], [0.1111111111111111, \"#46039f\"], [0.2222222222222222, \"#7201a8\"], [0.3333333333333333, \"#9c179e\"], [0.4444444444444444, \"#bd3786\"], [0.5555555555555556, \"#d8576b\"], [0.6666666666666666, \"#ed7953\"], [0.7777777777777778, \"#fb9f3a\"], [0.8888888888888888, \"#fdca26\"], [1.0, \"#f0f921\"]], \"type\": \"surface\"}], \"table\": [{\"cells\": {\"fill\": {\"color\": \"#EBF0F8\"}, \"line\": {\"color\": \"white\"}}, \"header\": {\"fill\": {\"color\": \"#C8D4E3\"}, \"line\": {\"color\": \"white\"}}, \"type\": \"table\"}]}, \"layout\": {\"annotationdefaults\": {\"arrowcolor\": \"#2a3f5f\", \"arrowhead\": 0, \"arrowwidth\": 1}, \"coloraxis\": {\"colorbar\": {\"outlinewidth\": 0, \"ticks\": \"\"}}, \"colorscale\": {\"diverging\": [[0, \"#8e0152\"], [0.1, \"#c51b7d\"], [0.2, \"#de77ae\"], [0.3, \"#f1b6da\"], [0.4, \"#fde0ef\"], [0.5, \"#f7f7f7\"], [0.6, \"#e6f5d0\"], [0.7, \"#b8e186\"], [0.8, \"#7fbc41\"], [0.9, \"#4d9221\"], [1, \"#276419\"]], \"sequential\": [[0.0, \"#0d0887\"], [0.1111111111111111, \"#46039f\"], [0.2222222222222222, \"#7201a8\"], [0.3333333333333333, \"#9c179e\"], [0.4444444444444444, \"#bd3786\"], [0.5555555555555556, \"#d8576b\"], [0.6666666666666666, \"#ed7953\"], [0.7777777777777778, \"#fb9f3a\"], [0.8888888888888888, \"#fdca26\"], [1.0, \"#f0f921\"]], \"sequentialminus\": [[0.0, \"#0d0887\"], [0.1111111111111111, \"#46039f\"], [0.2222222222222222, \"#7201a8\"], [0.3333333333333333, \"#9c179e\"], [0.4444444444444444, \"#bd3786\"], [0.5555555555555556, \"#d8576b\"], [0.6666666666666666, \"#ed7953\"], [0.7777777777777778, \"#fb9f3a\"], [0.8888888888888888, \"#fdca26\"], [1.0, \"#f0f921\"]]}, \"colorway\": [\"#636efa\", \"#EF553B\", \"#00cc96\", \"#ab63fa\", \"#FFA15A\", \"#19d3f3\", \"#FF6692\", \"#B6E880\", \"#FF97FF\", \"#FECB52\"], \"font\": {\"color\": \"#2a3f5f\"}, \"geo\": {\"bgcolor\": \"white\", \"lakecolor\": \"white\", \"landcolor\": \"#E5ECF6\", \"showlakes\": true, \"showland\": true, \"subunitcolor\": \"white\"}, \"hoverlabel\": {\"align\": \"left\"}, \"hovermode\": \"closest\", \"mapbox\": {\"style\": \"light\"}, \"paper_bgcolor\": \"white\", \"plot_bgcolor\": \"#E5ECF6\", \"polar\": {\"angularaxis\": {\"gridcolor\": \"white\", \"linecolor\": \"white\", \"ticks\": \"\"}, \"bgcolor\": \"#E5ECF6\", \"radialaxis\": {\"gridcolor\": \"white\", \"linecolor\": \"white\", \"ticks\": \"\"}}, \"scene\": {\"xaxis\": {\"backgroundcolor\": \"#E5ECF6\", \"gridcolor\": \"white\", \"gridwidth\": 2, \"linecolor\": \"white\", \"showbackground\": true, \"ticks\": \"\", \"zerolinecolor\": \"white\"}, \"yaxis\": {\"backgroundcolor\": \"#E5ECF6\", \"gridcolor\": \"white\", \"gridwidth\": 2, \"linecolor\": \"white\", \"showbackground\": true, \"ticks\": \"\", \"zerolinecolor\": \"white\"}, \"zaxis\": {\"backgroundcolor\": \"#E5ECF6\", \"gridcolor\": \"white\", \"gridwidth\": 2, \"linecolor\": \"white\", \"showbackground\": true, \"ticks\": \"\", \"zerolinecolor\": \"white\"}}, \"shapedefaults\": {\"line\": {\"color\": \"#2a3f5f\"}}, \"ternary\": {\"aaxis\": {\"gridcolor\": \"white\", \"linecolor\": \"white\", \"ticks\": \"\"}, \"baxis\": {\"gridcolor\": \"white\", \"linecolor\": \"white\", \"ticks\": \"\"}, \"bgcolor\": \"#E5ECF6\", \"caxis\": {\"gridcolor\": \"white\", \"linecolor\": \"white\", \"ticks\": \"\"}}, \"title\": {\"x\": 0.05}, \"xaxis\": {\"automargin\": true, \"gridcolor\": \"white\", \"linecolor\": \"white\", \"ticks\": \"\", \"title\": {\"standoff\": 15}, \"zerolinecolor\": \"white\", \"zerolinewidth\": 2}, \"yaxis\": {\"automargin\": true, \"gridcolor\": \"white\", \"linecolor\": \"white\", \"ticks\": \"\", \"title\": {\"standoff\": 15}, \"zerolinecolor\": \"white\", \"zerolinewidth\": 2}}}, \"title\": {\"text\": \"D\\u00eda Mi\\u00e9rcoles\"}, \"xaxis\": {\"rangeselector\": {\"buttons\": [{\"count\": 7, \"label\": \"1w\", \"step\": \"day\", \"stepmode\": \"backward\"}, {\"count\": 1, \"label\": \"1m\", \"step\": \"month\", \"stepmode\": \"backward\"}, {\"count\": 6, \"label\": \"6m\", \"step\": \"month\", \"stepmode\": \"backward\"}, {\"count\": 1, \"label\": \"YTD\", \"step\": \"year\", \"stepmode\": \"todate\"}, {\"count\": 1, \"label\": \"1y\", \"step\": \"year\", \"stepmode\": \"backward\"}, {\"step\": \"all\"}]}, \"showgrid\": true, \"type\": \"date\", \"zeroline\": false}, \"yaxis\": {\"autorange\": false, \"range\": [-1, 11], \"showgrid\": true, \"ticktext\": [\"Pabell\\u00f3n 3\", \"Pabell\\u00f3n 2\", \"Pabell\\u00f3n 8\", \"Pabell\\u00f3n 4\", \"Pabell\\u00f3n 7\", \"Pabell\\u00f3n 1\", \"UCA 3\", \"UCA 2\", \"UCA 1\", \"Pabell\\u00f3n 5\"], \"tickvals\": [0, 1, 2, 3, 4, 5, 6, 7, 8, 9], \"zeroline\": false}},\n",
       "                        {\"responsive\": true}\n",
       "                    ).then(function(){\n",
       "                            \n",
       "var gd = document.getElementById('bef3b3d3-0359-4d00-a771-f4ac4463e915');\n",
       "var x = new MutationObserver(function (mutations, observer) {{\n",
       "        var display = window.getComputedStyle(gd).display;\n",
       "        if (!display || display === 'none') {{\n",
       "            console.log([gd, 'removed!']);\n",
       "            Plotly.purge(gd);\n",
       "            observer.disconnect();\n",
       "        }}\n",
       "}});\n",
       "\n",
       "// Listen for the removal of the full notebook cells\n",
       "var notebookContainer = gd.closest('#notebook-container');\n",
       "if (notebookContainer) {{\n",
       "    x.observe(notebookContainer, {childList: true});\n",
       "}}\n",
       "\n",
       "// Listen for the clearing of the current output cell\n",
       "var outputEl = gd.closest('.output');\n",
       "if (outputEl) {{\n",
       "    x.observe(outputEl, {childList: true});\n",
       "}}\n",
       "\n",
       "                        })\n",
       "                };\n",
       "                });\n",
       "            </script>\n",
       "        </div>"
      ]
     },
     "metadata": {},
     "output_type": "display_data"
    }
   ],
   "source": [
    "fig_2 = ff.create_gantt(df2, colors=colors, index_col='Resource', show_colorbar=True, title='Día Miércoles',showgrid_x=True, showgrid_y=True,\n",
    "                      group_tasks=True)\n",
    "fig_2.show()\n",
    "\n",
    "\n"
   ]
  },
  {
   "cell_type": "code",
   "execution_count": 36,
   "metadata": {},
   "outputs": [
    {
     "data": {
      "application/vnd.plotly.v1+json": {
       "config": {
        "plotlyServerURL": "https://plot.ly"
       },
       "data": [
        {
         "fill": "toself",
         "fillcolor": "rgb(110, 0, 110)",
         "hoverinfo": "name",
         "legendgroup": "rgb(110, 0, 110)",
         "mode": "none",
         "name": "Hombro Ley",
         "type": "scatter",
         "x": [
          "2020-01-01T08:00:00",
          "2020-01-01T13:00:00",
          "2020-01-01T13:00:00",
          "2020-01-01T08:00:00",
          "2020-01-01T08:00:00",
          "2020-01-01T08:00:00",
          "2020-01-01T13:00:00",
          "2020-01-01T13:00:00",
          "2020-01-01T08:00:00"
         ],
         "y": [
          6.8,
          6.8,
          7.2,
          7.2,
          null,
          0.8,
          0.8,
          1.2,
          1.2
         ]
        },
        {
         "fill": "toself",
         "fillcolor": "rgb(14, 122, 220)",
         "hoverinfo": "name",
         "legendgroup": "rgb(14, 122, 220)",
         "mode": "none",
         "name": "CPQ Ley",
         "type": "scatter",
         "x": [
          "2020-01-01T08:00:00",
          "2020-01-01T13:00:00",
          "2020-01-01T13:00:00",
          "2020-01-01T08:00:00"
         ],
         "y": [
          3.8,
          3.8,
          4.2,
          4.2
         ]
        },
        {
         "fill": "toself",
         "fillcolor": "rgb(14, 194, 220)",
         "hoverinfo": "name",
         "legendgroup": "rgb(14, 194, 220)",
         "mode": "none",
         "name": "Rodilla VSC",
         "type": "scatter",
         "x": [
          "2020-01-01T13:00:00",
          "2020-01-01T21:00:00",
          "2020-01-01T21:00:00",
          "2020-01-01T13:00:00",
          "2020-01-01T13:00:00",
          "2020-01-01T13:00:00",
          "2020-01-01T21:00:00",
          "2020-01-01T21:00:00",
          "2020-01-01T13:00:00"
         ],
         "y": [
          6.8,
          6.8,
          7.2,
          7.2,
          null,
          4.8,
          4.8,
          5.2,
          5.2
         ]
        },
        {
         "fill": "toself",
         "fillcolor": "rgb(153, 213, 0)",
         "hoverinfo": "name",
         "legendgroup": "rgb(153, 213, 0)",
         "mode": "none",
         "name": "Maxilo Ley",
         "type": "scatter",
         "x": [
          "2020-01-01T08:00:00",
          "2020-01-01T16:00:00",
          "2020-01-01T16:00:00",
          "2020-01-01T08:00:00",
          "2020-01-01T08:00:00",
          "2020-01-01T08:00:00",
          "2020-01-01T16:00:00",
          "2020-01-01T16:00:00",
          "2020-01-01T08:00:00"
         ],
         "y": [
          2.8,
          2.8,
          3.2,
          3.2,
          null,
          1.8,
          1.8,
          2.2,
          2.2
         ]
        },
        {
         "fill": "toself",
         "fillcolor": "rgb(220, 0, 110)",
         "hoverinfo": "name",
         "legendgroup": "rgb(220, 0, 110)",
         "mode": "none",
         "name": "Libre Ley",
         "type": "scatter",
         "x": [
          "2020-01-01T08:00:00",
          "2020-01-01T16:00:00",
          "2020-01-01T16:00:00",
          "2020-01-01T08:00:00"
         ],
         "y": [
          -0.2,
          -0.2,
          0.2,
          0.2
         ]
        },
        {
         "fill": "toself",
         "fillcolor": "rgb(220, 220, 110)",
         "hoverinfo": "name",
         "legendgroup": "rgb(220, 220, 110)",
         "mode": "none",
         "name": "Cadera VSC",
         "type": "scatter",
         "x": [
          "2020-01-01T13:00:00",
          "2020-01-01T21:00:00",
          "2020-01-01T21:00:00",
          "2020-01-01T13:00:00"
         ],
         "y": [
          5.8,
          5.8,
          6.2,
          6.2
         ]
        },
        {
         "fill": "toself",
         "fillcolor": "rgb(234, 126, 31)",
         "hoverinfo": "name",
         "legendgroup": "rgb(234, 126, 31)",
         "mode": "none",
         "name": "Columna Ley",
         "type": "scatter",
         "x": [
          "2020-01-01T08:00:00",
          "2020-01-01T13:00:00",
          "2020-01-01T13:00:00",
          "2020-01-01T08:00:00"
         ],
         "y": [
          4.8,
          4.8,
          5.2,
          5.2
         ]
        },
        {
         "fill": "toself",
         "fillcolor": "rgb(25, 90, 40)",
         "hoverinfo": "name",
         "legendgroup": "rgb(25, 90, 40)",
         "mode": "none",
         "name": "Hombro VSC",
         "type": "scatter",
         "x": [
          "2020-01-01T13:00:00",
          "2020-01-01T21:00:00",
          "2020-01-01T21:00:00",
          "2020-01-01T13:00:00"
         ],
         "y": [
          0.8,
          0.8,
          1.2,
          1.2
         ]
        },
        {
         "fill": "toself",
         "fillcolor": "rgb(250, 212, 47)",
         "hoverinfo": "name",
         "legendgroup": "rgb(250, 212, 47)",
         "mode": "none",
         "name": "Columna VSC",
         "type": "scatter",
         "x": [
          "2020-01-01T13:00:00",
          "2020-01-01T21:00:00",
          "2020-01-01T21:00:00",
          "2020-01-01T13:00:00"
         ],
         "y": [
          3.8,
          3.8,
          4.2,
          4.2
         ]
        },
        {
         "fill": "toself",
         "fillcolor": "rgb(34, 116, 66)",
         "hoverinfo": "name",
         "legendgroup": "rgb(34, 116, 66)",
         "mode": "none",
         "name": "EESS Ley",
         "type": "scatter",
         "x": [
          "2020-01-01T08:00:00",
          "2020-01-01T16:00:00",
          "2020-01-01T16:00:00",
          "2020-01-01T08:00:00",
          "2020-01-01T08:00:00",
          "2020-01-01T08:00:00",
          "2020-01-01T16:00:00",
          "2020-01-01T16:00:00",
          "2020-01-01T08:00:00"
         ],
         "y": [
          8.8,
          8.8,
          9.2,
          9.2,
          null,
          7.8,
          7.8,
          8.2,
          8.2
         ]
        },
        {
         "fill": "toself",
         "fillcolor": "rgb(93, 205, 187)",
         "hoverinfo": "name",
         "legendgroup": "rgb(93, 205, 187)",
         "mode": "none",
         "name": "Rodilla Ley",
         "type": "scatter",
         "x": [
          "2020-01-01T08:00:00",
          "2020-01-01T13:00:00",
          "2020-01-01T13:00:00",
          "2020-01-01T08:00:00"
         ],
         "y": [
          5.8,
          5.8,
          6.2,
          6.2
         ]
        },
        {
         "legendgroup": "rgb(110, 0, 110)",
         "marker": {
          "color": "rgb(110, 0, 110)",
          "opacity": 0,
          "size": 1
         },
         "mode": "markers",
         "name": "",
         "showlegend": false,
         "text": [
          null,
          null,
          null,
          null
         ],
         "type": "scatter",
         "x": [
          "2020-01-01T08:00:00",
          "2020-01-01T13:00:00",
          "2020-01-01T08:00:00",
          "2020-01-01T13:00:00"
         ],
         "y": [
          7,
          7,
          1,
          1
         ]
        },
        {
         "legendgroup": "rgb(14, 122, 220)",
         "marker": {
          "color": "rgb(14, 122, 220)",
          "opacity": 0,
          "size": 1
         },
         "mode": "markers",
         "name": "",
         "showlegend": false,
         "text": [
          null,
          null
         ],
         "type": "scatter",
         "x": [
          "2020-01-01T08:00:00",
          "2020-01-01T13:00:00"
         ],
         "y": [
          4,
          4
         ]
        },
        {
         "legendgroup": "rgb(14, 194, 220)",
         "marker": {
          "color": "rgb(14, 194, 220)",
          "opacity": 0,
          "size": 1
         },
         "mode": "markers",
         "name": "",
         "showlegend": false,
         "text": [
          null,
          null,
          null,
          null
         ],
         "type": "scatter",
         "x": [
          "2020-01-01T13:00:00",
          "2020-01-01T21:00:00",
          "2020-01-01T13:00:00",
          "2020-01-01T21:00:00"
         ],
         "y": [
          7,
          7,
          5,
          5
         ]
        },
        {
         "legendgroup": "rgb(153, 213, 0)",
         "marker": {
          "color": "rgb(153, 213, 0)",
          "opacity": 0,
          "size": 1
         },
         "mode": "markers",
         "name": "",
         "showlegend": false,
         "text": [
          null,
          null,
          null,
          null
         ],
         "type": "scatter",
         "x": [
          "2020-01-01T08:00:00",
          "2020-01-01T16:00:00",
          "2020-01-01T08:00:00",
          "2020-01-01T16:00:00"
         ],
         "y": [
          3,
          3,
          2,
          2
         ]
        },
        {
         "legendgroup": "rgb(220, 0, 110)",
         "marker": {
          "color": "rgb(220, 0, 110)",
          "opacity": 0,
          "size": 1
         },
         "mode": "markers",
         "name": "",
         "showlegend": false,
         "text": [
          null,
          null
         ],
         "type": "scatter",
         "x": [
          "2020-01-01T08:00:00",
          "2020-01-01T16:00:00"
         ],
         "y": [
          0,
          0
         ]
        },
        {
         "legendgroup": "rgb(220, 220, 110)",
         "marker": {
          "color": "rgb(220, 220, 110)",
          "opacity": 0,
          "size": 1
         },
         "mode": "markers",
         "name": "",
         "showlegend": false,
         "text": [
          null,
          null
         ],
         "type": "scatter",
         "x": [
          "2020-01-01T13:00:00",
          "2020-01-01T21:00:00"
         ],
         "y": [
          6,
          6
         ]
        },
        {
         "legendgroup": "rgb(234, 126, 31)",
         "marker": {
          "color": "rgb(234, 126, 31)",
          "opacity": 0,
          "size": 1
         },
         "mode": "markers",
         "name": "",
         "showlegend": false,
         "text": [
          null,
          null
         ],
         "type": "scatter",
         "x": [
          "2020-01-01T08:00:00",
          "2020-01-01T13:00:00"
         ],
         "y": [
          5,
          5
         ]
        },
        {
         "legendgroup": "rgb(25, 90, 40)",
         "marker": {
          "color": "rgb(25, 90, 40)",
          "opacity": 0,
          "size": 1
         },
         "mode": "markers",
         "name": "",
         "showlegend": false,
         "text": [
          null,
          null
         ],
         "type": "scatter",
         "x": [
          "2020-01-01T13:00:00",
          "2020-01-01T21:00:00"
         ],
         "y": [
          1,
          1
         ]
        },
        {
         "legendgroup": "rgb(250, 212, 47)",
         "marker": {
          "color": "rgb(250, 212, 47)",
          "opacity": 0,
          "size": 1
         },
         "mode": "markers",
         "name": "",
         "showlegend": false,
         "text": [
          null,
          null
         ],
         "type": "scatter",
         "x": [
          "2020-01-01T13:00:00",
          "2020-01-01T21:00:00"
         ],
         "y": [
          4,
          4
         ]
        },
        {
         "legendgroup": "rgb(34, 116, 66)",
         "marker": {
          "color": "rgb(34, 116, 66)",
          "opacity": 0,
          "size": 1
         },
         "mode": "markers",
         "name": "",
         "showlegend": false,
         "text": [
          null,
          null,
          null,
          null
         ],
         "type": "scatter",
         "x": [
          "2020-01-01T08:00:00",
          "2020-01-01T16:00:00",
          "2020-01-01T08:00:00",
          "2020-01-01T16:00:00"
         ],
         "y": [
          9,
          9,
          8,
          8
         ]
        },
        {
         "legendgroup": "rgb(93, 205, 187)",
         "marker": {
          "color": "rgb(93, 205, 187)",
          "opacity": 0,
          "size": 1
         },
         "mode": "markers",
         "name": "",
         "showlegend": false,
         "text": [
          null,
          null
         ],
         "type": "scatter",
         "x": [
          "2020-01-01T08:00:00",
          "2020-01-01T13:00:00"
         ],
         "y": [
          6,
          6
         ]
        }
       ],
       "layout": {
        "height": 600,
        "hovermode": "closest",
        "showlegend": true,
        "template": {
         "data": {
          "bar": [
           {
            "error_x": {
             "color": "#2a3f5f"
            },
            "error_y": {
             "color": "#2a3f5f"
            },
            "marker": {
             "line": {
              "color": "#E5ECF6",
              "width": 0.5
             }
            },
            "type": "bar"
           }
          ],
          "barpolar": [
           {
            "marker": {
             "line": {
              "color": "#E5ECF6",
              "width": 0.5
             }
            },
            "type": "barpolar"
           }
          ],
          "carpet": [
           {
            "aaxis": {
             "endlinecolor": "#2a3f5f",
             "gridcolor": "white",
             "linecolor": "white",
             "minorgridcolor": "white",
             "startlinecolor": "#2a3f5f"
            },
            "baxis": {
             "endlinecolor": "#2a3f5f",
             "gridcolor": "white",
             "linecolor": "white",
             "minorgridcolor": "white",
             "startlinecolor": "#2a3f5f"
            },
            "type": "carpet"
           }
          ],
          "choropleth": [
           {
            "colorbar": {
             "outlinewidth": 0,
             "ticks": ""
            },
            "type": "choropleth"
           }
          ],
          "contour": [
           {
            "colorbar": {
             "outlinewidth": 0,
             "ticks": ""
            },
            "colorscale": [
             [
              0,
              "#0d0887"
             ],
             [
              0.1111111111111111,
              "#46039f"
             ],
             [
              0.2222222222222222,
              "#7201a8"
             ],
             [
              0.3333333333333333,
              "#9c179e"
             ],
             [
              0.4444444444444444,
              "#bd3786"
             ],
             [
              0.5555555555555556,
              "#d8576b"
             ],
             [
              0.6666666666666666,
              "#ed7953"
             ],
             [
              0.7777777777777778,
              "#fb9f3a"
             ],
             [
              0.8888888888888888,
              "#fdca26"
             ],
             [
              1,
              "#f0f921"
             ]
            ],
            "type": "contour"
           }
          ],
          "contourcarpet": [
           {
            "colorbar": {
             "outlinewidth": 0,
             "ticks": ""
            },
            "type": "contourcarpet"
           }
          ],
          "heatmap": [
           {
            "colorbar": {
             "outlinewidth": 0,
             "ticks": ""
            },
            "colorscale": [
             [
              0,
              "#0d0887"
             ],
             [
              0.1111111111111111,
              "#46039f"
             ],
             [
              0.2222222222222222,
              "#7201a8"
             ],
             [
              0.3333333333333333,
              "#9c179e"
             ],
             [
              0.4444444444444444,
              "#bd3786"
             ],
             [
              0.5555555555555556,
              "#d8576b"
             ],
             [
              0.6666666666666666,
              "#ed7953"
             ],
             [
              0.7777777777777778,
              "#fb9f3a"
             ],
             [
              0.8888888888888888,
              "#fdca26"
             ],
             [
              1,
              "#f0f921"
             ]
            ],
            "type": "heatmap"
           }
          ],
          "heatmapgl": [
           {
            "colorbar": {
             "outlinewidth": 0,
             "ticks": ""
            },
            "colorscale": [
             [
              0,
              "#0d0887"
             ],
             [
              0.1111111111111111,
              "#46039f"
             ],
             [
              0.2222222222222222,
              "#7201a8"
             ],
             [
              0.3333333333333333,
              "#9c179e"
             ],
             [
              0.4444444444444444,
              "#bd3786"
             ],
             [
              0.5555555555555556,
              "#d8576b"
             ],
             [
              0.6666666666666666,
              "#ed7953"
             ],
             [
              0.7777777777777778,
              "#fb9f3a"
             ],
             [
              0.8888888888888888,
              "#fdca26"
             ],
             [
              1,
              "#f0f921"
             ]
            ],
            "type": "heatmapgl"
           }
          ],
          "histogram": [
           {
            "marker": {
             "colorbar": {
              "outlinewidth": 0,
              "ticks": ""
             }
            },
            "type": "histogram"
           }
          ],
          "histogram2d": [
           {
            "colorbar": {
             "outlinewidth": 0,
             "ticks": ""
            },
            "colorscale": [
             [
              0,
              "#0d0887"
             ],
             [
              0.1111111111111111,
              "#46039f"
             ],
             [
              0.2222222222222222,
              "#7201a8"
             ],
             [
              0.3333333333333333,
              "#9c179e"
             ],
             [
              0.4444444444444444,
              "#bd3786"
             ],
             [
              0.5555555555555556,
              "#d8576b"
             ],
             [
              0.6666666666666666,
              "#ed7953"
             ],
             [
              0.7777777777777778,
              "#fb9f3a"
             ],
             [
              0.8888888888888888,
              "#fdca26"
             ],
             [
              1,
              "#f0f921"
             ]
            ],
            "type": "histogram2d"
           }
          ],
          "histogram2dcontour": [
           {
            "colorbar": {
             "outlinewidth": 0,
             "ticks": ""
            },
            "colorscale": [
             [
              0,
              "#0d0887"
             ],
             [
              0.1111111111111111,
              "#46039f"
             ],
             [
              0.2222222222222222,
              "#7201a8"
             ],
             [
              0.3333333333333333,
              "#9c179e"
             ],
             [
              0.4444444444444444,
              "#bd3786"
             ],
             [
              0.5555555555555556,
              "#d8576b"
             ],
             [
              0.6666666666666666,
              "#ed7953"
             ],
             [
              0.7777777777777778,
              "#fb9f3a"
             ],
             [
              0.8888888888888888,
              "#fdca26"
             ],
             [
              1,
              "#f0f921"
             ]
            ],
            "type": "histogram2dcontour"
           }
          ],
          "mesh3d": [
           {
            "colorbar": {
             "outlinewidth": 0,
             "ticks": ""
            },
            "type": "mesh3d"
           }
          ],
          "parcoords": [
           {
            "line": {
             "colorbar": {
              "outlinewidth": 0,
              "ticks": ""
             }
            },
            "type": "parcoords"
           }
          ],
          "pie": [
           {
            "automargin": true,
            "type": "pie"
           }
          ],
          "scatter": [
           {
            "marker": {
             "colorbar": {
              "outlinewidth": 0,
              "ticks": ""
             }
            },
            "type": "scatter"
           }
          ],
          "scatter3d": [
           {
            "line": {
             "colorbar": {
              "outlinewidth": 0,
              "ticks": ""
             }
            },
            "marker": {
             "colorbar": {
              "outlinewidth": 0,
              "ticks": ""
             }
            },
            "type": "scatter3d"
           }
          ],
          "scattercarpet": [
           {
            "marker": {
             "colorbar": {
              "outlinewidth": 0,
              "ticks": ""
             }
            },
            "type": "scattercarpet"
           }
          ],
          "scattergeo": [
           {
            "marker": {
             "colorbar": {
              "outlinewidth": 0,
              "ticks": ""
             }
            },
            "type": "scattergeo"
           }
          ],
          "scattergl": [
           {
            "marker": {
             "colorbar": {
              "outlinewidth": 0,
              "ticks": ""
             }
            },
            "type": "scattergl"
           }
          ],
          "scattermapbox": [
           {
            "marker": {
             "colorbar": {
              "outlinewidth": 0,
              "ticks": ""
             }
            },
            "type": "scattermapbox"
           }
          ],
          "scatterpolar": [
           {
            "marker": {
             "colorbar": {
              "outlinewidth": 0,
              "ticks": ""
             }
            },
            "type": "scatterpolar"
           }
          ],
          "scatterpolargl": [
           {
            "marker": {
             "colorbar": {
              "outlinewidth": 0,
              "ticks": ""
             }
            },
            "type": "scatterpolargl"
           }
          ],
          "scatterternary": [
           {
            "marker": {
             "colorbar": {
              "outlinewidth": 0,
              "ticks": ""
             }
            },
            "type": "scatterternary"
           }
          ],
          "surface": [
           {
            "colorbar": {
             "outlinewidth": 0,
             "ticks": ""
            },
            "colorscale": [
             [
              0,
              "#0d0887"
             ],
             [
              0.1111111111111111,
              "#46039f"
             ],
             [
              0.2222222222222222,
              "#7201a8"
             ],
             [
              0.3333333333333333,
              "#9c179e"
             ],
             [
              0.4444444444444444,
              "#bd3786"
             ],
             [
              0.5555555555555556,
              "#d8576b"
             ],
             [
              0.6666666666666666,
              "#ed7953"
             ],
             [
              0.7777777777777778,
              "#fb9f3a"
             ],
             [
              0.8888888888888888,
              "#fdca26"
             ],
             [
              1,
              "#f0f921"
             ]
            ],
            "type": "surface"
           }
          ],
          "table": [
           {
            "cells": {
             "fill": {
              "color": "#EBF0F8"
             },
             "line": {
              "color": "white"
             }
            },
            "header": {
             "fill": {
              "color": "#C8D4E3"
             },
             "line": {
              "color": "white"
             }
            },
            "type": "table"
           }
          ]
         },
         "layout": {
          "annotationdefaults": {
           "arrowcolor": "#2a3f5f",
           "arrowhead": 0,
           "arrowwidth": 1
          },
          "coloraxis": {
           "colorbar": {
            "outlinewidth": 0,
            "ticks": ""
           }
          },
          "colorscale": {
           "diverging": [
            [
             0,
             "#8e0152"
            ],
            [
             0.1,
             "#c51b7d"
            ],
            [
             0.2,
             "#de77ae"
            ],
            [
             0.3,
             "#f1b6da"
            ],
            [
             0.4,
             "#fde0ef"
            ],
            [
             0.5,
             "#f7f7f7"
            ],
            [
             0.6,
             "#e6f5d0"
            ],
            [
             0.7,
             "#b8e186"
            ],
            [
             0.8,
             "#7fbc41"
            ],
            [
             0.9,
             "#4d9221"
            ],
            [
             1,
             "#276419"
            ]
           ],
           "sequential": [
            [
             0,
             "#0d0887"
            ],
            [
             0.1111111111111111,
             "#46039f"
            ],
            [
             0.2222222222222222,
             "#7201a8"
            ],
            [
             0.3333333333333333,
             "#9c179e"
            ],
            [
             0.4444444444444444,
             "#bd3786"
            ],
            [
             0.5555555555555556,
             "#d8576b"
            ],
            [
             0.6666666666666666,
             "#ed7953"
            ],
            [
             0.7777777777777778,
             "#fb9f3a"
            ],
            [
             0.8888888888888888,
             "#fdca26"
            ],
            [
             1,
             "#f0f921"
            ]
           ],
           "sequentialminus": [
            [
             0,
             "#0d0887"
            ],
            [
             0.1111111111111111,
             "#46039f"
            ],
            [
             0.2222222222222222,
             "#7201a8"
            ],
            [
             0.3333333333333333,
             "#9c179e"
            ],
            [
             0.4444444444444444,
             "#bd3786"
            ],
            [
             0.5555555555555556,
             "#d8576b"
            ],
            [
             0.6666666666666666,
             "#ed7953"
            ],
            [
             0.7777777777777778,
             "#fb9f3a"
            ],
            [
             0.8888888888888888,
             "#fdca26"
            ],
            [
             1,
             "#f0f921"
            ]
           ]
          },
          "colorway": [
           "#636efa",
           "#EF553B",
           "#00cc96",
           "#ab63fa",
           "#FFA15A",
           "#19d3f3",
           "#FF6692",
           "#B6E880",
           "#FF97FF",
           "#FECB52"
          ],
          "font": {
           "color": "#2a3f5f"
          },
          "geo": {
           "bgcolor": "white",
           "lakecolor": "white",
           "landcolor": "#E5ECF6",
           "showlakes": true,
           "showland": true,
           "subunitcolor": "white"
          },
          "hoverlabel": {
           "align": "left"
          },
          "hovermode": "closest",
          "mapbox": {
           "style": "light"
          },
          "paper_bgcolor": "white",
          "plot_bgcolor": "#E5ECF6",
          "polar": {
           "angularaxis": {
            "gridcolor": "white",
            "linecolor": "white",
            "ticks": ""
           },
           "bgcolor": "#E5ECF6",
           "radialaxis": {
            "gridcolor": "white",
            "linecolor": "white",
            "ticks": ""
           }
          },
          "scene": {
           "xaxis": {
            "backgroundcolor": "#E5ECF6",
            "gridcolor": "white",
            "gridwidth": 2,
            "linecolor": "white",
            "showbackground": true,
            "ticks": "",
            "zerolinecolor": "white"
           },
           "yaxis": {
            "backgroundcolor": "#E5ECF6",
            "gridcolor": "white",
            "gridwidth": 2,
            "linecolor": "white",
            "showbackground": true,
            "ticks": "",
            "zerolinecolor": "white"
           },
           "zaxis": {
            "backgroundcolor": "#E5ECF6",
            "gridcolor": "white",
            "gridwidth": 2,
            "linecolor": "white",
            "showbackground": true,
            "ticks": "",
            "zerolinecolor": "white"
           }
          },
          "shapedefaults": {
           "line": {
            "color": "#2a3f5f"
           }
          },
          "ternary": {
           "aaxis": {
            "gridcolor": "white",
            "linecolor": "white",
            "ticks": ""
           },
           "baxis": {
            "gridcolor": "white",
            "linecolor": "white",
            "ticks": ""
           },
           "bgcolor": "#E5ECF6",
           "caxis": {
            "gridcolor": "white",
            "linecolor": "white",
            "ticks": ""
           }
          },
          "title": {
           "x": 0.05
          },
          "xaxis": {
           "automargin": true,
           "gridcolor": "white",
           "linecolor": "white",
           "ticks": "",
           "title": {
            "standoff": 15
           },
           "zerolinecolor": "white",
           "zerolinewidth": 2
          },
          "yaxis": {
           "automargin": true,
           "gridcolor": "white",
           "linecolor": "white",
           "ticks": "",
           "title": {
            "standoff": 15
           },
           "zerolinecolor": "white",
           "zerolinewidth": 2
          }
         }
        },
        "title": {
         "text": "Día Jueves"
        },
        "xaxis": {
         "rangeselector": {
          "buttons": [
           {
            "count": 7,
            "label": "1w",
            "step": "day",
            "stepmode": "backward"
           },
           {
            "count": 1,
            "label": "1m",
            "step": "month",
            "stepmode": "backward"
           },
           {
            "count": 6,
            "label": "6m",
            "step": "month",
            "stepmode": "backward"
           },
           {
            "count": 1,
            "label": "YTD",
            "step": "year",
            "stepmode": "todate"
           },
           {
            "count": 1,
            "label": "1y",
            "step": "year",
            "stepmode": "backward"
           },
           {
            "step": "all"
           }
          ]
         },
         "showgrid": true,
         "type": "date",
         "zeroline": false
        },
        "yaxis": {
         "autorange": false,
         "range": [
          -1,
          11
         ],
         "showgrid": true,
         "ticktext": [
          "Pabellón 7",
          "Pabellón 2",
          "UCA 1",
          "Pabellón 4",
          "Pabellón 8",
          "UCA 3",
          "UCA 2",
          "Pabellón 1",
          "Pabellón 5",
          "Pabellón 3"
         ],
         "tickvals": [
          0,
          1,
          2,
          3,
          4,
          5,
          6,
          7,
          8,
          9
         ],
         "zeroline": false
        }
       }
      },
      "text/html": [
       "<div>\n",
       "        \n",
       "        \n",
       "            <div id=\"77c83c51-faa0-4320-aa16-547a00f5cfba\" class=\"plotly-graph-div\" style=\"height:600px; width:100%;\"></div>\n",
       "            <script type=\"text/javascript\">\n",
       "                require([\"plotly\"], function(Plotly) {\n",
       "                    window.PLOTLYENV=window.PLOTLYENV || {};\n",
       "                    \n",
       "                if (document.getElementById(\"77c83c51-faa0-4320-aa16-547a00f5cfba\")) {\n",
       "                    Plotly.newPlot(\n",
       "                        '77c83c51-faa0-4320-aa16-547a00f5cfba',\n",
       "                        [{\"fill\": \"toself\", \"fillcolor\": \"rgb(110, 0, 110)\", \"hoverinfo\": \"name\", \"legendgroup\": \"rgb(110, 0, 110)\", \"mode\": \"none\", \"name\": \"Hombro Ley\", \"type\": \"scatter\", \"x\": [\"2020-01-01T08:00:00\", \"2020-01-01T13:00:00\", \"2020-01-01T13:00:00\", \"2020-01-01T08:00:00\", \"2020-01-01T08:00:00\", \"2020-01-01T08:00:00\", \"2020-01-01T13:00:00\", \"2020-01-01T13:00:00\", \"2020-01-01T08:00:00\"], \"y\": [6.8, 6.8, 7.2, 7.2, null, 0.8, 0.8, 1.2, 1.2]}, {\"fill\": \"toself\", \"fillcolor\": \"rgb(14, 122, 220)\", \"hoverinfo\": \"name\", \"legendgroup\": \"rgb(14, 122, 220)\", \"mode\": \"none\", \"name\": \"CPQ Ley\", \"type\": \"scatter\", \"x\": [\"2020-01-01T08:00:00\", \"2020-01-01T13:00:00\", \"2020-01-01T13:00:00\", \"2020-01-01T08:00:00\"], \"y\": [3.8, 3.8, 4.2, 4.2]}, {\"fill\": \"toself\", \"fillcolor\": \"rgb(14, 194, 220)\", \"hoverinfo\": \"name\", \"legendgroup\": \"rgb(14, 194, 220)\", \"mode\": \"none\", \"name\": \"Rodilla VSC\", \"type\": \"scatter\", \"x\": [\"2020-01-01T13:00:00\", \"2020-01-01T21:00:00\", \"2020-01-01T21:00:00\", \"2020-01-01T13:00:00\", \"2020-01-01T13:00:00\", \"2020-01-01T13:00:00\", \"2020-01-01T21:00:00\", \"2020-01-01T21:00:00\", \"2020-01-01T13:00:00\"], \"y\": [6.8, 6.8, 7.2, 7.2, null, 4.8, 4.8, 5.2, 5.2]}, {\"fill\": \"toself\", \"fillcolor\": \"rgb(153, 213, 0)\", \"hoverinfo\": \"name\", \"legendgroup\": \"rgb(153, 213, 0)\", \"mode\": \"none\", \"name\": \"Maxilo Ley\", \"type\": \"scatter\", \"x\": [\"2020-01-01T08:00:00\", \"2020-01-01T16:00:00\", \"2020-01-01T16:00:00\", \"2020-01-01T08:00:00\", \"2020-01-01T08:00:00\", \"2020-01-01T08:00:00\", \"2020-01-01T16:00:00\", \"2020-01-01T16:00:00\", \"2020-01-01T08:00:00\"], \"y\": [2.8, 2.8, 3.2, 3.2, null, 1.8, 1.8, 2.2, 2.2]}, {\"fill\": \"toself\", \"fillcolor\": \"rgb(220, 0, 110)\", \"hoverinfo\": \"name\", \"legendgroup\": \"rgb(220, 0, 110)\", \"mode\": \"none\", \"name\": \"Libre Ley\", \"type\": \"scatter\", \"x\": [\"2020-01-01T08:00:00\", \"2020-01-01T16:00:00\", \"2020-01-01T16:00:00\", \"2020-01-01T08:00:00\"], \"y\": [-0.2, -0.2, 0.2, 0.2]}, {\"fill\": \"toself\", \"fillcolor\": \"rgb(220, 220, 110)\", \"hoverinfo\": \"name\", \"legendgroup\": \"rgb(220, 220, 110)\", \"mode\": \"none\", \"name\": \"Cadera VSC\", \"type\": \"scatter\", \"x\": [\"2020-01-01T13:00:00\", \"2020-01-01T21:00:00\", \"2020-01-01T21:00:00\", \"2020-01-01T13:00:00\"], \"y\": [5.8, 5.8, 6.2, 6.2]}, {\"fill\": \"toself\", \"fillcolor\": \"rgb(234, 126, 31)\", \"hoverinfo\": \"name\", \"legendgroup\": \"rgb(234, 126, 31)\", \"mode\": \"none\", \"name\": \"Columna Ley\", \"type\": \"scatter\", \"x\": [\"2020-01-01T08:00:00\", \"2020-01-01T13:00:00\", \"2020-01-01T13:00:00\", \"2020-01-01T08:00:00\"], \"y\": [4.8, 4.8, 5.2, 5.2]}, {\"fill\": \"toself\", \"fillcolor\": \"rgb(25, 90, 40)\", \"hoverinfo\": \"name\", \"legendgroup\": \"rgb(25, 90, 40)\", \"mode\": \"none\", \"name\": \"Hombro VSC\", \"type\": \"scatter\", \"x\": [\"2020-01-01T13:00:00\", \"2020-01-01T21:00:00\", \"2020-01-01T21:00:00\", \"2020-01-01T13:00:00\"], \"y\": [0.8, 0.8, 1.2, 1.2]}, {\"fill\": \"toself\", \"fillcolor\": \"rgb(250, 212, 47)\", \"hoverinfo\": \"name\", \"legendgroup\": \"rgb(250, 212, 47)\", \"mode\": \"none\", \"name\": \"Columna VSC\", \"type\": \"scatter\", \"x\": [\"2020-01-01T13:00:00\", \"2020-01-01T21:00:00\", \"2020-01-01T21:00:00\", \"2020-01-01T13:00:00\"], \"y\": [3.8, 3.8, 4.2, 4.2]}, {\"fill\": \"toself\", \"fillcolor\": \"rgb(34, 116, 66)\", \"hoverinfo\": \"name\", \"legendgroup\": \"rgb(34, 116, 66)\", \"mode\": \"none\", \"name\": \"EESS Ley\", \"type\": \"scatter\", \"x\": [\"2020-01-01T08:00:00\", \"2020-01-01T16:00:00\", \"2020-01-01T16:00:00\", \"2020-01-01T08:00:00\", \"2020-01-01T08:00:00\", \"2020-01-01T08:00:00\", \"2020-01-01T16:00:00\", \"2020-01-01T16:00:00\", \"2020-01-01T08:00:00\"], \"y\": [8.8, 8.8, 9.2, 9.2, null, 7.8, 7.8, 8.2, 8.2]}, {\"fill\": \"toself\", \"fillcolor\": \"rgb(93, 205, 187)\", \"hoverinfo\": \"name\", \"legendgroup\": \"rgb(93, 205, 187)\", \"mode\": \"none\", \"name\": \"Rodilla Ley\", \"type\": \"scatter\", \"x\": [\"2020-01-01T08:00:00\", \"2020-01-01T13:00:00\", \"2020-01-01T13:00:00\", \"2020-01-01T08:00:00\"], \"y\": [5.8, 5.8, 6.2, 6.2]}, {\"legendgroup\": \"rgb(110, 0, 110)\", \"marker\": {\"color\": \"rgb(110, 0, 110)\", \"opacity\": 0, \"size\": 1}, \"mode\": \"markers\", \"name\": \"\", \"showlegend\": false, \"text\": [null, null, null, null], \"type\": \"scatter\", \"x\": [\"2020-01-01T08:00:00\", \"2020-01-01T13:00:00\", \"2020-01-01T08:00:00\", \"2020-01-01T13:00:00\"], \"y\": [7, 7, 1, 1]}, {\"legendgroup\": \"rgb(14, 122, 220)\", \"marker\": {\"color\": \"rgb(14, 122, 220)\", \"opacity\": 0, \"size\": 1}, \"mode\": \"markers\", \"name\": \"\", \"showlegend\": false, \"text\": [null, null], \"type\": \"scatter\", \"x\": [\"2020-01-01T08:00:00\", \"2020-01-01T13:00:00\"], \"y\": [4, 4]}, {\"legendgroup\": \"rgb(14, 194, 220)\", \"marker\": {\"color\": \"rgb(14, 194, 220)\", \"opacity\": 0, \"size\": 1}, \"mode\": \"markers\", \"name\": \"\", \"showlegend\": false, \"text\": [null, null, null, null], \"type\": \"scatter\", \"x\": [\"2020-01-01T13:00:00\", \"2020-01-01T21:00:00\", \"2020-01-01T13:00:00\", \"2020-01-01T21:00:00\"], \"y\": [7, 7, 5, 5]}, {\"legendgroup\": \"rgb(153, 213, 0)\", \"marker\": {\"color\": \"rgb(153, 213, 0)\", \"opacity\": 0, \"size\": 1}, \"mode\": \"markers\", \"name\": \"\", \"showlegend\": false, \"text\": [null, null, null, null], \"type\": \"scatter\", \"x\": [\"2020-01-01T08:00:00\", \"2020-01-01T16:00:00\", \"2020-01-01T08:00:00\", \"2020-01-01T16:00:00\"], \"y\": [3, 3, 2, 2]}, {\"legendgroup\": \"rgb(220, 0, 110)\", \"marker\": {\"color\": \"rgb(220, 0, 110)\", \"opacity\": 0, \"size\": 1}, \"mode\": \"markers\", \"name\": \"\", \"showlegend\": false, \"text\": [null, null], \"type\": \"scatter\", \"x\": [\"2020-01-01T08:00:00\", \"2020-01-01T16:00:00\"], \"y\": [0, 0]}, {\"legendgroup\": \"rgb(220, 220, 110)\", \"marker\": {\"color\": \"rgb(220, 220, 110)\", \"opacity\": 0, \"size\": 1}, \"mode\": \"markers\", \"name\": \"\", \"showlegend\": false, \"text\": [null, null], \"type\": \"scatter\", \"x\": [\"2020-01-01T13:00:00\", \"2020-01-01T21:00:00\"], \"y\": [6, 6]}, {\"legendgroup\": \"rgb(234, 126, 31)\", \"marker\": {\"color\": \"rgb(234, 126, 31)\", \"opacity\": 0, \"size\": 1}, \"mode\": \"markers\", \"name\": \"\", \"showlegend\": false, \"text\": [null, null], \"type\": \"scatter\", \"x\": [\"2020-01-01T08:00:00\", \"2020-01-01T13:00:00\"], \"y\": [5, 5]}, {\"legendgroup\": \"rgb(25, 90, 40)\", \"marker\": {\"color\": \"rgb(25, 90, 40)\", \"opacity\": 0, \"size\": 1}, \"mode\": \"markers\", \"name\": \"\", \"showlegend\": false, \"text\": [null, null], \"type\": \"scatter\", \"x\": [\"2020-01-01T13:00:00\", \"2020-01-01T21:00:00\"], \"y\": [1, 1]}, {\"legendgroup\": \"rgb(250, 212, 47)\", \"marker\": {\"color\": \"rgb(250, 212, 47)\", \"opacity\": 0, \"size\": 1}, \"mode\": \"markers\", \"name\": \"\", \"showlegend\": false, \"text\": [null, null], \"type\": \"scatter\", \"x\": [\"2020-01-01T13:00:00\", \"2020-01-01T21:00:00\"], \"y\": [4, 4]}, {\"legendgroup\": \"rgb(34, 116, 66)\", \"marker\": {\"color\": \"rgb(34, 116, 66)\", \"opacity\": 0, \"size\": 1}, \"mode\": \"markers\", \"name\": \"\", \"showlegend\": false, \"text\": [null, null, null, null], \"type\": \"scatter\", \"x\": [\"2020-01-01T08:00:00\", \"2020-01-01T16:00:00\", \"2020-01-01T08:00:00\", \"2020-01-01T16:00:00\"], \"y\": [9, 9, 8, 8]}, {\"legendgroup\": \"rgb(93, 205, 187)\", \"marker\": {\"color\": \"rgb(93, 205, 187)\", \"opacity\": 0, \"size\": 1}, \"mode\": \"markers\", \"name\": \"\", \"showlegend\": false, \"text\": [null, null], \"type\": \"scatter\", \"x\": [\"2020-01-01T08:00:00\", \"2020-01-01T13:00:00\"], \"y\": [6, 6]}],\n",
       "                        {\"height\": 600, \"hovermode\": \"closest\", \"showlegend\": true, \"template\": {\"data\": {\"bar\": [{\"error_x\": {\"color\": \"#2a3f5f\"}, \"error_y\": {\"color\": \"#2a3f5f\"}, \"marker\": {\"line\": {\"color\": \"#E5ECF6\", \"width\": 0.5}}, \"type\": \"bar\"}], \"barpolar\": [{\"marker\": {\"line\": {\"color\": \"#E5ECF6\", \"width\": 0.5}}, \"type\": \"barpolar\"}], \"carpet\": [{\"aaxis\": {\"endlinecolor\": \"#2a3f5f\", \"gridcolor\": \"white\", \"linecolor\": \"white\", \"minorgridcolor\": \"white\", \"startlinecolor\": \"#2a3f5f\"}, \"baxis\": {\"endlinecolor\": \"#2a3f5f\", \"gridcolor\": \"white\", \"linecolor\": \"white\", \"minorgridcolor\": \"white\", \"startlinecolor\": \"#2a3f5f\"}, \"type\": \"carpet\"}], \"choropleth\": [{\"colorbar\": {\"outlinewidth\": 0, \"ticks\": \"\"}, \"type\": \"choropleth\"}], \"contour\": [{\"colorbar\": {\"outlinewidth\": 0, \"ticks\": \"\"}, \"colorscale\": [[0.0, \"#0d0887\"], [0.1111111111111111, \"#46039f\"], [0.2222222222222222, \"#7201a8\"], [0.3333333333333333, \"#9c179e\"], [0.4444444444444444, \"#bd3786\"], [0.5555555555555556, \"#d8576b\"], [0.6666666666666666, \"#ed7953\"], [0.7777777777777778, \"#fb9f3a\"], [0.8888888888888888, \"#fdca26\"], [1.0, \"#f0f921\"]], \"type\": \"contour\"}], \"contourcarpet\": [{\"colorbar\": {\"outlinewidth\": 0, \"ticks\": \"\"}, \"type\": \"contourcarpet\"}], \"heatmap\": [{\"colorbar\": {\"outlinewidth\": 0, \"ticks\": \"\"}, \"colorscale\": [[0.0, \"#0d0887\"], [0.1111111111111111, \"#46039f\"], [0.2222222222222222, \"#7201a8\"], [0.3333333333333333, \"#9c179e\"], [0.4444444444444444, \"#bd3786\"], [0.5555555555555556, \"#d8576b\"], [0.6666666666666666, \"#ed7953\"], [0.7777777777777778, \"#fb9f3a\"], [0.8888888888888888, \"#fdca26\"], [1.0, \"#f0f921\"]], \"type\": \"heatmap\"}], \"heatmapgl\": [{\"colorbar\": {\"outlinewidth\": 0, \"ticks\": \"\"}, \"colorscale\": [[0.0, \"#0d0887\"], [0.1111111111111111, \"#46039f\"], [0.2222222222222222, \"#7201a8\"], [0.3333333333333333, \"#9c179e\"], [0.4444444444444444, \"#bd3786\"], [0.5555555555555556, \"#d8576b\"], [0.6666666666666666, \"#ed7953\"], [0.7777777777777778, \"#fb9f3a\"], [0.8888888888888888, \"#fdca26\"], [1.0, \"#f0f921\"]], \"type\": \"heatmapgl\"}], \"histogram\": [{\"marker\": {\"colorbar\": {\"outlinewidth\": 0, \"ticks\": \"\"}}, \"type\": \"histogram\"}], \"histogram2d\": [{\"colorbar\": {\"outlinewidth\": 0, \"ticks\": \"\"}, \"colorscale\": [[0.0, \"#0d0887\"], [0.1111111111111111, \"#46039f\"], [0.2222222222222222, \"#7201a8\"], [0.3333333333333333, \"#9c179e\"], [0.4444444444444444, \"#bd3786\"], [0.5555555555555556, \"#d8576b\"], [0.6666666666666666, \"#ed7953\"], [0.7777777777777778, \"#fb9f3a\"], [0.8888888888888888, \"#fdca26\"], [1.0, \"#f0f921\"]], \"type\": \"histogram2d\"}], \"histogram2dcontour\": [{\"colorbar\": {\"outlinewidth\": 0, \"ticks\": \"\"}, \"colorscale\": [[0.0, \"#0d0887\"], [0.1111111111111111, \"#46039f\"], [0.2222222222222222, \"#7201a8\"], [0.3333333333333333, \"#9c179e\"], [0.4444444444444444, \"#bd3786\"], [0.5555555555555556, \"#d8576b\"], [0.6666666666666666, \"#ed7953\"], [0.7777777777777778, \"#fb9f3a\"], [0.8888888888888888, \"#fdca26\"], [1.0, \"#f0f921\"]], \"type\": \"histogram2dcontour\"}], \"mesh3d\": [{\"colorbar\": {\"outlinewidth\": 0, \"ticks\": \"\"}, \"type\": \"mesh3d\"}], \"parcoords\": [{\"line\": {\"colorbar\": {\"outlinewidth\": 0, \"ticks\": \"\"}}, \"type\": \"parcoords\"}], \"pie\": [{\"automargin\": true, \"type\": \"pie\"}], \"scatter\": [{\"marker\": {\"colorbar\": {\"outlinewidth\": 0, \"ticks\": \"\"}}, \"type\": \"scatter\"}], \"scatter3d\": [{\"line\": {\"colorbar\": {\"outlinewidth\": 0, \"ticks\": \"\"}}, \"marker\": {\"colorbar\": {\"outlinewidth\": 0, \"ticks\": \"\"}}, \"type\": \"scatter3d\"}], \"scattercarpet\": [{\"marker\": {\"colorbar\": {\"outlinewidth\": 0, \"ticks\": \"\"}}, \"type\": \"scattercarpet\"}], \"scattergeo\": [{\"marker\": {\"colorbar\": {\"outlinewidth\": 0, \"ticks\": \"\"}}, \"type\": \"scattergeo\"}], \"scattergl\": [{\"marker\": {\"colorbar\": {\"outlinewidth\": 0, \"ticks\": \"\"}}, \"type\": \"scattergl\"}], \"scattermapbox\": [{\"marker\": {\"colorbar\": {\"outlinewidth\": 0, \"ticks\": \"\"}}, \"type\": \"scattermapbox\"}], \"scatterpolar\": [{\"marker\": {\"colorbar\": {\"outlinewidth\": 0, \"ticks\": \"\"}}, \"type\": \"scatterpolar\"}], \"scatterpolargl\": [{\"marker\": {\"colorbar\": {\"outlinewidth\": 0, \"ticks\": \"\"}}, \"type\": \"scatterpolargl\"}], \"scatterternary\": [{\"marker\": {\"colorbar\": {\"outlinewidth\": 0, \"ticks\": \"\"}}, \"type\": \"scatterternary\"}], \"surface\": [{\"colorbar\": {\"outlinewidth\": 0, \"ticks\": \"\"}, \"colorscale\": [[0.0, \"#0d0887\"], [0.1111111111111111, \"#46039f\"], [0.2222222222222222, \"#7201a8\"], [0.3333333333333333, \"#9c179e\"], [0.4444444444444444, \"#bd3786\"], [0.5555555555555556, \"#d8576b\"], [0.6666666666666666, \"#ed7953\"], [0.7777777777777778, \"#fb9f3a\"], [0.8888888888888888, \"#fdca26\"], [1.0, \"#f0f921\"]], \"type\": \"surface\"}], \"table\": [{\"cells\": {\"fill\": {\"color\": \"#EBF0F8\"}, \"line\": {\"color\": \"white\"}}, \"header\": {\"fill\": {\"color\": \"#C8D4E3\"}, \"line\": {\"color\": \"white\"}}, \"type\": \"table\"}]}, \"layout\": {\"annotationdefaults\": {\"arrowcolor\": \"#2a3f5f\", \"arrowhead\": 0, \"arrowwidth\": 1}, \"coloraxis\": {\"colorbar\": {\"outlinewidth\": 0, \"ticks\": \"\"}}, \"colorscale\": {\"diverging\": [[0, \"#8e0152\"], [0.1, \"#c51b7d\"], [0.2, \"#de77ae\"], [0.3, \"#f1b6da\"], [0.4, \"#fde0ef\"], [0.5, \"#f7f7f7\"], [0.6, \"#e6f5d0\"], [0.7, \"#b8e186\"], [0.8, \"#7fbc41\"], [0.9, \"#4d9221\"], [1, \"#276419\"]], \"sequential\": [[0.0, \"#0d0887\"], [0.1111111111111111, \"#46039f\"], [0.2222222222222222, \"#7201a8\"], [0.3333333333333333, \"#9c179e\"], [0.4444444444444444, \"#bd3786\"], [0.5555555555555556, \"#d8576b\"], [0.6666666666666666, \"#ed7953\"], [0.7777777777777778, \"#fb9f3a\"], [0.8888888888888888, \"#fdca26\"], [1.0, \"#f0f921\"]], \"sequentialminus\": [[0.0, \"#0d0887\"], [0.1111111111111111, \"#46039f\"], [0.2222222222222222, \"#7201a8\"], [0.3333333333333333, \"#9c179e\"], [0.4444444444444444, \"#bd3786\"], [0.5555555555555556, \"#d8576b\"], [0.6666666666666666, \"#ed7953\"], [0.7777777777777778, \"#fb9f3a\"], [0.8888888888888888, \"#fdca26\"], [1.0, \"#f0f921\"]]}, \"colorway\": [\"#636efa\", \"#EF553B\", \"#00cc96\", \"#ab63fa\", \"#FFA15A\", \"#19d3f3\", \"#FF6692\", \"#B6E880\", \"#FF97FF\", \"#FECB52\"], \"font\": {\"color\": \"#2a3f5f\"}, \"geo\": {\"bgcolor\": \"white\", \"lakecolor\": \"white\", \"landcolor\": \"#E5ECF6\", \"showlakes\": true, \"showland\": true, \"subunitcolor\": \"white\"}, \"hoverlabel\": {\"align\": \"left\"}, \"hovermode\": \"closest\", \"mapbox\": {\"style\": \"light\"}, \"paper_bgcolor\": \"white\", \"plot_bgcolor\": \"#E5ECF6\", \"polar\": {\"angularaxis\": {\"gridcolor\": \"white\", \"linecolor\": \"white\", \"ticks\": \"\"}, \"bgcolor\": \"#E5ECF6\", \"radialaxis\": {\"gridcolor\": \"white\", \"linecolor\": \"white\", \"ticks\": \"\"}}, \"scene\": {\"xaxis\": {\"backgroundcolor\": \"#E5ECF6\", \"gridcolor\": \"white\", \"gridwidth\": 2, \"linecolor\": \"white\", \"showbackground\": true, \"ticks\": \"\", \"zerolinecolor\": \"white\"}, \"yaxis\": {\"backgroundcolor\": \"#E5ECF6\", \"gridcolor\": \"white\", \"gridwidth\": 2, \"linecolor\": \"white\", \"showbackground\": true, \"ticks\": \"\", \"zerolinecolor\": \"white\"}, \"zaxis\": {\"backgroundcolor\": \"#E5ECF6\", \"gridcolor\": \"white\", \"gridwidth\": 2, \"linecolor\": \"white\", \"showbackground\": true, \"ticks\": \"\", \"zerolinecolor\": \"white\"}}, \"shapedefaults\": {\"line\": {\"color\": \"#2a3f5f\"}}, \"ternary\": {\"aaxis\": {\"gridcolor\": \"white\", \"linecolor\": \"white\", \"ticks\": \"\"}, \"baxis\": {\"gridcolor\": \"white\", \"linecolor\": \"white\", \"ticks\": \"\"}, \"bgcolor\": \"#E5ECF6\", \"caxis\": {\"gridcolor\": \"white\", \"linecolor\": \"white\", \"ticks\": \"\"}}, \"title\": {\"x\": 0.05}, \"xaxis\": {\"automargin\": true, \"gridcolor\": \"white\", \"linecolor\": \"white\", \"ticks\": \"\", \"title\": {\"standoff\": 15}, \"zerolinecolor\": \"white\", \"zerolinewidth\": 2}, \"yaxis\": {\"automargin\": true, \"gridcolor\": \"white\", \"linecolor\": \"white\", \"ticks\": \"\", \"title\": {\"standoff\": 15}, \"zerolinecolor\": \"white\", \"zerolinewidth\": 2}}}, \"title\": {\"text\": \"D\\u00eda Jueves\"}, \"xaxis\": {\"rangeselector\": {\"buttons\": [{\"count\": 7, \"label\": \"1w\", \"step\": \"day\", \"stepmode\": \"backward\"}, {\"count\": 1, \"label\": \"1m\", \"step\": \"month\", \"stepmode\": \"backward\"}, {\"count\": 6, \"label\": \"6m\", \"step\": \"month\", \"stepmode\": \"backward\"}, {\"count\": 1, \"label\": \"YTD\", \"step\": \"year\", \"stepmode\": \"todate\"}, {\"count\": 1, \"label\": \"1y\", \"step\": \"year\", \"stepmode\": \"backward\"}, {\"step\": \"all\"}]}, \"showgrid\": true, \"type\": \"date\", \"zeroline\": false}, \"yaxis\": {\"autorange\": false, \"range\": [-1, 11], \"showgrid\": true, \"ticktext\": [\"Pabell\\u00f3n 7\", \"Pabell\\u00f3n 2\", \"UCA 1\", \"Pabell\\u00f3n 4\", \"Pabell\\u00f3n 8\", \"UCA 3\", \"UCA 2\", \"Pabell\\u00f3n 1\", \"Pabell\\u00f3n 5\", \"Pabell\\u00f3n 3\"], \"tickvals\": [0, 1, 2, 3, 4, 5, 6, 7, 8, 9], \"zeroline\": false}},\n",
       "                        {\"responsive\": true}\n",
       "                    ).then(function(){\n",
       "                            \n",
       "var gd = document.getElementById('77c83c51-faa0-4320-aa16-547a00f5cfba');\n",
       "var x = new MutationObserver(function (mutations, observer) {{\n",
       "        var display = window.getComputedStyle(gd).display;\n",
       "        if (!display || display === 'none') {{\n",
       "            console.log([gd, 'removed!']);\n",
       "            Plotly.purge(gd);\n",
       "            observer.disconnect();\n",
       "        }}\n",
       "}});\n",
       "\n",
       "// Listen for the removal of the full notebook cells\n",
       "var notebookContainer = gd.closest('#notebook-container');\n",
       "if (notebookContainer) {{\n",
       "    x.observe(notebookContainer, {childList: true});\n",
       "}}\n",
       "\n",
       "// Listen for the clearing of the current output cell\n",
       "var outputEl = gd.closest('.output');\n",
       "if (outputEl) {{\n",
       "    x.observe(outputEl, {childList: true});\n",
       "}}\n",
       "\n",
       "                        })\n",
       "                };\n",
       "                });\n",
       "            </script>\n",
       "        </div>"
      ]
     },
     "metadata": {},
     "output_type": "display_data"
    }
   ],
   "source": [
    "fig_3 = ff.create_gantt(df3, colors=colors, index_col='Resource', show_colorbar=True, title='Día Jueves',showgrid_x=True, showgrid_y=True,\n",
    "                      group_tasks=True)\n",
    "fig_3.show()\n",
    "\n"
   ]
  },
  {
   "cell_type": "code",
   "execution_count": 37,
   "metadata": {},
   "outputs": [
    {
     "data": {
      "application/vnd.plotly.v1+json": {
       "config": {
        "plotlyServerURL": "https://plot.ly"
       },
       "data": [
        {
         "fill": "toself",
         "fillcolor": "rgb(110, 0, 220)",
         "hoverinfo": "name",
         "legendgroup": "rgb(110, 0, 220)",
         "mode": "none",
         "name": "Libre VSC",
         "type": "scatter",
         "x": [
          "2020-01-01T14:00:00",
          "2020-01-01T21:00:00",
          "2020-01-01T21:00:00",
          "2020-01-01T14:00:00",
          "2020-01-01T14:00:00",
          "2020-01-01T13:00:00",
          "2020-01-01T21:00:00",
          "2020-01-01T21:00:00",
          "2020-01-01T13:00:00",
          "2020-01-01T13:00:00",
          "2020-01-01T13:00:00",
          "2020-01-01T21:00:00",
          "2020-01-01T21:00:00",
          "2020-01-01T13:00:00"
         ],
         "y": [
          6.8,
          6.8,
          7.2,
          7.2,
          null,
          5.8,
          5.8,
          6.2,
          6.2,
          null,
          4.8,
          4.8,
          5.2,
          5.2
         ]
        },
        {
         "fill": "toself",
         "fillcolor": "rgb(14, 122, 220)",
         "hoverinfo": "name",
         "legendgroup": "rgb(14, 122, 220)",
         "mode": "none",
         "name": "CPQ Ley",
         "type": "scatter",
         "x": [
          "2020-01-01T08:00:00",
          "2020-01-01T13:00:00",
          "2020-01-01T13:00:00",
          "2020-01-01T08:00:00",
          "2020-01-01T08:00:00",
          "2020-01-01T08:00:00",
          "2020-01-01T13:00:00",
          "2020-01-01T13:00:00",
          "2020-01-01T08:00:00",
          "2020-01-01T08:00:00",
          "2020-01-01T08:00:00",
          "2020-01-01T13:00:00",
          "2020-01-01T13:00:00",
          "2020-01-01T08:00:00",
          "2020-01-01T08:00:00",
          "2020-01-01T08:00:00",
          "2020-01-01T13:00:00",
          "2020-01-01T13:00:00",
          "2020-01-01T08:00:00"
         ],
         "y": [
          8.8,
          8.8,
          9.2,
          9.2,
          null,
          -0.2,
          -0.2,
          0.2,
          0.2,
          null,
          7.8,
          7.8,
          8.2,
          8.2,
          null,
          1.8,
          1.8,
          2.2,
          2.2
         ]
        },
        {
         "fill": "toself",
         "fillcolor": "rgb(14, 194, 220)",
         "hoverinfo": "name",
         "legendgroup": "rgb(14, 194, 220)",
         "mode": "none",
         "name": "Rodilla VSC",
         "type": "scatter",
         "x": [
          "2020-01-01T14:00:00",
          "2020-01-01T21:00:00",
          "2020-01-01T21:00:00",
          "2020-01-01T14:00:00",
          "2020-01-01T14:00:00",
          "2020-01-01T13:00:00",
          "2020-01-01T21:00:00",
          "2020-01-01T21:00:00",
          "2020-01-01T13:00:00"
         ],
         "y": [
          2.8,
          2.8,
          3.2,
          3.2,
          null,
          1.8,
          1.8,
          2.2,
          2.2
         ]
        },
        {
         "fill": "toself",
         "fillcolor": "rgb(220, 0, 110)",
         "hoverinfo": "name",
         "legendgroup": "rgb(220, 0, 110)",
         "mode": "none",
         "name": "Libre Ley",
         "type": "scatter",
         "x": [
          "2020-01-01T13:00:00",
          "2020-01-01T21:00:00",
          "2020-01-01T21:00:00",
          "2020-01-01T13:00:00"
         ],
         "y": [
          3.8,
          3.8,
          4.2,
          4.2
         ]
        },
        {
         "fill": "toself",
         "fillcolor": "rgb(229, 15, 103)",
         "hoverinfo": "name",
         "legendgroup": "rgb(229, 15, 103)",
         "mode": "none",
         "name": "TyP VSC",
         "type": "scatter",
         "x": [
          "2020-01-01T13:00:00",
          "2020-01-01T21:00:00",
          "2020-01-01T21:00:00",
          "2020-01-01T13:00:00"
         ],
         "y": [
          -0.2,
          -0.2,
          0.2,
          0.2
         ]
        },
        {
         "fill": "toself",
         "fillcolor": "rgb(34, 116, 66)",
         "hoverinfo": "name",
         "legendgroup": "rgb(34, 116, 66)",
         "mode": "none",
         "name": "EESS Ley",
         "type": "scatter",
         "x": [
          "2020-01-01T08:00:00",
          "2020-01-01T13:00:00",
          "2020-01-01T13:00:00",
          "2020-01-01T08:00:00",
          "2020-01-01T08:00:00",
          "2020-01-01T08:00:00",
          "2020-01-01T13:00:00",
          "2020-01-01T13:00:00",
          "2020-01-01T08:00:00",
          "2020-01-01T08:00:00",
          "2020-01-01T08:00:00",
          "2020-01-01T13:00:00",
          "2020-01-01T13:00:00",
          "2020-01-01T08:00:00",
          "2020-01-01T08:00:00",
          "2020-01-01T08:00:00",
          "2020-01-01T13:00:00",
          "2020-01-01T13:00:00",
          "2020-01-01T08:00:00"
         ],
         "y": [
          6.8,
          6.8,
          7.2,
          7.2,
          null,
          5.8,
          5.8,
          6.2,
          6.2,
          null,
          4.8,
          4.8,
          5.2,
          5.2,
          null,
          3.8,
          3.8,
          4.2,
          4.2
         ]
        },
        {
         "fill": "toself",
         "fillcolor": "rgb(7, 195, 80)",
         "hoverinfo": "name",
         "legendgroup": "rgb(7, 195, 80)",
         "mode": "none",
         "name": "EESS VSC",
         "type": "scatter",
         "x": [
          "2020-01-01T13:00:00",
          "2020-01-01T21:00:00",
          "2020-01-01T21:00:00",
          "2020-01-01T13:00:00",
          "2020-01-01T13:00:00",
          "2020-01-01T13:00:00",
          "2020-01-01T21:00:00",
          "2020-01-01T21:00:00",
          "2020-01-01T13:00:00"
         ],
         "y": [
          8.8,
          8.8,
          9.2,
          9.2,
          null,
          7.8,
          7.8,
          8.2,
          8.2
         ]
        },
        {
         "fill": "toself",
         "fillcolor": "rgb(93, 205, 187)",
         "hoverinfo": "name",
         "legendgroup": "rgb(93, 205, 187)",
         "mode": "none",
         "name": "Rodilla Ley",
         "type": "scatter",
         "x": [
          "2020-01-01T08:00:00",
          "2020-01-01T14:00:00",
          "2020-01-01T14:00:00",
          "2020-01-01T08:00:00",
          "2020-01-01T08:00:00",
          "2020-01-01T08:00:00",
          "2020-01-01T14:00:00",
          "2020-01-01T14:00:00",
          "2020-01-01T08:00:00"
         ],
         "y": [
          2.8,
          2.8,
          3.2,
          3.2,
          null,
          0.8,
          0.8,
          1.2,
          1.2
         ]
        },
        {
         "legendgroup": "rgb(110, 0, 220)",
         "marker": {
          "color": "rgb(110, 0, 220)",
          "opacity": 0,
          "size": 1
         },
         "mode": "markers",
         "name": "",
         "showlegend": false,
         "text": [
          null,
          null,
          null,
          null,
          null,
          null
         ],
         "type": "scatter",
         "x": [
          "2020-01-01T14:00:00",
          "2020-01-01T21:00:00",
          "2020-01-01T13:00:00",
          "2020-01-01T21:00:00",
          "2020-01-01T13:00:00",
          "2020-01-01T21:00:00"
         ],
         "y": [
          7,
          7,
          6,
          6,
          5,
          5
         ]
        },
        {
         "legendgroup": "rgb(14, 122, 220)",
         "marker": {
          "color": "rgb(14, 122, 220)",
          "opacity": 0,
          "size": 1
         },
         "mode": "markers",
         "name": "",
         "showlegend": false,
         "text": [
          null,
          null,
          null,
          null,
          null,
          null,
          null,
          null
         ],
         "type": "scatter",
         "x": [
          "2020-01-01T08:00:00",
          "2020-01-01T13:00:00",
          "2020-01-01T08:00:00",
          "2020-01-01T13:00:00",
          "2020-01-01T08:00:00",
          "2020-01-01T13:00:00",
          "2020-01-01T08:00:00",
          "2020-01-01T13:00:00"
         ],
         "y": [
          9,
          9,
          0,
          0,
          8,
          8,
          2,
          2
         ]
        },
        {
         "legendgroup": "rgb(14, 194, 220)",
         "marker": {
          "color": "rgb(14, 194, 220)",
          "opacity": 0,
          "size": 1
         },
         "mode": "markers",
         "name": "",
         "showlegend": false,
         "text": [
          null,
          null,
          null,
          null
         ],
         "type": "scatter",
         "x": [
          "2020-01-01T14:00:00",
          "2020-01-01T21:00:00",
          "2020-01-01T13:00:00",
          "2020-01-01T21:00:00"
         ],
         "y": [
          3,
          3,
          2,
          2
         ]
        },
        {
         "legendgroup": "rgb(220, 0, 110)",
         "marker": {
          "color": "rgb(220, 0, 110)",
          "opacity": 0,
          "size": 1
         },
         "mode": "markers",
         "name": "",
         "showlegend": false,
         "text": [
          null,
          null
         ],
         "type": "scatter",
         "x": [
          "2020-01-01T13:00:00",
          "2020-01-01T21:00:00"
         ],
         "y": [
          4,
          4
         ]
        },
        {
         "legendgroup": "rgb(229, 15, 103)",
         "marker": {
          "color": "rgb(229, 15, 103)",
          "opacity": 0,
          "size": 1
         },
         "mode": "markers",
         "name": "",
         "showlegend": false,
         "text": [
          null,
          null
         ],
         "type": "scatter",
         "x": [
          "2020-01-01T13:00:00",
          "2020-01-01T21:00:00"
         ],
         "y": [
          0,
          0
         ]
        },
        {
         "legendgroup": "rgb(34, 116, 66)",
         "marker": {
          "color": "rgb(34, 116, 66)",
          "opacity": 0,
          "size": 1
         },
         "mode": "markers",
         "name": "",
         "showlegend": false,
         "text": [
          null,
          null,
          null,
          null,
          null,
          null,
          null,
          null
         ],
         "type": "scatter",
         "x": [
          "2020-01-01T08:00:00",
          "2020-01-01T13:00:00",
          "2020-01-01T08:00:00",
          "2020-01-01T13:00:00",
          "2020-01-01T08:00:00",
          "2020-01-01T13:00:00",
          "2020-01-01T08:00:00",
          "2020-01-01T13:00:00"
         ],
         "y": [
          7,
          7,
          6,
          6,
          5,
          5,
          4,
          4
         ]
        },
        {
         "legendgroup": "rgb(7, 195, 80)",
         "marker": {
          "color": "rgb(7, 195, 80)",
          "opacity": 0,
          "size": 1
         },
         "mode": "markers",
         "name": "",
         "showlegend": false,
         "text": [
          null,
          null,
          null,
          null
         ],
         "type": "scatter",
         "x": [
          "2020-01-01T13:00:00",
          "2020-01-01T21:00:00",
          "2020-01-01T13:00:00",
          "2020-01-01T21:00:00"
         ],
         "y": [
          9,
          9,
          8,
          8
         ]
        },
        {
         "legendgroup": "rgb(93, 205, 187)",
         "marker": {
          "color": "rgb(93, 205, 187)",
          "opacity": 0,
          "size": 1
         },
         "mode": "markers",
         "name": "",
         "showlegend": false,
         "text": [
          null,
          null,
          null,
          null
         ],
         "type": "scatter",
         "x": [
          "2020-01-01T08:00:00",
          "2020-01-01T14:00:00",
          "2020-01-01T08:00:00",
          "2020-01-01T14:00:00"
         ],
         "y": [
          3,
          3,
          1,
          1
         ]
        }
       ],
       "layout": {
        "height": 600,
        "hovermode": "closest",
        "showlegend": true,
        "template": {
         "data": {
          "bar": [
           {
            "error_x": {
             "color": "#2a3f5f"
            },
            "error_y": {
             "color": "#2a3f5f"
            },
            "marker": {
             "line": {
              "color": "#E5ECF6",
              "width": 0.5
             }
            },
            "type": "bar"
           }
          ],
          "barpolar": [
           {
            "marker": {
             "line": {
              "color": "#E5ECF6",
              "width": 0.5
             }
            },
            "type": "barpolar"
           }
          ],
          "carpet": [
           {
            "aaxis": {
             "endlinecolor": "#2a3f5f",
             "gridcolor": "white",
             "linecolor": "white",
             "minorgridcolor": "white",
             "startlinecolor": "#2a3f5f"
            },
            "baxis": {
             "endlinecolor": "#2a3f5f",
             "gridcolor": "white",
             "linecolor": "white",
             "minorgridcolor": "white",
             "startlinecolor": "#2a3f5f"
            },
            "type": "carpet"
           }
          ],
          "choropleth": [
           {
            "colorbar": {
             "outlinewidth": 0,
             "ticks": ""
            },
            "type": "choropleth"
           }
          ],
          "contour": [
           {
            "colorbar": {
             "outlinewidth": 0,
             "ticks": ""
            },
            "colorscale": [
             [
              0,
              "#0d0887"
             ],
             [
              0.1111111111111111,
              "#46039f"
             ],
             [
              0.2222222222222222,
              "#7201a8"
             ],
             [
              0.3333333333333333,
              "#9c179e"
             ],
             [
              0.4444444444444444,
              "#bd3786"
             ],
             [
              0.5555555555555556,
              "#d8576b"
             ],
             [
              0.6666666666666666,
              "#ed7953"
             ],
             [
              0.7777777777777778,
              "#fb9f3a"
             ],
             [
              0.8888888888888888,
              "#fdca26"
             ],
             [
              1,
              "#f0f921"
             ]
            ],
            "type": "contour"
           }
          ],
          "contourcarpet": [
           {
            "colorbar": {
             "outlinewidth": 0,
             "ticks": ""
            },
            "type": "contourcarpet"
           }
          ],
          "heatmap": [
           {
            "colorbar": {
             "outlinewidth": 0,
             "ticks": ""
            },
            "colorscale": [
             [
              0,
              "#0d0887"
             ],
             [
              0.1111111111111111,
              "#46039f"
             ],
             [
              0.2222222222222222,
              "#7201a8"
             ],
             [
              0.3333333333333333,
              "#9c179e"
             ],
             [
              0.4444444444444444,
              "#bd3786"
             ],
             [
              0.5555555555555556,
              "#d8576b"
             ],
             [
              0.6666666666666666,
              "#ed7953"
             ],
             [
              0.7777777777777778,
              "#fb9f3a"
             ],
             [
              0.8888888888888888,
              "#fdca26"
             ],
             [
              1,
              "#f0f921"
             ]
            ],
            "type": "heatmap"
           }
          ],
          "heatmapgl": [
           {
            "colorbar": {
             "outlinewidth": 0,
             "ticks": ""
            },
            "colorscale": [
             [
              0,
              "#0d0887"
             ],
             [
              0.1111111111111111,
              "#46039f"
             ],
             [
              0.2222222222222222,
              "#7201a8"
             ],
             [
              0.3333333333333333,
              "#9c179e"
             ],
             [
              0.4444444444444444,
              "#bd3786"
             ],
             [
              0.5555555555555556,
              "#d8576b"
             ],
             [
              0.6666666666666666,
              "#ed7953"
             ],
             [
              0.7777777777777778,
              "#fb9f3a"
             ],
             [
              0.8888888888888888,
              "#fdca26"
             ],
             [
              1,
              "#f0f921"
             ]
            ],
            "type": "heatmapgl"
           }
          ],
          "histogram": [
           {
            "marker": {
             "colorbar": {
              "outlinewidth": 0,
              "ticks": ""
             }
            },
            "type": "histogram"
           }
          ],
          "histogram2d": [
           {
            "colorbar": {
             "outlinewidth": 0,
             "ticks": ""
            },
            "colorscale": [
             [
              0,
              "#0d0887"
             ],
             [
              0.1111111111111111,
              "#46039f"
             ],
             [
              0.2222222222222222,
              "#7201a8"
             ],
             [
              0.3333333333333333,
              "#9c179e"
             ],
             [
              0.4444444444444444,
              "#bd3786"
             ],
             [
              0.5555555555555556,
              "#d8576b"
             ],
             [
              0.6666666666666666,
              "#ed7953"
             ],
             [
              0.7777777777777778,
              "#fb9f3a"
             ],
             [
              0.8888888888888888,
              "#fdca26"
             ],
             [
              1,
              "#f0f921"
             ]
            ],
            "type": "histogram2d"
           }
          ],
          "histogram2dcontour": [
           {
            "colorbar": {
             "outlinewidth": 0,
             "ticks": ""
            },
            "colorscale": [
             [
              0,
              "#0d0887"
             ],
             [
              0.1111111111111111,
              "#46039f"
             ],
             [
              0.2222222222222222,
              "#7201a8"
             ],
             [
              0.3333333333333333,
              "#9c179e"
             ],
             [
              0.4444444444444444,
              "#bd3786"
             ],
             [
              0.5555555555555556,
              "#d8576b"
             ],
             [
              0.6666666666666666,
              "#ed7953"
             ],
             [
              0.7777777777777778,
              "#fb9f3a"
             ],
             [
              0.8888888888888888,
              "#fdca26"
             ],
             [
              1,
              "#f0f921"
             ]
            ],
            "type": "histogram2dcontour"
           }
          ],
          "mesh3d": [
           {
            "colorbar": {
             "outlinewidth": 0,
             "ticks": ""
            },
            "type": "mesh3d"
           }
          ],
          "parcoords": [
           {
            "line": {
             "colorbar": {
              "outlinewidth": 0,
              "ticks": ""
             }
            },
            "type": "parcoords"
           }
          ],
          "pie": [
           {
            "automargin": true,
            "type": "pie"
           }
          ],
          "scatter": [
           {
            "marker": {
             "colorbar": {
              "outlinewidth": 0,
              "ticks": ""
             }
            },
            "type": "scatter"
           }
          ],
          "scatter3d": [
           {
            "line": {
             "colorbar": {
              "outlinewidth": 0,
              "ticks": ""
             }
            },
            "marker": {
             "colorbar": {
              "outlinewidth": 0,
              "ticks": ""
             }
            },
            "type": "scatter3d"
           }
          ],
          "scattercarpet": [
           {
            "marker": {
             "colorbar": {
              "outlinewidth": 0,
              "ticks": ""
             }
            },
            "type": "scattercarpet"
           }
          ],
          "scattergeo": [
           {
            "marker": {
             "colorbar": {
              "outlinewidth": 0,
              "ticks": ""
             }
            },
            "type": "scattergeo"
           }
          ],
          "scattergl": [
           {
            "marker": {
             "colorbar": {
              "outlinewidth": 0,
              "ticks": ""
             }
            },
            "type": "scattergl"
           }
          ],
          "scattermapbox": [
           {
            "marker": {
             "colorbar": {
              "outlinewidth": 0,
              "ticks": ""
             }
            },
            "type": "scattermapbox"
           }
          ],
          "scatterpolar": [
           {
            "marker": {
             "colorbar": {
              "outlinewidth": 0,
              "ticks": ""
             }
            },
            "type": "scatterpolar"
           }
          ],
          "scatterpolargl": [
           {
            "marker": {
             "colorbar": {
              "outlinewidth": 0,
              "ticks": ""
             }
            },
            "type": "scatterpolargl"
           }
          ],
          "scatterternary": [
           {
            "marker": {
             "colorbar": {
              "outlinewidth": 0,
              "ticks": ""
             }
            },
            "type": "scatterternary"
           }
          ],
          "surface": [
           {
            "colorbar": {
             "outlinewidth": 0,
             "ticks": ""
            },
            "colorscale": [
             [
              0,
              "#0d0887"
             ],
             [
              0.1111111111111111,
              "#46039f"
             ],
             [
              0.2222222222222222,
              "#7201a8"
             ],
             [
              0.3333333333333333,
              "#9c179e"
             ],
             [
              0.4444444444444444,
              "#bd3786"
             ],
             [
              0.5555555555555556,
              "#d8576b"
             ],
             [
              0.6666666666666666,
              "#ed7953"
             ],
             [
              0.7777777777777778,
              "#fb9f3a"
             ],
             [
              0.8888888888888888,
              "#fdca26"
             ],
             [
              1,
              "#f0f921"
             ]
            ],
            "type": "surface"
           }
          ],
          "table": [
           {
            "cells": {
             "fill": {
              "color": "#EBF0F8"
             },
             "line": {
              "color": "white"
             }
            },
            "header": {
             "fill": {
              "color": "#C8D4E3"
             },
             "line": {
              "color": "white"
             }
            },
            "type": "table"
           }
          ]
         },
         "layout": {
          "annotationdefaults": {
           "arrowcolor": "#2a3f5f",
           "arrowhead": 0,
           "arrowwidth": 1
          },
          "coloraxis": {
           "colorbar": {
            "outlinewidth": 0,
            "ticks": ""
           }
          },
          "colorscale": {
           "diverging": [
            [
             0,
             "#8e0152"
            ],
            [
             0.1,
             "#c51b7d"
            ],
            [
             0.2,
             "#de77ae"
            ],
            [
             0.3,
             "#f1b6da"
            ],
            [
             0.4,
             "#fde0ef"
            ],
            [
             0.5,
             "#f7f7f7"
            ],
            [
             0.6,
             "#e6f5d0"
            ],
            [
             0.7,
             "#b8e186"
            ],
            [
             0.8,
             "#7fbc41"
            ],
            [
             0.9,
             "#4d9221"
            ],
            [
             1,
             "#276419"
            ]
           ],
           "sequential": [
            [
             0,
             "#0d0887"
            ],
            [
             0.1111111111111111,
             "#46039f"
            ],
            [
             0.2222222222222222,
             "#7201a8"
            ],
            [
             0.3333333333333333,
             "#9c179e"
            ],
            [
             0.4444444444444444,
             "#bd3786"
            ],
            [
             0.5555555555555556,
             "#d8576b"
            ],
            [
             0.6666666666666666,
             "#ed7953"
            ],
            [
             0.7777777777777778,
             "#fb9f3a"
            ],
            [
             0.8888888888888888,
             "#fdca26"
            ],
            [
             1,
             "#f0f921"
            ]
           ],
           "sequentialminus": [
            [
             0,
             "#0d0887"
            ],
            [
             0.1111111111111111,
             "#46039f"
            ],
            [
             0.2222222222222222,
             "#7201a8"
            ],
            [
             0.3333333333333333,
             "#9c179e"
            ],
            [
             0.4444444444444444,
             "#bd3786"
            ],
            [
             0.5555555555555556,
             "#d8576b"
            ],
            [
             0.6666666666666666,
             "#ed7953"
            ],
            [
             0.7777777777777778,
             "#fb9f3a"
            ],
            [
             0.8888888888888888,
             "#fdca26"
            ],
            [
             1,
             "#f0f921"
            ]
           ]
          },
          "colorway": [
           "#636efa",
           "#EF553B",
           "#00cc96",
           "#ab63fa",
           "#FFA15A",
           "#19d3f3",
           "#FF6692",
           "#B6E880",
           "#FF97FF",
           "#FECB52"
          ],
          "font": {
           "color": "#2a3f5f"
          },
          "geo": {
           "bgcolor": "white",
           "lakecolor": "white",
           "landcolor": "#E5ECF6",
           "showlakes": true,
           "showland": true,
           "subunitcolor": "white"
          },
          "hoverlabel": {
           "align": "left"
          },
          "hovermode": "closest",
          "mapbox": {
           "style": "light"
          },
          "paper_bgcolor": "white",
          "plot_bgcolor": "#E5ECF6",
          "polar": {
           "angularaxis": {
            "gridcolor": "white",
            "linecolor": "white",
            "ticks": ""
           },
           "bgcolor": "#E5ECF6",
           "radialaxis": {
            "gridcolor": "white",
            "linecolor": "white",
            "ticks": ""
           }
          },
          "scene": {
           "xaxis": {
            "backgroundcolor": "#E5ECF6",
            "gridcolor": "white",
            "gridwidth": 2,
            "linecolor": "white",
            "showbackground": true,
            "ticks": "",
            "zerolinecolor": "white"
           },
           "yaxis": {
            "backgroundcolor": "#E5ECF6",
            "gridcolor": "white",
            "gridwidth": 2,
            "linecolor": "white",
            "showbackground": true,
            "ticks": "",
            "zerolinecolor": "white"
           },
           "zaxis": {
            "backgroundcolor": "#E5ECF6",
            "gridcolor": "white",
            "gridwidth": 2,
            "linecolor": "white",
            "showbackground": true,
            "ticks": "",
            "zerolinecolor": "white"
           }
          },
          "shapedefaults": {
           "line": {
            "color": "#2a3f5f"
           }
          },
          "ternary": {
           "aaxis": {
            "gridcolor": "white",
            "linecolor": "white",
            "ticks": ""
           },
           "baxis": {
            "gridcolor": "white",
            "linecolor": "white",
            "ticks": ""
           },
           "bgcolor": "#E5ECF6",
           "caxis": {
            "gridcolor": "white",
            "linecolor": "white",
            "ticks": ""
           }
          },
          "title": {
           "x": 0.05
          },
          "xaxis": {
           "automargin": true,
           "gridcolor": "white",
           "linecolor": "white",
           "ticks": "",
           "title": {
            "standoff": 15
           },
           "zerolinecolor": "white",
           "zerolinewidth": 2
          },
          "yaxis": {
           "automargin": true,
           "gridcolor": "white",
           "linecolor": "white",
           "ticks": "",
           "title": {
            "standoff": 15
           },
           "zerolinecolor": "white",
           "zerolinewidth": 2
          }
         }
        },
        "title": {
         "text": "Día Viernes"
        },
        "xaxis": {
         "rangeselector": {
          "buttons": [
           {
            "count": 7,
            "label": "1w",
            "step": "day",
            "stepmode": "backward"
           },
           {
            "count": 1,
            "label": "1m",
            "step": "month",
            "stepmode": "backward"
           },
           {
            "count": 6,
            "label": "6m",
            "step": "month",
            "stepmode": "backward"
           },
           {
            "count": 1,
            "label": "YTD",
            "step": "year",
            "stepmode": "todate"
           },
           {
            "count": 1,
            "label": "1y",
            "step": "year",
            "stepmode": "backward"
           },
           {
            "step": "all"
           }
          ]
         },
         "showgrid": true,
         "type": "date",
         "zeroline": false
        },
        "yaxis": {
         "autorange": false,
         "range": [
          -1,
          11
         ],
         "showgrid": true,
         "ticktext": [
          "Pabellón 2",
          "Pabellón 8",
          "Pabellón 5",
          "Pabellón 4",
          "UCA 3",
          "UCA 2",
          "UCA 1",
          "Pabellón 7",
          "Pabellón 3",
          "Pabellón 1"
         ],
         "tickvals": [
          0,
          1,
          2,
          3,
          4,
          5,
          6,
          7,
          8,
          9
         ],
         "zeroline": false
        }
       }
      },
      "text/html": [
       "<div>\n",
       "        \n",
       "        \n",
       "            <div id=\"08194040-a18b-4075-9ea2-55ea6ac3414d\" class=\"plotly-graph-div\" style=\"height:600px; width:100%;\"></div>\n",
       "            <script type=\"text/javascript\">\n",
       "                require([\"plotly\"], function(Plotly) {\n",
       "                    window.PLOTLYENV=window.PLOTLYENV || {};\n",
       "                    \n",
       "                if (document.getElementById(\"08194040-a18b-4075-9ea2-55ea6ac3414d\")) {\n",
       "                    Plotly.newPlot(\n",
       "                        '08194040-a18b-4075-9ea2-55ea6ac3414d',\n",
       "                        [{\"fill\": \"toself\", \"fillcolor\": \"rgb(110, 0, 220)\", \"hoverinfo\": \"name\", \"legendgroup\": \"rgb(110, 0, 220)\", \"mode\": \"none\", \"name\": \"Libre VSC\", \"type\": \"scatter\", \"x\": [\"2020-01-01T14:00:00\", \"2020-01-01T21:00:00\", \"2020-01-01T21:00:00\", \"2020-01-01T14:00:00\", \"2020-01-01T14:00:00\", \"2020-01-01T13:00:00\", \"2020-01-01T21:00:00\", \"2020-01-01T21:00:00\", \"2020-01-01T13:00:00\", \"2020-01-01T13:00:00\", \"2020-01-01T13:00:00\", \"2020-01-01T21:00:00\", \"2020-01-01T21:00:00\", \"2020-01-01T13:00:00\"], \"y\": [6.8, 6.8, 7.2, 7.2, null, 5.8, 5.8, 6.2, 6.2, null, 4.8, 4.8, 5.2, 5.2]}, {\"fill\": \"toself\", \"fillcolor\": \"rgb(14, 122, 220)\", \"hoverinfo\": \"name\", \"legendgroup\": \"rgb(14, 122, 220)\", \"mode\": \"none\", \"name\": \"CPQ Ley\", \"type\": \"scatter\", \"x\": [\"2020-01-01T08:00:00\", \"2020-01-01T13:00:00\", \"2020-01-01T13:00:00\", \"2020-01-01T08:00:00\", \"2020-01-01T08:00:00\", \"2020-01-01T08:00:00\", \"2020-01-01T13:00:00\", \"2020-01-01T13:00:00\", \"2020-01-01T08:00:00\", \"2020-01-01T08:00:00\", \"2020-01-01T08:00:00\", \"2020-01-01T13:00:00\", \"2020-01-01T13:00:00\", \"2020-01-01T08:00:00\", \"2020-01-01T08:00:00\", \"2020-01-01T08:00:00\", \"2020-01-01T13:00:00\", \"2020-01-01T13:00:00\", \"2020-01-01T08:00:00\"], \"y\": [8.8, 8.8, 9.2, 9.2, null, -0.2, -0.2, 0.2, 0.2, null, 7.8, 7.8, 8.2, 8.2, null, 1.8, 1.8, 2.2, 2.2]}, {\"fill\": \"toself\", \"fillcolor\": \"rgb(14, 194, 220)\", \"hoverinfo\": \"name\", \"legendgroup\": \"rgb(14, 194, 220)\", \"mode\": \"none\", \"name\": \"Rodilla VSC\", \"type\": \"scatter\", \"x\": [\"2020-01-01T14:00:00\", \"2020-01-01T21:00:00\", \"2020-01-01T21:00:00\", \"2020-01-01T14:00:00\", \"2020-01-01T14:00:00\", \"2020-01-01T13:00:00\", \"2020-01-01T21:00:00\", \"2020-01-01T21:00:00\", \"2020-01-01T13:00:00\"], \"y\": [2.8, 2.8, 3.2, 3.2, null, 1.8, 1.8, 2.2, 2.2]}, {\"fill\": \"toself\", \"fillcolor\": \"rgb(220, 0, 110)\", \"hoverinfo\": \"name\", \"legendgroup\": \"rgb(220, 0, 110)\", \"mode\": \"none\", \"name\": \"Libre Ley\", \"type\": \"scatter\", \"x\": [\"2020-01-01T13:00:00\", \"2020-01-01T21:00:00\", \"2020-01-01T21:00:00\", \"2020-01-01T13:00:00\"], \"y\": [3.8, 3.8, 4.2, 4.2]}, {\"fill\": \"toself\", \"fillcolor\": \"rgb(229, 15, 103)\", \"hoverinfo\": \"name\", \"legendgroup\": \"rgb(229, 15, 103)\", \"mode\": \"none\", \"name\": \"TyP VSC\", \"type\": \"scatter\", \"x\": [\"2020-01-01T13:00:00\", \"2020-01-01T21:00:00\", \"2020-01-01T21:00:00\", \"2020-01-01T13:00:00\"], \"y\": [-0.2, -0.2, 0.2, 0.2]}, {\"fill\": \"toself\", \"fillcolor\": \"rgb(34, 116, 66)\", \"hoverinfo\": \"name\", \"legendgroup\": \"rgb(34, 116, 66)\", \"mode\": \"none\", \"name\": \"EESS Ley\", \"type\": \"scatter\", \"x\": [\"2020-01-01T08:00:00\", \"2020-01-01T13:00:00\", \"2020-01-01T13:00:00\", \"2020-01-01T08:00:00\", \"2020-01-01T08:00:00\", \"2020-01-01T08:00:00\", \"2020-01-01T13:00:00\", \"2020-01-01T13:00:00\", \"2020-01-01T08:00:00\", \"2020-01-01T08:00:00\", \"2020-01-01T08:00:00\", \"2020-01-01T13:00:00\", \"2020-01-01T13:00:00\", \"2020-01-01T08:00:00\", \"2020-01-01T08:00:00\", \"2020-01-01T08:00:00\", \"2020-01-01T13:00:00\", \"2020-01-01T13:00:00\", \"2020-01-01T08:00:00\"], \"y\": [6.8, 6.8, 7.2, 7.2, null, 5.8, 5.8, 6.2, 6.2, null, 4.8, 4.8, 5.2, 5.2, null, 3.8, 3.8, 4.2, 4.2]}, {\"fill\": \"toself\", \"fillcolor\": \"rgb(7, 195, 80)\", \"hoverinfo\": \"name\", \"legendgroup\": \"rgb(7, 195, 80)\", \"mode\": \"none\", \"name\": \"EESS VSC\", \"type\": \"scatter\", \"x\": [\"2020-01-01T13:00:00\", \"2020-01-01T21:00:00\", \"2020-01-01T21:00:00\", \"2020-01-01T13:00:00\", \"2020-01-01T13:00:00\", \"2020-01-01T13:00:00\", \"2020-01-01T21:00:00\", \"2020-01-01T21:00:00\", \"2020-01-01T13:00:00\"], \"y\": [8.8, 8.8, 9.2, 9.2, null, 7.8, 7.8, 8.2, 8.2]}, {\"fill\": \"toself\", \"fillcolor\": \"rgb(93, 205, 187)\", \"hoverinfo\": \"name\", \"legendgroup\": \"rgb(93, 205, 187)\", \"mode\": \"none\", \"name\": \"Rodilla Ley\", \"type\": \"scatter\", \"x\": [\"2020-01-01T08:00:00\", \"2020-01-01T14:00:00\", \"2020-01-01T14:00:00\", \"2020-01-01T08:00:00\", \"2020-01-01T08:00:00\", \"2020-01-01T08:00:00\", \"2020-01-01T14:00:00\", \"2020-01-01T14:00:00\", \"2020-01-01T08:00:00\"], \"y\": [2.8, 2.8, 3.2, 3.2, null, 0.8, 0.8, 1.2, 1.2]}, {\"legendgroup\": \"rgb(110, 0, 220)\", \"marker\": {\"color\": \"rgb(110, 0, 220)\", \"opacity\": 0, \"size\": 1}, \"mode\": \"markers\", \"name\": \"\", \"showlegend\": false, \"text\": [null, null, null, null, null, null], \"type\": \"scatter\", \"x\": [\"2020-01-01T14:00:00\", \"2020-01-01T21:00:00\", \"2020-01-01T13:00:00\", \"2020-01-01T21:00:00\", \"2020-01-01T13:00:00\", \"2020-01-01T21:00:00\"], \"y\": [7, 7, 6, 6, 5, 5]}, {\"legendgroup\": \"rgb(14, 122, 220)\", \"marker\": {\"color\": \"rgb(14, 122, 220)\", \"opacity\": 0, \"size\": 1}, \"mode\": \"markers\", \"name\": \"\", \"showlegend\": false, \"text\": [null, null, null, null, null, null, null, null], \"type\": \"scatter\", \"x\": [\"2020-01-01T08:00:00\", \"2020-01-01T13:00:00\", \"2020-01-01T08:00:00\", \"2020-01-01T13:00:00\", \"2020-01-01T08:00:00\", \"2020-01-01T13:00:00\", \"2020-01-01T08:00:00\", \"2020-01-01T13:00:00\"], \"y\": [9, 9, 0, 0, 8, 8, 2, 2]}, {\"legendgroup\": \"rgb(14, 194, 220)\", \"marker\": {\"color\": \"rgb(14, 194, 220)\", \"opacity\": 0, \"size\": 1}, \"mode\": \"markers\", \"name\": \"\", \"showlegend\": false, \"text\": [null, null, null, null], \"type\": \"scatter\", \"x\": [\"2020-01-01T14:00:00\", \"2020-01-01T21:00:00\", \"2020-01-01T13:00:00\", \"2020-01-01T21:00:00\"], \"y\": [3, 3, 2, 2]}, {\"legendgroup\": \"rgb(220, 0, 110)\", \"marker\": {\"color\": \"rgb(220, 0, 110)\", \"opacity\": 0, \"size\": 1}, \"mode\": \"markers\", \"name\": \"\", \"showlegend\": false, \"text\": [null, null], \"type\": \"scatter\", \"x\": [\"2020-01-01T13:00:00\", \"2020-01-01T21:00:00\"], \"y\": [4, 4]}, {\"legendgroup\": \"rgb(229, 15, 103)\", \"marker\": {\"color\": \"rgb(229, 15, 103)\", \"opacity\": 0, \"size\": 1}, \"mode\": \"markers\", \"name\": \"\", \"showlegend\": false, \"text\": [null, null], \"type\": \"scatter\", \"x\": [\"2020-01-01T13:00:00\", \"2020-01-01T21:00:00\"], \"y\": [0, 0]}, {\"legendgroup\": \"rgb(34, 116, 66)\", \"marker\": {\"color\": \"rgb(34, 116, 66)\", \"opacity\": 0, \"size\": 1}, \"mode\": \"markers\", \"name\": \"\", \"showlegend\": false, \"text\": [null, null, null, null, null, null, null, null], \"type\": \"scatter\", \"x\": [\"2020-01-01T08:00:00\", \"2020-01-01T13:00:00\", \"2020-01-01T08:00:00\", \"2020-01-01T13:00:00\", \"2020-01-01T08:00:00\", \"2020-01-01T13:00:00\", \"2020-01-01T08:00:00\", \"2020-01-01T13:00:00\"], \"y\": [7, 7, 6, 6, 5, 5, 4, 4]}, {\"legendgroup\": \"rgb(7, 195, 80)\", \"marker\": {\"color\": \"rgb(7, 195, 80)\", \"opacity\": 0, \"size\": 1}, \"mode\": \"markers\", \"name\": \"\", \"showlegend\": false, \"text\": [null, null, null, null], \"type\": \"scatter\", \"x\": [\"2020-01-01T13:00:00\", \"2020-01-01T21:00:00\", \"2020-01-01T13:00:00\", \"2020-01-01T21:00:00\"], \"y\": [9, 9, 8, 8]}, {\"legendgroup\": \"rgb(93, 205, 187)\", \"marker\": {\"color\": \"rgb(93, 205, 187)\", \"opacity\": 0, \"size\": 1}, \"mode\": \"markers\", \"name\": \"\", \"showlegend\": false, \"text\": [null, null, null, null], \"type\": \"scatter\", \"x\": [\"2020-01-01T08:00:00\", \"2020-01-01T14:00:00\", \"2020-01-01T08:00:00\", \"2020-01-01T14:00:00\"], \"y\": [3, 3, 1, 1]}],\n",
       "                        {\"height\": 600, \"hovermode\": \"closest\", \"showlegend\": true, \"template\": {\"data\": {\"bar\": [{\"error_x\": {\"color\": \"#2a3f5f\"}, \"error_y\": {\"color\": \"#2a3f5f\"}, \"marker\": {\"line\": {\"color\": \"#E5ECF6\", \"width\": 0.5}}, \"type\": \"bar\"}], \"barpolar\": [{\"marker\": {\"line\": {\"color\": \"#E5ECF6\", \"width\": 0.5}}, \"type\": \"barpolar\"}], \"carpet\": [{\"aaxis\": {\"endlinecolor\": \"#2a3f5f\", \"gridcolor\": \"white\", \"linecolor\": \"white\", \"minorgridcolor\": \"white\", \"startlinecolor\": \"#2a3f5f\"}, \"baxis\": {\"endlinecolor\": \"#2a3f5f\", \"gridcolor\": \"white\", \"linecolor\": \"white\", \"minorgridcolor\": \"white\", \"startlinecolor\": \"#2a3f5f\"}, \"type\": \"carpet\"}], \"choropleth\": [{\"colorbar\": {\"outlinewidth\": 0, \"ticks\": \"\"}, \"type\": \"choropleth\"}], \"contour\": [{\"colorbar\": {\"outlinewidth\": 0, \"ticks\": \"\"}, \"colorscale\": [[0.0, \"#0d0887\"], [0.1111111111111111, \"#46039f\"], [0.2222222222222222, \"#7201a8\"], [0.3333333333333333, \"#9c179e\"], [0.4444444444444444, \"#bd3786\"], [0.5555555555555556, \"#d8576b\"], [0.6666666666666666, \"#ed7953\"], [0.7777777777777778, \"#fb9f3a\"], [0.8888888888888888, \"#fdca26\"], [1.0, \"#f0f921\"]], \"type\": \"contour\"}], \"contourcarpet\": [{\"colorbar\": {\"outlinewidth\": 0, \"ticks\": \"\"}, \"type\": \"contourcarpet\"}], \"heatmap\": [{\"colorbar\": {\"outlinewidth\": 0, \"ticks\": \"\"}, \"colorscale\": [[0.0, \"#0d0887\"], [0.1111111111111111, \"#46039f\"], [0.2222222222222222, \"#7201a8\"], [0.3333333333333333, \"#9c179e\"], [0.4444444444444444, \"#bd3786\"], [0.5555555555555556, \"#d8576b\"], [0.6666666666666666, \"#ed7953\"], [0.7777777777777778, \"#fb9f3a\"], [0.8888888888888888, \"#fdca26\"], [1.0, \"#f0f921\"]], \"type\": \"heatmap\"}], \"heatmapgl\": [{\"colorbar\": {\"outlinewidth\": 0, \"ticks\": \"\"}, \"colorscale\": [[0.0, \"#0d0887\"], [0.1111111111111111, \"#46039f\"], [0.2222222222222222, \"#7201a8\"], [0.3333333333333333, \"#9c179e\"], [0.4444444444444444, \"#bd3786\"], [0.5555555555555556, \"#d8576b\"], [0.6666666666666666, \"#ed7953\"], [0.7777777777777778, \"#fb9f3a\"], [0.8888888888888888, \"#fdca26\"], [1.0, \"#f0f921\"]], \"type\": \"heatmapgl\"}], \"histogram\": [{\"marker\": {\"colorbar\": {\"outlinewidth\": 0, \"ticks\": \"\"}}, \"type\": \"histogram\"}], \"histogram2d\": [{\"colorbar\": {\"outlinewidth\": 0, \"ticks\": \"\"}, \"colorscale\": [[0.0, \"#0d0887\"], [0.1111111111111111, \"#46039f\"], [0.2222222222222222, \"#7201a8\"], [0.3333333333333333, \"#9c179e\"], [0.4444444444444444, \"#bd3786\"], [0.5555555555555556, \"#d8576b\"], [0.6666666666666666, \"#ed7953\"], [0.7777777777777778, \"#fb9f3a\"], [0.8888888888888888, \"#fdca26\"], [1.0, \"#f0f921\"]], \"type\": \"histogram2d\"}], \"histogram2dcontour\": [{\"colorbar\": {\"outlinewidth\": 0, \"ticks\": \"\"}, \"colorscale\": [[0.0, \"#0d0887\"], [0.1111111111111111, \"#46039f\"], [0.2222222222222222, \"#7201a8\"], [0.3333333333333333, \"#9c179e\"], [0.4444444444444444, \"#bd3786\"], [0.5555555555555556, \"#d8576b\"], [0.6666666666666666, \"#ed7953\"], [0.7777777777777778, \"#fb9f3a\"], [0.8888888888888888, \"#fdca26\"], [1.0, \"#f0f921\"]], \"type\": \"histogram2dcontour\"}], \"mesh3d\": [{\"colorbar\": {\"outlinewidth\": 0, \"ticks\": \"\"}, \"type\": \"mesh3d\"}], \"parcoords\": [{\"line\": {\"colorbar\": {\"outlinewidth\": 0, \"ticks\": \"\"}}, \"type\": \"parcoords\"}], \"pie\": [{\"automargin\": true, \"type\": \"pie\"}], \"scatter\": [{\"marker\": {\"colorbar\": {\"outlinewidth\": 0, \"ticks\": \"\"}}, \"type\": \"scatter\"}], \"scatter3d\": [{\"line\": {\"colorbar\": {\"outlinewidth\": 0, \"ticks\": \"\"}}, \"marker\": {\"colorbar\": {\"outlinewidth\": 0, \"ticks\": \"\"}}, \"type\": \"scatter3d\"}], \"scattercarpet\": [{\"marker\": {\"colorbar\": {\"outlinewidth\": 0, \"ticks\": \"\"}}, \"type\": \"scattercarpet\"}], \"scattergeo\": [{\"marker\": {\"colorbar\": {\"outlinewidth\": 0, \"ticks\": \"\"}}, \"type\": \"scattergeo\"}], \"scattergl\": [{\"marker\": {\"colorbar\": {\"outlinewidth\": 0, \"ticks\": \"\"}}, \"type\": \"scattergl\"}], \"scattermapbox\": [{\"marker\": {\"colorbar\": {\"outlinewidth\": 0, \"ticks\": \"\"}}, \"type\": \"scattermapbox\"}], \"scatterpolar\": [{\"marker\": {\"colorbar\": {\"outlinewidth\": 0, \"ticks\": \"\"}}, \"type\": \"scatterpolar\"}], \"scatterpolargl\": [{\"marker\": {\"colorbar\": {\"outlinewidth\": 0, \"ticks\": \"\"}}, \"type\": \"scatterpolargl\"}], \"scatterternary\": [{\"marker\": {\"colorbar\": {\"outlinewidth\": 0, \"ticks\": \"\"}}, \"type\": \"scatterternary\"}], \"surface\": [{\"colorbar\": {\"outlinewidth\": 0, \"ticks\": \"\"}, \"colorscale\": [[0.0, \"#0d0887\"], [0.1111111111111111, \"#46039f\"], [0.2222222222222222, \"#7201a8\"], [0.3333333333333333, \"#9c179e\"], [0.4444444444444444, \"#bd3786\"], [0.5555555555555556, \"#d8576b\"], [0.6666666666666666, \"#ed7953\"], [0.7777777777777778, \"#fb9f3a\"], [0.8888888888888888, \"#fdca26\"], [1.0, \"#f0f921\"]], \"type\": \"surface\"}], \"table\": [{\"cells\": {\"fill\": {\"color\": \"#EBF0F8\"}, \"line\": {\"color\": \"white\"}}, \"header\": {\"fill\": {\"color\": \"#C8D4E3\"}, \"line\": {\"color\": \"white\"}}, \"type\": \"table\"}]}, \"layout\": {\"annotationdefaults\": {\"arrowcolor\": \"#2a3f5f\", \"arrowhead\": 0, \"arrowwidth\": 1}, \"coloraxis\": {\"colorbar\": {\"outlinewidth\": 0, \"ticks\": \"\"}}, \"colorscale\": {\"diverging\": [[0, \"#8e0152\"], [0.1, \"#c51b7d\"], [0.2, \"#de77ae\"], [0.3, \"#f1b6da\"], [0.4, \"#fde0ef\"], [0.5, \"#f7f7f7\"], [0.6, \"#e6f5d0\"], [0.7, \"#b8e186\"], [0.8, \"#7fbc41\"], [0.9, \"#4d9221\"], [1, \"#276419\"]], \"sequential\": [[0.0, \"#0d0887\"], [0.1111111111111111, \"#46039f\"], [0.2222222222222222, \"#7201a8\"], [0.3333333333333333, \"#9c179e\"], [0.4444444444444444, \"#bd3786\"], [0.5555555555555556, \"#d8576b\"], [0.6666666666666666, \"#ed7953\"], [0.7777777777777778, \"#fb9f3a\"], [0.8888888888888888, \"#fdca26\"], [1.0, \"#f0f921\"]], \"sequentialminus\": [[0.0, \"#0d0887\"], [0.1111111111111111, \"#46039f\"], [0.2222222222222222, \"#7201a8\"], [0.3333333333333333, \"#9c179e\"], [0.4444444444444444, \"#bd3786\"], [0.5555555555555556, \"#d8576b\"], [0.6666666666666666, \"#ed7953\"], [0.7777777777777778, \"#fb9f3a\"], [0.8888888888888888, \"#fdca26\"], [1.0, \"#f0f921\"]]}, \"colorway\": [\"#636efa\", \"#EF553B\", \"#00cc96\", \"#ab63fa\", \"#FFA15A\", \"#19d3f3\", \"#FF6692\", \"#B6E880\", \"#FF97FF\", \"#FECB52\"], \"font\": {\"color\": \"#2a3f5f\"}, \"geo\": {\"bgcolor\": \"white\", \"lakecolor\": \"white\", \"landcolor\": \"#E5ECF6\", \"showlakes\": true, \"showland\": true, \"subunitcolor\": \"white\"}, \"hoverlabel\": {\"align\": \"left\"}, \"hovermode\": \"closest\", \"mapbox\": {\"style\": \"light\"}, \"paper_bgcolor\": \"white\", \"plot_bgcolor\": \"#E5ECF6\", \"polar\": {\"angularaxis\": {\"gridcolor\": \"white\", \"linecolor\": \"white\", \"ticks\": \"\"}, \"bgcolor\": \"#E5ECF6\", \"radialaxis\": {\"gridcolor\": \"white\", \"linecolor\": \"white\", \"ticks\": \"\"}}, \"scene\": {\"xaxis\": {\"backgroundcolor\": \"#E5ECF6\", \"gridcolor\": \"white\", \"gridwidth\": 2, \"linecolor\": \"white\", \"showbackground\": true, \"ticks\": \"\", \"zerolinecolor\": \"white\"}, \"yaxis\": {\"backgroundcolor\": \"#E5ECF6\", \"gridcolor\": \"white\", \"gridwidth\": 2, \"linecolor\": \"white\", \"showbackground\": true, \"ticks\": \"\", \"zerolinecolor\": \"white\"}, \"zaxis\": {\"backgroundcolor\": \"#E5ECF6\", \"gridcolor\": \"white\", \"gridwidth\": 2, \"linecolor\": \"white\", \"showbackground\": true, \"ticks\": \"\", \"zerolinecolor\": \"white\"}}, \"shapedefaults\": {\"line\": {\"color\": \"#2a3f5f\"}}, \"ternary\": {\"aaxis\": {\"gridcolor\": \"white\", \"linecolor\": \"white\", \"ticks\": \"\"}, \"baxis\": {\"gridcolor\": \"white\", \"linecolor\": \"white\", \"ticks\": \"\"}, \"bgcolor\": \"#E5ECF6\", \"caxis\": {\"gridcolor\": \"white\", \"linecolor\": \"white\", \"ticks\": \"\"}}, \"title\": {\"x\": 0.05}, \"xaxis\": {\"automargin\": true, \"gridcolor\": \"white\", \"linecolor\": \"white\", \"ticks\": \"\", \"title\": {\"standoff\": 15}, \"zerolinecolor\": \"white\", \"zerolinewidth\": 2}, \"yaxis\": {\"automargin\": true, \"gridcolor\": \"white\", \"linecolor\": \"white\", \"ticks\": \"\", \"title\": {\"standoff\": 15}, \"zerolinecolor\": \"white\", \"zerolinewidth\": 2}}}, \"title\": {\"text\": \"D\\u00eda Viernes\"}, \"xaxis\": {\"rangeselector\": {\"buttons\": [{\"count\": 7, \"label\": \"1w\", \"step\": \"day\", \"stepmode\": \"backward\"}, {\"count\": 1, \"label\": \"1m\", \"step\": \"month\", \"stepmode\": \"backward\"}, {\"count\": 6, \"label\": \"6m\", \"step\": \"month\", \"stepmode\": \"backward\"}, {\"count\": 1, \"label\": \"YTD\", \"step\": \"year\", \"stepmode\": \"todate\"}, {\"count\": 1, \"label\": \"1y\", \"step\": \"year\", \"stepmode\": \"backward\"}, {\"step\": \"all\"}]}, \"showgrid\": true, \"type\": \"date\", \"zeroline\": false}, \"yaxis\": {\"autorange\": false, \"range\": [-1, 11], \"showgrid\": true, \"ticktext\": [\"Pabell\\u00f3n 2\", \"Pabell\\u00f3n 8\", \"Pabell\\u00f3n 5\", \"Pabell\\u00f3n 4\", \"UCA 3\", \"UCA 2\", \"UCA 1\", \"Pabell\\u00f3n 7\", \"Pabell\\u00f3n 3\", \"Pabell\\u00f3n 1\"], \"tickvals\": [0, 1, 2, 3, 4, 5, 6, 7, 8, 9], \"zeroline\": false}},\n",
       "                        {\"responsive\": true}\n",
       "                    ).then(function(){\n",
       "                            \n",
       "var gd = document.getElementById('08194040-a18b-4075-9ea2-55ea6ac3414d');\n",
       "var x = new MutationObserver(function (mutations, observer) {{\n",
       "        var display = window.getComputedStyle(gd).display;\n",
       "        if (!display || display === 'none') {{\n",
       "            console.log([gd, 'removed!']);\n",
       "            Plotly.purge(gd);\n",
       "            observer.disconnect();\n",
       "        }}\n",
       "}});\n",
       "\n",
       "// Listen for the removal of the full notebook cells\n",
       "var notebookContainer = gd.closest('#notebook-container');\n",
       "if (notebookContainer) {{\n",
       "    x.observe(notebookContainer, {childList: true});\n",
       "}}\n",
       "\n",
       "// Listen for the clearing of the current output cell\n",
       "var outputEl = gd.closest('.output');\n",
       "if (outputEl) {{\n",
       "    x.observe(outputEl, {childList: true});\n",
       "}}\n",
       "\n",
       "                        })\n",
       "                };\n",
       "                });\n",
       "            </script>\n",
       "        </div>"
      ]
     },
     "metadata": {},
     "output_type": "display_data"
    }
   ],
   "source": [
    "fig_4 = ff.create_gantt(df4, colors=colors, index_col='Resource', show_colorbar=True, title='Día Viernes',showgrid_x=True, showgrid_y=True,\n",
    "                      group_tasks=True)\n",
    "fig_4.show()"
   ]
  },
  {
   "cell_type": "markdown",
   "metadata": {},
   "source": [
    "# Export de datos"
   ]
  },
  {
   "cell_type": "markdown",
   "metadata": {},
   "source": [
    "## Horarios Cirujanos"
   ]
  },
  {
   "cell_type": "code",
   "execution_count": 41,
   "metadata": {
    "scrolled": true
   },
   "outputs": [
    {
     "data": {
      "text/html": [
       "<div>\n",
       "<style scoped>\n",
       "    .dataframe tbody tr th:only-of-type {\n",
       "        vertical-align: middle;\n",
       "    }\n",
       "\n",
       "    .dataframe tbody tr th {\n",
       "        vertical-align: top;\n",
       "    }\n",
       "\n",
       "    .dataframe thead th {\n",
       "        text-align: right;\n",
       "    }\n",
       "</style>\n",
       "<table border=\"1\" class=\"dataframe\">\n",
       "  <thead>\n",
       "    <tr style=\"text-align: right;\">\n",
       "      <th></th>\n",
       "      <th>Especialidad</th>\n",
       "      <th>Cobertura</th>\n",
       "      <th>Mediahora del día</th>\n",
       "      <th>Lunes</th>\n",
       "      <th>Martes</th>\n",
       "      <th>Miércoles</th>\n",
       "      <th>Jueves</th>\n",
       "      <th>Viernes</th>\n",
       "    </tr>\n",
       "  </thead>\n",
       "  <tbody>\n",
       "    <tr>\n",
       "      <th>0</th>\n",
       "      <td>EESS</td>\n",
       "      <td>Ley</td>\n",
       "      <td>08:00:00</td>\n",
       "      <td>8</td>\n",
       "      <td>11</td>\n",
       "      <td>9</td>\n",
       "      <td>7</td>\n",
       "      <td>10</td>\n",
       "    </tr>\n",
       "    <tr>\n",
       "      <th>1</th>\n",
       "      <td>EESS</td>\n",
       "      <td>Ley</td>\n",
       "      <td>08:30:00</td>\n",
       "      <td>8</td>\n",
       "      <td>10</td>\n",
       "      <td>9</td>\n",
       "      <td>7</td>\n",
       "      <td>10</td>\n",
       "    </tr>\n",
       "    <tr>\n",
       "      <th>2</th>\n",
       "      <td>EESS</td>\n",
       "      <td>Ley</td>\n",
       "      <td>09:00:00</td>\n",
       "      <td>8</td>\n",
       "      <td>8</td>\n",
       "      <td>9</td>\n",
       "      <td>7</td>\n",
       "      <td>10</td>\n",
       "    </tr>\n",
       "    <tr>\n",
       "      <th>3</th>\n",
       "      <td>EESS</td>\n",
       "      <td>Ley</td>\n",
       "      <td>09:30:00</td>\n",
       "      <td>8</td>\n",
       "      <td>8</td>\n",
       "      <td>9</td>\n",
       "      <td>7</td>\n",
       "      <td>10</td>\n",
       "    </tr>\n",
       "    <tr>\n",
       "      <th>4</th>\n",
       "      <td>EESS</td>\n",
       "      <td>Ley</td>\n",
       "      <td>10:00:00</td>\n",
       "      <td>8</td>\n",
       "      <td>8</td>\n",
       "      <td>9</td>\n",
       "      <td>8</td>\n",
       "      <td>10</td>\n",
       "    </tr>\n",
       "  </tbody>\n",
       "</table>\n",
       "</div>"
      ],
      "text/plain": [
       "  Especialidad Cobertura Mediahora del día  Lunes  Martes  Miércoles  Jueves  \\\n",
       "0         EESS       Ley          08:00:00      8      11          9       7   \n",
       "1         EESS       Ley          08:30:00      8      10          9       7   \n",
       "2         EESS       Ley          09:00:00      8       8          9       7   \n",
       "3         EESS       Ley          09:30:00      8       8          9       7   \n",
       "4         EESS       Ley          10:00:00      8       8          9       8   \n",
       "\n",
       "   Viernes  \n",
       "0       10  \n",
       "1       10  \n",
       "2       10  \n",
       "3       10  \n",
       "4       10  "
      ]
     },
     "execution_count": 41,
     "metadata": {},
     "output_type": "execute_result"
    }
   ],
   "source": [
    "db1=[]\n",
    "for e in E:\n",
    "    for c in [0]:\n",
    "        #print(E_str[e],' ',C_str[c],'\\n')\n",
    "        #print('\\t\\t', dias_str[0],'\\t',dias_str[1], dias_str[2],dias_str[3],dias_str[4])\n",
    "        \n",
    "        for h in index [16:42]:\n",
    "            if E_str[e]!='Libre' and Avg_Cirujanos[e,c]!=0:\n",
    "                #print(horas[h],'\\t',round(Cirujanos[e][0][h]/Avg_Cirujanos[e,c],0),'\\t',Cirujanos[e][1][h]/Avg_Cirujanos[e,c],'\\t',Cirujanos[e][2][h]/Avg_Cirujanos[e,c],'\\t',Cirujanos[e][3][h]/Avg_Cirujanos[e,c],'\\t',Cirujanos[e][4][h])\n",
    "                #print(horas[h],'\\t',Cirujanos[e][0][h],'\\t',Cirujanos[e][1][h],'\\t',Cirujanos[e][2][h],'\\t',Cirujanos[e][3][h],'\\t',Cirujanos[e][4][h])\n",
    "                db1.append((E_str[e],C_str[c],horas[h], Cirujanos[e][0][h],Cirujanos[e][1][h],Cirujanos[e][2][h],Cirujanos[e][3][h],Cirujanos[e][4][h]))\n",
    "                \n",
    "                \n",
    "df1= pd.DataFrame(db1, columns=['Especialidad', 'Cobertura', 'Mediahora del día','Lunes','Martes','Miércoles','Jueves','Viernes'])    \n",
    "df1.head()\n",
    "                \n",
    "        "
   ]
  },
  {
   "cell_type": "markdown",
   "metadata": {},
   "source": [
    "## Horas en cada pabellón"
   ]
  },
  {
   "cell_type": "code",
   "execution_count": 42,
   "metadata": {
    "scrolled": false
   },
   "outputs": [
    {
     "data": {
      "text/html": [
       "<div>\n",
       "<style scoped>\n",
       "    .dataframe tbody tr th:only-of-type {\n",
       "        vertical-align: middle;\n",
       "    }\n",
       "\n",
       "    .dataframe tbody tr th {\n",
       "        vertical-align: top;\n",
       "    }\n",
       "\n",
       "    .dataframe thead th {\n",
       "        text-align: right;\n",
       "    }\n",
       "</style>\n",
       "<table border=\"1\" class=\"dataframe\">\n",
       "  <thead>\n",
       "    <tr style=\"text-align: right;\">\n",
       "      <th></th>\n",
       "      <th>Especialidad</th>\n",
       "      <th>Cobertura</th>\n",
       "      <th>Pabellón</th>\n",
       "      <th>Horas</th>\n",
       "    </tr>\n",
       "  </thead>\n",
       "  <tbody>\n",
       "    <tr>\n",
       "      <th>0</th>\n",
       "      <td>EESS</td>\n",
       "      <td>Ley</td>\n",
       "      <td>Pabellón 2</td>\n",
       "      <td>8.0</td>\n",
       "    </tr>\n",
       "    <tr>\n",
       "      <th>1</th>\n",
       "      <td>EESS</td>\n",
       "      <td>Ley</td>\n",
       "      <td>Pabellón 3</td>\n",
       "      <td>8.0</td>\n",
       "    </tr>\n",
       "    <tr>\n",
       "      <th>2</th>\n",
       "      <td>EESS</td>\n",
       "      <td>Ley</td>\n",
       "      <td>Pabellón 5</td>\n",
       "      <td>16.0</td>\n",
       "    </tr>\n",
       "    <tr>\n",
       "      <th>3</th>\n",
       "      <td>EESS</td>\n",
       "      <td>Ley</td>\n",
       "      <td>Pabellón 7</td>\n",
       "      <td>5.0</td>\n",
       "    </tr>\n",
       "    <tr>\n",
       "      <th>4</th>\n",
       "      <td>EESS</td>\n",
       "      <td>Ley</td>\n",
       "      <td>UCA 1</td>\n",
       "      <td>13.0</td>\n",
       "    </tr>\n",
       "  </tbody>\n",
       "</table>\n",
       "</div>"
      ],
      "text/plain": [
       "  Especialidad Cobertura    Pabellón  Horas\n",
       "0         EESS       Ley  Pabellón 2    8.0\n",
       "1         EESS       Ley  Pabellón 3    8.0\n",
       "2         EESS       Ley  Pabellón 5   16.0\n",
       "3         EESS       Ley  Pabellón 7    5.0\n",
       "4         EESS       Ley       UCA 1   13.0"
      ]
     },
     "execution_count": 42,
     "metadata": {},
     "output_type": "execute_result"
    }
   ],
   "source": [
    "#Horas por pabellón \n",
    "db2=[]\n",
    "for e in E:\n",
    "    for c in C:\n",
    "        #print(E_str[e],C_str[c])\n",
    "        for p in P:\n",
    "            H_P=0\n",
    "            for d in dias:\n",
    "                for h in index:\n",
    "                    for t in T:\n",
    "                        H_P+=(Result[e][c][p][t][d]*turnos[t][h]/2)\n",
    "            if H_P!=0:\n",
    "                db2.append((E_str[e],C_str[c],P_str[p], H_P))\n",
    "                \n",
    "df2= pd.DataFrame(db2, columns=['Especialidad', 'Cobertura', 'Pabellón','Horas'])    \n",
    "df2.head()\n",
    "        "
   ]
  },
  {
   "cell_type": "markdown",
   "metadata": {},
   "source": [
    "## Demanda y modelo"
   ]
  },
  {
   "cell_type": "code",
   "execution_count": 43,
   "metadata": {},
   "outputs": [
    {
     "data": {
      "text/html": [
       "<div>\n",
       "<style scoped>\n",
       "    .dataframe tbody tr th:only-of-type {\n",
       "        vertical-align: middle;\n",
       "    }\n",
       "\n",
       "    .dataframe tbody tr th {\n",
       "        vertical-align: top;\n",
       "    }\n",
       "\n",
       "    .dataframe thead th {\n",
       "        text-align: right;\n",
       "    }\n",
       "</style>\n",
       "<table border=\"1\" class=\"dataframe\">\n",
       "  <thead>\n",
       "    <tr style=\"text-align: right;\">\n",
       "      <th></th>\n",
       "      <th>Especialidad</th>\n",
       "      <th>Cobertura</th>\n",
       "      <th>Horas modelo</th>\n",
       "      <th>Horas necesarias</th>\n",
       "      <th>Delta horas</th>\n",
       "    </tr>\n",
       "  </thead>\n",
       "  <tbody>\n",
       "    <tr>\n",
       "      <th>0</th>\n",
       "      <td>EESS</td>\n",
       "      <td>Ley</td>\n",
       "      <td>76.0</td>\n",
       "      <td>74.0</td>\n",
       "      <td>2.0</td>\n",
       "    </tr>\n",
       "    <tr>\n",
       "      <th>1</th>\n",
       "      <td>EESS</td>\n",
       "      <td>VSC</td>\n",
       "      <td>16.0</td>\n",
       "      <td>15.0</td>\n",
       "      <td>1.0</td>\n",
       "    </tr>\n",
       "    <tr>\n",
       "      <th>2</th>\n",
       "      <td>Rodilla</td>\n",
       "      <td>Ley</td>\n",
       "      <td>55.0</td>\n",
       "      <td>53.0</td>\n",
       "      <td>2.0</td>\n",
       "    </tr>\n",
       "    <tr>\n",
       "      <th>3</th>\n",
       "      <td>Rodilla</td>\n",
       "      <td>VSC</td>\n",
       "      <td>31.0</td>\n",
       "      <td>29.0</td>\n",
       "      <td>2.0</td>\n",
       "    </tr>\n",
       "    <tr>\n",
       "      <th>4</th>\n",
       "      <td>CPQ</td>\n",
       "      <td>Ley</td>\n",
       "      <td>50.5</td>\n",
       "      <td>46.0</td>\n",
       "      <td>4.5</td>\n",
       "    </tr>\n",
       "  </tbody>\n",
       "</table>\n",
       "</div>"
      ],
      "text/plain": [
       "  Especialidad Cobertura  Horas modelo  Horas necesarias  Delta horas\n",
       "0         EESS       Ley          76.0              74.0          2.0\n",
       "1         EESS       VSC          16.0              15.0          1.0\n",
       "2      Rodilla       Ley          55.0              53.0          2.0\n",
       "3      Rodilla       VSC          31.0              29.0          2.0\n",
       "4          CPQ       Ley          50.5              46.0          4.5"
      ]
     },
     "execution_count": 43,
     "metadata": {},
     "output_type": "execute_result"
    }
   ],
   "source": [
    "#print('Especialidad', '\\t', 'Horas modelo', '\\t','Horas necesarias')\n",
    "db3=[]\n",
    "for e in E:\n",
    "    for c in C:\n",
    "        #print (E_str[e] + ' '+ C_str[c], '\\t',Horas[e][c]/2, '\\t\\t',Q_horas[e,c])\n",
    "        #delta_de_mhoras[e][c]=Horas[e][c]/2-Q_horas[e,c]\n",
    "        db3.append((E_str[e], C_str[c], Horas[e][c]/2, Q_horas[e,c],Horas[e][c]/2-Q_horas[e,c] ))\n",
    "        \n",
    "df3= pd.DataFrame(db3, columns=['Especialidad', 'Cobertura', 'Horas modelo','Horas necesarias', 'Delta horas'])    \n",
    "df3.head()\n",
    "        "
   ]
  },
  {
   "cell_type": "markdown",
   "metadata": {},
   "source": [
    "## Bloques\n"
   ]
  },
  {
   "cell_type": "code",
   "execution_count": 44,
   "metadata": {},
   "outputs": [
    {
     "data": {
      "text/html": [
       "<div>\n",
       "<style scoped>\n",
       "    .dataframe tbody tr th:only-of-type {\n",
       "        vertical-align: middle;\n",
       "    }\n",
       "\n",
       "    .dataframe tbody tr th {\n",
       "        vertical-align: top;\n",
       "    }\n",
       "\n",
       "    .dataframe thead th {\n",
       "        text-align: right;\n",
       "    }\n",
       "</style>\n",
       "<table border=\"1\" class=\"dataframe\">\n",
       "  <thead>\n",
       "    <tr style=\"text-align: right;\">\n",
       "      <th></th>\n",
       "      <th>Especialidad</th>\n",
       "      <th>Cobertura</th>\n",
       "      <th>Día</th>\n",
       "      <th>Pabellón</th>\n",
       "      <th>Hora Inicio</th>\n",
       "      <th>Hora Fin</th>\n",
       "    </tr>\n",
       "  </thead>\n",
       "  <tbody>\n",
       "    <tr>\n",
       "      <th>0</th>\n",
       "      <td>EESS</td>\n",
       "      <td>VSC</td>\n",
       "      <td>Viernes</td>\n",
       "      <td>Pabellón 1</td>\n",
       "      <td>13:00:00</td>\n",
       "      <td>21:00:00</td>\n",
       "    </tr>\n",
       "    <tr>\n",
       "      <th>1</th>\n",
       "      <td>EESS</td>\n",
       "      <td>Ley</td>\n",
       "      <td>Lunes</td>\n",
       "      <td>Pabellón 2</td>\n",
       "      <td>8:00:00</td>\n",
       "      <td>16:00:00</td>\n",
       "    </tr>\n",
       "    <tr>\n",
       "      <th>2</th>\n",
       "      <td>EESS</td>\n",
       "      <td>Ley</td>\n",
       "      <td>Jueves</td>\n",
       "      <td>Pabellón 3</td>\n",
       "      <td>8:00:00</td>\n",
       "      <td>16:00:00</td>\n",
       "    </tr>\n",
       "    <tr>\n",
       "      <th>3</th>\n",
       "      <td>EESS</td>\n",
       "      <td>VSC</td>\n",
       "      <td>Viernes</td>\n",
       "      <td>Pabellón 3</td>\n",
       "      <td>13:00:00</td>\n",
       "      <td>21:00:00</td>\n",
       "    </tr>\n",
       "    <tr>\n",
       "      <th>4</th>\n",
       "      <td>EESS</td>\n",
       "      <td>Ley</td>\n",
       "      <td>Miércoles</td>\n",
       "      <td>Pabellón 5</td>\n",
       "      <td>8:00:00</td>\n",
       "      <td>16:00:00</td>\n",
       "    </tr>\n",
       "  </tbody>\n",
       "</table>\n",
       "</div>"
      ],
      "text/plain": [
       "  Especialidad Cobertura        Día    Pabellón Hora Inicio  Hora Fin\n",
       "0         EESS       VSC    Viernes  Pabellón 1    13:00:00  21:00:00\n",
       "1         EESS       Ley      Lunes  Pabellón 2     8:00:00  16:00:00\n",
       "2         EESS       Ley     Jueves  Pabellón 3     8:00:00  16:00:00\n",
       "3         EESS       VSC    Viernes  Pabellón 3    13:00:00  21:00:00\n",
       "4         EESS       Ley  Miércoles  Pabellón 5     8:00:00  16:00:00"
      ]
     },
     "execution_count": 44,
     "metadata": {},
     "output_type": "execute_result"
    }
   ],
   "source": [
    "db4=[]\n",
    "for e in E:\n",
    "    for p in P:\n",
    "        for t in T:\n",
    "            for d in dias:\n",
    "                for c in C:\n",
    "                    if Result[e][c][p][t][d]==1:\n",
    "                        db4.append((E_str[e],C_str[c], dias_str[d], P_str[p], turno(turnos[t])[0],turno(turnos[t])[1]))\n",
    "df4= pd.DataFrame(db4, columns=['Especialidad', 'Cobertura', 'Día','Pabellón', 'Hora Inicio', 'Hora Fin'])    \n",
    "df4.head()                        "
   ]
  },
  {
   "cell_type": "code",
   "execution_count": 45,
   "metadata": {},
   "outputs": [],
   "source": [
    "# Create a Pandas Excel writer using XlsxWriter as the engine.\n",
    "writer = pd.ExcelWriter('Resultados pabellones 2.xlsx', engine='xlsxwriter')\n",
    "\n",
    "# Convert the dataframe to an XlsxWriter Excel object.\n",
    "df1.to_excel(writer, sheet_name='Horarios Cirujanos')\n",
    "df2.to_excel(writer, sheet_name='Horas por pabellón')\n",
    "df3.to_excel(writer, sheet_name='Detalles demanda')\n",
    "df4.to_excel(writer, sheet_name='Bloques')\n",
    "\n",
    "# Close the Pandas Excel writer and output the Excel file.\n",
    "writer.save()"
   ]
  },
  {
   "cell_type": "code",
   "execution_count": null,
   "metadata": {},
   "outputs": [],
   "source": []
  },
  {
   "cell_type": "code",
   "execution_count": null,
   "metadata": {},
   "outputs": [],
   "source": []
  }
 ],
 "metadata": {
  "celltoolbar": "Raw Cell Format",
  "kernelspec": {
   "display_name": "Python 3",
   "language": "python",
   "name": "python3"
  },
  "language_info": {
   "codemirror_mode": {
    "name": "ipython",
    "version": 3
   },
   "file_extension": ".py",
   "mimetype": "text/x-python",
   "name": "python",
   "nbconvert_exporter": "python",
   "pygments_lexer": "ipython3",
   "version": "3.8.3"
  }
 },
 "nbformat": 4,
 "nbformat_minor": 4
}
