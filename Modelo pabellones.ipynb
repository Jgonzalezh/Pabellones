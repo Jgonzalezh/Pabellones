{
 "cells": [
  {
   "cell_type": "code",
   "execution_count": 92,
   "metadata": {},
   "outputs": [],
   "source": [
    "# -*- coding: utf-8 -*-\n",
    "\"\"\"\n",
    "Created on Wed Jun 10 15:23:09 2020\n",
    "\n",
    "@author: jgonzalezh\n",
    "\"\"\"\n",
    "import pyodbc\n",
    "import pandas as pd\n",
    "import random\n",
    "import matplotlib.pyplot as plt\n",
    "import numpy as np\n",
    "import time\n",
    "from pulp import *\n",
    "import matplotlib.colors as mcolors\n",
    "import matplotlib.transforms as mtransforms\n",
    "import matplotlib.patches as mpatches\n",
    "import math\n",
    "import plotly.graph_objs as go\n",
    "import plotly.figure_factory as ff\n",
    "from plotly.figure_factory import create_gantt\n",
    "\n",
    "\n",
    "\n",
    "\n",
    "class DATA:\n",
    "    def __init__(self,archivo_dmd,archivo_equipos):\n",
    "        self.Especialidades=archivo_dmd.Especialidad.unique()\n",
    "        self.Cobertura=archivo_dmd.Tipo.unique() \n",
    "        a=len(self.Especialidades)\n",
    "        b=len(self.Cobertura)\n",
    "        self.N_Especialidad=a\n",
    "        self.N_Cobertura=b\n",
    "        self.Dmd_semanal=np.zeros(shape=(a,b))\n",
    "        self.Bloquesmax= np.zeros(shape=(a,b))\n",
    "        for i in range(len(archivo_dmd.index)):\n",
    "            for e in range(a):\n",
    "                for c in range(b):\n",
    "                    if archivo_dmd.iat[i,0]==self.Especialidades[e]:\n",
    "                        if archivo_dmd.iat[i,1]==self.Cobertura[c]:\n",
    "                            self.Dmd_semanal[e,c]=archivo_dmd.iat[i,2]\n",
    "                            self.Bloquesmax[e,c]=archivo_dmd.iat[i,3]\n",
    "                            \n",
    "                            \n",
    "        #Turnos equipos médicos \n",
    "        dias=['Lunes','Martes','Miércoles','Jueves','Viernes','Sábado','Domingo'] \n",
    "        #Tipo=['Espontaneo', 'Controles']\n",
    "        horas=['00:00:00','00:30:00','01:00:00','01:30:00','02:00:00','02:30:00','03:00:00','03:30:00',\n",
    "            '04:00:00','04:30:00','05:00:00','05:30:00','06:00:00','06:30:00','07:00:00','07:30:00',\n",
    "            '08:00:00','08:30:00','09:00:00','09:30:00','10:00:00','10:30:00','11:00:00','11:30:00',\n",
    "            '12:00:00','12:30:00','13:00:00','13:30:00','14:00:00','14:30:00','15:00:00','15:30:00',\n",
    "            '16:00:00','16:30:00','17:00:00','17:30:00','18:00:00','18:30:00','19:00:00','19:30:00',\n",
    "            '20:00:00','20:30:00','21:00:00','21:30:00','22:00:00','22:30:00','23:00:00','23:30:00']\n",
    "        FTE=1\n",
    "        self.turno=archivo_equipos \n",
    "        turnos=self.turno\n",
    "        fill=len(turnos.index)\n",
    "        \n",
    "        turnos['Hora Inicio']=turnos['Hora inicio Turno'].dt.hour\n",
    "        turnos['Minutos Inicio']=turnos['Hora inicio Turno'].dt.minute\n",
    "        turnos['Hora Fin']=turnos['Hora Fin Turno'].dt.hour\n",
    "        turnos['Minutos Fin']=turnos['Hora Fin Turno'].dt.minute\n",
    "        #turnos['Hora Colacion In']=turnos['Hora Inicio Colación'].dt.hour\n",
    "        #turnos['Minutos colacion In']=turnos['Hora Inicio Colación'].dt.minute\n",
    "        #turnos['Hora Colacion fin']=turnos['Hora Fin Colación'].dt.hour\n",
    "        #turnos['Minutos colacion fin']=turnos['Hora Fin Colación'].dt.minute\n",
    "        self.T=[[[0 for i in range(48)]for j in range(7)]for e in range(self.N_Especialidad)]\n",
    "        \n",
    "        for g in range(fill):\n",
    "            for e in  range(self.N_Especialidad):\n",
    "                if turnos.iat[g,0]==self.Especialidades[e]:\n",
    "                    for h in range(7):\n",
    "                        if turnos.iat[g,2]==dias[h]:\n",
    "                            for j in range(int(round(2*turnos.iat[g,9]+turnos.iat[g,10]/30))):\n",
    "                                if j>=int(round(2*turnos.iat[g,7]+turnos.iat[g,8]/30)) and j<=int(round(2*turnos.iat[g,9]+(turnos.iat[g,10]/30))): #revisa si tiene que ponerle -1\n",
    "                                    self.T[e][h][j]+=FTE\n",
    "\n",
    "def diccionario_bloques(bloque_ini,bloque_fin):\n",
    "    diccionario=[]\n",
    "    h=bloque_ini\n",
    "    g=bloque_fin\n",
    "    for k in range(h,g):\n",
    "        for j in range (k,g):    \n",
    "            largo=[]\n",
    "            #for i in [16]:#]range(16,42):\n",
    "            for u in range(k):\n",
    "                largo.append(0)\n",
    "            for i in range(k,g):\n",
    "                if i<=j:\n",
    "                    largo.append(1)\n",
    "                else:\n",
    "                    largo.append(0)\n",
    "            for p in range(g,48):\n",
    "                largo.append(0)\n",
    "            diccionario.append(largo)\n",
    "    return diccionario\n",
    "  "
   ]
  },
  {
   "cell_type": "code",
   "execution_count": 94,
   "metadata": {},
   "outputs": [
    {
     "data": {
      "text/plain": [
       "1"
      ]
     },
     "execution_count": 94,
     "metadata": {},
     "output_type": "execute_result"
    }
   ],
   "source": [
    "      \n",
    "DMD=pd.read_excel('C:/Users/jgonzalezh/Documents/Pabellones 2/input/Input_2.xlsx', sheet_name='Horas semanales')\n",
    "EQ=pd.read_excel('C:/Users/jgonzalezh/Documents/Pabellones 2/input/Horarios médicos_2.xlsx')\n",
    "#EQ.info()\n",
    "EQ['Hora inicio Turno']=pd.to_datetime(EQ['Hora inicio Turno'], format='%H:%M:%S')\n",
    "EQ['Hora Fin Turno']=pd.to_datetime(EQ['Hora Fin Turno'], format='%H:%M:%S')\n",
    "\n",
    "#sheetname : string, int, mixed list of strings/ints, or None, def\n",
    "data=DATA(DMD,EQ) \n",
    "\n",
    "#data.Dmd_semanal[4,1]\n",
    "                      \n",
    "#should make dictionary for variables\n",
    "E_str=data.Especialidades\n",
    "C_str=data.Cobertura\n",
    "E=range(data.N_Especialidad)\n",
    "C=range(data.N_Cobertura)\n",
    "P=[0,1,2,3,4,5,6,7,8,9,10]#,11]\n",
    "P_str=['Pabellón 1','Pabellón 2','Pabellón 3','Pabellón 4','Pabellón 5','Pabellón 6','Pabellón 7','Pabellón 8','UCA 1','UCA 2','UCA 3']\n",
    "horas=['00:00:00','00:30:00','01:00:00','01:30:00','02:00:00','02:30:00','03:00:00','03:30:00',\n",
    "    '04:00:00','04:30:00','05:00:00','05:30:00','06:00:00','06:30:00','07:00:00','07:30:00',\n",
    "    '08:00:00','08:30:00','09:00:00','09:30:00','10:00:00','10:30:00','11:00:00','11:30:00',\n",
    "    '12:00:00','12:30:00','13:00:00','13:30:00','14:00:00','14:30:00','15:00:00','15:30:00',\n",
    "    '16:00:00','16:30:00','17:00:00','17:30:00','18:00:00','18:30:00','19:00:00','19:30:00',\n",
    "    '20:00:00','20:30:00','21:00:00','21:30:00','22:00:00','22:30:00','23:00:00','23:30:00']\n",
    "dias=[0,1,2,3,4] # se hace el ppl de lunes a viernes\n",
    "index = np.arange(48) #bloques del día\n",
    "dias_str=['Lunes','Martes','Miércoles','Jueves','Viernes','Sábado','Domingo'] \n",
    "\n",
    "Tipo=[0,1,2,3,4,5,6]\n",
    "Q_horas=data.Dmd_semanal #ordenadas por especialidad mínimo (vemos a que apuntamos acá)\n",
    "#Q_portramo=[[14,14,7,21,0,21,7],[15,25,25,10,5,0,5,0],[25,15,25,10,5,0,0,10]]\n",
    "#Horario de funcionamiento 8:00-21:->16,42\n",
    "turnos=diccionario_bloques(16,42)\n",
    "T=range(len(turnos))\n",
    "#B=[3,4,6]\n",
    "Cirujanos=data.T\n",
    "min_sem=data.Bloquesmax\n",
    "#print(*Cirujanos)\n",
    "\n",
    "\n",
    "#Definir problema\n",
    "modelo=LpProblem('Bloques de pabellones', LpMinimize) # Se define el modelo\n",
    "#Variables\n",
    "A=LpVariable.dicts('Bloques propuestos', [(e,p,t,d,c)for t in T for d in dias for p in P for e in E for c in C],lowBound=0, upBound=None,cat='Binary')\n",
    "\n",
    "#Función objetivo        \n",
    "modelo+=pulp.lpSum([A[(e,p,t,d,c)] for t in T for d in dias for p in P for e in E for c in C]) #minimizar N° Bloques a la semana, Se quiere utilizar al máximo pabellones (maximizar la asignación?)\n",
    "#Restricciones\n",
    "\n",
    "# Solo se asigna a una especialidad al mismo tiempo el pabellón\n",
    "for  p in P:\n",
    "    for d in dias:\n",
    "        for h in index:\n",
    "            modelo+=pulp.lpSum([turnos[t][h]*A[(e,p,t,d,c)] for e in E for t in T for c in C])<=1 \n",
    "# Se satisface la demanda semanal\n",
    "for e in E:\n",
    "    for c in C:\n",
    "        modelo+=pulp.lpSum([turnos[t][h]*A[(e,p,t,d,c)] for t in T for h in index for d in dias for p in P])>=Q_horas[e,c]*2\n",
    "# Bloque es continuo abordada por diccionario\n",
    "# No hay más de tres bloques por día de cada especialidad, ley o VSC\n",
    "# Acá se puede hacer un vector que contega 1 en la mañana, otro en la tarde del largo de index y se puede castigar en la Fn obj si VSC es en la mañana y si Ley es en la tarde\n",
    "for d in dias:\n",
    "    for e in E:\n",
    "        modelo+=pulp.lpSum([A[(e,p,t,d,c)] for t in T for p in P for c in C])<=3   \n",
    "#Bloques mínimos semanales, si esq tienen demanda, ROA ley no tiene por ejemplo\n",
    "for e in E:\n",
    "    for c in C:\n",
    "        if Q_horas[e,c]>0:\n",
    "            modelo+=pulp.lpSum([A[(e,p,t,d,c)] for t in T for d in dias for p in P])>=min_sem[e,c]#B[e] \n",
    "# No hay más de tres bloques en simultaneo (abordada por previa, si son numeros distintos se debe hacer)\n",
    "\"\"\"\n",
    "for d in dias:\n",
    "    for e in E:\n",
    "        for h in index:\n",
    "            modelo+=pulp.lpSum([turnos[t][h]*A[(e,p,t,d)] for t in T for p in P])<=3   \n",
    "\"\"\"\n",
    "# No hay más bloques que la capacidad de equipos en los bloques ley\n",
    "\n",
    "for d in dias:\n",
    "    for e in E:\n",
    "        for h in index:\n",
    "            for c in [0]:\n",
    "                if E_str[e]!='Libre':\n",
    "                    modelo+=pulp.lpSum([turnos[t][h]*A[(e,p,t,d,c)] for t in T for p in P])<=Cirujanos[e][d][h] #hay que dividr por el promedio de la especialidad o alguna regla   \n",
    "\n",
    "# No se asignan más pabellones de los disponibles (ya restringidos por N de pabellones).\n",
    "# A futuro poner largo máximo de un bloque(?) Puede ser en el diccionario de turnos tb para simplificar problema.\n",
    "\n",
    "for  p in P:\n",
    "    for d in dias:\n",
    "        for e in E:\n",
    "            modelo+=pulp.lpSum([turnos[t][h]*A[(e,p,t,d,c)] for t in T for h in index for c in C])<=18\n",
    "\n",
    "# Dividiendo el instrumental se puede hacer todas las cirugías a la semana (cajas) --->FUTURA, hay que modelar los datos\n",
    "\n",
    "modelo.solve(pulp.PULP_CBC_CMD(maxSeconds=25000, msg=0, fracGap=0))#pulp.GLPK()\n"
   ]
  },
  {
   "cell_type": "code",
   "execution_count": 95,
   "metadata": {},
   "outputs": [
    {
     "name": "stdout",
     "output_type": "stream",
     "text": [
      "Optimal\n"
     ]
    }
   ],
   "source": [
    "print(LpStatus[modelo.status])\n",
    "#print(turnos[1][1])"
   ]
  },
  {
   "cell_type": "code",
   "execution_count": 96,
   "metadata": {},
   "outputs": [
    {
     "name": "stdout",
     "output_type": "stream",
     "text": [
      "E EESS C Ley Pabellón 1 T 17 \n",
      "Turno [0, 0, 0, 0, 0, 0, 0, 0, 0, 0, 0, 0, 0, 0, 0, 0, 1, 1, 1, 1, 1, 1, 1, 1, 1, 1, 1, 1, 1, 1, 1, 1, 1, 1, 0, 0, 0, 0, 0, 0, 0, 0, 0, 0, 0, 0, 0, 0] \n",
      "Dia 3\n",
      "E EESS C VSC Pabellón 2 T 322 \n",
      "Turno [0, 0, 0, 0, 0, 0, 0, 0, 0, 0, 0, 0, 0, 0, 0, 0, 0, 0, 0, 0, 0, 0, 0, 0, 0, 0, 0, 0, 0, 0, 0, 0, 0, 0, 1, 1, 1, 1, 1, 1, 1, 1, 0, 0, 0, 0, 0, 0] \n",
      "Dia 1\n",
      "E EESS C Ley Pabellón 3 T 17 \n",
      "Turno [0, 0, 0, 0, 0, 0, 0, 0, 0, 0, 0, 0, 0, 0, 0, 0, 1, 1, 1, 1, 1, 1, 1, 1, 1, 1, 1, 1, 1, 1, 1, 1, 1, 1, 0, 0, 0, 0, 0, 0, 0, 0, 0, 0, 0, 0, 0, 0] \n",
      "Dia 0\n",
      "E EESS C Ley Pabellón 3 T 17 \n",
      "Turno [0, 0, 0, 0, 0, 0, 0, 0, 0, 0, 0, 0, 0, 0, 0, 0, 1, 1, 1, 1, 1, 1, 1, 1, 1, 1, 1, 1, 1, 1, 1, 1, 1, 1, 0, 0, 0, 0, 0, 0, 0, 0, 0, 0, 0, 0, 0, 0] \n",
      "Dia 2\n",
      "E EESS C Ley Pabellón 4 T 17 \n",
      "Turno [0, 0, 0, 0, 0, 0, 0, 0, 0, 0, 0, 0, 0, 0, 0, 0, 1, 1, 1, 1, 1, 1, 1, 1, 1, 1, 1, 1, 1, 1, 1, 1, 1, 1, 0, 0, 0, 0, 0, 0, 0, 0, 0, 0, 0, 0, 0, 0] \n",
      "Dia 0\n",
      "E EESS C Ley Pabellón 4 T 17 \n",
      "Turno [0, 0, 0, 0, 0, 0, 0, 0, 0, 0, 0, 0, 0, 0, 0, 0, 1, 1, 1, 1, 1, 1, 1, 1, 1, 1, 1, 1, 1, 1, 1, 1, 1, 1, 0, 0, 0, 0, 0, 0, 0, 0, 0, 0, 0, 0, 0, 0] \n",
      "Dia 2\n",
      "E EESS C Ley Pabellón 7 T 11 \n",
      "Turno [0, 0, 0, 0, 0, 0, 0, 0, 0, 0, 0, 0, 0, 0, 0, 0, 1, 1, 1, 1, 1, 1, 1, 1, 1, 1, 1, 1, 0, 0, 0, 0, 0, 0, 0, 0, 0, 0, 0, 0, 0, 0, 0, 0, 0, 0, 0, 0] \n",
      "Dia 4\n",
      "E EESS C Ley Pabellón 8 T 12 \n",
      "Turno [0, 0, 0, 0, 0, 0, 0, 0, 0, 0, 0, 0, 0, 0, 0, 0, 1, 1, 1, 1, 1, 1, 1, 1, 1, 1, 1, 1, 1, 0, 0, 0, 0, 0, 0, 0, 0, 0, 0, 0, 0, 0, 0, 0, 0, 0, 0, 0] \n",
      "Dia 3\n",
      "E EESS C Ley Pabellón 8 T 43 \n",
      "Turno [0, 0, 0, 0, 0, 0, 0, 0, 0, 0, 0, 0, 0, 0, 0, 0, 0, 1, 1, 1, 1, 1, 1, 1, 1, 1, 1, 1, 1, 1, 1, 1, 1, 1, 1, 0, 0, 0, 0, 0, 0, 0, 0, 0, 0, 0, 0, 0] \n",
      "Dia 0\n",
      "E EESS C Ley UCA 1 T 17 \n",
      "Turno [0, 0, 0, 0, 0, 0, 0, 0, 0, 0, 0, 0, 0, 0, 0, 0, 1, 1, 1, 1, 1, 1, 1, 1, 1, 1, 1, 1, 1, 1, 1, 1, 1, 1, 0, 0, 0, 0, 0, 0, 0, 0, 0, 0, 0, 0, 0, 0] \n",
      "Dia 1\n",
      "E EESS C VSC UCA 1 T 115 \n",
      "Turno [0, 0, 0, 0, 0, 0, 0, 0, 0, 0, 0, 0, 0, 0, 0, 0, 0, 0, 0, 0, 1, 1, 1, 1, 1, 1, 1, 1, 1, 1, 1, 1, 1, 1, 1, 1, 1, 1, 0, 0, 0, 0, 0, 0, 0, 0, 0, 0] \n",
      "Dia 4\n",
      "E EESS C Ley UCA 2 T 68 \n",
      "Turno [0, 0, 0, 0, 0, 0, 0, 0, 0, 0, 0, 0, 0, 0, 0, 0, 0, 0, 1, 1, 1, 1, 1, 1, 1, 1, 1, 1, 1, 1, 1, 1, 1, 1, 1, 1, 0, 0, 0, 0, 0, 0, 0, 0, 0, 0, 0, 0] \n",
      "Dia 3\n",
      "E Rodilla C Ley Pabellón 1 T 12 \n",
      "Turno [0, 0, 0, 0, 0, 0, 0, 0, 0, 0, 0, 0, 0, 0, 0, 0, 1, 1, 1, 1, 1, 1, 1, 1, 1, 1, 1, 1, 1, 0, 0, 0, 0, 0, 0, 0, 0, 0, 0, 0, 0, 0, 0, 0, 0, 0, 0, 0] \n",
      "Dia 1\n",
      "E Rodilla C Ley Pabellón 1 T 15 \n",
      "Turno [0, 0, 0, 0, 0, 0, 0, 0, 0, 0, 0, 0, 0, 0, 0, 0, 1, 1, 1, 1, 1, 1, 1, 1, 1, 1, 1, 1, 1, 1, 1, 1, 0, 0, 0, 0, 0, 0, 0, 0, 0, 0, 0, 0, 0, 0, 0, 0] \n",
      "Dia 2\n",
      "E Rodilla C Ley Pabellón 2 T 43 \n",
      "Turno [0, 0, 0, 0, 0, 0, 0, 0, 0, 0, 0, 0, 0, 0, 0, 0, 0, 1, 1, 1, 1, 1, 1, 1, 1, 1, 1, 1, 1, 1, 1, 1, 1, 1, 1, 0, 0, 0, 0, 0, 0, 0, 0, 0, 0, 0, 0, 0] \n",
      "Dia 3\n",
      "E Rodilla C Ley Pabellón 5 T 43 \n",
      "Turno [0, 0, 0, 0, 0, 0, 0, 0, 0, 0, 0, 0, 0, 0, 0, 0, 0, 1, 1, 1, 1, 1, 1, 1, 1, 1, 1, 1, 1, 1, 1, 1, 1, 1, 1, 0, 0, 0, 0, 0, 0, 0, 0, 0, 0, 0, 0, 0] \n",
      "Dia 0\n",
      "E Rodilla C VSC Pabellón 7 T 15 \n",
      "Turno [0, 0, 0, 0, 0, 0, 0, 0, 0, 0, 0, 0, 0, 0, 0, 0, 1, 1, 1, 1, 1, 1, 1, 1, 1, 1, 1, 1, 1, 1, 1, 1, 0, 0, 0, 0, 0, 0, 0, 0, 0, 0, 0, 0, 0, 0, 0, 0] \n",
      "Dia 3\n",
      "E Rodilla C Ley Pabellón 7 T 16 \n",
      "Turno [0, 0, 0, 0, 0, 0, 0, 0, 0, 0, 0, 0, 0, 0, 0, 0, 1, 1, 1, 1, 1, 1, 1, 1, 1, 1, 1, 1, 1, 1, 1, 1, 1, 0, 0, 0, 0, 0, 0, 0, 0, 0, 0, 0, 0, 0, 0, 0] \n",
      "Dia 1\n",
      "E Rodilla C Ley UCA 2 T 17 \n",
      "Turno [0, 0, 0, 0, 0, 0, 0, 0, 0, 0, 0, 0, 0, 0, 0, 0, 1, 1, 1, 1, 1, 1, 1, 1, 1, 1, 1, 1, 1, 1, 1, 1, 1, 1, 0, 0, 0, 0, 0, 0, 0, 0, 0, 0, 0, 0, 0, 0] \n",
      "Dia 0\n",
      "E Rodilla C Ley UCA 2 T 115 \n",
      "Turno [0, 0, 0, 0, 0, 0, 0, 0, 0, 0, 0, 0, 0, 0, 0, 0, 0, 0, 0, 0, 1, 1, 1, 1, 1, 1, 1, 1, 1, 1, 1, 1, 1, 1, 1, 1, 1, 1, 0, 0, 0, 0, 0, 0, 0, 0, 0, 0] \n",
      "Dia 2\n",
      "E Rodilla C VSC UCA 3 T 8 \n",
      "Turno [0, 0, 0, 0, 0, 0, 0, 0, 0, 0, 0, 0, 0, 0, 0, 0, 1, 1, 1, 1, 1, 1, 1, 1, 1, 0, 0, 0, 0, 0, 0, 0, 0, 0, 0, 0, 0, 0, 0, 0, 0, 0, 0, 0, 0, 0, 0, 0] \n",
      "Dia 1\n",
      "E CPQ C Ley Pabellón 2 T 17 \n",
      "Turno [0, 0, 0, 0, 0, 0, 0, 0, 0, 0, 0, 0, 0, 0, 0, 0, 1, 1, 1, 1, 1, 1, 1, 1, 1, 1, 1, 1, 1, 1, 1, 1, 1, 1, 0, 0, 0, 0, 0, 0, 0, 0, 0, 0, 0, 0, 0, 0] \n",
      "Dia 4\n",
      "E CPQ C Ley Pabellón 2 T 43 \n",
      "Turno [0, 0, 0, 0, 0, 0, 0, 0, 0, 0, 0, 0, 0, 0, 0, 0, 0, 1, 1, 1, 1, 1, 1, 1, 1, 1, 1, 1, 1, 1, 1, 1, 1, 1, 1, 0, 0, 0, 0, 0, 0, 0, 0, 0, 0, 0, 0, 0] \n",
      "Dia 0\n",
      "E CPQ C VSC Pabellón 2 T 178 \n",
      "Turno [0, 0, 0, 0, 0, 0, 0, 0, 0, 0, 0, 0, 0, 0, 0, 0, 0, 0, 0, 0, 0, 0, 0, 1, 1, 1, 1, 1, 1, 1, 1, 1, 1, 1, 1, 1, 1, 1, 1, 1, 1, 0, 0, 0, 0, 0, 0, 0] \n",
      "Dia 2\n",
      "E CPQ C Ley Pabellón 4 T 60 \n",
      "Turno [0, 0, 0, 0, 0, 0, 0, 0, 0, 0, 0, 0, 0, 0, 0, 0, 0, 0, 1, 1, 1, 1, 1, 1, 1, 1, 1, 1, 0, 0, 0, 0, 0, 0, 0, 0, 0, 0, 0, 0, 0, 0, 0, 0, 0, 0, 0, 0] \n",
      "Dia 4\n",
      "E CPQ C Ley Pabellón 4 T 68 \n",
      "Turno [0, 0, 0, 0, 0, 0, 0, 0, 0, 0, 0, 0, 0, 0, 0, 0, 0, 0, 1, 1, 1, 1, 1, 1, 1, 1, 1, 1, 1, 1, 1, 1, 1, 1, 1, 1, 0, 0, 0, 0, 0, 0, 0, 0, 0, 0, 0, 0] \n",
      "Dia 1\n",
      "E CPQ C Ley Pabellón 5 T 10 \n",
      "Turno [0, 0, 0, 0, 0, 0, 0, 0, 0, 0, 0, 0, 0, 0, 0, 0, 1, 1, 1, 1, 1, 1, 1, 1, 1, 1, 1, 0, 0, 0, 0, 0, 0, 0, 0, 0, 0, 0, 0, 0, 0, 0, 0, 0, 0, 0, 0, 0] \n",
      "Dia 1\n",
      "E CPQ C Ley Pabellón 5 T 68 \n",
      "Turno [0, 0, 0, 0, 0, 0, 0, 0, 0, 0, 0, 0, 0, 0, 0, 0, 0, 0, 1, 1, 1, 1, 1, 1, 1, 1, 1, 1, 1, 1, 1, 1, 1, 1, 1, 1, 0, 0, 0, 0, 0, 0, 0, 0, 0, 0, 0, 0] \n",
      "Dia 4\n",
      "E CPQ C VSC Pabellón 7 T 314 \n",
      "Turno [0, 0, 0, 0, 0, 0, 0, 0, 0, 0, 0, 0, 0, 0, 0, 0, 0, 0, 0, 0, 0, 0, 0, 0, 0, 0, 0, 0, 0, 0, 0, 0, 0, 1, 1, 1, 1, 1, 1, 1, 1, 1, 0, 0, 0, 0, 0, 0] \n",
      "Dia 2\n",
      "E CPQ C Ley Pabellón 8 T 68 \n",
      "Turno [0, 0, 0, 0, 0, 0, 0, 0, 0, 0, 0, 0, 0, 0, 0, 0, 0, 0, 1, 1, 1, 1, 1, 1, 1, 1, 1, 1, 1, 1, 1, 1, 1, 1, 1, 1, 0, 0, 0, 0, 0, 0, 0, 0, 0, 0, 0, 0] \n",
      "Dia 2\n",
      "E TYP C Ley Pabellón 2 T 17 \n",
      "Turno [0, 0, 0, 0, 0, 0, 0, 0, 0, 0, 0, 0, 0, 0, 0, 0, 1, 1, 1, 1, 1, 1, 1, 1, 1, 1, 1, 1, 1, 1, 1, 1, 1, 1, 0, 0, 0, 0, 0, 0, 0, 0, 0, 0, 0, 0, 0, 0] \n",
      "Dia 1\n",
      "E TYP C Ley Pabellón 5 T 17 \n",
      "Turno [0, 0, 0, 0, 0, 0, 0, 0, 0, 0, 0, 0, 0, 0, 0, 0, 1, 1, 1, 1, 1, 1, 1, 1, 1, 1, 1, 1, 1, 1, 1, 1, 1, 1, 0, 0, 0, 0, 0, 0, 0, 0, 0, 0, 0, 0, 0, 0] \n",
      "Dia 3\n",
      "E TYP C Ley Pabellón 5 T 68 \n",
      "Turno [0, 0, 0, 0, 0, 0, 0, 0, 0, 0, 0, 0, 0, 0, 0, 0, 0, 0, 1, 1, 1, 1, 1, 1, 1, 1, 1, 1, 1, 1, 1, 1, 1, 1, 1, 1, 0, 0, 0, 0, 0, 0, 0, 0, 0, 0, 0, 0] \n",
      "Dia 2\n",
      "E TYP C Ley Pabellón 8 T 17 \n",
      "Turno [0, 0, 0, 0, 0, 0, 0, 0, 0, 0, 0, 0, 0, 0, 0, 0, 1, 1, 1, 1, 1, 1, 1, 1, 1, 1, 1, 1, 1, 1, 1, 1, 1, 1, 0, 0, 0, 0, 0, 0, 0, 0, 0, 0, 0, 0, 0, 0] \n",
      "Dia 1\n",
      "E TYP C VSC Pabellón 8 T 272 \n",
      "Turno [0, 0, 0, 0, 0, 0, 0, 0, 0, 0, 0, 0, 0, 0, 0, 0, 0, 0, 0, 0, 0, 0, 0, 0, 0, 0, 0, 0, 0, 1, 1, 1, 1, 1, 1, 1, 1, 1, 1, 1, 1, 1, 0, 0, 0, 0, 0, 0] \n",
      "Dia 3\n",
      "E TYP C Ley UCA 1 T 115 \n",
      "Turno [0, 0, 0, 0, 0, 0, 0, 0, 0, 0, 0, 0, 0, 0, 0, 0, 0, 0, 0, 0, 1, 1, 1, 1, 1, 1, 1, 1, 1, 1, 1, 1, 1, 1, 1, 1, 1, 1, 0, 0, 0, 0, 0, 0, 0, 0, 0, 0] \n",
      "Dia 2\n",
      "E TYP C Ley UCA 2 T 68 \n",
      "Turno [0, 0, 0, 0, 0, 0, 0, 0, 0, 0, 0, 0, 0, 0, 0, 0, 0, 0, 1, 1, 1, 1, 1, 1, 1, 1, 1, 1, 1, 1, 1, 1, 1, 1, 1, 1, 0, 0, 0, 0, 0, 0, 0, 0, 0, 0, 0, 0] \n",
      "Dia 1\n",
      "E TYP C VSC UCA 3 T 17 \n",
      "Turno [0, 0, 0, 0, 0, 0, 0, 0, 0, 0, 0, 0, 0, 0, 0, 0, 1, 1, 1, 1, 1, 1, 1, 1, 1, 1, 1, 1, 1, 1, 1, 1, 1, 1, 0, 0, 0, 0, 0, 0, 0, 0, 0, 0, 0, 0, 0, 0] \n",
      "Dia 3\n",
      "E Columna C VSC Pabellón 2 T 329 \n",
      "Turno [0, 0, 0, 0, 0, 0, 0, 0, 0, 0, 0, 0, 0, 0, 0, 0, 0, 0, 0, 0, 0, 0, 0, 0, 0, 0, 0, 0, 0, 0, 0, 0, 0, 0, 0, 1, 1, 1, 1, 1, 1, 1, 0, 0, 0, 0, 0, 0] \n",
      "Dia 3\n",
      "E Columna C Ley Pabellón 3 T 15 \n",
      "Turno [0, 0, 0, 0, 0, 0, 0, 0, 0, 0, 0, 0, 0, 0, 0, 0, 1, 1, 1, 1, 1, 1, 1, 1, 1, 1, 1, 1, 1, 1, 1, 1, 0, 0, 0, 0, 0, 0, 0, 0, 0, 0, 0, 0, 0, 0, 0, 0] \n",
      "Dia 1\n",
      "E Columna C Ley UCA 1 T 17 \n",
      "Turno [0, 0, 0, 0, 0, 0, 0, 0, 0, 0, 0, 0, 0, 0, 0, 0, 1, 1, 1, 1, 1, 1, 1, 1, 1, 1, 1, 1, 1, 1, 1, 1, 1, 1, 0, 0, 0, 0, 0, 0, 0, 0, 0, 0, 0, 0, 0, 0] \n",
      "Dia 0\n",
      "E Columna C VSC UCA 3 T 137 \n",
      "Turno [0, 0, 0, 0, 0, 0, 0, 0, 0, 0, 0, 0, 0, 0, 0, 0, 0, 0, 0, 0, 0, 1, 1, 1, 1, 1, 1, 1, 1, 1, 1, 1, 1, 1, 1, 1, 1, 1, 1, 0, 0, 0, 0, 0, 0, 0, 0, 0] \n",
      "Dia 4\n",
      "E Maxilo C Ley Pabellón 3 T 43 \n",
      "Turno [0, 0, 0, 0, 0, 0, 0, 0, 0, 0, 0, 0, 0, 0, 0, 0, 0, 1, 1, 1, 1, 1, 1, 1, 1, 1, 1, 1, 1, 1, 1, 1, 1, 1, 1, 0, 0, 0, 0, 0, 0, 0, 0, 0, 0, 0, 0, 0] \n",
      "Dia 4\n",
      "E Maxilo C Ley Pabellón 8 T 17 \n",
      "Turno [0, 0, 0, 0, 0, 0, 0, 0, 0, 0, 0, 0, 0, 0, 0, 0, 1, 1, 1, 1, 1, 1, 1, 1, 1, 1, 1, 1, 1, 1, 1, 1, 1, 1, 0, 0, 0, 0, 0, 0, 0, 0, 0, 0, 0, 0, 0, 0] \n",
      "Dia 4\n",
      "E Maxilo C Ley UCA 1 T 16 \n",
      "Turno [0, 0, 0, 0, 0, 0, 0, 0, 0, 0, 0, 0, 0, 0, 0, 0, 1, 1, 1, 1, 1, 1, 1, 1, 1, 1, 1, 1, 1, 1, 1, 1, 1, 0, 0, 0, 0, 0, 0, 0, 0, 0, 0, 0, 0, 0, 0, 0] \n",
      "Dia 3\n",
      "E Hombro C Ley Pabellón 1 T 17 \n",
      "Turno [0, 0, 0, 0, 0, 0, 0, 0, 0, 0, 0, 0, 0, 0, 0, 0, 1, 1, 1, 1, 1, 1, 1, 1, 1, 1, 1, 1, 1, 1, 1, 1, 1, 1, 0, 0, 0, 0, 0, 0, 0, 0, 0, 0, 0, 0, 0, 0] \n",
      "Dia 0\n",
      "E Hombro C Ley Pabellón 6 T 10 \n",
      "Turno [0, 0, 0, 0, 0, 0, 0, 0, 0, 0, 0, 0, 0, 0, 0, 0, 1, 1, 1, 1, 1, 1, 1, 1, 1, 1, 1, 0, 0, 0, 0, 0, 0, 0, 0, 0, 0, 0, 0, 0, 0, 0, 0, 0, 0, 0, 0, 0] \n",
      "Dia 2\n",
      "E Hombro C Ley Pabellón 6 T 17 \n",
      "Turno [0, 0, 0, 0, 0, 0, 0, 0, 0, 0, 0, 0, 0, 0, 0, 0, 1, 1, 1, 1, 1, 1, 1, 1, 1, 1, 1, 1, 1, 1, 1, 1, 1, 1, 0, 0, 0, 0, 0, 0, 0, 0, 0, 0, 0, 0, 0, 0] \n",
      "Dia 3\n",
      "E Hombro C VSC Pabellón 6 T 158 \n",
      "Turno [0, 0, 0, 0, 0, 0, 0, 0, 0, 0, 0, 0, 0, 0, 0, 0, 0, 0, 0, 0, 0, 0, 1, 1, 1, 1, 1, 1, 1, 1, 1, 1, 1, 1, 1, 1, 1, 1, 1, 1, 0, 0, 0, 0, 0, 0, 0, 0] \n",
      "Dia 1\n",
      "E Hombro C VSC UCA 2 T 245 \n",
      "Turno [0, 0, 0, 0, 0, 0, 0, 0, 0, 0, 0, 0, 0, 0, 0, 0, 0, 0, 0, 0, 0, 0, 0, 0, 0, 0, 0, 1, 1, 1, 1, 1, 1, 1, 1, 1, 1, 1, 1, 1, 1, 1, 0, 0, 0, 0, 0, 0] \n",
      "Dia 4\n",
      "E Libre C VSC Pabellón 1 T 43 \n",
      "Turno [0, 0, 0, 0, 0, 0, 0, 0, 0, 0, 0, 0, 0, 0, 0, 0, 0, 1, 1, 1, 1, 1, 1, 1, 1, 1, 1, 1, 1, 1, 1, 1, 1, 1, 1, 0, 0, 0, 0, 0, 0, 0, 0, 0, 0, 0, 0, 0] \n",
      "Dia 4\n",
      "E Libre C VSC Pabellón 4 T 259 \n",
      "Turno [0, 0, 0, 0, 0, 0, 0, 0, 0, 0, 0, 0, 0, 0, 0, 0, 0, 0, 0, 0, 0, 0, 0, 0, 0, 0, 0, 0, 1, 1, 1, 1, 1, 1, 1, 1, 1, 1, 1, 1, 1, 1, 0, 0, 0, 0, 0, 0] \n",
      "Dia 4\n",
      "E Libre C VSC Pabellón 5 T 259 \n",
      "Turno [0, 0, 0, 0, 0, 0, 0, 0, 0, 0, 0, 0, 0, 0, 0, 0, 0, 0, 0, 0, 0, 0, 0, 0, 0, 0, 0, 0, 1, 1, 1, 1, 1, 1, 1, 1, 1, 1, 1, 1, 1, 1, 0, 0, 0, 0, 0, 0] \n",
      "Dia 1\n"
     ]
    },
    {
     "name": "stdout",
     "output_type": "stream",
     "text": [
      "E Libre C VSC Pabellón 6 T 158 \n",
      "Turno [0, 0, 0, 0, 0, 0, 0, 0, 0, 0, 0, 0, 0, 0, 0, 0, 0, 0, 0, 0, 0, 0, 1, 1, 1, 1, 1, 1, 1, 1, 1, 1, 1, 1, 1, 1, 1, 1, 1, 1, 0, 0, 0, 0, 0, 0, 0, 0] \n",
      "Dia 0\n",
      "E Libre C Ley Pabellón 6 T 244 \n",
      "Turno [0, 0, 0, 0, 0, 0, 0, 0, 0, 0, 0, 0, 0, 0, 0, 0, 0, 0, 0, 0, 0, 0, 0, 0, 0, 0, 0, 1, 1, 1, 1, 1, 1, 1, 1, 1, 1, 1, 1, 1, 1, 0, 0, 0, 0, 0, 0, 0] \n",
      "Dia 2\n",
      "E Libre C VSC Pabellón 7 T 13 \n",
      "Turno [0, 0, 0, 0, 0, 0, 0, 0, 0, 0, 0, 0, 0, 0, 0, 0, 1, 1, 1, 1, 1, 1, 1, 1, 1, 1, 1, 1, 1, 1, 0, 0, 0, 0, 0, 0, 0, 0, 0, 0, 0, 0, 0, 0, 0, 0, 0, 0] \n",
      "Dia 2\n",
      "E Libre C Ley Pabellón 7 T 197 \n",
      "Turno [0, 0, 0, 0, 0, 0, 0, 0, 0, 0, 0, 0, 0, 0, 0, 0, 0, 0, 0, 0, 0, 0, 0, 0, 1, 1, 1, 1, 1, 1, 1, 1, 1, 1, 1, 1, 1, 1, 1, 1, 1, 1, 0, 0, 0, 0, 0, 0] \n",
      "Dia 0\n",
      "E Libre C Ley UCA 3 T 178 \n",
      "Turno [0, 0, 0, 0, 0, 0, 0, 0, 0, 0, 0, 0, 0, 0, 0, 0, 0, 0, 0, 0, 0, 0, 0, 1, 1, 1, 1, 1, 1, 1, 1, 1, 1, 1, 1, 1, 1, 1, 1, 1, 1, 0, 0, 0, 0, 0, 0, 0] \n",
      "Dia 0\n",
      "E Libre C VSC UCA 3 T 197 \n",
      "Turno [0, 0, 0, 0, 0, 0, 0, 0, 0, 0, 0, 0, 0, 0, 0, 0, 0, 0, 0, 0, 0, 0, 0, 0, 1, 1, 1, 1, 1, 1, 1, 1, 1, 1, 1, 1, 1, 1, 1, 1, 1, 1, 0, 0, 0, 0, 0, 0] \n",
      "Dia 2\n",
      "E Libre C Ley UCA 3 T 243 \n",
      "Turno [0, 0, 0, 0, 0, 0, 0, 0, 0, 0, 0, 0, 0, 0, 0, 0, 0, 0, 0, 0, 0, 0, 0, 0, 0, 0, 0, 1, 1, 1, 1, 1, 1, 1, 1, 1, 1, 1, 1, 1, 0, 0, 0, 0, 0, 0, 0, 0] \n",
      "Dia 1\n",
      "E Neuro C VSC Pabellón 6 T 196 \n",
      "Turno [0, 0, 0, 0, 0, 0, 0, 0, 0, 0, 0, 0, 0, 0, 0, 0, 0, 0, 0, 0, 0, 0, 0, 0, 1, 1, 1, 1, 1, 1, 1, 1, 1, 1, 1, 1, 1, 1, 1, 1, 1, 0, 0, 0, 0, 0, 0, 0] \n",
      "Dia 4\n",
      "E Cadera C Ley Pabellón 2 T 6 \n",
      "Turno [0, 0, 0, 0, 0, 0, 0, 0, 0, 0, 0, 0, 0, 0, 0, 0, 1, 1, 1, 1, 1, 1, 1, 0, 0, 0, 0, 0, 0, 0, 0, 0, 0, 0, 0, 0, 0, 0, 0, 0, 0, 0, 0, 0, 0, 0, 0, 0] \n",
      "Dia 2\n",
      "E Cadera C VSC Pabellón 3 T 12 \n",
      "Turno [0, 0, 0, 0, 0, 0, 0, 0, 0, 0, 0, 0, 0, 0, 0, 0, 1, 1, 1, 1, 1, 1, 1, 1, 1, 1, 1, 1, 1, 0, 0, 0, 0, 0, 0, 0, 0, 0, 0, 0, 0, 0, 0, 0, 0, 0, 0, 0] \n",
      "Dia 3\n",
      "E Cadera C VSC Pabellón 4 T 197 \n",
      "Turno [0, 0, 0, 0, 0, 0, 0, 0, 0, 0, 0, 0, 0, 0, 0, 0, 0, 0, 0, 0, 0, 0, 0, 0, 1, 1, 1, 1, 1, 1, 1, 1, 1, 1, 1, 1, 1, 1, 1, 1, 1, 1, 0, 0, 0, 0, 0, 0] \n",
      "Dia 3\n",
      "E Cadera C Ley UCA 3 T 7 \n",
      "Turno [0, 0, 0, 0, 0, 0, 0, 0, 0, 0, 0, 0, 0, 0, 0, 0, 1, 1, 1, 1, 1, 1, 1, 1, 0, 0, 0, 0, 0, 0, 0, 0, 0, 0, 0, 0, 0, 0, 0, 0, 0, 0, 0, 0, 0, 0, 0, 0] \n",
      "Dia 2\n",
      "E Roa C VSC Pabellón 1 T 272 \n",
      "Turno [0, 0, 0, 0, 0, 0, 0, 0, 0, 0, 0, 0, 0, 0, 0, 0, 0, 0, 0, 0, 0, 0, 0, 0, 0, 0, 0, 0, 0, 1, 1, 1, 1, 1, 1, 1, 1, 1, 1, 1, 1, 1, 0, 0, 0, 0, 0, 0] \n",
      "Dia 1\n",
      "E Roa C VSC Pabellón 3 T 272 \n",
      "Turno [0, 0, 0, 0, 0, 0, 0, 0, 0, 0, 0, 0, 0, 0, 0, 0, 0, 0, 0, 0, 0, 0, 0, 0, 0, 0, 0, 0, 0, 1, 1, 1, 1, 1, 1, 1, 1, 1, 1, 1, 1, 1, 0, 0, 0, 0, 0, 0] \n",
      "Dia 3\n"
     ]
    }
   ],
   "source": [
    "\n",
    "Result= [[[[[0 for d in dias] for t in T]for p in P ]for c in C]for e in E]\n",
    "for e in E:\n",
    "    for p in P:\n",
    "        for t in T:\n",
    "            for d in dias:\n",
    "                for c in C:\n",
    "                    Result[e][c][p][t][d]=A[(e,p,t,d,c)].varValue\n",
    "                    if A[(e,p,t,d,c)].varValue==1:\n",
    "                        print('E', E_str[e],'C',C_str[c], P_str[p],'T',t,'\\nTurno',turnos[t][:],'\\nDia',d)\n",
    "\n"
   ]
  },
  {
   "cell_type": "code",
   "execution_count": 97,
   "metadata": {},
   "outputs": [],
   "source": [
    "import math\n",
    "\n",
    "#for h in index[1:-1]:\n",
    "#    modelo\n",
    " #!usr/bin/env python\n",
    "  #coding: utf-8\n",
    "list=[0,0,0,0,0,0,0,0,0,0,0,0,0,0,0,0,0,1,1,1,1,1,1,1,1,1,1,1,1,1,1,1,1,0,0,0,0,0,0,0,0,0,0,0,0,0,0,0]\n",
    "def search_ini(list):\n",
    "    for i in range(48):\n",
    "        if list[i-1]==0 and list[i]==1:\n",
    "            z=i\n",
    "    return z\n",
    "def search_fin(list):\n",
    "    for i in range(48):\n",
    "        if list[i-1]==1 and list[i]==0:\n",
    "            z=i\n",
    "    return z\n",
    "e=search_ini(list)\n",
    "f=search_fin(list)\n",
    "\n",
    "def turno(lista):\n",
    "    #lista=[0, 0, 0, 0, 0, 0, 0, 0, 0, 0, 0, 0, 0, 0, 0, 0, 0, 0, 0, 0, 0, 0, 1, 1, 1, 1, 0, 1, 1, 1, 1, 1, 1, 1, 1, 1, 1, 1, 1, 1, 0, 0, 0, 0, 0, 0, 0, 0]\n",
    "    largo=len(lista)\n",
    "    i=0\n",
    "    while lista[i]==0:  \n",
    "        i+=1\n",
    "    inicio=i\n",
    "    while lista[i]==1 or lista[i+1]==1:\n",
    "        fin=i\n",
    "        i+=1\n",
    "    if math.modf((inicio)/2)[0] ==0:\n",
    "        inicio_str=str(int(math.modf((inicio)/2)[1]))+':00:00'\n",
    "    else:\n",
    "        inicio_str=str(int(math.modf((inicio)/2)[1]))+':30:00'\n",
    "    if math.modf((fin)/2)[0] ==0:\n",
    "        fin_str=str(int(math.modf((fin)/2)[1]))+':30:00'\n",
    "    else:\n",
    "        fin_str=str(int(math.modf(((fin)/2)+1)[1]))+':00:00'\n",
    "    return [inicio_str,fin_str]\n",
    "                  "
   ]
  },
  {
   "cell_type": "code",
   "execution_count": 102,
   "metadata": {},
   "outputs": [],
   "source": [
    "def colores(largo):\n",
    "    colores=['rgb(220, 0, 0)','rgb(220, 55, 0)','rgb(220, 110, 0)','rgb(220, 175, 0)','rgb(220, 220, 0)','rgb(55, 0, 0)',\n",
    "                'rgb(110, 0, 0)','rgb(220, 0, 0)','rgb(175, 0, 0)','rgb(220, 0, 110)','rgb(220, 55, 110)','rgb(220, 110, 110)',\n",
    "                'rgb(220, 175, 110)','rgb(220, 220, 110)','rgb(55, 0, 110)','rgb(110, 0, 110)','rgb(220, 0, 110)',\n",
    "                'rgb(175, 0, 110)','rgb(220, 0, 220)','rgb(220, 55, 220)','rgb(220, 110, 220)',\n",
    "                'rgb(220, 175, 220)','rgb(220, 220, 220)','rgb(55, 0, 220)','rgb(110, 0, 220)','rgb(220, 0, 220)',\n",
    "                'rgb(175, 0, 220)']\n",
    "    return colores[:largo]\n",
    "df0=[]\n",
    "df1=[]\n",
    "df2=[]\n",
    "df3=[]\n",
    "df4=[]\n",
    "\n",
    "resource_0=[]\n",
    "resource_1=[]\n",
    "resource_2=[]\n",
    "resource_3=[]\n",
    "resource_4=[]\n",
    "for e in E:\n",
    "    for p in P:\n",
    "        for t in T:\n",
    "            for d in dias:\n",
    "                for c in C:\n",
    "                    if Result[e][c][p][t][d]==1:\n",
    "                        if d==0:\n",
    "\n",
    "                            resource_0.append(E_str[e]+' '+C_str[c])\n",
    "                            #df.append(dict(Task=P_str[p], Start=turno(turnos[t])[0],Finish=turno(turnos[t])[1]))\n",
    "                            df0.append(dict(Task=P_str[p], Start=pd.to_datetime(\"2020:01:01 \"+turno(turnos[t])[0],format='%Y:%m:%d %H:%M:%S'), Finish=pd.to_datetime(\"2020:01:01 \"+turno(turnos[t])[1],format='%Y:%m:%d %H:%M:%S'), Resource=E_str[e]+' '+C_str[c]))       \n",
    "                        elif d==1:\n",
    "\n",
    "                            resource_1.append(E_str[e]+' '+C_str[c])\n",
    "                            #df.append(dict(Task=P_str[p], Start=turno(turnos[t])[0],Finish=turno(turnos[t])[1]))\n",
    "                            df1.append(dict(Task=P_str[p], Start=pd.to_datetime(\"2020:01:01 \"+turno(turnos[t])[0],format='%Y:%m:%d %H:%M:%S'), Finish=pd.to_datetime(\"2020:01:01 \"+turno(turnos[t])[1],format='%Y:%m:%d %H:%M:%S'), Resource=E_str[e]+' '+C_str[c]))       \n",
    "                        elif d==2:\n",
    "\n",
    "                            resource_2.append(E_str[e]+' '+C_str[c])\n",
    "                            #df.append(dict(Task=P_str[p], Start=turno(turnos[t])[0],Finish=turno(turnos[t])[1]))\n",
    "                            df2.append(dict(Task=P_str[p], Start=pd.to_datetime(\"2020:01:01 \"+turno(turnos[t])[0],format='%Y:%m:%d %H:%M:%S'), Finish=pd.to_datetime(\"2020:01:01 \"+turno(turnos[t])[1],format='%Y:%m:%d %H:%M:%S'), Resource=E_str[e]+' '+C_str[c]))       \n",
    "                        elif d==3:\n",
    "\n",
    "                            resource_3.append(E_str[e]+' '+C_str[c])\n",
    "                            #df.append(dict(Task=P_str[p], Start=turno(turnos[t])[0],Finish=turno(turnos[t])[1]))\n",
    "                            df3.append(dict(Task=P_str[p], Start=pd.to_datetime(\"2020:01:01 \"+turno(turnos[t])[0],format='%Y:%m:%d %H:%M:%S'), Finish=pd.to_datetime(\"2020:01:01 \"+turno(turnos[t])[1],format='%Y:%m:%d %H:%M:%S'), Resource=E_str[e]+' '+C_str[c]))       \n",
    "                        elif d==4:\n",
    "\n",
    "                            resource_4.append(E_str[e]+' '+C_str[c])\n",
    "                            #df.append(dict(Task=P_str[p], Start=turno(turnos[t])[0],Finish=turno(turnos[t])[1]))\n",
    "                            df4.append(dict(Task=P_str[p], Start=pd.to_datetime(\"2020:01:01 \"+turno(turnos[t])[0],format='%Y:%m:%d %H:%M:%S'), Finish=pd.to_datetime(\"2020:01:01 \"+turno(turnos[t])[1],format='%Y:%m:%d %H:%M:%S'), Resource=E_str[e]+' '+C_str[c]))       \n",
    "\n",
    "#print(len(resource))  \n",
    "A_0=colores(len(resource_0))\n",
    "colors_0={}\n",
    "\n",
    "for i in range(len(resource_0)):\n",
    "    colors_0[resource_0[i]]=A_0[i]\n",
    "    \n",
    "A_1=colores(len(resource_1))\n",
    "colors_1={}\n",
    "\n",
    "for i in range(len(resource_1)):\n",
    "    colors_1[resource_1[i]]=A_1[i]\n",
    "    \n",
    "A_2=colores(len(resource_2))\n",
    "colors_2={}\n",
    "\n",
    "for i in range(len(resource_2)):\n",
    "    colors_2[resource_2[i]]=A_2[i]\n",
    "    \n",
    "    \n",
    "A_3=colores(len(resource_3))\n",
    "colors_3={}\n",
    "\n",
    "for i in range(len(resource_3)):\n",
    "    colors_3[resource_3[i]]=A_3[i]\n",
    "    \n",
    "    \n",
    "A_4=colores(len(resource_4))\n",
    "colors_4={}\n",
    "\n",
    "for i in range(len(resource_4)):\n",
    "    colors_4[resource_4[i]]=A_4[i]"
   ]
  },
  {
   "cell_type": "code",
   "execution_count": 106,
   "metadata": {},
   "outputs": [
    {
     "data": {
      "application/vnd.plotly.v1+json": {
       "config": {
        "plotlyServerURL": "https://plot.ly"
       },
       "data": [
        {
         "fill": "toself",
         "fillcolor": "rgb(110, 0, 0)",
         "hoverinfo": "name",
         "legendgroup": "rgb(110, 0, 0)",
         "mode": "none",
         "name": "Columna Ley",
         "type": "scatter",
         "x": [
          "2020-01-01T08:00:00",
          "2020-01-01T17:00:00",
          "2020-01-01T17:00:00",
          "2020-01-01T08:00:00"
         ],
         "y": [
          3.8,
          3.8,
          4.2,
          4.2
         ]
        },
        {
         "fill": "toself",
         "fillcolor": "rgb(175, 0, 0)",
         "hoverinfo": "name",
         "legendgroup": "rgb(175, 0, 0)",
         "mode": "none",
         "name": "Libre VSC",
         "type": "scatter",
         "x": [
          "2020-01-01T11:00:00",
          "2020-01-01T20:00:00",
          "2020-01-01T20:00:00",
          "2020-01-01T11:00:00"
         ],
         "y": [
          1.8,
          1.8,
          2.2,
          2.2
         ]
        },
        {
         "fill": "toself",
         "fillcolor": "rgb(220, 0, 0)",
         "hoverinfo": "name",
         "legendgroup": "rgb(220, 0, 0)",
         "mode": "none",
         "name": "Hombro Ley",
         "type": "scatter",
         "x": [
          "2020-01-01T08:00:00",
          "2020-01-01T17:00:00",
          "2020-01-01T17:00:00",
          "2020-01-01T08:00:00"
         ],
         "y": [
          2.8,
          2.8,
          3.2,
          3.2
         ]
        },
        {
         "fill": "toself",
         "fillcolor": "rgb(220, 110, 0)",
         "hoverinfo": "name",
         "legendgroup": "rgb(220, 110, 0)",
         "mode": "none",
         "name": "EESS Ley",
         "type": "scatter",
         "x": [
          "2020-01-01T08:00:00",
          "2020-01-01T17:00:00",
          "2020-01-01T17:00:00",
          "2020-01-01T08:00:00",
          "2020-01-01T08:00:00",
          "2020-01-01T08:00:00",
          "2020-01-01T17:00:00",
          "2020-01-01T17:00:00",
          "2020-01-01T08:00:00",
          "2020-01-01T08:00:00",
          "2020-01-01T08:30:00",
          "2020-01-01T17:30:00",
          "2020-01-01T17:30:00",
          "2020-01-01T08:30:00"
         ],
         "y": [
          9.8,
          9.8,
          10.2,
          10.2,
          null,
          8.8,
          8.8,
          9.2,
          9.2,
          null,
          7.8,
          7.8,
          8.2,
          8.2
         ]
        },
        {
         "fill": "toself",
         "fillcolor": "rgb(220, 220, 0)",
         "hoverinfo": "name",
         "legendgroup": "rgb(220, 220, 0)",
         "mode": "none",
         "name": "Rodilla Ley",
         "type": "scatter",
         "x": [
          "2020-01-01T08:30:00",
          "2020-01-01T17:30:00",
          "2020-01-01T17:30:00",
          "2020-01-01T08:30:00",
          "2020-01-01T08:30:00",
          "2020-01-01T08:00:00",
          "2020-01-01T17:00:00",
          "2020-01-01T17:00:00",
          "2020-01-01T08:00:00"
         ],
         "y": [
          6.8,
          6.8,
          7.2,
          7.2,
          null,
          5.8,
          5.8,
          6.2,
          6.2
         ]
        },
        {
         "fill": "toself",
         "fillcolor": "rgb(220, 55, 110)",
         "hoverinfo": "name",
         "legendgroup": "rgb(220, 55, 110)",
         "mode": "none",
         "name": "Libre Ley",
         "type": "scatter",
         "x": [
          "2020-01-01T12:00:00",
          "2020-01-01T21:00:00",
          "2020-01-01T21:00:00",
          "2020-01-01T12:00:00",
          "2020-01-01T12:00:00",
          "2020-01-01T11:30:00",
          "2020-01-01T20:30:00",
          "2020-01-01T20:30:00",
          "2020-01-01T11:30:00"
         ],
         "y": [
          0.8,
          0.8,
          1.2,
          1.2,
          null,
          -0.2,
          -0.2,
          0.2,
          0.2
         ]
        },
        {
         "fill": "toself",
         "fillcolor": "rgb(55, 0, 0)",
         "hoverinfo": "name",
         "legendgroup": "rgb(55, 0, 0)",
         "mode": "none",
         "name": "CPQ Ley",
         "type": "scatter",
         "x": [
          "2020-01-01T08:30:00",
          "2020-01-01T17:30:00",
          "2020-01-01T17:30:00",
          "2020-01-01T08:30:00"
         ],
         "y": [
          4.8,
          4.8,
          5.2,
          5.2
         ]
        },
        {
         "legendgroup": "rgb(110, 0, 0)",
         "marker": {
          "color": "rgb(110, 0, 0)",
          "opacity": 0,
          "size": 1
         },
         "mode": "markers",
         "name": "",
         "showlegend": false,
         "text": [
          null,
          null
         ],
         "type": "scatter",
         "x": [
          "2020-01-01T08:00:00",
          "2020-01-01T17:00:00"
         ],
         "y": [
          4,
          4
         ]
        },
        {
         "legendgroup": "rgb(175, 0, 0)",
         "marker": {
          "color": "rgb(175, 0, 0)",
          "opacity": 0,
          "size": 1
         },
         "mode": "markers",
         "name": "",
         "showlegend": false,
         "text": [
          null,
          null
         ],
         "type": "scatter",
         "x": [
          "2020-01-01T11:00:00",
          "2020-01-01T20:00:00"
         ],
         "y": [
          2,
          2
         ]
        },
        {
         "legendgroup": "rgb(220, 0, 0)",
         "marker": {
          "color": "rgb(220, 0, 0)",
          "opacity": 0,
          "size": 1
         },
         "mode": "markers",
         "name": "",
         "showlegend": false,
         "text": [
          null,
          null
         ],
         "type": "scatter",
         "x": [
          "2020-01-01T08:00:00",
          "2020-01-01T17:00:00"
         ],
         "y": [
          3,
          3
         ]
        },
        {
         "legendgroup": "rgb(220, 110, 0)",
         "marker": {
          "color": "rgb(220, 110, 0)",
          "opacity": 0,
          "size": 1
         },
         "mode": "markers",
         "name": "",
         "showlegend": false,
         "text": [
          null,
          null,
          null,
          null,
          null,
          null
         ],
         "type": "scatter",
         "x": [
          "2020-01-01T08:00:00",
          "2020-01-01T17:00:00",
          "2020-01-01T08:00:00",
          "2020-01-01T17:00:00",
          "2020-01-01T08:30:00",
          "2020-01-01T17:30:00"
         ],
         "y": [
          10,
          10,
          9,
          9,
          8,
          8
         ]
        },
        {
         "legendgroup": "rgb(220, 220, 0)",
         "marker": {
          "color": "rgb(220, 220, 0)",
          "opacity": 0,
          "size": 1
         },
         "mode": "markers",
         "name": "",
         "showlegend": false,
         "text": [
          null,
          null,
          null,
          null
         ],
         "type": "scatter",
         "x": [
          "2020-01-01T08:30:00",
          "2020-01-01T17:30:00",
          "2020-01-01T08:00:00",
          "2020-01-01T17:00:00"
         ],
         "y": [
          7,
          7,
          6,
          6
         ]
        },
        {
         "legendgroup": "rgb(220, 55, 110)",
         "marker": {
          "color": "rgb(220, 55, 110)",
          "opacity": 0,
          "size": 1
         },
         "mode": "markers",
         "name": "",
         "showlegend": false,
         "text": [
          null,
          null,
          null,
          null
         ],
         "type": "scatter",
         "x": [
          "2020-01-01T12:00:00",
          "2020-01-01T21:00:00",
          "2020-01-01T11:30:00",
          "2020-01-01T20:30:00"
         ],
         "y": [
          1,
          1,
          0,
          0
         ]
        },
        {
         "legendgroup": "rgb(55, 0, 0)",
         "marker": {
          "color": "rgb(55, 0, 0)",
          "opacity": 0,
          "size": 1
         },
         "mode": "markers",
         "name": "",
         "showlegend": false,
         "text": [
          null,
          null
         ],
         "type": "scatter",
         "x": [
          "2020-01-01T08:30:00",
          "2020-01-01T17:30:00"
         ],
         "y": [
          5,
          5
         ]
        }
       ],
       "layout": {
        "height": 600,
        "hovermode": "closest",
        "showlegend": true,
        "template": {
         "data": {
          "bar": [
           {
            "error_x": {
             "color": "#2a3f5f"
            },
            "error_y": {
             "color": "#2a3f5f"
            },
            "marker": {
             "line": {
              "color": "#E5ECF6",
              "width": 0.5
             }
            },
            "type": "bar"
           }
          ],
          "barpolar": [
           {
            "marker": {
             "line": {
              "color": "#E5ECF6",
              "width": 0.5
             }
            },
            "type": "barpolar"
           }
          ],
          "carpet": [
           {
            "aaxis": {
             "endlinecolor": "#2a3f5f",
             "gridcolor": "white",
             "linecolor": "white",
             "minorgridcolor": "white",
             "startlinecolor": "#2a3f5f"
            },
            "baxis": {
             "endlinecolor": "#2a3f5f",
             "gridcolor": "white",
             "linecolor": "white",
             "minorgridcolor": "white",
             "startlinecolor": "#2a3f5f"
            },
            "type": "carpet"
           }
          ],
          "choropleth": [
           {
            "colorbar": {
             "outlinewidth": 0,
             "ticks": ""
            },
            "type": "choropleth"
           }
          ],
          "contour": [
           {
            "colorbar": {
             "outlinewidth": 0,
             "ticks": ""
            },
            "colorscale": [
             [
              0,
              "#0d0887"
             ],
             [
              0.1111111111111111,
              "#46039f"
             ],
             [
              0.2222222222222222,
              "#7201a8"
             ],
             [
              0.3333333333333333,
              "#9c179e"
             ],
             [
              0.4444444444444444,
              "#bd3786"
             ],
             [
              0.5555555555555556,
              "#d8576b"
             ],
             [
              0.6666666666666666,
              "#ed7953"
             ],
             [
              0.7777777777777778,
              "#fb9f3a"
             ],
             [
              0.8888888888888888,
              "#fdca26"
             ],
             [
              1,
              "#f0f921"
             ]
            ],
            "type": "contour"
           }
          ],
          "contourcarpet": [
           {
            "colorbar": {
             "outlinewidth": 0,
             "ticks": ""
            },
            "type": "contourcarpet"
           }
          ],
          "heatmap": [
           {
            "colorbar": {
             "outlinewidth": 0,
             "ticks": ""
            },
            "colorscale": [
             [
              0,
              "#0d0887"
             ],
             [
              0.1111111111111111,
              "#46039f"
             ],
             [
              0.2222222222222222,
              "#7201a8"
             ],
             [
              0.3333333333333333,
              "#9c179e"
             ],
             [
              0.4444444444444444,
              "#bd3786"
             ],
             [
              0.5555555555555556,
              "#d8576b"
             ],
             [
              0.6666666666666666,
              "#ed7953"
             ],
             [
              0.7777777777777778,
              "#fb9f3a"
             ],
             [
              0.8888888888888888,
              "#fdca26"
             ],
             [
              1,
              "#f0f921"
             ]
            ],
            "type": "heatmap"
           }
          ],
          "heatmapgl": [
           {
            "colorbar": {
             "outlinewidth": 0,
             "ticks": ""
            },
            "colorscale": [
             [
              0,
              "#0d0887"
             ],
             [
              0.1111111111111111,
              "#46039f"
             ],
             [
              0.2222222222222222,
              "#7201a8"
             ],
             [
              0.3333333333333333,
              "#9c179e"
             ],
             [
              0.4444444444444444,
              "#bd3786"
             ],
             [
              0.5555555555555556,
              "#d8576b"
             ],
             [
              0.6666666666666666,
              "#ed7953"
             ],
             [
              0.7777777777777778,
              "#fb9f3a"
             ],
             [
              0.8888888888888888,
              "#fdca26"
             ],
             [
              1,
              "#f0f921"
             ]
            ],
            "type": "heatmapgl"
           }
          ],
          "histogram": [
           {
            "marker": {
             "colorbar": {
              "outlinewidth": 0,
              "ticks": ""
             }
            },
            "type": "histogram"
           }
          ],
          "histogram2d": [
           {
            "colorbar": {
             "outlinewidth": 0,
             "ticks": ""
            },
            "colorscale": [
             [
              0,
              "#0d0887"
             ],
             [
              0.1111111111111111,
              "#46039f"
             ],
             [
              0.2222222222222222,
              "#7201a8"
             ],
             [
              0.3333333333333333,
              "#9c179e"
             ],
             [
              0.4444444444444444,
              "#bd3786"
             ],
             [
              0.5555555555555556,
              "#d8576b"
             ],
             [
              0.6666666666666666,
              "#ed7953"
             ],
             [
              0.7777777777777778,
              "#fb9f3a"
             ],
             [
              0.8888888888888888,
              "#fdca26"
             ],
             [
              1,
              "#f0f921"
             ]
            ],
            "type": "histogram2d"
           }
          ],
          "histogram2dcontour": [
           {
            "colorbar": {
             "outlinewidth": 0,
             "ticks": ""
            },
            "colorscale": [
             [
              0,
              "#0d0887"
             ],
             [
              0.1111111111111111,
              "#46039f"
             ],
             [
              0.2222222222222222,
              "#7201a8"
             ],
             [
              0.3333333333333333,
              "#9c179e"
             ],
             [
              0.4444444444444444,
              "#bd3786"
             ],
             [
              0.5555555555555556,
              "#d8576b"
             ],
             [
              0.6666666666666666,
              "#ed7953"
             ],
             [
              0.7777777777777778,
              "#fb9f3a"
             ],
             [
              0.8888888888888888,
              "#fdca26"
             ],
             [
              1,
              "#f0f921"
             ]
            ],
            "type": "histogram2dcontour"
           }
          ],
          "mesh3d": [
           {
            "colorbar": {
             "outlinewidth": 0,
             "ticks": ""
            },
            "type": "mesh3d"
           }
          ],
          "parcoords": [
           {
            "line": {
             "colorbar": {
              "outlinewidth": 0,
              "ticks": ""
             }
            },
            "type": "parcoords"
           }
          ],
          "pie": [
           {
            "automargin": true,
            "type": "pie"
           }
          ],
          "scatter": [
           {
            "marker": {
             "colorbar": {
              "outlinewidth": 0,
              "ticks": ""
             }
            },
            "type": "scatter"
           }
          ],
          "scatter3d": [
           {
            "line": {
             "colorbar": {
              "outlinewidth": 0,
              "ticks": ""
             }
            },
            "marker": {
             "colorbar": {
              "outlinewidth": 0,
              "ticks": ""
             }
            },
            "type": "scatter3d"
           }
          ],
          "scattercarpet": [
           {
            "marker": {
             "colorbar": {
              "outlinewidth": 0,
              "ticks": ""
             }
            },
            "type": "scattercarpet"
           }
          ],
          "scattergeo": [
           {
            "marker": {
             "colorbar": {
              "outlinewidth": 0,
              "ticks": ""
             }
            },
            "type": "scattergeo"
           }
          ],
          "scattergl": [
           {
            "marker": {
             "colorbar": {
              "outlinewidth": 0,
              "ticks": ""
             }
            },
            "type": "scattergl"
           }
          ],
          "scattermapbox": [
           {
            "marker": {
             "colorbar": {
              "outlinewidth": 0,
              "ticks": ""
             }
            },
            "type": "scattermapbox"
           }
          ],
          "scatterpolar": [
           {
            "marker": {
             "colorbar": {
              "outlinewidth": 0,
              "ticks": ""
             }
            },
            "type": "scatterpolar"
           }
          ],
          "scatterpolargl": [
           {
            "marker": {
             "colorbar": {
              "outlinewidth": 0,
              "ticks": ""
             }
            },
            "type": "scatterpolargl"
           }
          ],
          "scatterternary": [
           {
            "marker": {
             "colorbar": {
              "outlinewidth": 0,
              "ticks": ""
             }
            },
            "type": "scatterternary"
           }
          ],
          "surface": [
           {
            "colorbar": {
             "outlinewidth": 0,
             "ticks": ""
            },
            "colorscale": [
             [
              0,
              "#0d0887"
             ],
             [
              0.1111111111111111,
              "#46039f"
             ],
             [
              0.2222222222222222,
              "#7201a8"
             ],
             [
              0.3333333333333333,
              "#9c179e"
             ],
             [
              0.4444444444444444,
              "#bd3786"
             ],
             [
              0.5555555555555556,
              "#d8576b"
             ],
             [
              0.6666666666666666,
              "#ed7953"
             ],
             [
              0.7777777777777778,
              "#fb9f3a"
             ],
             [
              0.8888888888888888,
              "#fdca26"
             ],
             [
              1,
              "#f0f921"
             ]
            ],
            "type": "surface"
           }
          ],
          "table": [
           {
            "cells": {
             "fill": {
              "color": "#EBF0F8"
             },
             "line": {
              "color": "white"
             }
            },
            "header": {
             "fill": {
              "color": "#C8D4E3"
             },
             "line": {
              "color": "white"
             }
            },
            "type": "table"
           }
          ]
         },
         "layout": {
          "annotationdefaults": {
           "arrowcolor": "#2a3f5f",
           "arrowhead": 0,
           "arrowwidth": 1
          },
          "coloraxis": {
           "colorbar": {
            "outlinewidth": 0,
            "ticks": ""
           }
          },
          "colorscale": {
           "diverging": [
            [
             0,
             "#8e0152"
            ],
            [
             0.1,
             "#c51b7d"
            ],
            [
             0.2,
             "#de77ae"
            ],
            [
             0.3,
             "#f1b6da"
            ],
            [
             0.4,
             "#fde0ef"
            ],
            [
             0.5,
             "#f7f7f7"
            ],
            [
             0.6,
             "#e6f5d0"
            ],
            [
             0.7,
             "#b8e186"
            ],
            [
             0.8,
             "#7fbc41"
            ],
            [
             0.9,
             "#4d9221"
            ],
            [
             1,
             "#276419"
            ]
           ],
           "sequential": [
            [
             0,
             "#0d0887"
            ],
            [
             0.1111111111111111,
             "#46039f"
            ],
            [
             0.2222222222222222,
             "#7201a8"
            ],
            [
             0.3333333333333333,
             "#9c179e"
            ],
            [
             0.4444444444444444,
             "#bd3786"
            ],
            [
             0.5555555555555556,
             "#d8576b"
            ],
            [
             0.6666666666666666,
             "#ed7953"
            ],
            [
             0.7777777777777778,
             "#fb9f3a"
            ],
            [
             0.8888888888888888,
             "#fdca26"
            ],
            [
             1,
             "#f0f921"
            ]
           ],
           "sequentialminus": [
            [
             0,
             "#0d0887"
            ],
            [
             0.1111111111111111,
             "#46039f"
            ],
            [
             0.2222222222222222,
             "#7201a8"
            ],
            [
             0.3333333333333333,
             "#9c179e"
            ],
            [
             0.4444444444444444,
             "#bd3786"
            ],
            [
             0.5555555555555556,
             "#d8576b"
            ],
            [
             0.6666666666666666,
             "#ed7953"
            ],
            [
             0.7777777777777778,
             "#fb9f3a"
            ],
            [
             0.8888888888888888,
             "#fdca26"
            ],
            [
             1,
             "#f0f921"
            ]
           ]
          },
          "colorway": [
           "#636efa",
           "#EF553B",
           "#00cc96",
           "#ab63fa",
           "#FFA15A",
           "#19d3f3",
           "#FF6692",
           "#B6E880",
           "#FF97FF",
           "#FECB52"
          ],
          "font": {
           "color": "#2a3f5f"
          },
          "geo": {
           "bgcolor": "white",
           "lakecolor": "white",
           "landcolor": "#E5ECF6",
           "showlakes": true,
           "showland": true,
           "subunitcolor": "white"
          },
          "hoverlabel": {
           "align": "left"
          },
          "hovermode": "closest",
          "mapbox": {
           "style": "light"
          },
          "paper_bgcolor": "white",
          "plot_bgcolor": "#E5ECF6",
          "polar": {
           "angularaxis": {
            "gridcolor": "white",
            "linecolor": "white",
            "ticks": ""
           },
           "bgcolor": "#E5ECF6",
           "radialaxis": {
            "gridcolor": "white",
            "linecolor": "white",
            "ticks": ""
           }
          },
          "scene": {
           "xaxis": {
            "backgroundcolor": "#E5ECF6",
            "gridcolor": "white",
            "gridwidth": 2,
            "linecolor": "white",
            "showbackground": true,
            "ticks": "",
            "zerolinecolor": "white"
           },
           "yaxis": {
            "backgroundcolor": "#E5ECF6",
            "gridcolor": "white",
            "gridwidth": 2,
            "linecolor": "white",
            "showbackground": true,
            "ticks": "",
            "zerolinecolor": "white"
           },
           "zaxis": {
            "backgroundcolor": "#E5ECF6",
            "gridcolor": "white",
            "gridwidth": 2,
            "linecolor": "white",
            "showbackground": true,
            "ticks": "",
            "zerolinecolor": "white"
           }
          },
          "shapedefaults": {
           "line": {
            "color": "#2a3f5f"
           }
          },
          "ternary": {
           "aaxis": {
            "gridcolor": "white",
            "linecolor": "white",
            "ticks": ""
           },
           "baxis": {
            "gridcolor": "white",
            "linecolor": "white",
            "ticks": ""
           },
           "bgcolor": "#E5ECF6",
           "caxis": {
            "gridcolor": "white",
            "linecolor": "white",
            "ticks": ""
           }
          },
          "title": {
           "x": 0.05
          },
          "xaxis": {
           "automargin": true,
           "gridcolor": "white",
           "linecolor": "white",
           "ticks": "",
           "title": {
            "standoff": 15
           },
           "zerolinecolor": "white",
           "zerolinewidth": 2
          },
          "yaxis": {
           "automargin": true,
           "gridcolor": "white",
           "linecolor": "white",
           "ticks": "",
           "title": {
            "standoff": 15
           },
           "zerolinecolor": "white",
           "zerolinewidth": 2
          }
         }
        },
        "title": {
         "text": "Día Lunes"
        },
        "xaxis": {
         "rangeselector": {
          "buttons": [
           {
            "count": 7,
            "label": "1w",
            "step": "day",
            "stepmode": "backward"
           },
           {
            "count": 1,
            "label": "1m",
            "step": "month",
            "stepmode": "backward"
           },
           {
            "count": 6,
            "label": "6m",
            "step": "month",
            "stepmode": "backward"
           },
           {
            "count": 1,
            "label": "YTD",
            "step": "year",
            "stepmode": "todate"
           },
           {
            "count": 1,
            "label": "1y",
            "step": "year",
            "stepmode": "backward"
           },
           {
            "step": "all"
           }
          ]
         },
         "showgrid": true,
         "type": "date",
         "zeroline": false
        },
        "yaxis": {
         "autorange": false,
         "range": [
          -1,
          12
         ],
         "showgrid": true,
         "ticktext": [
          "UCA 3",
          "Pabellón 7",
          "Pabellón 6",
          "Pabellón 1",
          "UCA 1",
          "Pabellón 2",
          "UCA 2",
          "Pabellón 5",
          "Pabellón 8",
          "Pabellón 4",
          "Pabellón 3"
         ],
         "tickvals": [
          0,
          1,
          2,
          3,
          4,
          5,
          6,
          7,
          8,
          9,
          10
         ],
         "zeroline": false
        }
       }
      },
      "text/html": [
       "<div>\n",
       "        \n",
       "        \n",
       "            <div id=\"3e9d12c8-44bf-4de4-b5cf-dc43330ea648\" class=\"plotly-graph-div\" style=\"height:600px; width:100%;\"></div>\n",
       "            <script type=\"text/javascript\">\n",
       "                require([\"plotly\"], function(Plotly) {\n",
       "                    window.PLOTLYENV=window.PLOTLYENV || {};\n",
       "                    \n",
       "                if (document.getElementById(\"3e9d12c8-44bf-4de4-b5cf-dc43330ea648\")) {\n",
       "                    Plotly.newPlot(\n",
       "                        '3e9d12c8-44bf-4de4-b5cf-dc43330ea648',\n",
       "                        [{\"fill\": \"toself\", \"fillcolor\": \"rgb(110, 0, 0)\", \"hoverinfo\": \"name\", \"legendgroup\": \"rgb(110, 0, 0)\", \"mode\": \"none\", \"name\": \"Columna Ley\", \"type\": \"scatter\", \"x\": [\"2020-01-01T08:00:00\", \"2020-01-01T17:00:00\", \"2020-01-01T17:00:00\", \"2020-01-01T08:00:00\"], \"y\": [3.8, 3.8, 4.2, 4.2]}, {\"fill\": \"toself\", \"fillcolor\": \"rgb(175, 0, 0)\", \"hoverinfo\": \"name\", \"legendgroup\": \"rgb(175, 0, 0)\", \"mode\": \"none\", \"name\": \"Libre VSC\", \"type\": \"scatter\", \"x\": [\"2020-01-01T11:00:00\", \"2020-01-01T20:00:00\", \"2020-01-01T20:00:00\", \"2020-01-01T11:00:00\"], \"y\": [1.8, 1.8, 2.2, 2.2]}, {\"fill\": \"toself\", \"fillcolor\": \"rgb(220, 0, 0)\", \"hoverinfo\": \"name\", \"legendgroup\": \"rgb(220, 0, 0)\", \"mode\": \"none\", \"name\": \"Hombro Ley\", \"type\": \"scatter\", \"x\": [\"2020-01-01T08:00:00\", \"2020-01-01T17:00:00\", \"2020-01-01T17:00:00\", \"2020-01-01T08:00:00\"], \"y\": [2.8, 2.8, 3.2, 3.2]}, {\"fill\": \"toself\", \"fillcolor\": \"rgb(220, 110, 0)\", \"hoverinfo\": \"name\", \"legendgroup\": \"rgb(220, 110, 0)\", \"mode\": \"none\", \"name\": \"EESS Ley\", \"type\": \"scatter\", \"x\": [\"2020-01-01T08:00:00\", \"2020-01-01T17:00:00\", \"2020-01-01T17:00:00\", \"2020-01-01T08:00:00\", \"2020-01-01T08:00:00\", \"2020-01-01T08:00:00\", \"2020-01-01T17:00:00\", \"2020-01-01T17:00:00\", \"2020-01-01T08:00:00\", \"2020-01-01T08:00:00\", \"2020-01-01T08:30:00\", \"2020-01-01T17:30:00\", \"2020-01-01T17:30:00\", \"2020-01-01T08:30:00\"], \"y\": [9.8, 9.8, 10.2, 10.2, null, 8.8, 8.8, 9.2, 9.2, null, 7.8, 7.8, 8.2, 8.2]}, {\"fill\": \"toself\", \"fillcolor\": \"rgb(220, 220, 0)\", \"hoverinfo\": \"name\", \"legendgroup\": \"rgb(220, 220, 0)\", \"mode\": \"none\", \"name\": \"Rodilla Ley\", \"type\": \"scatter\", \"x\": [\"2020-01-01T08:30:00\", \"2020-01-01T17:30:00\", \"2020-01-01T17:30:00\", \"2020-01-01T08:30:00\", \"2020-01-01T08:30:00\", \"2020-01-01T08:00:00\", \"2020-01-01T17:00:00\", \"2020-01-01T17:00:00\", \"2020-01-01T08:00:00\"], \"y\": [6.8, 6.8, 7.2, 7.2, null, 5.8, 5.8, 6.2, 6.2]}, {\"fill\": \"toself\", \"fillcolor\": \"rgb(220, 55, 110)\", \"hoverinfo\": \"name\", \"legendgroup\": \"rgb(220, 55, 110)\", \"mode\": \"none\", \"name\": \"Libre Ley\", \"type\": \"scatter\", \"x\": [\"2020-01-01T12:00:00\", \"2020-01-01T21:00:00\", \"2020-01-01T21:00:00\", \"2020-01-01T12:00:00\", \"2020-01-01T12:00:00\", \"2020-01-01T11:30:00\", \"2020-01-01T20:30:00\", \"2020-01-01T20:30:00\", \"2020-01-01T11:30:00\"], \"y\": [0.8, 0.8, 1.2, 1.2, null, -0.2, -0.2, 0.2, 0.2]}, {\"fill\": \"toself\", \"fillcolor\": \"rgb(55, 0, 0)\", \"hoverinfo\": \"name\", \"legendgroup\": \"rgb(55, 0, 0)\", \"mode\": \"none\", \"name\": \"CPQ Ley\", \"type\": \"scatter\", \"x\": [\"2020-01-01T08:30:00\", \"2020-01-01T17:30:00\", \"2020-01-01T17:30:00\", \"2020-01-01T08:30:00\"], \"y\": [4.8, 4.8, 5.2, 5.2]}, {\"legendgroup\": \"rgb(110, 0, 0)\", \"marker\": {\"color\": \"rgb(110, 0, 0)\", \"opacity\": 0, \"size\": 1}, \"mode\": \"markers\", \"name\": \"\", \"showlegend\": false, \"text\": [null, null], \"type\": \"scatter\", \"x\": [\"2020-01-01T08:00:00\", \"2020-01-01T17:00:00\"], \"y\": [4, 4]}, {\"legendgroup\": \"rgb(175, 0, 0)\", \"marker\": {\"color\": \"rgb(175, 0, 0)\", \"opacity\": 0, \"size\": 1}, \"mode\": \"markers\", \"name\": \"\", \"showlegend\": false, \"text\": [null, null], \"type\": \"scatter\", \"x\": [\"2020-01-01T11:00:00\", \"2020-01-01T20:00:00\"], \"y\": [2, 2]}, {\"legendgroup\": \"rgb(220, 0, 0)\", \"marker\": {\"color\": \"rgb(220, 0, 0)\", \"opacity\": 0, \"size\": 1}, \"mode\": \"markers\", \"name\": \"\", \"showlegend\": false, \"text\": [null, null], \"type\": \"scatter\", \"x\": [\"2020-01-01T08:00:00\", \"2020-01-01T17:00:00\"], \"y\": [3, 3]}, {\"legendgroup\": \"rgb(220, 110, 0)\", \"marker\": {\"color\": \"rgb(220, 110, 0)\", \"opacity\": 0, \"size\": 1}, \"mode\": \"markers\", \"name\": \"\", \"showlegend\": false, \"text\": [null, null, null, null, null, null], \"type\": \"scatter\", \"x\": [\"2020-01-01T08:00:00\", \"2020-01-01T17:00:00\", \"2020-01-01T08:00:00\", \"2020-01-01T17:00:00\", \"2020-01-01T08:30:00\", \"2020-01-01T17:30:00\"], \"y\": [10, 10, 9, 9, 8, 8]}, {\"legendgroup\": \"rgb(220, 220, 0)\", \"marker\": {\"color\": \"rgb(220, 220, 0)\", \"opacity\": 0, \"size\": 1}, \"mode\": \"markers\", \"name\": \"\", \"showlegend\": false, \"text\": [null, null, null, null], \"type\": \"scatter\", \"x\": [\"2020-01-01T08:30:00\", \"2020-01-01T17:30:00\", \"2020-01-01T08:00:00\", \"2020-01-01T17:00:00\"], \"y\": [7, 7, 6, 6]}, {\"legendgroup\": \"rgb(220, 55, 110)\", \"marker\": {\"color\": \"rgb(220, 55, 110)\", \"opacity\": 0, \"size\": 1}, \"mode\": \"markers\", \"name\": \"\", \"showlegend\": false, \"text\": [null, null, null, null], \"type\": \"scatter\", \"x\": [\"2020-01-01T12:00:00\", \"2020-01-01T21:00:00\", \"2020-01-01T11:30:00\", \"2020-01-01T20:30:00\"], \"y\": [1, 1, 0, 0]}, {\"legendgroup\": \"rgb(55, 0, 0)\", \"marker\": {\"color\": \"rgb(55, 0, 0)\", \"opacity\": 0, \"size\": 1}, \"mode\": \"markers\", \"name\": \"\", \"showlegend\": false, \"text\": [null, null], \"type\": \"scatter\", \"x\": [\"2020-01-01T08:30:00\", \"2020-01-01T17:30:00\"], \"y\": [5, 5]}],\n",
       "                        {\"height\": 600, \"hovermode\": \"closest\", \"showlegend\": true, \"template\": {\"data\": {\"bar\": [{\"error_x\": {\"color\": \"#2a3f5f\"}, \"error_y\": {\"color\": \"#2a3f5f\"}, \"marker\": {\"line\": {\"color\": \"#E5ECF6\", \"width\": 0.5}}, \"type\": \"bar\"}], \"barpolar\": [{\"marker\": {\"line\": {\"color\": \"#E5ECF6\", \"width\": 0.5}}, \"type\": \"barpolar\"}], \"carpet\": [{\"aaxis\": {\"endlinecolor\": \"#2a3f5f\", \"gridcolor\": \"white\", \"linecolor\": \"white\", \"minorgridcolor\": \"white\", \"startlinecolor\": \"#2a3f5f\"}, \"baxis\": {\"endlinecolor\": \"#2a3f5f\", \"gridcolor\": \"white\", \"linecolor\": \"white\", \"minorgridcolor\": \"white\", \"startlinecolor\": \"#2a3f5f\"}, \"type\": \"carpet\"}], \"choropleth\": [{\"colorbar\": {\"outlinewidth\": 0, \"ticks\": \"\"}, \"type\": \"choropleth\"}], \"contour\": [{\"colorbar\": {\"outlinewidth\": 0, \"ticks\": \"\"}, \"colorscale\": [[0.0, \"#0d0887\"], [0.1111111111111111, \"#46039f\"], [0.2222222222222222, \"#7201a8\"], [0.3333333333333333, \"#9c179e\"], [0.4444444444444444, \"#bd3786\"], [0.5555555555555556, \"#d8576b\"], [0.6666666666666666, \"#ed7953\"], [0.7777777777777778, \"#fb9f3a\"], [0.8888888888888888, \"#fdca26\"], [1.0, \"#f0f921\"]], \"type\": \"contour\"}], \"contourcarpet\": [{\"colorbar\": {\"outlinewidth\": 0, \"ticks\": \"\"}, \"type\": \"contourcarpet\"}], \"heatmap\": [{\"colorbar\": {\"outlinewidth\": 0, \"ticks\": \"\"}, \"colorscale\": [[0.0, \"#0d0887\"], [0.1111111111111111, \"#46039f\"], [0.2222222222222222, \"#7201a8\"], [0.3333333333333333, \"#9c179e\"], [0.4444444444444444, \"#bd3786\"], [0.5555555555555556, \"#d8576b\"], [0.6666666666666666, \"#ed7953\"], [0.7777777777777778, \"#fb9f3a\"], [0.8888888888888888, \"#fdca26\"], [1.0, \"#f0f921\"]], \"type\": \"heatmap\"}], \"heatmapgl\": [{\"colorbar\": {\"outlinewidth\": 0, \"ticks\": \"\"}, \"colorscale\": [[0.0, \"#0d0887\"], [0.1111111111111111, \"#46039f\"], [0.2222222222222222, \"#7201a8\"], [0.3333333333333333, \"#9c179e\"], [0.4444444444444444, \"#bd3786\"], [0.5555555555555556, \"#d8576b\"], [0.6666666666666666, \"#ed7953\"], [0.7777777777777778, \"#fb9f3a\"], [0.8888888888888888, \"#fdca26\"], [1.0, \"#f0f921\"]], \"type\": \"heatmapgl\"}], \"histogram\": [{\"marker\": {\"colorbar\": {\"outlinewidth\": 0, \"ticks\": \"\"}}, \"type\": \"histogram\"}], \"histogram2d\": [{\"colorbar\": {\"outlinewidth\": 0, \"ticks\": \"\"}, \"colorscale\": [[0.0, \"#0d0887\"], [0.1111111111111111, \"#46039f\"], [0.2222222222222222, \"#7201a8\"], [0.3333333333333333, \"#9c179e\"], [0.4444444444444444, \"#bd3786\"], [0.5555555555555556, \"#d8576b\"], [0.6666666666666666, \"#ed7953\"], [0.7777777777777778, \"#fb9f3a\"], [0.8888888888888888, \"#fdca26\"], [1.0, \"#f0f921\"]], \"type\": \"histogram2d\"}], \"histogram2dcontour\": [{\"colorbar\": {\"outlinewidth\": 0, \"ticks\": \"\"}, \"colorscale\": [[0.0, \"#0d0887\"], [0.1111111111111111, \"#46039f\"], [0.2222222222222222, \"#7201a8\"], [0.3333333333333333, \"#9c179e\"], [0.4444444444444444, \"#bd3786\"], [0.5555555555555556, \"#d8576b\"], [0.6666666666666666, \"#ed7953\"], [0.7777777777777778, \"#fb9f3a\"], [0.8888888888888888, \"#fdca26\"], [1.0, \"#f0f921\"]], \"type\": \"histogram2dcontour\"}], \"mesh3d\": [{\"colorbar\": {\"outlinewidth\": 0, \"ticks\": \"\"}, \"type\": \"mesh3d\"}], \"parcoords\": [{\"line\": {\"colorbar\": {\"outlinewidth\": 0, \"ticks\": \"\"}}, \"type\": \"parcoords\"}], \"pie\": [{\"automargin\": true, \"type\": \"pie\"}], \"scatter\": [{\"marker\": {\"colorbar\": {\"outlinewidth\": 0, \"ticks\": \"\"}}, \"type\": \"scatter\"}], \"scatter3d\": [{\"line\": {\"colorbar\": {\"outlinewidth\": 0, \"ticks\": \"\"}}, \"marker\": {\"colorbar\": {\"outlinewidth\": 0, \"ticks\": \"\"}}, \"type\": \"scatter3d\"}], \"scattercarpet\": [{\"marker\": {\"colorbar\": {\"outlinewidth\": 0, \"ticks\": \"\"}}, \"type\": \"scattercarpet\"}], \"scattergeo\": [{\"marker\": {\"colorbar\": {\"outlinewidth\": 0, \"ticks\": \"\"}}, \"type\": \"scattergeo\"}], \"scattergl\": [{\"marker\": {\"colorbar\": {\"outlinewidth\": 0, \"ticks\": \"\"}}, \"type\": \"scattergl\"}], \"scattermapbox\": [{\"marker\": {\"colorbar\": {\"outlinewidth\": 0, \"ticks\": \"\"}}, \"type\": \"scattermapbox\"}], \"scatterpolar\": [{\"marker\": {\"colorbar\": {\"outlinewidth\": 0, \"ticks\": \"\"}}, \"type\": \"scatterpolar\"}], \"scatterpolargl\": [{\"marker\": {\"colorbar\": {\"outlinewidth\": 0, \"ticks\": \"\"}}, \"type\": \"scatterpolargl\"}], \"scatterternary\": [{\"marker\": {\"colorbar\": {\"outlinewidth\": 0, \"ticks\": \"\"}}, \"type\": \"scatterternary\"}], \"surface\": [{\"colorbar\": {\"outlinewidth\": 0, \"ticks\": \"\"}, \"colorscale\": [[0.0, \"#0d0887\"], [0.1111111111111111, \"#46039f\"], [0.2222222222222222, \"#7201a8\"], [0.3333333333333333, \"#9c179e\"], [0.4444444444444444, \"#bd3786\"], [0.5555555555555556, \"#d8576b\"], [0.6666666666666666, \"#ed7953\"], [0.7777777777777778, \"#fb9f3a\"], [0.8888888888888888, \"#fdca26\"], [1.0, \"#f0f921\"]], \"type\": \"surface\"}], \"table\": [{\"cells\": {\"fill\": {\"color\": \"#EBF0F8\"}, \"line\": {\"color\": \"white\"}}, \"header\": {\"fill\": {\"color\": \"#C8D4E3\"}, \"line\": {\"color\": \"white\"}}, \"type\": \"table\"}]}, \"layout\": {\"annotationdefaults\": {\"arrowcolor\": \"#2a3f5f\", \"arrowhead\": 0, \"arrowwidth\": 1}, \"coloraxis\": {\"colorbar\": {\"outlinewidth\": 0, \"ticks\": \"\"}}, \"colorscale\": {\"diverging\": [[0, \"#8e0152\"], [0.1, \"#c51b7d\"], [0.2, \"#de77ae\"], [0.3, \"#f1b6da\"], [0.4, \"#fde0ef\"], [0.5, \"#f7f7f7\"], [0.6, \"#e6f5d0\"], [0.7, \"#b8e186\"], [0.8, \"#7fbc41\"], [0.9, \"#4d9221\"], [1, \"#276419\"]], \"sequential\": [[0.0, \"#0d0887\"], [0.1111111111111111, \"#46039f\"], [0.2222222222222222, \"#7201a8\"], [0.3333333333333333, \"#9c179e\"], [0.4444444444444444, \"#bd3786\"], [0.5555555555555556, \"#d8576b\"], [0.6666666666666666, \"#ed7953\"], [0.7777777777777778, \"#fb9f3a\"], [0.8888888888888888, \"#fdca26\"], [1.0, \"#f0f921\"]], \"sequentialminus\": [[0.0, \"#0d0887\"], [0.1111111111111111, \"#46039f\"], [0.2222222222222222, \"#7201a8\"], [0.3333333333333333, \"#9c179e\"], [0.4444444444444444, \"#bd3786\"], [0.5555555555555556, \"#d8576b\"], [0.6666666666666666, \"#ed7953\"], [0.7777777777777778, \"#fb9f3a\"], [0.8888888888888888, \"#fdca26\"], [1.0, \"#f0f921\"]]}, \"colorway\": [\"#636efa\", \"#EF553B\", \"#00cc96\", \"#ab63fa\", \"#FFA15A\", \"#19d3f3\", \"#FF6692\", \"#B6E880\", \"#FF97FF\", \"#FECB52\"], \"font\": {\"color\": \"#2a3f5f\"}, \"geo\": {\"bgcolor\": \"white\", \"lakecolor\": \"white\", \"landcolor\": \"#E5ECF6\", \"showlakes\": true, \"showland\": true, \"subunitcolor\": \"white\"}, \"hoverlabel\": {\"align\": \"left\"}, \"hovermode\": \"closest\", \"mapbox\": {\"style\": \"light\"}, \"paper_bgcolor\": \"white\", \"plot_bgcolor\": \"#E5ECF6\", \"polar\": {\"angularaxis\": {\"gridcolor\": \"white\", \"linecolor\": \"white\", \"ticks\": \"\"}, \"bgcolor\": \"#E5ECF6\", \"radialaxis\": {\"gridcolor\": \"white\", \"linecolor\": \"white\", \"ticks\": \"\"}}, \"scene\": {\"xaxis\": {\"backgroundcolor\": \"#E5ECF6\", \"gridcolor\": \"white\", \"gridwidth\": 2, \"linecolor\": \"white\", \"showbackground\": true, \"ticks\": \"\", \"zerolinecolor\": \"white\"}, \"yaxis\": {\"backgroundcolor\": \"#E5ECF6\", \"gridcolor\": \"white\", \"gridwidth\": 2, \"linecolor\": \"white\", \"showbackground\": true, \"ticks\": \"\", \"zerolinecolor\": \"white\"}, \"zaxis\": {\"backgroundcolor\": \"#E5ECF6\", \"gridcolor\": \"white\", \"gridwidth\": 2, \"linecolor\": \"white\", \"showbackground\": true, \"ticks\": \"\", \"zerolinecolor\": \"white\"}}, \"shapedefaults\": {\"line\": {\"color\": \"#2a3f5f\"}}, \"ternary\": {\"aaxis\": {\"gridcolor\": \"white\", \"linecolor\": \"white\", \"ticks\": \"\"}, \"baxis\": {\"gridcolor\": \"white\", \"linecolor\": \"white\", \"ticks\": \"\"}, \"bgcolor\": \"#E5ECF6\", \"caxis\": {\"gridcolor\": \"white\", \"linecolor\": \"white\", \"ticks\": \"\"}}, \"title\": {\"x\": 0.05}, \"xaxis\": {\"automargin\": true, \"gridcolor\": \"white\", \"linecolor\": \"white\", \"ticks\": \"\", \"title\": {\"standoff\": 15}, \"zerolinecolor\": \"white\", \"zerolinewidth\": 2}, \"yaxis\": {\"automargin\": true, \"gridcolor\": \"white\", \"linecolor\": \"white\", \"ticks\": \"\", \"title\": {\"standoff\": 15}, \"zerolinecolor\": \"white\", \"zerolinewidth\": 2}}}, \"title\": {\"text\": \"D\\u00eda Lunes\"}, \"xaxis\": {\"rangeselector\": {\"buttons\": [{\"count\": 7, \"label\": \"1w\", \"step\": \"day\", \"stepmode\": \"backward\"}, {\"count\": 1, \"label\": \"1m\", \"step\": \"month\", \"stepmode\": \"backward\"}, {\"count\": 6, \"label\": \"6m\", \"step\": \"month\", \"stepmode\": \"backward\"}, {\"count\": 1, \"label\": \"YTD\", \"step\": \"year\", \"stepmode\": \"todate\"}, {\"count\": 1, \"label\": \"1y\", \"step\": \"year\", \"stepmode\": \"backward\"}, {\"step\": \"all\"}]}, \"showgrid\": true, \"type\": \"date\", \"zeroline\": false}, \"yaxis\": {\"autorange\": false, \"range\": [-1, 12], \"showgrid\": true, \"ticktext\": [\"UCA 3\", \"Pabell\\u00f3n 7\", \"Pabell\\u00f3n 6\", \"Pabell\\u00f3n 1\", \"UCA 1\", \"Pabell\\u00f3n 2\", \"UCA 2\", \"Pabell\\u00f3n 5\", \"Pabell\\u00f3n 8\", \"Pabell\\u00f3n 4\", \"Pabell\\u00f3n 3\"], \"tickvals\": [0, 1, 2, 3, 4, 5, 6, 7, 8, 9, 10], \"zeroline\": false}},\n",
       "                        {\"responsive\": true}\n",
       "                    ).then(function(){\n",
       "                            \n",
       "var gd = document.getElementById('3e9d12c8-44bf-4de4-b5cf-dc43330ea648');\n",
       "var x = new MutationObserver(function (mutations, observer) {{\n",
       "        var display = window.getComputedStyle(gd).display;\n",
       "        if (!display || display === 'none') {{\n",
       "            console.log([gd, 'removed!']);\n",
       "            Plotly.purge(gd);\n",
       "            observer.disconnect();\n",
       "        }}\n",
       "}});\n",
       "\n",
       "// Listen for the removal of the full notebook cells\n",
       "var notebookContainer = gd.closest('#notebook-container');\n",
       "if (notebookContainer) {{\n",
       "    x.observe(notebookContainer, {childList: true});\n",
       "}}\n",
       "\n",
       "// Listen for the clearing of the current output cell\n",
       "var outputEl = gd.closest('.output');\n",
       "if (outputEl) {{\n",
       "    x.observe(outputEl, {childList: true});\n",
       "}}\n",
       "\n",
       "                        })\n",
       "                };\n",
       "                });\n",
       "            </script>\n",
       "        </div>"
      ]
     },
     "metadata": {},
     "output_type": "display_data"
    }
   ],
   "source": [
    "import plotly.graph_objs as go\n",
    "import plotly.figure_factory as ff\n",
    "from plotly.figure_factory import create_gantt\n",
    "\n",
    "\n",
    "    \n",
    "\"\"\"colors = {resource[0]: 'rgb(220, 0, 0)',\n",
    "          resource[1]: (1, 0.9, 0.16),\n",
    "          resource[2]: 'rgb(0, 255, 100)',\n",
    "          resource[3]: 'rgb(255, 0, 0)',\n",
    "          resource[4]: 'rgb(170, 14, 200)',\n",
    "          resource[5]: (1, 1, 0.2),\n",
    "          resource[6]: (0, 0.5, 0.7),\n",
    "          resource[7]: (0, 1, 1),\n",
    "          resource[8]: (0, 1, 0.5),\n",
    "          resource[9]: (0.5, 1, 0.7),\n",
    "          resource[10]: (1, 1, 0.7),\n",
    "          resource[11]: (0, 0, 0.7),\n",
    "          resource[12]: (0.1, 0, 0.1),\n",
    "          resource[13]: (0, 0.3, 0.7),\n",
    "          resource[14]: (0.5, 0, 0.3),\n",
    "          resource[15]: (0.1, 0.5, 0.7),\n",
    "          resource[16]: (0.9, 0.3, 0.7),}\n",
    "          #resource[17]: (0.9, 1, 0.7)}\n",
    "\"\"\"\n",
    "\n",
    "fig_0 = ff.create_gantt(df0, colors=colors_0, index_col='Resource', show_colorbar=True, title='Día Lunes',showgrid_x=True, showgrid_y=True,\n",
    "                      group_tasks=True)\n",
    "fig_0.show()\n",
    "\n",
    "\n",
    "\n",
    "\n",
    "\n"
   ]
  },
  {
   "cell_type": "code",
   "execution_count": 107,
   "metadata": {},
   "outputs": [
    {
     "data": {
      "application/vnd.plotly.v1+json": {
       "config": {
        "plotlyServerURL": "https://plot.ly"
       },
       "data": [
        {
         "fill": "toself",
         "fillcolor": "rgb(110, 0, 0)",
         "hoverinfo": "name",
         "legendgroup": "rgb(110, 0, 0)",
         "mode": "none",
         "name": "CPQ Ley",
         "type": "scatter",
         "x": [
          "2020-01-01T09:00:00",
          "2020-01-01T18:00:00",
          "2020-01-01T18:00:00",
          "2020-01-01T09:00:00",
          "2020-01-01T09:00:00",
          "2020-01-01T08:00:00",
          "2020-01-01T13:30:00",
          "2020-01-01T13:30:00",
          "2020-01-01T08:00:00"
         ],
         "y": [
          4.8,
          4.8,
          5.2,
          5.2,
          null,
          3.8,
          3.8,
          4.2,
          4.2
         ]
        },
        {
         "fill": "toself",
         "fillcolor": "rgb(220, 0, 0)",
         "hoverinfo": "name",
         "legendgroup": "rgb(220, 0, 0)",
         "mode": "none",
         "name": "EESS VSC",
         "type": "scatter",
         "x": [
          "2020-01-01T17:00:00",
          "2020-01-01T21:00:00",
          "2020-01-01T21:00:00",
          "2020-01-01T17:00:00"
         ],
         "y": [
          9.8,
          9.8,
          10.2,
          10.2
         ]
        },
        {
         "fill": "toself",
         "fillcolor": "rgb(220, 0, 110)",
         "hoverinfo": "name",
         "legendgroup": "rgb(220, 0, 110)",
         "mode": "none",
         "name": "TYP Ley",
         "type": "scatter",
         "x": [
          "2020-01-01T08:00:00",
          "2020-01-01T17:00:00",
          "2020-01-01T17:00:00",
          "2020-01-01T08:00:00",
          "2020-01-01T08:00:00",
          "2020-01-01T08:00:00",
          "2020-01-01T17:00:00",
          "2020-01-01T17:00:00",
          "2020-01-01T08:00:00",
          "2020-01-01T08:00:00",
          "2020-01-01T09:00:00",
          "2020-01-01T18:00:00",
          "2020-01-01T18:00:00",
          "2020-01-01T09:00:00"
         ],
         "y": [
          9.8,
          9.8,
          10.2,
          10.2,
          null,
          2.8,
          2.8,
          3.2,
          3.2,
          null,
          1.8,
          1.8,
          2.2,
          2.2
         ]
        },
        {
         "fill": "toself",
         "fillcolor": "rgb(220, 110, 110)",
         "hoverinfo": "name",
         "legendgroup": "rgb(220, 110, 110)",
         "mode": "none",
         "name": "Hombro VSC",
         "type": "scatter",
         "x": [
          "2020-01-01T11:00:00",
          "2020-01-01T20:00:00",
          "2020-01-01T20:00:00",
          "2020-01-01T11:00:00"
         ],
         "y": [
          -0.2,
          -0.2,
          0.2,
          0.2
         ]
        },
        {
         "fill": "toself",
         "fillcolor": "rgb(220, 175, 0)",
         "hoverinfo": "name",
         "legendgroup": "rgb(220, 175, 0)",
         "mode": "none",
         "name": "Rodilla Ley",
         "type": "scatter",
         "x": [
          "2020-01-01T08:00:00",
          "2020-01-01T14:30:00",
          "2020-01-01T14:30:00",
          "2020-01-01T08:00:00",
          "2020-01-01T08:00:00",
          "2020-01-01T08:00:00",
          "2020-01-01T16:30:00",
          "2020-01-01T16:30:00",
          "2020-01-01T08:00:00"
         ],
         "y": [
          7.8,
          7.8,
          8.2,
          8.2,
          null,
          6.8,
          6.8,
          7.2,
          7.2
         ]
        },
        {
         "fill": "toself",
         "fillcolor": "rgb(220, 175, 110)",
         "hoverinfo": "name",
         "legendgroup": "rgb(220, 175, 110)",
         "mode": "none",
         "name": "Libre VSC",
         "type": "scatter",
         "x": [
          "2020-01-01T14:00:00",
          "2020-01-01T21:00:00",
          "2020-01-01T21:00:00",
          "2020-01-01T14:00:00"
         ],
         "y": [
          3.8,
          3.8,
          4.2,
          4.2
         ]
        },
        {
         "fill": "toself",
         "fillcolor": "rgb(220, 220, 0)",
         "hoverinfo": "name",
         "legendgroup": "rgb(220, 220, 0)",
         "mode": "none",
         "name": "Rodilla VSC",
         "type": "scatter",
         "x": [
          "2020-01-01T08:00:00",
          "2020-01-01T12:30:00",
          "2020-01-01T12:30:00",
          "2020-01-01T08:00:00"
         ],
         "y": [
          5.8,
          5.8,
          6.2,
          6.2
         ]
        },
        {
         "fill": "toself",
         "fillcolor": "rgb(220, 220, 110)",
         "hoverinfo": "name",
         "legendgroup": "rgb(220, 220, 110)",
         "mode": "none",
         "name": "Libre Ley",
         "type": "scatter",
         "x": [
          "2020-01-01T13:30:00",
          "2020-01-01T20:00:00",
          "2020-01-01T20:00:00",
          "2020-01-01T13:30:00"
         ],
         "y": [
          5.8,
          5.8,
          6.2,
          6.2
         ]
        },
        {
         "fill": "toself",
         "fillcolor": "rgb(220, 55, 0)",
         "hoverinfo": "name",
         "legendgroup": "rgb(220, 55, 0)",
         "mode": "none",
         "name": "EESS Ley",
         "type": "scatter",
         "x": [
          "2020-01-01T08:00:00",
          "2020-01-01T17:00:00",
          "2020-01-01T17:00:00",
          "2020-01-01T08:00:00"
         ],
         "y": [
          8.8,
          8.8,
          9.2,
          9.2
         ]
        },
        {
         "fill": "toself",
         "fillcolor": "rgb(220, 55, 110)",
         "hoverinfo": "name",
         "legendgroup": "rgb(220, 55, 110)",
         "mode": "none",
         "name": "Columna Ley",
         "type": "scatter",
         "x": [
          "2020-01-01T08:00:00",
          "2020-01-01T16:00:00",
          "2020-01-01T16:00:00",
          "2020-01-01T08:00:00"
         ],
         "y": [
          0.8,
          0.8,
          1.2,
          1.2
         ]
        },
        {
         "fill": "toself",
         "fillcolor": "rgb(55, 0, 110)",
         "hoverinfo": "name",
         "legendgroup": "rgb(55, 0, 110)",
         "mode": "none",
         "name": "Roa VSC",
         "type": "scatter",
         "x": [
          "2020-01-01T14:30:00",
          "2020-01-01T21:00:00",
          "2020-01-01T21:00:00",
          "2020-01-01T14:30:00"
         ],
         "y": [
          7.8,
          7.8,
          8.2,
          8.2
         ]
        },
        {
         "legendgroup": "rgb(110, 0, 0)",
         "marker": {
          "color": "rgb(110, 0, 0)",
          "opacity": 0,
          "size": 1
         },
         "mode": "markers",
         "name": "",
         "showlegend": false,
         "text": [
          null,
          null,
          null,
          null
         ],
         "type": "scatter",
         "x": [
          "2020-01-01T09:00:00",
          "2020-01-01T18:00:00",
          "2020-01-01T08:00:00",
          "2020-01-01T13:30:00"
         ],
         "y": [
          5,
          5,
          4,
          4
         ]
        },
        {
         "legendgroup": "rgb(220, 0, 0)",
         "marker": {
          "color": "rgb(220, 0, 0)",
          "opacity": 0,
          "size": 1
         },
         "mode": "markers",
         "name": "",
         "showlegend": false,
         "text": [
          null,
          null
         ],
         "type": "scatter",
         "x": [
          "2020-01-01T17:00:00",
          "2020-01-01T21:00:00"
         ],
         "y": [
          10,
          10
         ]
        },
        {
         "legendgroup": "rgb(220, 0, 110)",
         "marker": {
          "color": "rgb(220, 0, 110)",
          "opacity": 0,
          "size": 1
         },
         "mode": "markers",
         "name": "",
         "showlegend": false,
         "text": [
          null,
          null,
          null,
          null,
          null,
          null
         ],
         "type": "scatter",
         "x": [
          "2020-01-01T08:00:00",
          "2020-01-01T17:00:00",
          "2020-01-01T08:00:00",
          "2020-01-01T17:00:00",
          "2020-01-01T09:00:00",
          "2020-01-01T18:00:00"
         ],
         "y": [
          10,
          10,
          3,
          3,
          2,
          2
         ]
        },
        {
         "legendgroup": "rgb(220, 110, 110)",
         "marker": {
          "color": "rgb(220, 110, 110)",
          "opacity": 0,
          "size": 1
         },
         "mode": "markers",
         "name": "",
         "showlegend": false,
         "text": [
          null,
          null
         ],
         "type": "scatter",
         "x": [
          "2020-01-01T11:00:00",
          "2020-01-01T20:00:00"
         ],
         "y": [
          0,
          0
         ]
        },
        {
         "legendgroup": "rgb(220, 175, 0)",
         "marker": {
          "color": "rgb(220, 175, 0)",
          "opacity": 0,
          "size": 1
         },
         "mode": "markers",
         "name": "",
         "showlegend": false,
         "text": [
          null,
          null,
          null,
          null
         ],
         "type": "scatter",
         "x": [
          "2020-01-01T08:00:00",
          "2020-01-01T14:30:00",
          "2020-01-01T08:00:00",
          "2020-01-01T16:30:00"
         ],
         "y": [
          8,
          8,
          7,
          7
         ]
        },
        {
         "legendgroup": "rgb(220, 175, 110)",
         "marker": {
          "color": "rgb(220, 175, 110)",
          "opacity": 0,
          "size": 1
         },
         "mode": "markers",
         "name": "",
         "showlegend": false,
         "text": [
          null,
          null
         ],
         "type": "scatter",
         "x": [
          "2020-01-01T14:00:00",
          "2020-01-01T21:00:00"
         ],
         "y": [
          4,
          4
         ]
        },
        {
         "legendgroup": "rgb(220, 220, 0)",
         "marker": {
          "color": "rgb(220, 220, 0)",
          "opacity": 0,
          "size": 1
         },
         "mode": "markers",
         "name": "",
         "showlegend": false,
         "text": [
          null,
          null
         ],
         "type": "scatter",
         "x": [
          "2020-01-01T08:00:00",
          "2020-01-01T12:30:00"
         ],
         "y": [
          6,
          6
         ]
        },
        {
         "legendgroup": "rgb(220, 220, 110)",
         "marker": {
          "color": "rgb(220, 220, 110)",
          "opacity": 0,
          "size": 1
         },
         "mode": "markers",
         "name": "",
         "showlegend": false,
         "text": [
          null,
          null
         ],
         "type": "scatter",
         "x": [
          "2020-01-01T13:30:00",
          "2020-01-01T20:00:00"
         ],
         "y": [
          6,
          6
         ]
        },
        {
         "legendgroup": "rgb(220, 55, 0)",
         "marker": {
          "color": "rgb(220, 55, 0)",
          "opacity": 0,
          "size": 1
         },
         "mode": "markers",
         "name": "",
         "showlegend": false,
         "text": [
          null,
          null
         ],
         "type": "scatter",
         "x": [
          "2020-01-01T08:00:00",
          "2020-01-01T17:00:00"
         ],
         "y": [
          9,
          9
         ]
        },
        {
         "legendgroup": "rgb(220, 55, 110)",
         "marker": {
          "color": "rgb(220, 55, 110)",
          "opacity": 0,
          "size": 1
         },
         "mode": "markers",
         "name": "",
         "showlegend": false,
         "text": [
          null,
          null
         ],
         "type": "scatter",
         "x": [
          "2020-01-01T08:00:00",
          "2020-01-01T16:00:00"
         ],
         "y": [
          1,
          1
         ]
        },
        {
         "legendgroup": "rgb(55, 0, 110)",
         "marker": {
          "color": "rgb(55, 0, 110)",
          "opacity": 0,
          "size": 1
         },
         "mode": "markers",
         "name": "",
         "showlegend": false,
         "text": [
          null,
          null
         ],
         "type": "scatter",
         "x": [
          "2020-01-01T14:30:00",
          "2020-01-01T21:00:00"
         ],
         "y": [
          8,
          8
         ]
        }
       ],
       "layout": {
        "height": 600,
        "hovermode": "closest",
        "showlegend": true,
        "template": {
         "data": {
          "bar": [
           {
            "error_x": {
             "color": "#2a3f5f"
            },
            "error_y": {
             "color": "#2a3f5f"
            },
            "marker": {
             "line": {
              "color": "#E5ECF6",
              "width": 0.5
             }
            },
            "type": "bar"
           }
          ],
          "barpolar": [
           {
            "marker": {
             "line": {
              "color": "#E5ECF6",
              "width": 0.5
             }
            },
            "type": "barpolar"
           }
          ],
          "carpet": [
           {
            "aaxis": {
             "endlinecolor": "#2a3f5f",
             "gridcolor": "white",
             "linecolor": "white",
             "minorgridcolor": "white",
             "startlinecolor": "#2a3f5f"
            },
            "baxis": {
             "endlinecolor": "#2a3f5f",
             "gridcolor": "white",
             "linecolor": "white",
             "minorgridcolor": "white",
             "startlinecolor": "#2a3f5f"
            },
            "type": "carpet"
           }
          ],
          "choropleth": [
           {
            "colorbar": {
             "outlinewidth": 0,
             "ticks": ""
            },
            "type": "choropleth"
           }
          ],
          "contour": [
           {
            "colorbar": {
             "outlinewidth": 0,
             "ticks": ""
            },
            "colorscale": [
             [
              0,
              "#0d0887"
             ],
             [
              0.1111111111111111,
              "#46039f"
             ],
             [
              0.2222222222222222,
              "#7201a8"
             ],
             [
              0.3333333333333333,
              "#9c179e"
             ],
             [
              0.4444444444444444,
              "#bd3786"
             ],
             [
              0.5555555555555556,
              "#d8576b"
             ],
             [
              0.6666666666666666,
              "#ed7953"
             ],
             [
              0.7777777777777778,
              "#fb9f3a"
             ],
             [
              0.8888888888888888,
              "#fdca26"
             ],
             [
              1,
              "#f0f921"
             ]
            ],
            "type": "contour"
           }
          ],
          "contourcarpet": [
           {
            "colorbar": {
             "outlinewidth": 0,
             "ticks": ""
            },
            "type": "contourcarpet"
           }
          ],
          "heatmap": [
           {
            "colorbar": {
             "outlinewidth": 0,
             "ticks": ""
            },
            "colorscale": [
             [
              0,
              "#0d0887"
             ],
             [
              0.1111111111111111,
              "#46039f"
             ],
             [
              0.2222222222222222,
              "#7201a8"
             ],
             [
              0.3333333333333333,
              "#9c179e"
             ],
             [
              0.4444444444444444,
              "#bd3786"
             ],
             [
              0.5555555555555556,
              "#d8576b"
             ],
             [
              0.6666666666666666,
              "#ed7953"
             ],
             [
              0.7777777777777778,
              "#fb9f3a"
             ],
             [
              0.8888888888888888,
              "#fdca26"
             ],
             [
              1,
              "#f0f921"
             ]
            ],
            "type": "heatmap"
           }
          ],
          "heatmapgl": [
           {
            "colorbar": {
             "outlinewidth": 0,
             "ticks": ""
            },
            "colorscale": [
             [
              0,
              "#0d0887"
             ],
             [
              0.1111111111111111,
              "#46039f"
             ],
             [
              0.2222222222222222,
              "#7201a8"
             ],
             [
              0.3333333333333333,
              "#9c179e"
             ],
             [
              0.4444444444444444,
              "#bd3786"
             ],
             [
              0.5555555555555556,
              "#d8576b"
             ],
             [
              0.6666666666666666,
              "#ed7953"
             ],
             [
              0.7777777777777778,
              "#fb9f3a"
             ],
             [
              0.8888888888888888,
              "#fdca26"
             ],
             [
              1,
              "#f0f921"
             ]
            ],
            "type": "heatmapgl"
           }
          ],
          "histogram": [
           {
            "marker": {
             "colorbar": {
              "outlinewidth": 0,
              "ticks": ""
             }
            },
            "type": "histogram"
           }
          ],
          "histogram2d": [
           {
            "colorbar": {
             "outlinewidth": 0,
             "ticks": ""
            },
            "colorscale": [
             [
              0,
              "#0d0887"
             ],
             [
              0.1111111111111111,
              "#46039f"
             ],
             [
              0.2222222222222222,
              "#7201a8"
             ],
             [
              0.3333333333333333,
              "#9c179e"
             ],
             [
              0.4444444444444444,
              "#bd3786"
             ],
             [
              0.5555555555555556,
              "#d8576b"
             ],
             [
              0.6666666666666666,
              "#ed7953"
             ],
             [
              0.7777777777777778,
              "#fb9f3a"
             ],
             [
              0.8888888888888888,
              "#fdca26"
             ],
             [
              1,
              "#f0f921"
             ]
            ],
            "type": "histogram2d"
           }
          ],
          "histogram2dcontour": [
           {
            "colorbar": {
             "outlinewidth": 0,
             "ticks": ""
            },
            "colorscale": [
             [
              0,
              "#0d0887"
             ],
             [
              0.1111111111111111,
              "#46039f"
             ],
             [
              0.2222222222222222,
              "#7201a8"
             ],
             [
              0.3333333333333333,
              "#9c179e"
             ],
             [
              0.4444444444444444,
              "#bd3786"
             ],
             [
              0.5555555555555556,
              "#d8576b"
             ],
             [
              0.6666666666666666,
              "#ed7953"
             ],
             [
              0.7777777777777778,
              "#fb9f3a"
             ],
             [
              0.8888888888888888,
              "#fdca26"
             ],
             [
              1,
              "#f0f921"
             ]
            ],
            "type": "histogram2dcontour"
           }
          ],
          "mesh3d": [
           {
            "colorbar": {
             "outlinewidth": 0,
             "ticks": ""
            },
            "type": "mesh3d"
           }
          ],
          "parcoords": [
           {
            "line": {
             "colorbar": {
              "outlinewidth": 0,
              "ticks": ""
             }
            },
            "type": "parcoords"
           }
          ],
          "pie": [
           {
            "automargin": true,
            "type": "pie"
           }
          ],
          "scatter": [
           {
            "marker": {
             "colorbar": {
              "outlinewidth": 0,
              "ticks": ""
             }
            },
            "type": "scatter"
           }
          ],
          "scatter3d": [
           {
            "line": {
             "colorbar": {
              "outlinewidth": 0,
              "ticks": ""
             }
            },
            "marker": {
             "colorbar": {
              "outlinewidth": 0,
              "ticks": ""
             }
            },
            "type": "scatter3d"
           }
          ],
          "scattercarpet": [
           {
            "marker": {
             "colorbar": {
              "outlinewidth": 0,
              "ticks": ""
             }
            },
            "type": "scattercarpet"
           }
          ],
          "scattergeo": [
           {
            "marker": {
             "colorbar": {
              "outlinewidth": 0,
              "ticks": ""
             }
            },
            "type": "scattergeo"
           }
          ],
          "scattergl": [
           {
            "marker": {
             "colorbar": {
              "outlinewidth": 0,
              "ticks": ""
             }
            },
            "type": "scattergl"
           }
          ],
          "scattermapbox": [
           {
            "marker": {
             "colorbar": {
              "outlinewidth": 0,
              "ticks": ""
             }
            },
            "type": "scattermapbox"
           }
          ],
          "scatterpolar": [
           {
            "marker": {
             "colorbar": {
              "outlinewidth": 0,
              "ticks": ""
             }
            },
            "type": "scatterpolar"
           }
          ],
          "scatterpolargl": [
           {
            "marker": {
             "colorbar": {
              "outlinewidth": 0,
              "ticks": ""
             }
            },
            "type": "scatterpolargl"
           }
          ],
          "scatterternary": [
           {
            "marker": {
             "colorbar": {
              "outlinewidth": 0,
              "ticks": ""
             }
            },
            "type": "scatterternary"
           }
          ],
          "surface": [
           {
            "colorbar": {
             "outlinewidth": 0,
             "ticks": ""
            },
            "colorscale": [
             [
              0,
              "#0d0887"
             ],
             [
              0.1111111111111111,
              "#46039f"
             ],
             [
              0.2222222222222222,
              "#7201a8"
             ],
             [
              0.3333333333333333,
              "#9c179e"
             ],
             [
              0.4444444444444444,
              "#bd3786"
             ],
             [
              0.5555555555555556,
              "#d8576b"
             ],
             [
              0.6666666666666666,
              "#ed7953"
             ],
             [
              0.7777777777777778,
              "#fb9f3a"
             ],
             [
              0.8888888888888888,
              "#fdca26"
             ],
             [
              1,
              "#f0f921"
             ]
            ],
            "type": "surface"
           }
          ],
          "table": [
           {
            "cells": {
             "fill": {
              "color": "#EBF0F8"
             },
             "line": {
              "color": "white"
             }
            },
            "header": {
             "fill": {
              "color": "#C8D4E3"
             },
             "line": {
              "color": "white"
             }
            },
            "type": "table"
           }
          ]
         },
         "layout": {
          "annotationdefaults": {
           "arrowcolor": "#2a3f5f",
           "arrowhead": 0,
           "arrowwidth": 1
          },
          "coloraxis": {
           "colorbar": {
            "outlinewidth": 0,
            "ticks": ""
           }
          },
          "colorscale": {
           "diverging": [
            [
             0,
             "#8e0152"
            ],
            [
             0.1,
             "#c51b7d"
            ],
            [
             0.2,
             "#de77ae"
            ],
            [
             0.3,
             "#f1b6da"
            ],
            [
             0.4,
             "#fde0ef"
            ],
            [
             0.5,
             "#f7f7f7"
            ],
            [
             0.6,
             "#e6f5d0"
            ],
            [
             0.7,
             "#b8e186"
            ],
            [
             0.8,
             "#7fbc41"
            ],
            [
             0.9,
             "#4d9221"
            ],
            [
             1,
             "#276419"
            ]
           ],
           "sequential": [
            [
             0,
             "#0d0887"
            ],
            [
             0.1111111111111111,
             "#46039f"
            ],
            [
             0.2222222222222222,
             "#7201a8"
            ],
            [
             0.3333333333333333,
             "#9c179e"
            ],
            [
             0.4444444444444444,
             "#bd3786"
            ],
            [
             0.5555555555555556,
             "#d8576b"
            ],
            [
             0.6666666666666666,
             "#ed7953"
            ],
            [
             0.7777777777777778,
             "#fb9f3a"
            ],
            [
             0.8888888888888888,
             "#fdca26"
            ],
            [
             1,
             "#f0f921"
            ]
           ],
           "sequentialminus": [
            [
             0,
             "#0d0887"
            ],
            [
             0.1111111111111111,
             "#46039f"
            ],
            [
             0.2222222222222222,
             "#7201a8"
            ],
            [
             0.3333333333333333,
             "#9c179e"
            ],
            [
             0.4444444444444444,
             "#bd3786"
            ],
            [
             0.5555555555555556,
             "#d8576b"
            ],
            [
             0.6666666666666666,
             "#ed7953"
            ],
            [
             0.7777777777777778,
             "#fb9f3a"
            ],
            [
             0.8888888888888888,
             "#fdca26"
            ],
            [
             1,
             "#f0f921"
            ]
           ]
          },
          "colorway": [
           "#636efa",
           "#EF553B",
           "#00cc96",
           "#ab63fa",
           "#FFA15A",
           "#19d3f3",
           "#FF6692",
           "#B6E880",
           "#FF97FF",
           "#FECB52"
          ],
          "font": {
           "color": "#2a3f5f"
          },
          "geo": {
           "bgcolor": "white",
           "lakecolor": "white",
           "landcolor": "#E5ECF6",
           "showlakes": true,
           "showland": true,
           "subunitcolor": "white"
          },
          "hoverlabel": {
           "align": "left"
          },
          "hovermode": "closest",
          "mapbox": {
           "style": "light"
          },
          "paper_bgcolor": "white",
          "plot_bgcolor": "#E5ECF6",
          "polar": {
           "angularaxis": {
            "gridcolor": "white",
            "linecolor": "white",
            "ticks": ""
           },
           "bgcolor": "#E5ECF6",
           "radialaxis": {
            "gridcolor": "white",
            "linecolor": "white",
            "ticks": ""
           }
          },
          "scene": {
           "xaxis": {
            "backgroundcolor": "#E5ECF6",
            "gridcolor": "white",
            "gridwidth": 2,
            "linecolor": "white",
            "showbackground": true,
            "ticks": "",
            "zerolinecolor": "white"
           },
           "yaxis": {
            "backgroundcolor": "#E5ECF6",
            "gridcolor": "white",
            "gridwidth": 2,
            "linecolor": "white",
            "showbackground": true,
            "ticks": "",
            "zerolinecolor": "white"
           },
           "zaxis": {
            "backgroundcolor": "#E5ECF6",
            "gridcolor": "white",
            "gridwidth": 2,
            "linecolor": "white",
            "showbackground": true,
            "ticks": "",
            "zerolinecolor": "white"
           }
          },
          "shapedefaults": {
           "line": {
            "color": "#2a3f5f"
           }
          },
          "ternary": {
           "aaxis": {
            "gridcolor": "white",
            "linecolor": "white",
            "ticks": ""
           },
           "baxis": {
            "gridcolor": "white",
            "linecolor": "white",
            "ticks": ""
           },
           "bgcolor": "#E5ECF6",
           "caxis": {
            "gridcolor": "white",
            "linecolor": "white",
            "ticks": ""
           }
          },
          "title": {
           "x": 0.05
          },
          "xaxis": {
           "automargin": true,
           "gridcolor": "white",
           "linecolor": "white",
           "ticks": "",
           "title": {
            "standoff": 15
           },
           "zerolinecolor": "white",
           "zerolinewidth": 2
          },
          "yaxis": {
           "automargin": true,
           "gridcolor": "white",
           "linecolor": "white",
           "ticks": "",
           "title": {
            "standoff": 15
           },
           "zerolinecolor": "white",
           "zerolinewidth": 2
          }
         }
        },
        "title": {
         "text": "Día Martes"
        },
        "xaxis": {
         "rangeselector": {
          "buttons": [
           {
            "count": 7,
            "label": "1w",
            "step": "day",
            "stepmode": "backward"
           },
           {
            "count": 1,
            "label": "1m",
            "step": "month",
            "stepmode": "backward"
           },
           {
            "count": 6,
            "label": "6m",
            "step": "month",
            "stepmode": "backward"
           },
           {
            "count": 1,
            "label": "YTD",
            "step": "year",
            "stepmode": "todate"
           },
           {
            "count": 1,
            "label": "1y",
            "step": "year",
            "stepmode": "backward"
           },
           {
            "step": "all"
           }
          ]
         },
         "showgrid": true,
         "type": "date",
         "zeroline": false
        },
        "yaxis": {
         "autorange": false,
         "range": [
          -1,
          12
         ],
         "showgrid": true,
         "ticktext": [
          "Pabellón 6",
          "Pabellón 3",
          "UCA 2",
          "Pabellón 8",
          "Pabellón 5",
          "Pabellón 4",
          "UCA 3",
          "Pabellón 7",
          "Pabellón 1",
          "UCA 1",
          "Pabellón 2"
         ],
         "tickvals": [
          0,
          1,
          2,
          3,
          4,
          5,
          6,
          7,
          8,
          9,
          10
         ],
         "zeroline": false
        }
       }
      },
      "text/html": [
       "<div>\n",
       "        \n",
       "        \n",
       "            <div id=\"04217519-870c-4f79-a74a-9250641585c2\" class=\"plotly-graph-div\" style=\"height:600px; width:100%;\"></div>\n",
       "            <script type=\"text/javascript\">\n",
       "                require([\"plotly\"], function(Plotly) {\n",
       "                    window.PLOTLYENV=window.PLOTLYENV || {};\n",
       "                    \n",
       "                if (document.getElementById(\"04217519-870c-4f79-a74a-9250641585c2\")) {\n",
       "                    Plotly.newPlot(\n",
       "                        '04217519-870c-4f79-a74a-9250641585c2',\n",
       "                        [{\"fill\": \"toself\", \"fillcolor\": \"rgb(110, 0, 0)\", \"hoverinfo\": \"name\", \"legendgroup\": \"rgb(110, 0, 0)\", \"mode\": \"none\", \"name\": \"CPQ Ley\", \"type\": \"scatter\", \"x\": [\"2020-01-01T09:00:00\", \"2020-01-01T18:00:00\", \"2020-01-01T18:00:00\", \"2020-01-01T09:00:00\", \"2020-01-01T09:00:00\", \"2020-01-01T08:00:00\", \"2020-01-01T13:30:00\", \"2020-01-01T13:30:00\", \"2020-01-01T08:00:00\"], \"y\": [4.8, 4.8, 5.2, 5.2, null, 3.8, 3.8, 4.2, 4.2]}, {\"fill\": \"toself\", \"fillcolor\": \"rgb(220, 0, 0)\", \"hoverinfo\": \"name\", \"legendgroup\": \"rgb(220, 0, 0)\", \"mode\": \"none\", \"name\": \"EESS VSC\", \"type\": \"scatter\", \"x\": [\"2020-01-01T17:00:00\", \"2020-01-01T21:00:00\", \"2020-01-01T21:00:00\", \"2020-01-01T17:00:00\"], \"y\": [9.8, 9.8, 10.2, 10.2]}, {\"fill\": \"toself\", \"fillcolor\": \"rgb(220, 0, 110)\", \"hoverinfo\": \"name\", \"legendgroup\": \"rgb(220, 0, 110)\", \"mode\": \"none\", \"name\": \"TYP Ley\", \"type\": \"scatter\", \"x\": [\"2020-01-01T08:00:00\", \"2020-01-01T17:00:00\", \"2020-01-01T17:00:00\", \"2020-01-01T08:00:00\", \"2020-01-01T08:00:00\", \"2020-01-01T08:00:00\", \"2020-01-01T17:00:00\", \"2020-01-01T17:00:00\", \"2020-01-01T08:00:00\", \"2020-01-01T08:00:00\", \"2020-01-01T09:00:00\", \"2020-01-01T18:00:00\", \"2020-01-01T18:00:00\", \"2020-01-01T09:00:00\"], \"y\": [9.8, 9.8, 10.2, 10.2, null, 2.8, 2.8, 3.2, 3.2, null, 1.8, 1.8, 2.2, 2.2]}, {\"fill\": \"toself\", \"fillcolor\": \"rgb(220, 110, 110)\", \"hoverinfo\": \"name\", \"legendgroup\": \"rgb(220, 110, 110)\", \"mode\": \"none\", \"name\": \"Hombro VSC\", \"type\": \"scatter\", \"x\": [\"2020-01-01T11:00:00\", \"2020-01-01T20:00:00\", \"2020-01-01T20:00:00\", \"2020-01-01T11:00:00\"], \"y\": [-0.2, -0.2, 0.2, 0.2]}, {\"fill\": \"toself\", \"fillcolor\": \"rgb(220, 175, 0)\", \"hoverinfo\": \"name\", \"legendgroup\": \"rgb(220, 175, 0)\", \"mode\": \"none\", \"name\": \"Rodilla Ley\", \"type\": \"scatter\", \"x\": [\"2020-01-01T08:00:00\", \"2020-01-01T14:30:00\", \"2020-01-01T14:30:00\", \"2020-01-01T08:00:00\", \"2020-01-01T08:00:00\", \"2020-01-01T08:00:00\", \"2020-01-01T16:30:00\", \"2020-01-01T16:30:00\", \"2020-01-01T08:00:00\"], \"y\": [7.8, 7.8, 8.2, 8.2, null, 6.8, 6.8, 7.2, 7.2]}, {\"fill\": \"toself\", \"fillcolor\": \"rgb(220, 175, 110)\", \"hoverinfo\": \"name\", \"legendgroup\": \"rgb(220, 175, 110)\", \"mode\": \"none\", \"name\": \"Libre VSC\", \"type\": \"scatter\", \"x\": [\"2020-01-01T14:00:00\", \"2020-01-01T21:00:00\", \"2020-01-01T21:00:00\", \"2020-01-01T14:00:00\"], \"y\": [3.8, 3.8, 4.2, 4.2]}, {\"fill\": \"toself\", \"fillcolor\": \"rgb(220, 220, 0)\", \"hoverinfo\": \"name\", \"legendgroup\": \"rgb(220, 220, 0)\", \"mode\": \"none\", \"name\": \"Rodilla VSC\", \"type\": \"scatter\", \"x\": [\"2020-01-01T08:00:00\", \"2020-01-01T12:30:00\", \"2020-01-01T12:30:00\", \"2020-01-01T08:00:00\"], \"y\": [5.8, 5.8, 6.2, 6.2]}, {\"fill\": \"toself\", \"fillcolor\": \"rgb(220, 220, 110)\", \"hoverinfo\": \"name\", \"legendgroup\": \"rgb(220, 220, 110)\", \"mode\": \"none\", \"name\": \"Libre Ley\", \"type\": \"scatter\", \"x\": [\"2020-01-01T13:30:00\", \"2020-01-01T20:00:00\", \"2020-01-01T20:00:00\", \"2020-01-01T13:30:00\"], \"y\": [5.8, 5.8, 6.2, 6.2]}, {\"fill\": \"toself\", \"fillcolor\": \"rgb(220, 55, 0)\", \"hoverinfo\": \"name\", \"legendgroup\": \"rgb(220, 55, 0)\", \"mode\": \"none\", \"name\": \"EESS Ley\", \"type\": \"scatter\", \"x\": [\"2020-01-01T08:00:00\", \"2020-01-01T17:00:00\", \"2020-01-01T17:00:00\", \"2020-01-01T08:00:00\"], \"y\": [8.8, 8.8, 9.2, 9.2]}, {\"fill\": \"toself\", \"fillcolor\": \"rgb(220, 55, 110)\", \"hoverinfo\": \"name\", \"legendgroup\": \"rgb(220, 55, 110)\", \"mode\": \"none\", \"name\": \"Columna Ley\", \"type\": \"scatter\", \"x\": [\"2020-01-01T08:00:00\", \"2020-01-01T16:00:00\", \"2020-01-01T16:00:00\", \"2020-01-01T08:00:00\"], \"y\": [0.8, 0.8, 1.2, 1.2]}, {\"fill\": \"toself\", \"fillcolor\": \"rgb(55, 0, 110)\", \"hoverinfo\": \"name\", \"legendgroup\": \"rgb(55, 0, 110)\", \"mode\": \"none\", \"name\": \"Roa VSC\", \"type\": \"scatter\", \"x\": [\"2020-01-01T14:30:00\", \"2020-01-01T21:00:00\", \"2020-01-01T21:00:00\", \"2020-01-01T14:30:00\"], \"y\": [7.8, 7.8, 8.2, 8.2]}, {\"legendgroup\": \"rgb(110, 0, 0)\", \"marker\": {\"color\": \"rgb(110, 0, 0)\", \"opacity\": 0, \"size\": 1}, \"mode\": \"markers\", \"name\": \"\", \"showlegend\": false, \"text\": [null, null, null, null], \"type\": \"scatter\", \"x\": [\"2020-01-01T09:00:00\", \"2020-01-01T18:00:00\", \"2020-01-01T08:00:00\", \"2020-01-01T13:30:00\"], \"y\": [5, 5, 4, 4]}, {\"legendgroup\": \"rgb(220, 0, 0)\", \"marker\": {\"color\": \"rgb(220, 0, 0)\", \"opacity\": 0, \"size\": 1}, \"mode\": \"markers\", \"name\": \"\", \"showlegend\": false, \"text\": [null, null], \"type\": \"scatter\", \"x\": [\"2020-01-01T17:00:00\", \"2020-01-01T21:00:00\"], \"y\": [10, 10]}, {\"legendgroup\": \"rgb(220, 0, 110)\", \"marker\": {\"color\": \"rgb(220, 0, 110)\", \"opacity\": 0, \"size\": 1}, \"mode\": \"markers\", \"name\": \"\", \"showlegend\": false, \"text\": [null, null, null, null, null, null], \"type\": \"scatter\", \"x\": [\"2020-01-01T08:00:00\", \"2020-01-01T17:00:00\", \"2020-01-01T08:00:00\", \"2020-01-01T17:00:00\", \"2020-01-01T09:00:00\", \"2020-01-01T18:00:00\"], \"y\": [10, 10, 3, 3, 2, 2]}, {\"legendgroup\": \"rgb(220, 110, 110)\", \"marker\": {\"color\": \"rgb(220, 110, 110)\", \"opacity\": 0, \"size\": 1}, \"mode\": \"markers\", \"name\": \"\", \"showlegend\": false, \"text\": [null, null], \"type\": \"scatter\", \"x\": [\"2020-01-01T11:00:00\", \"2020-01-01T20:00:00\"], \"y\": [0, 0]}, {\"legendgroup\": \"rgb(220, 175, 0)\", \"marker\": {\"color\": \"rgb(220, 175, 0)\", \"opacity\": 0, \"size\": 1}, \"mode\": \"markers\", \"name\": \"\", \"showlegend\": false, \"text\": [null, null, null, null], \"type\": \"scatter\", \"x\": [\"2020-01-01T08:00:00\", \"2020-01-01T14:30:00\", \"2020-01-01T08:00:00\", \"2020-01-01T16:30:00\"], \"y\": [8, 8, 7, 7]}, {\"legendgroup\": \"rgb(220, 175, 110)\", \"marker\": {\"color\": \"rgb(220, 175, 110)\", \"opacity\": 0, \"size\": 1}, \"mode\": \"markers\", \"name\": \"\", \"showlegend\": false, \"text\": [null, null], \"type\": \"scatter\", \"x\": [\"2020-01-01T14:00:00\", \"2020-01-01T21:00:00\"], \"y\": [4, 4]}, {\"legendgroup\": \"rgb(220, 220, 0)\", \"marker\": {\"color\": \"rgb(220, 220, 0)\", \"opacity\": 0, \"size\": 1}, \"mode\": \"markers\", \"name\": \"\", \"showlegend\": false, \"text\": [null, null], \"type\": \"scatter\", \"x\": [\"2020-01-01T08:00:00\", \"2020-01-01T12:30:00\"], \"y\": [6, 6]}, {\"legendgroup\": \"rgb(220, 220, 110)\", \"marker\": {\"color\": \"rgb(220, 220, 110)\", \"opacity\": 0, \"size\": 1}, \"mode\": \"markers\", \"name\": \"\", \"showlegend\": false, \"text\": [null, null], \"type\": \"scatter\", \"x\": [\"2020-01-01T13:30:00\", \"2020-01-01T20:00:00\"], \"y\": [6, 6]}, {\"legendgroup\": \"rgb(220, 55, 0)\", \"marker\": {\"color\": \"rgb(220, 55, 0)\", \"opacity\": 0, \"size\": 1}, \"mode\": \"markers\", \"name\": \"\", \"showlegend\": false, \"text\": [null, null], \"type\": \"scatter\", \"x\": [\"2020-01-01T08:00:00\", \"2020-01-01T17:00:00\"], \"y\": [9, 9]}, {\"legendgroup\": \"rgb(220, 55, 110)\", \"marker\": {\"color\": \"rgb(220, 55, 110)\", \"opacity\": 0, \"size\": 1}, \"mode\": \"markers\", \"name\": \"\", \"showlegend\": false, \"text\": [null, null], \"type\": \"scatter\", \"x\": [\"2020-01-01T08:00:00\", \"2020-01-01T16:00:00\"], \"y\": [1, 1]}, {\"legendgroup\": \"rgb(55, 0, 110)\", \"marker\": {\"color\": \"rgb(55, 0, 110)\", \"opacity\": 0, \"size\": 1}, \"mode\": \"markers\", \"name\": \"\", \"showlegend\": false, \"text\": [null, null], \"type\": \"scatter\", \"x\": [\"2020-01-01T14:30:00\", \"2020-01-01T21:00:00\"], \"y\": [8, 8]}],\n",
       "                        {\"height\": 600, \"hovermode\": \"closest\", \"showlegend\": true, \"template\": {\"data\": {\"bar\": [{\"error_x\": {\"color\": \"#2a3f5f\"}, \"error_y\": {\"color\": \"#2a3f5f\"}, \"marker\": {\"line\": {\"color\": \"#E5ECF6\", \"width\": 0.5}}, \"type\": \"bar\"}], \"barpolar\": [{\"marker\": {\"line\": {\"color\": \"#E5ECF6\", \"width\": 0.5}}, \"type\": \"barpolar\"}], \"carpet\": [{\"aaxis\": {\"endlinecolor\": \"#2a3f5f\", \"gridcolor\": \"white\", \"linecolor\": \"white\", \"minorgridcolor\": \"white\", \"startlinecolor\": \"#2a3f5f\"}, \"baxis\": {\"endlinecolor\": \"#2a3f5f\", \"gridcolor\": \"white\", \"linecolor\": \"white\", \"minorgridcolor\": \"white\", \"startlinecolor\": \"#2a3f5f\"}, \"type\": \"carpet\"}], \"choropleth\": [{\"colorbar\": {\"outlinewidth\": 0, \"ticks\": \"\"}, \"type\": \"choropleth\"}], \"contour\": [{\"colorbar\": {\"outlinewidth\": 0, \"ticks\": \"\"}, \"colorscale\": [[0.0, \"#0d0887\"], [0.1111111111111111, \"#46039f\"], [0.2222222222222222, \"#7201a8\"], [0.3333333333333333, \"#9c179e\"], [0.4444444444444444, \"#bd3786\"], [0.5555555555555556, \"#d8576b\"], [0.6666666666666666, \"#ed7953\"], [0.7777777777777778, \"#fb9f3a\"], [0.8888888888888888, \"#fdca26\"], [1.0, \"#f0f921\"]], \"type\": \"contour\"}], \"contourcarpet\": [{\"colorbar\": {\"outlinewidth\": 0, \"ticks\": \"\"}, \"type\": \"contourcarpet\"}], \"heatmap\": [{\"colorbar\": {\"outlinewidth\": 0, \"ticks\": \"\"}, \"colorscale\": [[0.0, \"#0d0887\"], [0.1111111111111111, \"#46039f\"], [0.2222222222222222, \"#7201a8\"], [0.3333333333333333, \"#9c179e\"], [0.4444444444444444, \"#bd3786\"], [0.5555555555555556, \"#d8576b\"], [0.6666666666666666, \"#ed7953\"], [0.7777777777777778, \"#fb9f3a\"], [0.8888888888888888, \"#fdca26\"], [1.0, \"#f0f921\"]], \"type\": \"heatmap\"}], \"heatmapgl\": [{\"colorbar\": {\"outlinewidth\": 0, \"ticks\": \"\"}, \"colorscale\": [[0.0, \"#0d0887\"], [0.1111111111111111, \"#46039f\"], [0.2222222222222222, \"#7201a8\"], [0.3333333333333333, \"#9c179e\"], [0.4444444444444444, \"#bd3786\"], [0.5555555555555556, \"#d8576b\"], [0.6666666666666666, \"#ed7953\"], [0.7777777777777778, \"#fb9f3a\"], [0.8888888888888888, \"#fdca26\"], [1.0, \"#f0f921\"]], \"type\": \"heatmapgl\"}], \"histogram\": [{\"marker\": {\"colorbar\": {\"outlinewidth\": 0, \"ticks\": \"\"}}, \"type\": \"histogram\"}], \"histogram2d\": [{\"colorbar\": {\"outlinewidth\": 0, \"ticks\": \"\"}, \"colorscale\": [[0.0, \"#0d0887\"], [0.1111111111111111, \"#46039f\"], [0.2222222222222222, \"#7201a8\"], [0.3333333333333333, \"#9c179e\"], [0.4444444444444444, \"#bd3786\"], [0.5555555555555556, \"#d8576b\"], [0.6666666666666666, \"#ed7953\"], [0.7777777777777778, \"#fb9f3a\"], [0.8888888888888888, \"#fdca26\"], [1.0, \"#f0f921\"]], \"type\": \"histogram2d\"}], \"histogram2dcontour\": [{\"colorbar\": {\"outlinewidth\": 0, \"ticks\": \"\"}, \"colorscale\": [[0.0, \"#0d0887\"], [0.1111111111111111, \"#46039f\"], [0.2222222222222222, \"#7201a8\"], [0.3333333333333333, \"#9c179e\"], [0.4444444444444444, \"#bd3786\"], [0.5555555555555556, \"#d8576b\"], [0.6666666666666666, \"#ed7953\"], [0.7777777777777778, \"#fb9f3a\"], [0.8888888888888888, \"#fdca26\"], [1.0, \"#f0f921\"]], \"type\": \"histogram2dcontour\"}], \"mesh3d\": [{\"colorbar\": {\"outlinewidth\": 0, \"ticks\": \"\"}, \"type\": \"mesh3d\"}], \"parcoords\": [{\"line\": {\"colorbar\": {\"outlinewidth\": 0, \"ticks\": \"\"}}, \"type\": \"parcoords\"}], \"pie\": [{\"automargin\": true, \"type\": \"pie\"}], \"scatter\": [{\"marker\": {\"colorbar\": {\"outlinewidth\": 0, \"ticks\": \"\"}}, \"type\": \"scatter\"}], \"scatter3d\": [{\"line\": {\"colorbar\": {\"outlinewidth\": 0, \"ticks\": \"\"}}, \"marker\": {\"colorbar\": {\"outlinewidth\": 0, \"ticks\": \"\"}}, \"type\": \"scatter3d\"}], \"scattercarpet\": [{\"marker\": {\"colorbar\": {\"outlinewidth\": 0, \"ticks\": \"\"}}, \"type\": \"scattercarpet\"}], \"scattergeo\": [{\"marker\": {\"colorbar\": {\"outlinewidth\": 0, \"ticks\": \"\"}}, \"type\": \"scattergeo\"}], \"scattergl\": [{\"marker\": {\"colorbar\": {\"outlinewidth\": 0, \"ticks\": \"\"}}, \"type\": \"scattergl\"}], \"scattermapbox\": [{\"marker\": {\"colorbar\": {\"outlinewidth\": 0, \"ticks\": \"\"}}, \"type\": \"scattermapbox\"}], \"scatterpolar\": [{\"marker\": {\"colorbar\": {\"outlinewidth\": 0, \"ticks\": \"\"}}, \"type\": \"scatterpolar\"}], \"scatterpolargl\": [{\"marker\": {\"colorbar\": {\"outlinewidth\": 0, \"ticks\": \"\"}}, \"type\": \"scatterpolargl\"}], \"scatterternary\": [{\"marker\": {\"colorbar\": {\"outlinewidth\": 0, \"ticks\": \"\"}}, \"type\": \"scatterternary\"}], \"surface\": [{\"colorbar\": {\"outlinewidth\": 0, \"ticks\": \"\"}, \"colorscale\": [[0.0, \"#0d0887\"], [0.1111111111111111, \"#46039f\"], [0.2222222222222222, \"#7201a8\"], [0.3333333333333333, \"#9c179e\"], [0.4444444444444444, \"#bd3786\"], [0.5555555555555556, \"#d8576b\"], [0.6666666666666666, \"#ed7953\"], [0.7777777777777778, \"#fb9f3a\"], [0.8888888888888888, \"#fdca26\"], [1.0, \"#f0f921\"]], \"type\": \"surface\"}], \"table\": [{\"cells\": {\"fill\": {\"color\": \"#EBF0F8\"}, \"line\": {\"color\": \"white\"}}, \"header\": {\"fill\": {\"color\": \"#C8D4E3\"}, \"line\": {\"color\": \"white\"}}, \"type\": \"table\"}]}, \"layout\": {\"annotationdefaults\": {\"arrowcolor\": \"#2a3f5f\", \"arrowhead\": 0, \"arrowwidth\": 1}, \"coloraxis\": {\"colorbar\": {\"outlinewidth\": 0, \"ticks\": \"\"}}, \"colorscale\": {\"diverging\": [[0, \"#8e0152\"], [0.1, \"#c51b7d\"], [0.2, \"#de77ae\"], [0.3, \"#f1b6da\"], [0.4, \"#fde0ef\"], [0.5, \"#f7f7f7\"], [0.6, \"#e6f5d0\"], [0.7, \"#b8e186\"], [0.8, \"#7fbc41\"], [0.9, \"#4d9221\"], [1, \"#276419\"]], \"sequential\": [[0.0, \"#0d0887\"], [0.1111111111111111, \"#46039f\"], [0.2222222222222222, \"#7201a8\"], [0.3333333333333333, \"#9c179e\"], [0.4444444444444444, \"#bd3786\"], [0.5555555555555556, \"#d8576b\"], [0.6666666666666666, \"#ed7953\"], [0.7777777777777778, \"#fb9f3a\"], [0.8888888888888888, \"#fdca26\"], [1.0, \"#f0f921\"]], \"sequentialminus\": [[0.0, \"#0d0887\"], [0.1111111111111111, \"#46039f\"], [0.2222222222222222, \"#7201a8\"], [0.3333333333333333, \"#9c179e\"], [0.4444444444444444, \"#bd3786\"], [0.5555555555555556, \"#d8576b\"], [0.6666666666666666, \"#ed7953\"], [0.7777777777777778, \"#fb9f3a\"], [0.8888888888888888, \"#fdca26\"], [1.0, \"#f0f921\"]]}, \"colorway\": [\"#636efa\", \"#EF553B\", \"#00cc96\", \"#ab63fa\", \"#FFA15A\", \"#19d3f3\", \"#FF6692\", \"#B6E880\", \"#FF97FF\", \"#FECB52\"], \"font\": {\"color\": \"#2a3f5f\"}, \"geo\": {\"bgcolor\": \"white\", \"lakecolor\": \"white\", \"landcolor\": \"#E5ECF6\", \"showlakes\": true, \"showland\": true, \"subunitcolor\": \"white\"}, \"hoverlabel\": {\"align\": \"left\"}, \"hovermode\": \"closest\", \"mapbox\": {\"style\": \"light\"}, \"paper_bgcolor\": \"white\", \"plot_bgcolor\": \"#E5ECF6\", \"polar\": {\"angularaxis\": {\"gridcolor\": \"white\", \"linecolor\": \"white\", \"ticks\": \"\"}, \"bgcolor\": \"#E5ECF6\", \"radialaxis\": {\"gridcolor\": \"white\", \"linecolor\": \"white\", \"ticks\": \"\"}}, \"scene\": {\"xaxis\": {\"backgroundcolor\": \"#E5ECF6\", \"gridcolor\": \"white\", \"gridwidth\": 2, \"linecolor\": \"white\", \"showbackground\": true, \"ticks\": \"\", \"zerolinecolor\": \"white\"}, \"yaxis\": {\"backgroundcolor\": \"#E5ECF6\", \"gridcolor\": \"white\", \"gridwidth\": 2, \"linecolor\": \"white\", \"showbackground\": true, \"ticks\": \"\", \"zerolinecolor\": \"white\"}, \"zaxis\": {\"backgroundcolor\": \"#E5ECF6\", \"gridcolor\": \"white\", \"gridwidth\": 2, \"linecolor\": \"white\", \"showbackground\": true, \"ticks\": \"\", \"zerolinecolor\": \"white\"}}, \"shapedefaults\": {\"line\": {\"color\": \"#2a3f5f\"}}, \"ternary\": {\"aaxis\": {\"gridcolor\": \"white\", \"linecolor\": \"white\", \"ticks\": \"\"}, \"baxis\": {\"gridcolor\": \"white\", \"linecolor\": \"white\", \"ticks\": \"\"}, \"bgcolor\": \"#E5ECF6\", \"caxis\": {\"gridcolor\": \"white\", \"linecolor\": \"white\", \"ticks\": \"\"}}, \"title\": {\"x\": 0.05}, \"xaxis\": {\"automargin\": true, \"gridcolor\": \"white\", \"linecolor\": \"white\", \"ticks\": \"\", \"title\": {\"standoff\": 15}, \"zerolinecolor\": \"white\", \"zerolinewidth\": 2}, \"yaxis\": {\"automargin\": true, \"gridcolor\": \"white\", \"linecolor\": \"white\", \"ticks\": \"\", \"title\": {\"standoff\": 15}, \"zerolinecolor\": \"white\", \"zerolinewidth\": 2}}}, \"title\": {\"text\": \"D\\u00eda Martes\"}, \"xaxis\": {\"rangeselector\": {\"buttons\": [{\"count\": 7, \"label\": \"1w\", \"step\": \"day\", \"stepmode\": \"backward\"}, {\"count\": 1, \"label\": \"1m\", \"step\": \"month\", \"stepmode\": \"backward\"}, {\"count\": 6, \"label\": \"6m\", \"step\": \"month\", \"stepmode\": \"backward\"}, {\"count\": 1, \"label\": \"YTD\", \"step\": \"year\", \"stepmode\": \"todate\"}, {\"count\": 1, \"label\": \"1y\", \"step\": \"year\", \"stepmode\": \"backward\"}, {\"step\": \"all\"}]}, \"showgrid\": true, \"type\": \"date\", \"zeroline\": false}, \"yaxis\": {\"autorange\": false, \"range\": [-1, 12], \"showgrid\": true, \"ticktext\": [\"Pabell\\u00f3n 6\", \"Pabell\\u00f3n 3\", \"UCA 2\", \"Pabell\\u00f3n 8\", \"Pabell\\u00f3n 5\", \"Pabell\\u00f3n 4\", \"UCA 3\", \"Pabell\\u00f3n 7\", \"Pabell\\u00f3n 1\", \"UCA 1\", \"Pabell\\u00f3n 2\"], \"tickvals\": [0, 1, 2, 3, 4, 5, 6, 7, 8, 9, 10], \"zeroline\": false}},\n",
       "                        {\"responsive\": true}\n",
       "                    ).then(function(){\n",
       "                            \n",
       "var gd = document.getElementById('04217519-870c-4f79-a74a-9250641585c2');\n",
       "var x = new MutationObserver(function (mutations, observer) {{\n",
       "        var display = window.getComputedStyle(gd).display;\n",
       "        if (!display || display === 'none') {{\n",
       "            console.log([gd, 'removed!']);\n",
       "            Plotly.purge(gd);\n",
       "            observer.disconnect();\n",
       "        }}\n",
       "}});\n",
       "\n",
       "// Listen for the removal of the full notebook cells\n",
       "var notebookContainer = gd.closest('#notebook-container');\n",
       "if (notebookContainer) {{\n",
       "    x.observe(notebookContainer, {childList: true});\n",
       "}}\n",
       "\n",
       "// Listen for the clearing of the current output cell\n",
       "var outputEl = gd.closest('.output');\n",
       "if (outputEl) {{\n",
       "    x.observe(outputEl, {childList: true});\n",
       "}}\n",
       "\n",
       "                        })\n",
       "                };\n",
       "                });\n",
       "            </script>\n",
       "        </div>"
      ]
     },
     "metadata": {},
     "output_type": "display_data"
    }
   ],
   "source": [
    "fig_1 = ff.create_gantt(df1, colors=colors_1, index_col='Resource', show_colorbar=True, title='Día Martes',showgrid_x=True, showgrid_y=True,\n",
    "                      group_tasks=True)\n",
    "fig_1.show()\n",
    "\n"
   ]
  },
  {
   "cell_type": "code",
   "execution_count": 108,
   "metadata": {},
   "outputs": [
    {
     "data": {
      "application/vnd.plotly.v1+json": {
       "config": {
        "plotlyServerURL": "https://plot.ly"
       },
       "data": [
        {
         "fill": "toself",
         "fillcolor": "rgb(110, 0, 0)",
         "hoverinfo": "name",
         "legendgroup": "rgb(110, 0, 0)",
         "mode": "none",
         "name": "CPQ Ley",
         "type": "scatter",
         "x": [
          "2020-01-01T09:00:00",
          "2020-01-01T18:00:00",
          "2020-01-01T18:00:00",
          "2020-01-01T09:00:00"
         ],
         "y": [
          3.8,
          3.8,
          4.2,
          4.2
         ]
        },
        {
         "fill": "toself",
         "fillcolor": "rgb(175, 0, 0)",
         "hoverinfo": "name",
         "legendgroup": "rgb(175, 0, 0)",
         "mode": "none",
         "name": "TYP Ley",
         "type": "scatter",
         "x": [
          "2020-01-01T09:00:00",
          "2020-01-01T18:00:00",
          "2020-01-01T18:00:00",
          "2020-01-01T09:00:00",
          "2020-01-01T09:00:00",
          "2020-01-01T10:00:00",
          "2020-01-01T19:00:00",
          "2020-01-01T19:00:00",
          "2020-01-01T10:00:00"
         ],
         "y": [
          2.8,
          2.8,
          3.2,
          3.2,
          null,
          1.8,
          1.8,
          2.2,
          2.2
         ]
        },
        {
         "fill": "toself",
         "fillcolor": "rgb(220, 0, 110)",
         "hoverinfo": "name",
         "legendgroup": "rgb(220, 0, 110)",
         "mode": "none",
         "name": "Hombro Ley",
         "type": "scatter",
         "x": [
          "2020-01-01T08:00:00",
          "2020-01-01T13:30:00",
          "2020-01-01T13:30:00",
          "2020-01-01T08:00:00"
         ],
         "y": [
          0.8,
          0.8,
          1.2,
          1.2
         ]
        },
        {
         "fill": "toself",
         "fillcolor": "rgb(220, 175, 0)",
         "hoverinfo": "name",
         "legendgroup": "rgb(220, 175, 0)",
         "mode": "none",
         "name": "Rodilla Ley",
         "type": "scatter",
         "x": [
          "2020-01-01T08:00:00",
          "2020-01-01T16:00:00",
          "2020-01-01T16:00:00",
          "2020-01-01T08:00:00",
          "2020-01-01T08:00:00",
          "2020-01-01T10:00:00",
          "2020-01-01T19:00:00",
          "2020-01-01T19:00:00",
          "2020-01-01T10:00:00"
         ],
         "y": [
          7.8,
          7.8,
          8.2,
          8.2,
          null,
          6.8,
          6.8,
          7.2,
          7.2
         ]
        },
        {
         "fill": "toself",
         "fillcolor": "rgb(220, 175, 110)",
         "hoverinfo": "name",
         "legendgroup": "rgb(220, 175, 110)",
         "mode": "none",
         "name": "Libre VSC",
         "type": "scatter",
         "x": [
          "2020-01-01T08:00:00",
          "2020-01-01T15:00:00",
          "2020-01-01T15:00:00",
          "2020-01-01T08:00:00",
          "2020-01-01T08:00:00",
          "2020-01-01T12:00:00",
          "2020-01-01T21:00:00",
          "2020-01-01T21:00:00",
          "2020-01-01T12:00:00"
         ],
         "y": [
          4.8,
          4.8,
          5.2,
          5.2,
          null,
          -0.2,
          -0.2,
          0.2,
          0.2
         ]
        },
        {
         "fill": "toself",
         "fillcolor": "rgb(220, 55, 0)",
         "hoverinfo": "name",
         "legendgroup": "rgb(220, 55, 0)",
         "mode": "none",
         "name": "EESS Ley",
         "type": "scatter",
         "x": [
          "2020-01-01T08:00:00",
          "2020-01-01T17:00:00",
          "2020-01-01T17:00:00",
          "2020-01-01T08:00:00",
          "2020-01-01T08:00:00",
          "2020-01-01T08:00:00",
          "2020-01-01T17:00:00",
          "2020-01-01T17:00:00",
          "2020-01-01T08:00:00"
         ],
         "y": [
          9.8,
          9.8,
          10.2,
          10.2,
          null,
          8.8,
          8.8,
          9.2,
          9.2
         ]
        },
        {
         "fill": "toself",
         "fillcolor": "rgb(220, 55, 110)",
         "hoverinfo": "name",
         "legendgroup": "rgb(220, 55, 110)",
         "mode": "none",
         "name": "Libre Ley",
         "type": "scatter",
         "x": [
          "2020-01-01T13:30:00",
          "2020-01-01T20:30:00",
          "2020-01-01T20:30:00",
          "2020-01-01T13:30:00"
         ],
         "y": [
          0.8,
          0.8,
          1.2,
          1.2
         ]
        },
        {
         "fill": "toself",
         "fillcolor": "rgb(55, 0, 0)",
         "hoverinfo": "name",
         "legendgroup": "rgb(55, 0, 0)",
         "mode": "none",
         "name": "CPQ VSC",
         "type": "scatter",
         "x": [
          "2020-01-01T11:30:00",
          "2020-01-01T20:30:00",
          "2020-01-01T20:30:00",
          "2020-01-01T11:30:00",
          "2020-01-01T11:30:00",
          "2020-01-01T16:30:00",
          "2020-01-01T21:00:00",
          "2020-01-01T21:00:00",
          "2020-01-01T16:30:00"
         ],
         "y": [
          5.8,
          5.8,
          6.2,
          6.2,
          null,
          4.8,
          4.8,
          5.2,
          5.2
         ]
        },
        {
         "fill": "toself",
         "fillcolor": "rgb(55, 0, 110)",
         "hoverinfo": "name",
         "legendgroup": "rgb(55, 0, 110)",
         "mode": "none",
         "name": "Cadera Ley",
         "type": "scatter",
         "x": [
          "2020-01-01T08:00:00",
          "2020-01-01T11:30:00",
          "2020-01-01T11:30:00",
          "2020-01-01T08:00:00",
          "2020-01-01T08:00:00",
          "2020-01-01T08:00:00",
          "2020-01-01T12:00:00",
          "2020-01-01T12:00:00",
          "2020-01-01T08:00:00"
         ],
         "y": [
          5.8,
          5.8,
          6.2,
          6.2,
          null,
          -0.2,
          -0.2,
          0.2,
          0.2
         ]
        },
        {
         "legendgroup": "rgb(110, 0, 0)",
         "marker": {
          "color": "rgb(110, 0, 0)",
          "opacity": 0,
          "size": 1
         },
         "mode": "markers",
         "name": "",
         "showlegend": false,
         "text": [
          null,
          null
         ],
         "type": "scatter",
         "x": [
          "2020-01-01T09:00:00",
          "2020-01-01T18:00:00"
         ],
         "y": [
          4,
          4
         ]
        },
        {
         "legendgroup": "rgb(175, 0, 0)",
         "marker": {
          "color": "rgb(175, 0, 0)",
          "opacity": 0,
          "size": 1
         },
         "mode": "markers",
         "name": "",
         "showlegend": false,
         "text": [
          null,
          null,
          null,
          null
         ],
         "type": "scatter",
         "x": [
          "2020-01-01T09:00:00",
          "2020-01-01T18:00:00",
          "2020-01-01T10:00:00",
          "2020-01-01T19:00:00"
         ],
         "y": [
          3,
          3,
          2,
          2
         ]
        },
        {
         "legendgroup": "rgb(220, 0, 110)",
         "marker": {
          "color": "rgb(220, 0, 110)",
          "opacity": 0,
          "size": 1
         },
         "mode": "markers",
         "name": "",
         "showlegend": false,
         "text": [
          null,
          null
         ],
         "type": "scatter",
         "x": [
          "2020-01-01T08:00:00",
          "2020-01-01T13:30:00"
         ],
         "y": [
          1,
          1
         ]
        },
        {
         "legendgroup": "rgb(220, 175, 0)",
         "marker": {
          "color": "rgb(220, 175, 0)",
          "opacity": 0,
          "size": 1
         },
         "mode": "markers",
         "name": "",
         "showlegend": false,
         "text": [
          null,
          null,
          null,
          null
         ],
         "type": "scatter",
         "x": [
          "2020-01-01T08:00:00",
          "2020-01-01T16:00:00",
          "2020-01-01T10:00:00",
          "2020-01-01T19:00:00"
         ],
         "y": [
          8,
          8,
          7,
          7
         ]
        },
        {
         "legendgroup": "rgb(220, 175, 110)",
         "marker": {
          "color": "rgb(220, 175, 110)",
          "opacity": 0,
          "size": 1
         },
         "mode": "markers",
         "name": "",
         "showlegend": false,
         "text": [
          null,
          null,
          null,
          null
         ],
         "type": "scatter",
         "x": [
          "2020-01-01T08:00:00",
          "2020-01-01T15:00:00",
          "2020-01-01T12:00:00",
          "2020-01-01T21:00:00"
         ],
         "y": [
          5,
          5,
          0,
          0
         ]
        },
        {
         "legendgroup": "rgb(220, 55, 0)",
         "marker": {
          "color": "rgb(220, 55, 0)",
          "opacity": 0,
          "size": 1
         },
         "mode": "markers",
         "name": "",
         "showlegend": false,
         "text": [
          null,
          null,
          null,
          null
         ],
         "type": "scatter",
         "x": [
          "2020-01-01T08:00:00",
          "2020-01-01T17:00:00",
          "2020-01-01T08:00:00",
          "2020-01-01T17:00:00"
         ],
         "y": [
          10,
          10,
          9,
          9
         ]
        },
        {
         "legendgroup": "rgb(220, 55, 110)",
         "marker": {
          "color": "rgb(220, 55, 110)",
          "opacity": 0,
          "size": 1
         },
         "mode": "markers",
         "name": "",
         "showlegend": false,
         "text": [
          null,
          null
         ],
         "type": "scatter",
         "x": [
          "2020-01-01T13:30:00",
          "2020-01-01T20:30:00"
         ],
         "y": [
          1,
          1
         ]
        },
        {
         "legendgroup": "rgb(55, 0, 0)",
         "marker": {
          "color": "rgb(55, 0, 0)",
          "opacity": 0,
          "size": 1
         },
         "mode": "markers",
         "name": "",
         "showlegend": false,
         "text": [
          null,
          null,
          null,
          null
         ],
         "type": "scatter",
         "x": [
          "2020-01-01T11:30:00",
          "2020-01-01T20:30:00",
          "2020-01-01T16:30:00",
          "2020-01-01T21:00:00"
         ],
         "y": [
          6,
          6,
          5,
          5
         ]
        },
        {
         "legendgroup": "rgb(55, 0, 110)",
         "marker": {
          "color": "rgb(55, 0, 110)",
          "opacity": 0,
          "size": 1
         },
         "mode": "markers",
         "name": "",
         "showlegend": false,
         "text": [
          null,
          null,
          null,
          null
         ],
         "type": "scatter",
         "x": [
          "2020-01-01T08:00:00",
          "2020-01-01T11:30:00",
          "2020-01-01T08:00:00",
          "2020-01-01T12:00:00"
         ],
         "y": [
          6,
          6,
          0,
          0
         ]
        }
       ],
       "layout": {
        "height": 600,
        "hovermode": "closest",
        "showlegend": true,
        "template": {
         "data": {
          "bar": [
           {
            "error_x": {
             "color": "#2a3f5f"
            },
            "error_y": {
             "color": "#2a3f5f"
            },
            "marker": {
             "line": {
              "color": "#E5ECF6",
              "width": 0.5
             }
            },
            "type": "bar"
           }
          ],
          "barpolar": [
           {
            "marker": {
             "line": {
              "color": "#E5ECF6",
              "width": 0.5
             }
            },
            "type": "barpolar"
           }
          ],
          "carpet": [
           {
            "aaxis": {
             "endlinecolor": "#2a3f5f",
             "gridcolor": "white",
             "linecolor": "white",
             "minorgridcolor": "white",
             "startlinecolor": "#2a3f5f"
            },
            "baxis": {
             "endlinecolor": "#2a3f5f",
             "gridcolor": "white",
             "linecolor": "white",
             "minorgridcolor": "white",
             "startlinecolor": "#2a3f5f"
            },
            "type": "carpet"
           }
          ],
          "choropleth": [
           {
            "colorbar": {
             "outlinewidth": 0,
             "ticks": ""
            },
            "type": "choropleth"
           }
          ],
          "contour": [
           {
            "colorbar": {
             "outlinewidth": 0,
             "ticks": ""
            },
            "colorscale": [
             [
              0,
              "#0d0887"
             ],
             [
              0.1111111111111111,
              "#46039f"
             ],
             [
              0.2222222222222222,
              "#7201a8"
             ],
             [
              0.3333333333333333,
              "#9c179e"
             ],
             [
              0.4444444444444444,
              "#bd3786"
             ],
             [
              0.5555555555555556,
              "#d8576b"
             ],
             [
              0.6666666666666666,
              "#ed7953"
             ],
             [
              0.7777777777777778,
              "#fb9f3a"
             ],
             [
              0.8888888888888888,
              "#fdca26"
             ],
             [
              1,
              "#f0f921"
             ]
            ],
            "type": "contour"
           }
          ],
          "contourcarpet": [
           {
            "colorbar": {
             "outlinewidth": 0,
             "ticks": ""
            },
            "type": "contourcarpet"
           }
          ],
          "heatmap": [
           {
            "colorbar": {
             "outlinewidth": 0,
             "ticks": ""
            },
            "colorscale": [
             [
              0,
              "#0d0887"
             ],
             [
              0.1111111111111111,
              "#46039f"
             ],
             [
              0.2222222222222222,
              "#7201a8"
             ],
             [
              0.3333333333333333,
              "#9c179e"
             ],
             [
              0.4444444444444444,
              "#bd3786"
             ],
             [
              0.5555555555555556,
              "#d8576b"
             ],
             [
              0.6666666666666666,
              "#ed7953"
             ],
             [
              0.7777777777777778,
              "#fb9f3a"
             ],
             [
              0.8888888888888888,
              "#fdca26"
             ],
             [
              1,
              "#f0f921"
             ]
            ],
            "type": "heatmap"
           }
          ],
          "heatmapgl": [
           {
            "colorbar": {
             "outlinewidth": 0,
             "ticks": ""
            },
            "colorscale": [
             [
              0,
              "#0d0887"
             ],
             [
              0.1111111111111111,
              "#46039f"
             ],
             [
              0.2222222222222222,
              "#7201a8"
             ],
             [
              0.3333333333333333,
              "#9c179e"
             ],
             [
              0.4444444444444444,
              "#bd3786"
             ],
             [
              0.5555555555555556,
              "#d8576b"
             ],
             [
              0.6666666666666666,
              "#ed7953"
             ],
             [
              0.7777777777777778,
              "#fb9f3a"
             ],
             [
              0.8888888888888888,
              "#fdca26"
             ],
             [
              1,
              "#f0f921"
             ]
            ],
            "type": "heatmapgl"
           }
          ],
          "histogram": [
           {
            "marker": {
             "colorbar": {
              "outlinewidth": 0,
              "ticks": ""
             }
            },
            "type": "histogram"
           }
          ],
          "histogram2d": [
           {
            "colorbar": {
             "outlinewidth": 0,
             "ticks": ""
            },
            "colorscale": [
             [
              0,
              "#0d0887"
             ],
             [
              0.1111111111111111,
              "#46039f"
             ],
             [
              0.2222222222222222,
              "#7201a8"
             ],
             [
              0.3333333333333333,
              "#9c179e"
             ],
             [
              0.4444444444444444,
              "#bd3786"
             ],
             [
              0.5555555555555556,
              "#d8576b"
             ],
             [
              0.6666666666666666,
              "#ed7953"
             ],
             [
              0.7777777777777778,
              "#fb9f3a"
             ],
             [
              0.8888888888888888,
              "#fdca26"
             ],
             [
              1,
              "#f0f921"
             ]
            ],
            "type": "histogram2d"
           }
          ],
          "histogram2dcontour": [
           {
            "colorbar": {
             "outlinewidth": 0,
             "ticks": ""
            },
            "colorscale": [
             [
              0,
              "#0d0887"
             ],
             [
              0.1111111111111111,
              "#46039f"
             ],
             [
              0.2222222222222222,
              "#7201a8"
             ],
             [
              0.3333333333333333,
              "#9c179e"
             ],
             [
              0.4444444444444444,
              "#bd3786"
             ],
             [
              0.5555555555555556,
              "#d8576b"
             ],
             [
              0.6666666666666666,
              "#ed7953"
             ],
             [
              0.7777777777777778,
              "#fb9f3a"
             ],
             [
              0.8888888888888888,
              "#fdca26"
             ],
             [
              1,
              "#f0f921"
             ]
            ],
            "type": "histogram2dcontour"
           }
          ],
          "mesh3d": [
           {
            "colorbar": {
             "outlinewidth": 0,
             "ticks": ""
            },
            "type": "mesh3d"
           }
          ],
          "parcoords": [
           {
            "line": {
             "colorbar": {
              "outlinewidth": 0,
              "ticks": ""
             }
            },
            "type": "parcoords"
           }
          ],
          "pie": [
           {
            "automargin": true,
            "type": "pie"
           }
          ],
          "scatter": [
           {
            "marker": {
             "colorbar": {
              "outlinewidth": 0,
              "ticks": ""
             }
            },
            "type": "scatter"
           }
          ],
          "scatter3d": [
           {
            "line": {
             "colorbar": {
              "outlinewidth": 0,
              "ticks": ""
             }
            },
            "marker": {
             "colorbar": {
              "outlinewidth": 0,
              "ticks": ""
             }
            },
            "type": "scatter3d"
           }
          ],
          "scattercarpet": [
           {
            "marker": {
             "colorbar": {
              "outlinewidth": 0,
              "ticks": ""
             }
            },
            "type": "scattercarpet"
           }
          ],
          "scattergeo": [
           {
            "marker": {
             "colorbar": {
              "outlinewidth": 0,
              "ticks": ""
             }
            },
            "type": "scattergeo"
           }
          ],
          "scattergl": [
           {
            "marker": {
             "colorbar": {
              "outlinewidth": 0,
              "ticks": ""
             }
            },
            "type": "scattergl"
           }
          ],
          "scattermapbox": [
           {
            "marker": {
             "colorbar": {
              "outlinewidth": 0,
              "ticks": ""
             }
            },
            "type": "scattermapbox"
           }
          ],
          "scatterpolar": [
           {
            "marker": {
             "colorbar": {
              "outlinewidth": 0,
              "ticks": ""
             }
            },
            "type": "scatterpolar"
           }
          ],
          "scatterpolargl": [
           {
            "marker": {
             "colorbar": {
              "outlinewidth": 0,
              "ticks": ""
             }
            },
            "type": "scatterpolargl"
           }
          ],
          "scatterternary": [
           {
            "marker": {
             "colorbar": {
              "outlinewidth": 0,
              "ticks": ""
             }
            },
            "type": "scatterternary"
           }
          ],
          "surface": [
           {
            "colorbar": {
             "outlinewidth": 0,
             "ticks": ""
            },
            "colorscale": [
             [
              0,
              "#0d0887"
             ],
             [
              0.1111111111111111,
              "#46039f"
             ],
             [
              0.2222222222222222,
              "#7201a8"
             ],
             [
              0.3333333333333333,
              "#9c179e"
             ],
             [
              0.4444444444444444,
              "#bd3786"
             ],
             [
              0.5555555555555556,
              "#d8576b"
             ],
             [
              0.6666666666666666,
              "#ed7953"
             ],
             [
              0.7777777777777778,
              "#fb9f3a"
             ],
             [
              0.8888888888888888,
              "#fdca26"
             ],
             [
              1,
              "#f0f921"
             ]
            ],
            "type": "surface"
           }
          ],
          "table": [
           {
            "cells": {
             "fill": {
              "color": "#EBF0F8"
             },
             "line": {
              "color": "white"
             }
            },
            "header": {
             "fill": {
              "color": "#C8D4E3"
             },
             "line": {
              "color": "white"
             }
            },
            "type": "table"
           }
          ]
         },
         "layout": {
          "annotationdefaults": {
           "arrowcolor": "#2a3f5f",
           "arrowhead": 0,
           "arrowwidth": 1
          },
          "coloraxis": {
           "colorbar": {
            "outlinewidth": 0,
            "ticks": ""
           }
          },
          "colorscale": {
           "diverging": [
            [
             0,
             "#8e0152"
            ],
            [
             0.1,
             "#c51b7d"
            ],
            [
             0.2,
             "#de77ae"
            ],
            [
             0.3,
             "#f1b6da"
            ],
            [
             0.4,
             "#fde0ef"
            ],
            [
             0.5,
             "#f7f7f7"
            ],
            [
             0.6,
             "#e6f5d0"
            ],
            [
             0.7,
             "#b8e186"
            ],
            [
             0.8,
             "#7fbc41"
            ],
            [
             0.9,
             "#4d9221"
            ],
            [
             1,
             "#276419"
            ]
           ],
           "sequential": [
            [
             0,
             "#0d0887"
            ],
            [
             0.1111111111111111,
             "#46039f"
            ],
            [
             0.2222222222222222,
             "#7201a8"
            ],
            [
             0.3333333333333333,
             "#9c179e"
            ],
            [
             0.4444444444444444,
             "#bd3786"
            ],
            [
             0.5555555555555556,
             "#d8576b"
            ],
            [
             0.6666666666666666,
             "#ed7953"
            ],
            [
             0.7777777777777778,
             "#fb9f3a"
            ],
            [
             0.8888888888888888,
             "#fdca26"
            ],
            [
             1,
             "#f0f921"
            ]
           ],
           "sequentialminus": [
            [
             0,
             "#0d0887"
            ],
            [
             0.1111111111111111,
             "#46039f"
            ],
            [
             0.2222222222222222,
             "#7201a8"
            ],
            [
             0.3333333333333333,
             "#9c179e"
            ],
            [
             0.4444444444444444,
             "#bd3786"
            ],
            [
             0.5555555555555556,
             "#d8576b"
            ],
            [
             0.6666666666666666,
             "#ed7953"
            ],
            [
             0.7777777777777778,
             "#fb9f3a"
            ],
            [
             0.8888888888888888,
             "#fdca26"
            ],
            [
             1,
             "#f0f921"
            ]
           ]
          },
          "colorway": [
           "#636efa",
           "#EF553B",
           "#00cc96",
           "#ab63fa",
           "#FFA15A",
           "#19d3f3",
           "#FF6692",
           "#B6E880",
           "#FF97FF",
           "#FECB52"
          ],
          "font": {
           "color": "#2a3f5f"
          },
          "geo": {
           "bgcolor": "white",
           "lakecolor": "white",
           "landcolor": "#E5ECF6",
           "showlakes": true,
           "showland": true,
           "subunitcolor": "white"
          },
          "hoverlabel": {
           "align": "left"
          },
          "hovermode": "closest",
          "mapbox": {
           "style": "light"
          },
          "paper_bgcolor": "white",
          "plot_bgcolor": "#E5ECF6",
          "polar": {
           "angularaxis": {
            "gridcolor": "white",
            "linecolor": "white",
            "ticks": ""
           },
           "bgcolor": "#E5ECF6",
           "radialaxis": {
            "gridcolor": "white",
            "linecolor": "white",
            "ticks": ""
           }
          },
          "scene": {
           "xaxis": {
            "backgroundcolor": "#E5ECF6",
            "gridcolor": "white",
            "gridwidth": 2,
            "linecolor": "white",
            "showbackground": true,
            "ticks": "",
            "zerolinecolor": "white"
           },
           "yaxis": {
            "backgroundcolor": "#E5ECF6",
            "gridcolor": "white",
            "gridwidth": 2,
            "linecolor": "white",
            "showbackground": true,
            "ticks": "",
            "zerolinecolor": "white"
           },
           "zaxis": {
            "backgroundcolor": "#E5ECF6",
            "gridcolor": "white",
            "gridwidth": 2,
            "linecolor": "white",
            "showbackground": true,
            "ticks": "",
            "zerolinecolor": "white"
           }
          },
          "shapedefaults": {
           "line": {
            "color": "#2a3f5f"
           }
          },
          "ternary": {
           "aaxis": {
            "gridcolor": "white",
            "linecolor": "white",
            "ticks": ""
           },
           "baxis": {
            "gridcolor": "white",
            "linecolor": "white",
            "ticks": ""
           },
           "bgcolor": "#E5ECF6",
           "caxis": {
            "gridcolor": "white",
            "linecolor": "white",
            "ticks": ""
           }
          },
          "title": {
           "x": 0.05
          },
          "xaxis": {
           "automargin": true,
           "gridcolor": "white",
           "linecolor": "white",
           "ticks": "",
           "title": {
            "standoff": 15
           },
           "zerolinecolor": "white",
           "zerolinewidth": 2
          },
          "yaxis": {
           "automargin": true,
           "gridcolor": "white",
           "linecolor": "white",
           "ticks": "",
           "title": {
            "standoff": 15
           },
           "zerolinecolor": "white",
           "zerolinewidth": 2
          }
         }
        },
        "title": {
         "text": "Día Miércoles"
        },
        "xaxis": {
         "rangeselector": {
          "buttons": [
           {
            "count": 7,
            "label": "1w",
            "step": "day",
            "stepmode": "backward"
           },
           {
            "count": 1,
            "label": "1m",
            "step": "month",
            "stepmode": "backward"
           },
           {
            "count": 6,
            "label": "6m",
            "step": "month",
            "stepmode": "backward"
           },
           {
            "count": 1,
            "label": "YTD",
            "step": "year",
            "stepmode": "todate"
           },
           {
            "count": 1,
            "label": "1y",
            "step": "year",
            "stepmode": "backward"
           },
           {
            "step": "all"
           }
          ]
         },
         "showgrid": true,
         "type": "date",
         "zeroline": false
        },
        "yaxis": {
         "autorange": false,
         "range": [
          -1,
          12
         ],
         "showgrid": true,
         "ticktext": [
          "UCA 3",
          "Pabellón 6",
          "UCA 1",
          "Pabellón 5",
          "Pabellón 8",
          "Pabellón 7",
          "Pabellón 2",
          "UCA 2",
          "Pabellón 1",
          "Pabellón 4",
          "Pabellón 3"
         ],
         "tickvals": [
          0,
          1,
          2,
          3,
          4,
          5,
          6,
          7,
          8,
          9,
          10
         ],
         "zeroline": false
        }
       }
      },
      "text/html": [
       "<div>\n",
       "        \n",
       "        \n",
       "            <div id=\"79e7798a-6880-4447-806c-55d413ad553f\" class=\"plotly-graph-div\" style=\"height:600px; width:100%;\"></div>\n",
       "            <script type=\"text/javascript\">\n",
       "                require([\"plotly\"], function(Plotly) {\n",
       "                    window.PLOTLYENV=window.PLOTLYENV || {};\n",
       "                    \n",
       "                if (document.getElementById(\"79e7798a-6880-4447-806c-55d413ad553f\")) {\n",
       "                    Plotly.newPlot(\n",
       "                        '79e7798a-6880-4447-806c-55d413ad553f',\n",
       "                        [{\"fill\": \"toself\", \"fillcolor\": \"rgb(110, 0, 0)\", \"hoverinfo\": \"name\", \"legendgroup\": \"rgb(110, 0, 0)\", \"mode\": \"none\", \"name\": \"CPQ Ley\", \"type\": \"scatter\", \"x\": [\"2020-01-01T09:00:00\", \"2020-01-01T18:00:00\", \"2020-01-01T18:00:00\", \"2020-01-01T09:00:00\"], \"y\": [3.8, 3.8, 4.2, 4.2]}, {\"fill\": \"toself\", \"fillcolor\": \"rgb(175, 0, 0)\", \"hoverinfo\": \"name\", \"legendgroup\": \"rgb(175, 0, 0)\", \"mode\": \"none\", \"name\": \"TYP Ley\", \"type\": \"scatter\", \"x\": [\"2020-01-01T09:00:00\", \"2020-01-01T18:00:00\", \"2020-01-01T18:00:00\", \"2020-01-01T09:00:00\", \"2020-01-01T09:00:00\", \"2020-01-01T10:00:00\", \"2020-01-01T19:00:00\", \"2020-01-01T19:00:00\", \"2020-01-01T10:00:00\"], \"y\": [2.8, 2.8, 3.2, 3.2, null, 1.8, 1.8, 2.2, 2.2]}, {\"fill\": \"toself\", \"fillcolor\": \"rgb(220, 0, 110)\", \"hoverinfo\": \"name\", \"legendgroup\": \"rgb(220, 0, 110)\", \"mode\": \"none\", \"name\": \"Hombro Ley\", \"type\": \"scatter\", \"x\": [\"2020-01-01T08:00:00\", \"2020-01-01T13:30:00\", \"2020-01-01T13:30:00\", \"2020-01-01T08:00:00\"], \"y\": [0.8, 0.8, 1.2, 1.2]}, {\"fill\": \"toself\", \"fillcolor\": \"rgb(220, 175, 0)\", \"hoverinfo\": \"name\", \"legendgroup\": \"rgb(220, 175, 0)\", \"mode\": \"none\", \"name\": \"Rodilla Ley\", \"type\": \"scatter\", \"x\": [\"2020-01-01T08:00:00\", \"2020-01-01T16:00:00\", \"2020-01-01T16:00:00\", \"2020-01-01T08:00:00\", \"2020-01-01T08:00:00\", \"2020-01-01T10:00:00\", \"2020-01-01T19:00:00\", \"2020-01-01T19:00:00\", \"2020-01-01T10:00:00\"], \"y\": [7.8, 7.8, 8.2, 8.2, null, 6.8, 6.8, 7.2, 7.2]}, {\"fill\": \"toself\", \"fillcolor\": \"rgb(220, 175, 110)\", \"hoverinfo\": \"name\", \"legendgroup\": \"rgb(220, 175, 110)\", \"mode\": \"none\", \"name\": \"Libre VSC\", \"type\": \"scatter\", \"x\": [\"2020-01-01T08:00:00\", \"2020-01-01T15:00:00\", \"2020-01-01T15:00:00\", \"2020-01-01T08:00:00\", \"2020-01-01T08:00:00\", \"2020-01-01T12:00:00\", \"2020-01-01T21:00:00\", \"2020-01-01T21:00:00\", \"2020-01-01T12:00:00\"], \"y\": [4.8, 4.8, 5.2, 5.2, null, -0.2, -0.2, 0.2, 0.2]}, {\"fill\": \"toself\", \"fillcolor\": \"rgb(220, 55, 0)\", \"hoverinfo\": \"name\", \"legendgroup\": \"rgb(220, 55, 0)\", \"mode\": \"none\", \"name\": \"EESS Ley\", \"type\": \"scatter\", \"x\": [\"2020-01-01T08:00:00\", \"2020-01-01T17:00:00\", \"2020-01-01T17:00:00\", \"2020-01-01T08:00:00\", \"2020-01-01T08:00:00\", \"2020-01-01T08:00:00\", \"2020-01-01T17:00:00\", \"2020-01-01T17:00:00\", \"2020-01-01T08:00:00\"], \"y\": [9.8, 9.8, 10.2, 10.2, null, 8.8, 8.8, 9.2, 9.2]}, {\"fill\": \"toself\", \"fillcolor\": \"rgb(220, 55, 110)\", \"hoverinfo\": \"name\", \"legendgroup\": \"rgb(220, 55, 110)\", \"mode\": \"none\", \"name\": \"Libre Ley\", \"type\": \"scatter\", \"x\": [\"2020-01-01T13:30:00\", \"2020-01-01T20:30:00\", \"2020-01-01T20:30:00\", \"2020-01-01T13:30:00\"], \"y\": [0.8, 0.8, 1.2, 1.2]}, {\"fill\": \"toself\", \"fillcolor\": \"rgb(55, 0, 0)\", \"hoverinfo\": \"name\", \"legendgroup\": \"rgb(55, 0, 0)\", \"mode\": \"none\", \"name\": \"CPQ VSC\", \"type\": \"scatter\", \"x\": [\"2020-01-01T11:30:00\", \"2020-01-01T20:30:00\", \"2020-01-01T20:30:00\", \"2020-01-01T11:30:00\", \"2020-01-01T11:30:00\", \"2020-01-01T16:30:00\", \"2020-01-01T21:00:00\", \"2020-01-01T21:00:00\", \"2020-01-01T16:30:00\"], \"y\": [5.8, 5.8, 6.2, 6.2, null, 4.8, 4.8, 5.2, 5.2]}, {\"fill\": \"toself\", \"fillcolor\": \"rgb(55, 0, 110)\", \"hoverinfo\": \"name\", \"legendgroup\": \"rgb(55, 0, 110)\", \"mode\": \"none\", \"name\": \"Cadera Ley\", \"type\": \"scatter\", \"x\": [\"2020-01-01T08:00:00\", \"2020-01-01T11:30:00\", \"2020-01-01T11:30:00\", \"2020-01-01T08:00:00\", \"2020-01-01T08:00:00\", \"2020-01-01T08:00:00\", \"2020-01-01T12:00:00\", \"2020-01-01T12:00:00\", \"2020-01-01T08:00:00\"], \"y\": [5.8, 5.8, 6.2, 6.2, null, -0.2, -0.2, 0.2, 0.2]}, {\"legendgroup\": \"rgb(110, 0, 0)\", \"marker\": {\"color\": \"rgb(110, 0, 0)\", \"opacity\": 0, \"size\": 1}, \"mode\": \"markers\", \"name\": \"\", \"showlegend\": false, \"text\": [null, null], \"type\": \"scatter\", \"x\": [\"2020-01-01T09:00:00\", \"2020-01-01T18:00:00\"], \"y\": [4, 4]}, {\"legendgroup\": \"rgb(175, 0, 0)\", \"marker\": {\"color\": \"rgb(175, 0, 0)\", \"opacity\": 0, \"size\": 1}, \"mode\": \"markers\", \"name\": \"\", \"showlegend\": false, \"text\": [null, null, null, null], \"type\": \"scatter\", \"x\": [\"2020-01-01T09:00:00\", \"2020-01-01T18:00:00\", \"2020-01-01T10:00:00\", \"2020-01-01T19:00:00\"], \"y\": [3, 3, 2, 2]}, {\"legendgroup\": \"rgb(220, 0, 110)\", \"marker\": {\"color\": \"rgb(220, 0, 110)\", \"opacity\": 0, \"size\": 1}, \"mode\": \"markers\", \"name\": \"\", \"showlegend\": false, \"text\": [null, null], \"type\": \"scatter\", \"x\": [\"2020-01-01T08:00:00\", \"2020-01-01T13:30:00\"], \"y\": [1, 1]}, {\"legendgroup\": \"rgb(220, 175, 0)\", \"marker\": {\"color\": \"rgb(220, 175, 0)\", \"opacity\": 0, \"size\": 1}, \"mode\": \"markers\", \"name\": \"\", \"showlegend\": false, \"text\": [null, null, null, null], \"type\": \"scatter\", \"x\": [\"2020-01-01T08:00:00\", \"2020-01-01T16:00:00\", \"2020-01-01T10:00:00\", \"2020-01-01T19:00:00\"], \"y\": [8, 8, 7, 7]}, {\"legendgroup\": \"rgb(220, 175, 110)\", \"marker\": {\"color\": \"rgb(220, 175, 110)\", \"opacity\": 0, \"size\": 1}, \"mode\": \"markers\", \"name\": \"\", \"showlegend\": false, \"text\": [null, null, null, null], \"type\": \"scatter\", \"x\": [\"2020-01-01T08:00:00\", \"2020-01-01T15:00:00\", \"2020-01-01T12:00:00\", \"2020-01-01T21:00:00\"], \"y\": [5, 5, 0, 0]}, {\"legendgroup\": \"rgb(220, 55, 0)\", \"marker\": {\"color\": \"rgb(220, 55, 0)\", \"opacity\": 0, \"size\": 1}, \"mode\": \"markers\", \"name\": \"\", \"showlegend\": false, \"text\": [null, null, null, null], \"type\": \"scatter\", \"x\": [\"2020-01-01T08:00:00\", \"2020-01-01T17:00:00\", \"2020-01-01T08:00:00\", \"2020-01-01T17:00:00\"], \"y\": [10, 10, 9, 9]}, {\"legendgroup\": \"rgb(220, 55, 110)\", \"marker\": {\"color\": \"rgb(220, 55, 110)\", \"opacity\": 0, \"size\": 1}, \"mode\": \"markers\", \"name\": \"\", \"showlegend\": false, \"text\": [null, null], \"type\": \"scatter\", \"x\": [\"2020-01-01T13:30:00\", \"2020-01-01T20:30:00\"], \"y\": [1, 1]}, {\"legendgroup\": \"rgb(55, 0, 0)\", \"marker\": {\"color\": \"rgb(55, 0, 0)\", \"opacity\": 0, \"size\": 1}, \"mode\": \"markers\", \"name\": \"\", \"showlegend\": false, \"text\": [null, null, null, null], \"type\": \"scatter\", \"x\": [\"2020-01-01T11:30:00\", \"2020-01-01T20:30:00\", \"2020-01-01T16:30:00\", \"2020-01-01T21:00:00\"], \"y\": [6, 6, 5, 5]}, {\"legendgroup\": \"rgb(55, 0, 110)\", \"marker\": {\"color\": \"rgb(55, 0, 110)\", \"opacity\": 0, \"size\": 1}, \"mode\": \"markers\", \"name\": \"\", \"showlegend\": false, \"text\": [null, null, null, null], \"type\": \"scatter\", \"x\": [\"2020-01-01T08:00:00\", \"2020-01-01T11:30:00\", \"2020-01-01T08:00:00\", \"2020-01-01T12:00:00\"], \"y\": [6, 6, 0, 0]}],\n",
       "                        {\"height\": 600, \"hovermode\": \"closest\", \"showlegend\": true, \"template\": {\"data\": {\"bar\": [{\"error_x\": {\"color\": \"#2a3f5f\"}, \"error_y\": {\"color\": \"#2a3f5f\"}, \"marker\": {\"line\": {\"color\": \"#E5ECF6\", \"width\": 0.5}}, \"type\": \"bar\"}], \"barpolar\": [{\"marker\": {\"line\": {\"color\": \"#E5ECF6\", \"width\": 0.5}}, \"type\": \"barpolar\"}], \"carpet\": [{\"aaxis\": {\"endlinecolor\": \"#2a3f5f\", \"gridcolor\": \"white\", \"linecolor\": \"white\", \"minorgridcolor\": \"white\", \"startlinecolor\": \"#2a3f5f\"}, \"baxis\": {\"endlinecolor\": \"#2a3f5f\", \"gridcolor\": \"white\", \"linecolor\": \"white\", \"minorgridcolor\": \"white\", \"startlinecolor\": \"#2a3f5f\"}, \"type\": \"carpet\"}], \"choropleth\": [{\"colorbar\": {\"outlinewidth\": 0, \"ticks\": \"\"}, \"type\": \"choropleth\"}], \"contour\": [{\"colorbar\": {\"outlinewidth\": 0, \"ticks\": \"\"}, \"colorscale\": [[0.0, \"#0d0887\"], [0.1111111111111111, \"#46039f\"], [0.2222222222222222, \"#7201a8\"], [0.3333333333333333, \"#9c179e\"], [0.4444444444444444, \"#bd3786\"], [0.5555555555555556, \"#d8576b\"], [0.6666666666666666, \"#ed7953\"], [0.7777777777777778, \"#fb9f3a\"], [0.8888888888888888, \"#fdca26\"], [1.0, \"#f0f921\"]], \"type\": \"contour\"}], \"contourcarpet\": [{\"colorbar\": {\"outlinewidth\": 0, \"ticks\": \"\"}, \"type\": \"contourcarpet\"}], \"heatmap\": [{\"colorbar\": {\"outlinewidth\": 0, \"ticks\": \"\"}, \"colorscale\": [[0.0, \"#0d0887\"], [0.1111111111111111, \"#46039f\"], [0.2222222222222222, \"#7201a8\"], [0.3333333333333333, \"#9c179e\"], [0.4444444444444444, \"#bd3786\"], [0.5555555555555556, \"#d8576b\"], [0.6666666666666666, \"#ed7953\"], [0.7777777777777778, \"#fb9f3a\"], [0.8888888888888888, \"#fdca26\"], [1.0, \"#f0f921\"]], \"type\": \"heatmap\"}], \"heatmapgl\": [{\"colorbar\": {\"outlinewidth\": 0, \"ticks\": \"\"}, \"colorscale\": [[0.0, \"#0d0887\"], [0.1111111111111111, \"#46039f\"], [0.2222222222222222, \"#7201a8\"], [0.3333333333333333, \"#9c179e\"], [0.4444444444444444, \"#bd3786\"], [0.5555555555555556, \"#d8576b\"], [0.6666666666666666, \"#ed7953\"], [0.7777777777777778, \"#fb9f3a\"], [0.8888888888888888, \"#fdca26\"], [1.0, \"#f0f921\"]], \"type\": \"heatmapgl\"}], \"histogram\": [{\"marker\": {\"colorbar\": {\"outlinewidth\": 0, \"ticks\": \"\"}}, \"type\": \"histogram\"}], \"histogram2d\": [{\"colorbar\": {\"outlinewidth\": 0, \"ticks\": \"\"}, \"colorscale\": [[0.0, \"#0d0887\"], [0.1111111111111111, \"#46039f\"], [0.2222222222222222, \"#7201a8\"], [0.3333333333333333, \"#9c179e\"], [0.4444444444444444, \"#bd3786\"], [0.5555555555555556, \"#d8576b\"], [0.6666666666666666, \"#ed7953\"], [0.7777777777777778, \"#fb9f3a\"], [0.8888888888888888, \"#fdca26\"], [1.0, \"#f0f921\"]], \"type\": \"histogram2d\"}], \"histogram2dcontour\": [{\"colorbar\": {\"outlinewidth\": 0, \"ticks\": \"\"}, \"colorscale\": [[0.0, \"#0d0887\"], [0.1111111111111111, \"#46039f\"], [0.2222222222222222, \"#7201a8\"], [0.3333333333333333, \"#9c179e\"], [0.4444444444444444, \"#bd3786\"], [0.5555555555555556, \"#d8576b\"], [0.6666666666666666, \"#ed7953\"], [0.7777777777777778, \"#fb9f3a\"], [0.8888888888888888, \"#fdca26\"], [1.0, \"#f0f921\"]], \"type\": \"histogram2dcontour\"}], \"mesh3d\": [{\"colorbar\": {\"outlinewidth\": 0, \"ticks\": \"\"}, \"type\": \"mesh3d\"}], \"parcoords\": [{\"line\": {\"colorbar\": {\"outlinewidth\": 0, \"ticks\": \"\"}}, \"type\": \"parcoords\"}], \"pie\": [{\"automargin\": true, \"type\": \"pie\"}], \"scatter\": [{\"marker\": {\"colorbar\": {\"outlinewidth\": 0, \"ticks\": \"\"}}, \"type\": \"scatter\"}], \"scatter3d\": [{\"line\": {\"colorbar\": {\"outlinewidth\": 0, \"ticks\": \"\"}}, \"marker\": {\"colorbar\": {\"outlinewidth\": 0, \"ticks\": \"\"}}, \"type\": \"scatter3d\"}], \"scattercarpet\": [{\"marker\": {\"colorbar\": {\"outlinewidth\": 0, \"ticks\": \"\"}}, \"type\": \"scattercarpet\"}], \"scattergeo\": [{\"marker\": {\"colorbar\": {\"outlinewidth\": 0, \"ticks\": \"\"}}, \"type\": \"scattergeo\"}], \"scattergl\": [{\"marker\": {\"colorbar\": {\"outlinewidth\": 0, \"ticks\": \"\"}}, \"type\": \"scattergl\"}], \"scattermapbox\": [{\"marker\": {\"colorbar\": {\"outlinewidth\": 0, \"ticks\": \"\"}}, \"type\": \"scattermapbox\"}], \"scatterpolar\": [{\"marker\": {\"colorbar\": {\"outlinewidth\": 0, \"ticks\": \"\"}}, \"type\": \"scatterpolar\"}], \"scatterpolargl\": [{\"marker\": {\"colorbar\": {\"outlinewidth\": 0, \"ticks\": \"\"}}, \"type\": \"scatterpolargl\"}], \"scatterternary\": [{\"marker\": {\"colorbar\": {\"outlinewidth\": 0, \"ticks\": \"\"}}, \"type\": \"scatterternary\"}], \"surface\": [{\"colorbar\": {\"outlinewidth\": 0, \"ticks\": \"\"}, \"colorscale\": [[0.0, \"#0d0887\"], [0.1111111111111111, \"#46039f\"], [0.2222222222222222, \"#7201a8\"], [0.3333333333333333, \"#9c179e\"], [0.4444444444444444, \"#bd3786\"], [0.5555555555555556, \"#d8576b\"], [0.6666666666666666, \"#ed7953\"], [0.7777777777777778, \"#fb9f3a\"], [0.8888888888888888, \"#fdca26\"], [1.0, \"#f0f921\"]], \"type\": \"surface\"}], \"table\": [{\"cells\": {\"fill\": {\"color\": \"#EBF0F8\"}, \"line\": {\"color\": \"white\"}}, \"header\": {\"fill\": {\"color\": \"#C8D4E3\"}, \"line\": {\"color\": \"white\"}}, \"type\": \"table\"}]}, \"layout\": {\"annotationdefaults\": {\"arrowcolor\": \"#2a3f5f\", \"arrowhead\": 0, \"arrowwidth\": 1}, \"coloraxis\": {\"colorbar\": {\"outlinewidth\": 0, \"ticks\": \"\"}}, \"colorscale\": {\"diverging\": [[0, \"#8e0152\"], [0.1, \"#c51b7d\"], [0.2, \"#de77ae\"], [0.3, \"#f1b6da\"], [0.4, \"#fde0ef\"], [0.5, \"#f7f7f7\"], [0.6, \"#e6f5d0\"], [0.7, \"#b8e186\"], [0.8, \"#7fbc41\"], [0.9, \"#4d9221\"], [1, \"#276419\"]], \"sequential\": [[0.0, \"#0d0887\"], [0.1111111111111111, \"#46039f\"], [0.2222222222222222, \"#7201a8\"], [0.3333333333333333, \"#9c179e\"], [0.4444444444444444, \"#bd3786\"], [0.5555555555555556, \"#d8576b\"], [0.6666666666666666, \"#ed7953\"], [0.7777777777777778, \"#fb9f3a\"], [0.8888888888888888, \"#fdca26\"], [1.0, \"#f0f921\"]], \"sequentialminus\": [[0.0, \"#0d0887\"], [0.1111111111111111, \"#46039f\"], [0.2222222222222222, \"#7201a8\"], [0.3333333333333333, \"#9c179e\"], [0.4444444444444444, \"#bd3786\"], [0.5555555555555556, \"#d8576b\"], [0.6666666666666666, \"#ed7953\"], [0.7777777777777778, \"#fb9f3a\"], [0.8888888888888888, \"#fdca26\"], [1.0, \"#f0f921\"]]}, \"colorway\": [\"#636efa\", \"#EF553B\", \"#00cc96\", \"#ab63fa\", \"#FFA15A\", \"#19d3f3\", \"#FF6692\", \"#B6E880\", \"#FF97FF\", \"#FECB52\"], \"font\": {\"color\": \"#2a3f5f\"}, \"geo\": {\"bgcolor\": \"white\", \"lakecolor\": \"white\", \"landcolor\": \"#E5ECF6\", \"showlakes\": true, \"showland\": true, \"subunitcolor\": \"white\"}, \"hoverlabel\": {\"align\": \"left\"}, \"hovermode\": \"closest\", \"mapbox\": {\"style\": \"light\"}, \"paper_bgcolor\": \"white\", \"plot_bgcolor\": \"#E5ECF6\", \"polar\": {\"angularaxis\": {\"gridcolor\": \"white\", \"linecolor\": \"white\", \"ticks\": \"\"}, \"bgcolor\": \"#E5ECF6\", \"radialaxis\": {\"gridcolor\": \"white\", \"linecolor\": \"white\", \"ticks\": \"\"}}, \"scene\": {\"xaxis\": {\"backgroundcolor\": \"#E5ECF6\", \"gridcolor\": \"white\", \"gridwidth\": 2, \"linecolor\": \"white\", \"showbackground\": true, \"ticks\": \"\", \"zerolinecolor\": \"white\"}, \"yaxis\": {\"backgroundcolor\": \"#E5ECF6\", \"gridcolor\": \"white\", \"gridwidth\": 2, \"linecolor\": \"white\", \"showbackground\": true, \"ticks\": \"\", \"zerolinecolor\": \"white\"}, \"zaxis\": {\"backgroundcolor\": \"#E5ECF6\", \"gridcolor\": \"white\", \"gridwidth\": 2, \"linecolor\": \"white\", \"showbackground\": true, \"ticks\": \"\", \"zerolinecolor\": \"white\"}}, \"shapedefaults\": {\"line\": {\"color\": \"#2a3f5f\"}}, \"ternary\": {\"aaxis\": {\"gridcolor\": \"white\", \"linecolor\": \"white\", \"ticks\": \"\"}, \"baxis\": {\"gridcolor\": \"white\", \"linecolor\": \"white\", \"ticks\": \"\"}, \"bgcolor\": \"#E5ECF6\", \"caxis\": {\"gridcolor\": \"white\", \"linecolor\": \"white\", \"ticks\": \"\"}}, \"title\": {\"x\": 0.05}, \"xaxis\": {\"automargin\": true, \"gridcolor\": \"white\", \"linecolor\": \"white\", \"ticks\": \"\", \"title\": {\"standoff\": 15}, \"zerolinecolor\": \"white\", \"zerolinewidth\": 2}, \"yaxis\": {\"automargin\": true, \"gridcolor\": \"white\", \"linecolor\": \"white\", \"ticks\": \"\", \"title\": {\"standoff\": 15}, \"zerolinecolor\": \"white\", \"zerolinewidth\": 2}}}, \"title\": {\"text\": \"D\\u00eda Mi\\u00e9rcoles\"}, \"xaxis\": {\"rangeselector\": {\"buttons\": [{\"count\": 7, \"label\": \"1w\", \"step\": \"day\", \"stepmode\": \"backward\"}, {\"count\": 1, \"label\": \"1m\", \"step\": \"month\", \"stepmode\": \"backward\"}, {\"count\": 6, \"label\": \"6m\", \"step\": \"month\", \"stepmode\": \"backward\"}, {\"count\": 1, \"label\": \"YTD\", \"step\": \"year\", \"stepmode\": \"todate\"}, {\"count\": 1, \"label\": \"1y\", \"step\": \"year\", \"stepmode\": \"backward\"}, {\"step\": \"all\"}]}, \"showgrid\": true, \"type\": \"date\", \"zeroline\": false}, \"yaxis\": {\"autorange\": false, \"range\": [-1, 12], \"showgrid\": true, \"ticktext\": [\"UCA 3\", \"Pabell\\u00f3n 6\", \"UCA 1\", \"Pabell\\u00f3n 5\", \"Pabell\\u00f3n 8\", \"Pabell\\u00f3n 7\", \"Pabell\\u00f3n 2\", \"UCA 2\", \"Pabell\\u00f3n 1\", \"Pabell\\u00f3n 4\", \"Pabell\\u00f3n 3\"], \"tickvals\": [0, 1, 2, 3, 4, 5, 6, 7, 8, 9, 10], \"zeroline\": false}},\n",
       "                        {\"responsive\": true}\n",
       "                    ).then(function(){\n",
       "                            \n",
       "var gd = document.getElementById('79e7798a-6880-4447-806c-55d413ad553f');\n",
       "var x = new MutationObserver(function (mutations, observer) {{\n",
       "        var display = window.getComputedStyle(gd).display;\n",
       "        if (!display || display === 'none') {{\n",
       "            console.log([gd, 'removed!']);\n",
       "            Plotly.purge(gd);\n",
       "            observer.disconnect();\n",
       "        }}\n",
       "}});\n",
       "\n",
       "// Listen for the removal of the full notebook cells\n",
       "var notebookContainer = gd.closest('#notebook-container');\n",
       "if (notebookContainer) {{\n",
       "    x.observe(notebookContainer, {childList: true});\n",
       "}}\n",
       "\n",
       "// Listen for the clearing of the current output cell\n",
       "var outputEl = gd.closest('.output');\n",
       "if (outputEl) {{\n",
       "    x.observe(outputEl, {childList: true});\n",
       "}}\n",
       "\n",
       "                        })\n",
       "                };\n",
       "                });\n",
       "            </script>\n",
       "        </div>"
      ]
     },
     "metadata": {},
     "output_type": "display_data"
    }
   ],
   "source": [
    "fig_2 = ff.create_gantt(df2, colors=colors_2, index_col='Resource', show_colorbar=True, title='Día Miércoles',showgrid_x=True, showgrid_y=True,\n",
    "                      group_tasks=True)\n",
    "fig_2.show()\n",
    "\n",
    "\n"
   ]
  },
  {
   "cell_type": "code",
   "execution_count": 109,
   "metadata": {},
   "outputs": [
    {
     "data": {
      "application/vnd.plotly.v1+json": {
       "config": {
        "plotlyServerURL": "https://plot.ly"
       },
       "data": [
        {
         "fill": "toself",
         "fillcolor": "rgb(175, 0, 0)",
         "hoverinfo": "name",
         "legendgroup": "rgb(175, 0, 0)",
         "mode": "none",
         "name": "Columna VSC",
         "type": "scatter",
         "x": [
          "2020-01-01T17:30:00",
          "2020-01-01T21:00:00",
          "2020-01-01T21:00:00",
          "2020-01-01T17:30:00"
         ],
         "y": [
          6.8,
          6.8,
          7.2,
          7.2
         ]
        },
        {
         "fill": "toself",
         "fillcolor": "rgb(220, 0, 0)",
         "hoverinfo": "name",
         "legendgroup": "rgb(220, 0, 0)",
         "mode": "none",
         "name": "TYP VSC",
         "type": "scatter",
         "x": [
          "2020-01-01T14:30:00",
          "2020-01-01T21:00:00",
          "2020-01-01T21:00:00",
          "2020-01-01T14:30:00",
          "2020-01-01T14:30:00",
          "2020-01-01T08:00:00",
          "2020-01-01T17:00:00",
          "2020-01-01T17:00:00",
          "2020-01-01T08:00:00"
         ],
         "y": [
          8.8,
          8.8,
          9.2,
          9.2,
          null,
          3.8,
          3.8,
          4.2,
          4.2
         ]
        },
        {
         "fill": "toself",
         "fillcolor": "rgb(220, 0, 110)",
         "hoverinfo": "name",
         "legendgroup": "rgb(220, 0, 110)",
         "mode": "none",
         "name": "Maxilo Ley",
         "type": "scatter",
         "x": [
          "2020-01-01T08:00:00",
          "2020-01-01T16:30:00",
          "2020-01-01T16:30:00",
          "2020-01-01T08:00:00"
         ],
         "y": [
          2.8,
          2.8,
          3.2,
          3.2
         ]
        },
        {
         "fill": "toself",
         "fillcolor": "rgb(220, 110, 0)",
         "hoverinfo": "name",
         "legendgroup": "rgb(220, 110, 0)",
         "mode": "none",
         "name": "EESS Ley",
         "type": "scatter",
         "x": [
          "2020-01-01T08:00:00",
          "2020-01-01T17:00:00",
          "2020-01-01T17:00:00",
          "2020-01-01T08:00:00",
          "2020-01-01T08:00:00",
          "2020-01-01T08:00:00",
          "2020-01-01T14:30:00",
          "2020-01-01T14:30:00",
          "2020-01-01T08:00:00",
          "2020-01-01T08:00:00",
          "2020-01-01T09:00:00",
          "2020-01-01T18:00:00",
          "2020-01-01T18:00:00",
          "2020-01-01T09:00:00"
         ],
         "y": [
          9.8,
          9.8,
          10.2,
          10.2,
          null,
          8.8,
          8.8,
          9.2,
          9.2,
          null,
          7.8,
          7.8,
          8.2,
          8.2
         ]
        },
        {
         "fill": "toself",
         "fillcolor": "rgb(220, 175, 0)",
         "hoverinfo": "name",
         "legendgroup": "rgb(220, 175, 0)",
         "mode": "none",
         "name": "Rodilla Ley",
         "type": "scatter",
         "x": [
          "2020-01-01T08:30:00",
          "2020-01-01T17:30:00",
          "2020-01-01T17:30:00",
          "2020-01-01T08:30:00"
         ],
         "y": [
          6.8,
          6.8,
          7.2,
          7.2
         ]
        },
        {
         "fill": "toself",
         "fillcolor": "rgb(220, 175, 110)",
         "hoverinfo": "name",
         "legendgroup": "rgb(220, 175, 110)",
         "mode": "none",
         "name": "Cadera VSC",
         "type": "scatter",
         "x": [
          "2020-01-01T08:00:00",
          "2020-01-01T14:30:00",
          "2020-01-01T14:30:00",
          "2020-01-01T08:00:00",
          "2020-01-01T08:00:00",
          "2020-01-01T12:00:00",
          "2020-01-01T21:00:00",
          "2020-01-01T21:00:00",
          "2020-01-01T12:00:00"
         ],
         "y": [
          0.8,
          0.8,
          1.2,
          1.2,
          null,
          -0.2,
          -0.2,
          0.2,
          0.2
         ]
        },
        {
         "fill": "toself",
         "fillcolor": "rgb(220, 220, 0)",
         "hoverinfo": "name",
         "legendgroup": "rgb(220, 220, 0)",
         "mode": "none",
         "name": "Rodilla VSC",
         "type": "scatter",
         "x": [
          "2020-01-01T08:00:00",
          "2020-01-01T16:00:00",
          "2020-01-01T16:00:00",
          "2020-01-01T08:00:00"
         ],
         "y": [
          5.8,
          5.8,
          6.2,
          6.2
         ]
        },
        {
         "fill": "toself",
         "fillcolor": "rgb(220, 220, 110)",
         "hoverinfo": "name",
         "legendgroup": "rgb(220, 220, 110)",
         "mode": "none",
         "name": "Roa VSC",
         "type": "scatter",
         "x": [
          "2020-01-01T14:30:00",
          "2020-01-01T21:00:00",
          "2020-01-01T21:00:00",
          "2020-01-01T14:30:00"
         ],
         "y": [
          0.8,
          0.8,
          1.2,
          1.2
         ]
        },
        {
         "fill": "toself",
         "fillcolor": "rgb(220, 55, 110)",
         "hoverinfo": "name",
         "legendgroup": "rgb(220, 55, 110)",
         "mode": "none",
         "name": "Hombro Ley",
         "type": "scatter",
         "x": [
          "2020-01-01T08:00:00",
          "2020-01-01T17:00:00",
          "2020-01-01T17:00:00",
          "2020-01-01T08:00:00"
         ],
         "y": [
          1.8,
          1.8,
          2.2,
          2.2
         ]
        },
        {
         "fill": "toself",
         "fillcolor": "rgb(55, 0, 0)",
         "hoverinfo": "name",
         "legendgroup": "rgb(55, 0, 0)",
         "mode": "none",
         "name": "TYP Ley",
         "type": "scatter",
         "x": [
          "2020-01-01T08:00:00",
          "2020-01-01T17:00:00",
          "2020-01-01T17:00:00",
          "2020-01-01T08:00:00"
         ],
         "y": [
          4.8,
          4.8,
          5.2,
          5.2
         ]
        },
        {
         "legendgroup": "rgb(175, 0, 0)",
         "marker": {
          "color": "rgb(175, 0, 0)",
          "opacity": 0,
          "size": 1
         },
         "mode": "markers",
         "name": "",
         "showlegend": false,
         "text": [
          null,
          null
         ],
         "type": "scatter",
         "x": [
          "2020-01-01T17:30:00",
          "2020-01-01T21:00:00"
         ],
         "y": [
          7,
          7
         ]
        },
        {
         "legendgroup": "rgb(220, 0, 0)",
         "marker": {
          "color": "rgb(220, 0, 0)",
          "opacity": 0,
          "size": 1
         },
         "mode": "markers",
         "name": "",
         "showlegend": false,
         "text": [
          null,
          null,
          null,
          null
         ],
         "type": "scatter",
         "x": [
          "2020-01-01T14:30:00",
          "2020-01-01T21:00:00",
          "2020-01-01T08:00:00",
          "2020-01-01T17:00:00"
         ],
         "y": [
          9,
          9,
          4,
          4
         ]
        },
        {
         "legendgroup": "rgb(220, 0, 110)",
         "marker": {
          "color": "rgb(220, 0, 110)",
          "opacity": 0,
          "size": 1
         },
         "mode": "markers",
         "name": "",
         "showlegend": false,
         "text": [
          null,
          null
         ],
         "type": "scatter",
         "x": [
          "2020-01-01T08:00:00",
          "2020-01-01T16:30:00"
         ],
         "y": [
          3,
          3
         ]
        },
        {
         "legendgroup": "rgb(220, 110, 0)",
         "marker": {
          "color": "rgb(220, 110, 0)",
          "opacity": 0,
          "size": 1
         },
         "mode": "markers",
         "name": "",
         "showlegend": false,
         "text": [
          null,
          null,
          null,
          null,
          null,
          null
         ],
         "type": "scatter",
         "x": [
          "2020-01-01T08:00:00",
          "2020-01-01T17:00:00",
          "2020-01-01T08:00:00",
          "2020-01-01T14:30:00",
          "2020-01-01T09:00:00",
          "2020-01-01T18:00:00"
         ],
         "y": [
          10,
          10,
          9,
          9,
          8,
          8
         ]
        },
        {
         "legendgroup": "rgb(220, 175, 0)",
         "marker": {
          "color": "rgb(220, 175, 0)",
          "opacity": 0,
          "size": 1
         },
         "mode": "markers",
         "name": "",
         "showlegend": false,
         "text": [
          null,
          null
         ],
         "type": "scatter",
         "x": [
          "2020-01-01T08:30:00",
          "2020-01-01T17:30:00"
         ],
         "y": [
          7,
          7
         ]
        },
        {
         "legendgroup": "rgb(220, 175, 110)",
         "marker": {
          "color": "rgb(220, 175, 110)",
          "opacity": 0,
          "size": 1
         },
         "mode": "markers",
         "name": "",
         "showlegend": false,
         "text": [
          null,
          null,
          null,
          null
         ],
         "type": "scatter",
         "x": [
          "2020-01-01T08:00:00",
          "2020-01-01T14:30:00",
          "2020-01-01T12:00:00",
          "2020-01-01T21:00:00"
         ],
         "y": [
          1,
          1,
          0,
          0
         ]
        },
        {
         "legendgroup": "rgb(220, 220, 0)",
         "marker": {
          "color": "rgb(220, 220, 0)",
          "opacity": 0,
          "size": 1
         },
         "mode": "markers",
         "name": "",
         "showlegend": false,
         "text": [
          null,
          null
         ],
         "type": "scatter",
         "x": [
          "2020-01-01T08:00:00",
          "2020-01-01T16:00:00"
         ],
         "y": [
          6,
          6
         ]
        },
        {
         "legendgroup": "rgb(220, 220, 110)",
         "marker": {
          "color": "rgb(220, 220, 110)",
          "opacity": 0,
          "size": 1
         },
         "mode": "markers",
         "name": "",
         "showlegend": false,
         "text": [
          null,
          null
         ],
         "type": "scatter",
         "x": [
          "2020-01-01T14:30:00",
          "2020-01-01T21:00:00"
         ],
         "y": [
          1,
          1
         ]
        },
        {
         "legendgroup": "rgb(220, 55, 110)",
         "marker": {
          "color": "rgb(220, 55, 110)",
          "opacity": 0,
          "size": 1
         },
         "mode": "markers",
         "name": "",
         "showlegend": false,
         "text": [
          null,
          null
         ],
         "type": "scatter",
         "x": [
          "2020-01-01T08:00:00",
          "2020-01-01T17:00:00"
         ],
         "y": [
          2,
          2
         ]
        },
        {
         "legendgroup": "rgb(55, 0, 0)",
         "marker": {
          "color": "rgb(55, 0, 0)",
          "opacity": 0,
          "size": 1
         },
         "mode": "markers",
         "name": "",
         "showlegend": false,
         "text": [
          null,
          null
         ],
         "type": "scatter",
         "x": [
          "2020-01-01T08:00:00",
          "2020-01-01T17:00:00"
         ],
         "y": [
          5,
          5
         ]
        }
       ],
       "layout": {
        "height": 600,
        "hovermode": "closest",
        "showlegend": true,
        "template": {
         "data": {
          "bar": [
           {
            "error_x": {
             "color": "#2a3f5f"
            },
            "error_y": {
             "color": "#2a3f5f"
            },
            "marker": {
             "line": {
              "color": "#E5ECF6",
              "width": 0.5
             }
            },
            "type": "bar"
           }
          ],
          "barpolar": [
           {
            "marker": {
             "line": {
              "color": "#E5ECF6",
              "width": 0.5
             }
            },
            "type": "barpolar"
           }
          ],
          "carpet": [
           {
            "aaxis": {
             "endlinecolor": "#2a3f5f",
             "gridcolor": "white",
             "linecolor": "white",
             "minorgridcolor": "white",
             "startlinecolor": "#2a3f5f"
            },
            "baxis": {
             "endlinecolor": "#2a3f5f",
             "gridcolor": "white",
             "linecolor": "white",
             "minorgridcolor": "white",
             "startlinecolor": "#2a3f5f"
            },
            "type": "carpet"
           }
          ],
          "choropleth": [
           {
            "colorbar": {
             "outlinewidth": 0,
             "ticks": ""
            },
            "type": "choropleth"
           }
          ],
          "contour": [
           {
            "colorbar": {
             "outlinewidth": 0,
             "ticks": ""
            },
            "colorscale": [
             [
              0,
              "#0d0887"
             ],
             [
              0.1111111111111111,
              "#46039f"
             ],
             [
              0.2222222222222222,
              "#7201a8"
             ],
             [
              0.3333333333333333,
              "#9c179e"
             ],
             [
              0.4444444444444444,
              "#bd3786"
             ],
             [
              0.5555555555555556,
              "#d8576b"
             ],
             [
              0.6666666666666666,
              "#ed7953"
             ],
             [
              0.7777777777777778,
              "#fb9f3a"
             ],
             [
              0.8888888888888888,
              "#fdca26"
             ],
             [
              1,
              "#f0f921"
             ]
            ],
            "type": "contour"
           }
          ],
          "contourcarpet": [
           {
            "colorbar": {
             "outlinewidth": 0,
             "ticks": ""
            },
            "type": "contourcarpet"
           }
          ],
          "heatmap": [
           {
            "colorbar": {
             "outlinewidth": 0,
             "ticks": ""
            },
            "colorscale": [
             [
              0,
              "#0d0887"
             ],
             [
              0.1111111111111111,
              "#46039f"
             ],
             [
              0.2222222222222222,
              "#7201a8"
             ],
             [
              0.3333333333333333,
              "#9c179e"
             ],
             [
              0.4444444444444444,
              "#bd3786"
             ],
             [
              0.5555555555555556,
              "#d8576b"
             ],
             [
              0.6666666666666666,
              "#ed7953"
             ],
             [
              0.7777777777777778,
              "#fb9f3a"
             ],
             [
              0.8888888888888888,
              "#fdca26"
             ],
             [
              1,
              "#f0f921"
             ]
            ],
            "type": "heatmap"
           }
          ],
          "heatmapgl": [
           {
            "colorbar": {
             "outlinewidth": 0,
             "ticks": ""
            },
            "colorscale": [
             [
              0,
              "#0d0887"
             ],
             [
              0.1111111111111111,
              "#46039f"
             ],
             [
              0.2222222222222222,
              "#7201a8"
             ],
             [
              0.3333333333333333,
              "#9c179e"
             ],
             [
              0.4444444444444444,
              "#bd3786"
             ],
             [
              0.5555555555555556,
              "#d8576b"
             ],
             [
              0.6666666666666666,
              "#ed7953"
             ],
             [
              0.7777777777777778,
              "#fb9f3a"
             ],
             [
              0.8888888888888888,
              "#fdca26"
             ],
             [
              1,
              "#f0f921"
             ]
            ],
            "type": "heatmapgl"
           }
          ],
          "histogram": [
           {
            "marker": {
             "colorbar": {
              "outlinewidth": 0,
              "ticks": ""
             }
            },
            "type": "histogram"
           }
          ],
          "histogram2d": [
           {
            "colorbar": {
             "outlinewidth": 0,
             "ticks": ""
            },
            "colorscale": [
             [
              0,
              "#0d0887"
             ],
             [
              0.1111111111111111,
              "#46039f"
             ],
             [
              0.2222222222222222,
              "#7201a8"
             ],
             [
              0.3333333333333333,
              "#9c179e"
             ],
             [
              0.4444444444444444,
              "#bd3786"
             ],
             [
              0.5555555555555556,
              "#d8576b"
             ],
             [
              0.6666666666666666,
              "#ed7953"
             ],
             [
              0.7777777777777778,
              "#fb9f3a"
             ],
             [
              0.8888888888888888,
              "#fdca26"
             ],
             [
              1,
              "#f0f921"
             ]
            ],
            "type": "histogram2d"
           }
          ],
          "histogram2dcontour": [
           {
            "colorbar": {
             "outlinewidth": 0,
             "ticks": ""
            },
            "colorscale": [
             [
              0,
              "#0d0887"
             ],
             [
              0.1111111111111111,
              "#46039f"
             ],
             [
              0.2222222222222222,
              "#7201a8"
             ],
             [
              0.3333333333333333,
              "#9c179e"
             ],
             [
              0.4444444444444444,
              "#bd3786"
             ],
             [
              0.5555555555555556,
              "#d8576b"
             ],
             [
              0.6666666666666666,
              "#ed7953"
             ],
             [
              0.7777777777777778,
              "#fb9f3a"
             ],
             [
              0.8888888888888888,
              "#fdca26"
             ],
             [
              1,
              "#f0f921"
             ]
            ],
            "type": "histogram2dcontour"
           }
          ],
          "mesh3d": [
           {
            "colorbar": {
             "outlinewidth": 0,
             "ticks": ""
            },
            "type": "mesh3d"
           }
          ],
          "parcoords": [
           {
            "line": {
             "colorbar": {
              "outlinewidth": 0,
              "ticks": ""
             }
            },
            "type": "parcoords"
           }
          ],
          "pie": [
           {
            "automargin": true,
            "type": "pie"
           }
          ],
          "scatter": [
           {
            "marker": {
             "colorbar": {
              "outlinewidth": 0,
              "ticks": ""
             }
            },
            "type": "scatter"
           }
          ],
          "scatter3d": [
           {
            "line": {
             "colorbar": {
              "outlinewidth": 0,
              "ticks": ""
             }
            },
            "marker": {
             "colorbar": {
              "outlinewidth": 0,
              "ticks": ""
             }
            },
            "type": "scatter3d"
           }
          ],
          "scattercarpet": [
           {
            "marker": {
             "colorbar": {
              "outlinewidth": 0,
              "ticks": ""
             }
            },
            "type": "scattercarpet"
           }
          ],
          "scattergeo": [
           {
            "marker": {
             "colorbar": {
              "outlinewidth": 0,
              "ticks": ""
             }
            },
            "type": "scattergeo"
           }
          ],
          "scattergl": [
           {
            "marker": {
             "colorbar": {
              "outlinewidth": 0,
              "ticks": ""
             }
            },
            "type": "scattergl"
           }
          ],
          "scattermapbox": [
           {
            "marker": {
             "colorbar": {
              "outlinewidth": 0,
              "ticks": ""
             }
            },
            "type": "scattermapbox"
           }
          ],
          "scatterpolar": [
           {
            "marker": {
             "colorbar": {
              "outlinewidth": 0,
              "ticks": ""
             }
            },
            "type": "scatterpolar"
           }
          ],
          "scatterpolargl": [
           {
            "marker": {
             "colorbar": {
              "outlinewidth": 0,
              "ticks": ""
             }
            },
            "type": "scatterpolargl"
           }
          ],
          "scatterternary": [
           {
            "marker": {
             "colorbar": {
              "outlinewidth": 0,
              "ticks": ""
             }
            },
            "type": "scatterternary"
           }
          ],
          "surface": [
           {
            "colorbar": {
             "outlinewidth": 0,
             "ticks": ""
            },
            "colorscale": [
             [
              0,
              "#0d0887"
             ],
             [
              0.1111111111111111,
              "#46039f"
             ],
             [
              0.2222222222222222,
              "#7201a8"
             ],
             [
              0.3333333333333333,
              "#9c179e"
             ],
             [
              0.4444444444444444,
              "#bd3786"
             ],
             [
              0.5555555555555556,
              "#d8576b"
             ],
             [
              0.6666666666666666,
              "#ed7953"
             ],
             [
              0.7777777777777778,
              "#fb9f3a"
             ],
             [
              0.8888888888888888,
              "#fdca26"
             ],
             [
              1,
              "#f0f921"
             ]
            ],
            "type": "surface"
           }
          ],
          "table": [
           {
            "cells": {
             "fill": {
              "color": "#EBF0F8"
             },
             "line": {
              "color": "white"
             }
            },
            "header": {
             "fill": {
              "color": "#C8D4E3"
             },
             "line": {
              "color": "white"
             }
            },
            "type": "table"
           }
          ]
         },
         "layout": {
          "annotationdefaults": {
           "arrowcolor": "#2a3f5f",
           "arrowhead": 0,
           "arrowwidth": 1
          },
          "coloraxis": {
           "colorbar": {
            "outlinewidth": 0,
            "ticks": ""
           }
          },
          "colorscale": {
           "diverging": [
            [
             0,
             "#8e0152"
            ],
            [
             0.1,
             "#c51b7d"
            ],
            [
             0.2,
             "#de77ae"
            ],
            [
             0.3,
             "#f1b6da"
            ],
            [
             0.4,
             "#fde0ef"
            ],
            [
             0.5,
             "#f7f7f7"
            ],
            [
             0.6,
             "#e6f5d0"
            ],
            [
             0.7,
             "#b8e186"
            ],
            [
             0.8,
             "#7fbc41"
            ],
            [
             0.9,
             "#4d9221"
            ],
            [
             1,
             "#276419"
            ]
           ],
           "sequential": [
            [
             0,
             "#0d0887"
            ],
            [
             0.1111111111111111,
             "#46039f"
            ],
            [
             0.2222222222222222,
             "#7201a8"
            ],
            [
             0.3333333333333333,
             "#9c179e"
            ],
            [
             0.4444444444444444,
             "#bd3786"
            ],
            [
             0.5555555555555556,
             "#d8576b"
            ],
            [
             0.6666666666666666,
             "#ed7953"
            ],
            [
             0.7777777777777778,
             "#fb9f3a"
            ],
            [
             0.8888888888888888,
             "#fdca26"
            ],
            [
             1,
             "#f0f921"
            ]
           ],
           "sequentialminus": [
            [
             0,
             "#0d0887"
            ],
            [
             0.1111111111111111,
             "#46039f"
            ],
            [
             0.2222222222222222,
             "#7201a8"
            ],
            [
             0.3333333333333333,
             "#9c179e"
            ],
            [
             0.4444444444444444,
             "#bd3786"
            ],
            [
             0.5555555555555556,
             "#d8576b"
            ],
            [
             0.6666666666666666,
             "#ed7953"
            ],
            [
             0.7777777777777778,
             "#fb9f3a"
            ],
            [
             0.8888888888888888,
             "#fdca26"
            ],
            [
             1,
             "#f0f921"
            ]
           ]
          },
          "colorway": [
           "#636efa",
           "#EF553B",
           "#00cc96",
           "#ab63fa",
           "#FFA15A",
           "#19d3f3",
           "#FF6692",
           "#B6E880",
           "#FF97FF",
           "#FECB52"
          ],
          "font": {
           "color": "#2a3f5f"
          },
          "geo": {
           "bgcolor": "white",
           "lakecolor": "white",
           "landcolor": "#E5ECF6",
           "showlakes": true,
           "showland": true,
           "subunitcolor": "white"
          },
          "hoverlabel": {
           "align": "left"
          },
          "hovermode": "closest",
          "mapbox": {
           "style": "light"
          },
          "paper_bgcolor": "white",
          "plot_bgcolor": "#E5ECF6",
          "polar": {
           "angularaxis": {
            "gridcolor": "white",
            "linecolor": "white",
            "ticks": ""
           },
           "bgcolor": "#E5ECF6",
           "radialaxis": {
            "gridcolor": "white",
            "linecolor": "white",
            "ticks": ""
           }
          },
          "scene": {
           "xaxis": {
            "backgroundcolor": "#E5ECF6",
            "gridcolor": "white",
            "gridwidth": 2,
            "linecolor": "white",
            "showbackground": true,
            "ticks": "",
            "zerolinecolor": "white"
           },
           "yaxis": {
            "backgroundcolor": "#E5ECF6",
            "gridcolor": "white",
            "gridwidth": 2,
            "linecolor": "white",
            "showbackground": true,
            "ticks": "",
            "zerolinecolor": "white"
           },
           "zaxis": {
            "backgroundcolor": "#E5ECF6",
            "gridcolor": "white",
            "gridwidth": 2,
            "linecolor": "white",
            "showbackground": true,
            "ticks": "",
            "zerolinecolor": "white"
           }
          },
          "shapedefaults": {
           "line": {
            "color": "#2a3f5f"
           }
          },
          "ternary": {
           "aaxis": {
            "gridcolor": "white",
            "linecolor": "white",
            "ticks": ""
           },
           "baxis": {
            "gridcolor": "white",
            "linecolor": "white",
            "ticks": ""
           },
           "bgcolor": "#E5ECF6",
           "caxis": {
            "gridcolor": "white",
            "linecolor": "white",
            "ticks": ""
           }
          },
          "title": {
           "x": 0.05
          },
          "xaxis": {
           "automargin": true,
           "gridcolor": "white",
           "linecolor": "white",
           "ticks": "",
           "title": {
            "standoff": 15
           },
           "zerolinecolor": "white",
           "zerolinewidth": 2
          },
          "yaxis": {
           "automargin": true,
           "gridcolor": "white",
           "linecolor": "white",
           "ticks": "",
           "title": {
            "standoff": 15
           },
           "zerolinecolor": "white",
           "zerolinewidth": 2
          }
         }
        },
        "title": {
         "text": "Día Jueves"
        },
        "xaxis": {
         "rangeselector": {
          "buttons": [
           {
            "count": 7,
            "label": "1w",
            "step": "day",
            "stepmode": "backward"
           },
           {
            "count": 1,
            "label": "1m",
            "step": "month",
            "stepmode": "backward"
           },
           {
            "count": 6,
            "label": "6m",
            "step": "month",
            "stepmode": "backward"
           },
           {
            "count": 1,
            "label": "YTD",
            "step": "year",
            "stepmode": "todate"
           },
           {
            "count": 1,
            "label": "1y",
            "step": "year",
            "stepmode": "backward"
           },
           {
            "step": "all"
           }
          ]
         },
         "showgrid": true,
         "type": "date",
         "zeroline": false
        },
        "yaxis": {
         "autorange": false,
         "range": [
          -1,
          12
         ],
         "showgrid": true,
         "ticktext": [
          "Pabellón 4",
          "Pabellón 3",
          "Pabellón 6",
          "UCA 1",
          "UCA 3",
          "Pabellón 5",
          "Pabellón 7",
          "Pabellón 2",
          "UCA 2",
          "Pabellón 8",
          "Pabellón 1"
         ],
         "tickvals": [
          0,
          1,
          2,
          3,
          4,
          5,
          6,
          7,
          8,
          9,
          10
         ],
         "zeroline": false
        }
       }
      },
      "text/html": [
       "<div>\n",
       "        \n",
       "        \n",
       "            <div id=\"8c636f0f-0dd8-40b5-b6ba-5b51f8d76115\" class=\"plotly-graph-div\" style=\"height:600px; width:100%;\"></div>\n",
       "            <script type=\"text/javascript\">\n",
       "                require([\"plotly\"], function(Plotly) {\n",
       "                    window.PLOTLYENV=window.PLOTLYENV || {};\n",
       "                    \n",
       "                if (document.getElementById(\"8c636f0f-0dd8-40b5-b6ba-5b51f8d76115\")) {\n",
       "                    Plotly.newPlot(\n",
       "                        '8c636f0f-0dd8-40b5-b6ba-5b51f8d76115',\n",
       "                        [{\"fill\": \"toself\", \"fillcolor\": \"rgb(175, 0, 0)\", \"hoverinfo\": \"name\", \"legendgroup\": \"rgb(175, 0, 0)\", \"mode\": \"none\", \"name\": \"Columna VSC\", \"type\": \"scatter\", \"x\": [\"2020-01-01T17:30:00\", \"2020-01-01T21:00:00\", \"2020-01-01T21:00:00\", \"2020-01-01T17:30:00\"], \"y\": [6.8, 6.8, 7.2, 7.2]}, {\"fill\": \"toself\", \"fillcolor\": \"rgb(220, 0, 0)\", \"hoverinfo\": \"name\", \"legendgroup\": \"rgb(220, 0, 0)\", \"mode\": \"none\", \"name\": \"TYP VSC\", \"type\": \"scatter\", \"x\": [\"2020-01-01T14:30:00\", \"2020-01-01T21:00:00\", \"2020-01-01T21:00:00\", \"2020-01-01T14:30:00\", \"2020-01-01T14:30:00\", \"2020-01-01T08:00:00\", \"2020-01-01T17:00:00\", \"2020-01-01T17:00:00\", \"2020-01-01T08:00:00\"], \"y\": [8.8, 8.8, 9.2, 9.2, null, 3.8, 3.8, 4.2, 4.2]}, {\"fill\": \"toself\", \"fillcolor\": \"rgb(220, 0, 110)\", \"hoverinfo\": \"name\", \"legendgroup\": \"rgb(220, 0, 110)\", \"mode\": \"none\", \"name\": \"Maxilo Ley\", \"type\": \"scatter\", \"x\": [\"2020-01-01T08:00:00\", \"2020-01-01T16:30:00\", \"2020-01-01T16:30:00\", \"2020-01-01T08:00:00\"], \"y\": [2.8, 2.8, 3.2, 3.2]}, {\"fill\": \"toself\", \"fillcolor\": \"rgb(220, 110, 0)\", \"hoverinfo\": \"name\", \"legendgroup\": \"rgb(220, 110, 0)\", \"mode\": \"none\", \"name\": \"EESS Ley\", \"type\": \"scatter\", \"x\": [\"2020-01-01T08:00:00\", \"2020-01-01T17:00:00\", \"2020-01-01T17:00:00\", \"2020-01-01T08:00:00\", \"2020-01-01T08:00:00\", \"2020-01-01T08:00:00\", \"2020-01-01T14:30:00\", \"2020-01-01T14:30:00\", \"2020-01-01T08:00:00\", \"2020-01-01T08:00:00\", \"2020-01-01T09:00:00\", \"2020-01-01T18:00:00\", \"2020-01-01T18:00:00\", \"2020-01-01T09:00:00\"], \"y\": [9.8, 9.8, 10.2, 10.2, null, 8.8, 8.8, 9.2, 9.2, null, 7.8, 7.8, 8.2, 8.2]}, {\"fill\": \"toself\", \"fillcolor\": \"rgb(220, 175, 0)\", \"hoverinfo\": \"name\", \"legendgroup\": \"rgb(220, 175, 0)\", \"mode\": \"none\", \"name\": \"Rodilla Ley\", \"type\": \"scatter\", \"x\": [\"2020-01-01T08:30:00\", \"2020-01-01T17:30:00\", \"2020-01-01T17:30:00\", \"2020-01-01T08:30:00\"], \"y\": [6.8, 6.8, 7.2, 7.2]}, {\"fill\": \"toself\", \"fillcolor\": \"rgb(220, 175, 110)\", \"hoverinfo\": \"name\", \"legendgroup\": \"rgb(220, 175, 110)\", \"mode\": \"none\", \"name\": \"Cadera VSC\", \"type\": \"scatter\", \"x\": [\"2020-01-01T08:00:00\", \"2020-01-01T14:30:00\", \"2020-01-01T14:30:00\", \"2020-01-01T08:00:00\", \"2020-01-01T08:00:00\", \"2020-01-01T12:00:00\", \"2020-01-01T21:00:00\", \"2020-01-01T21:00:00\", \"2020-01-01T12:00:00\"], \"y\": [0.8, 0.8, 1.2, 1.2, null, -0.2, -0.2, 0.2, 0.2]}, {\"fill\": \"toself\", \"fillcolor\": \"rgb(220, 220, 0)\", \"hoverinfo\": \"name\", \"legendgroup\": \"rgb(220, 220, 0)\", \"mode\": \"none\", \"name\": \"Rodilla VSC\", \"type\": \"scatter\", \"x\": [\"2020-01-01T08:00:00\", \"2020-01-01T16:00:00\", \"2020-01-01T16:00:00\", \"2020-01-01T08:00:00\"], \"y\": [5.8, 5.8, 6.2, 6.2]}, {\"fill\": \"toself\", \"fillcolor\": \"rgb(220, 220, 110)\", \"hoverinfo\": \"name\", \"legendgroup\": \"rgb(220, 220, 110)\", \"mode\": \"none\", \"name\": \"Roa VSC\", \"type\": \"scatter\", \"x\": [\"2020-01-01T14:30:00\", \"2020-01-01T21:00:00\", \"2020-01-01T21:00:00\", \"2020-01-01T14:30:00\"], \"y\": [0.8, 0.8, 1.2, 1.2]}, {\"fill\": \"toself\", \"fillcolor\": \"rgb(220, 55, 110)\", \"hoverinfo\": \"name\", \"legendgroup\": \"rgb(220, 55, 110)\", \"mode\": \"none\", \"name\": \"Hombro Ley\", \"type\": \"scatter\", \"x\": [\"2020-01-01T08:00:00\", \"2020-01-01T17:00:00\", \"2020-01-01T17:00:00\", \"2020-01-01T08:00:00\"], \"y\": [1.8, 1.8, 2.2, 2.2]}, {\"fill\": \"toself\", \"fillcolor\": \"rgb(55, 0, 0)\", \"hoverinfo\": \"name\", \"legendgroup\": \"rgb(55, 0, 0)\", \"mode\": \"none\", \"name\": \"TYP Ley\", \"type\": \"scatter\", \"x\": [\"2020-01-01T08:00:00\", \"2020-01-01T17:00:00\", \"2020-01-01T17:00:00\", \"2020-01-01T08:00:00\"], \"y\": [4.8, 4.8, 5.2, 5.2]}, {\"legendgroup\": \"rgb(175, 0, 0)\", \"marker\": {\"color\": \"rgb(175, 0, 0)\", \"opacity\": 0, \"size\": 1}, \"mode\": \"markers\", \"name\": \"\", \"showlegend\": false, \"text\": [null, null], \"type\": \"scatter\", \"x\": [\"2020-01-01T17:30:00\", \"2020-01-01T21:00:00\"], \"y\": [7, 7]}, {\"legendgroup\": \"rgb(220, 0, 0)\", \"marker\": {\"color\": \"rgb(220, 0, 0)\", \"opacity\": 0, \"size\": 1}, \"mode\": \"markers\", \"name\": \"\", \"showlegend\": false, \"text\": [null, null, null, null], \"type\": \"scatter\", \"x\": [\"2020-01-01T14:30:00\", \"2020-01-01T21:00:00\", \"2020-01-01T08:00:00\", \"2020-01-01T17:00:00\"], \"y\": [9, 9, 4, 4]}, {\"legendgroup\": \"rgb(220, 0, 110)\", \"marker\": {\"color\": \"rgb(220, 0, 110)\", \"opacity\": 0, \"size\": 1}, \"mode\": \"markers\", \"name\": \"\", \"showlegend\": false, \"text\": [null, null], \"type\": \"scatter\", \"x\": [\"2020-01-01T08:00:00\", \"2020-01-01T16:30:00\"], \"y\": [3, 3]}, {\"legendgroup\": \"rgb(220, 110, 0)\", \"marker\": {\"color\": \"rgb(220, 110, 0)\", \"opacity\": 0, \"size\": 1}, \"mode\": \"markers\", \"name\": \"\", \"showlegend\": false, \"text\": [null, null, null, null, null, null], \"type\": \"scatter\", \"x\": [\"2020-01-01T08:00:00\", \"2020-01-01T17:00:00\", \"2020-01-01T08:00:00\", \"2020-01-01T14:30:00\", \"2020-01-01T09:00:00\", \"2020-01-01T18:00:00\"], \"y\": [10, 10, 9, 9, 8, 8]}, {\"legendgroup\": \"rgb(220, 175, 0)\", \"marker\": {\"color\": \"rgb(220, 175, 0)\", \"opacity\": 0, \"size\": 1}, \"mode\": \"markers\", \"name\": \"\", \"showlegend\": false, \"text\": [null, null], \"type\": \"scatter\", \"x\": [\"2020-01-01T08:30:00\", \"2020-01-01T17:30:00\"], \"y\": [7, 7]}, {\"legendgroup\": \"rgb(220, 175, 110)\", \"marker\": {\"color\": \"rgb(220, 175, 110)\", \"opacity\": 0, \"size\": 1}, \"mode\": \"markers\", \"name\": \"\", \"showlegend\": false, \"text\": [null, null, null, null], \"type\": \"scatter\", \"x\": [\"2020-01-01T08:00:00\", \"2020-01-01T14:30:00\", \"2020-01-01T12:00:00\", \"2020-01-01T21:00:00\"], \"y\": [1, 1, 0, 0]}, {\"legendgroup\": \"rgb(220, 220, 0)\", \"marker\": {\"color\": \"rgb(220, 220, 0)\", \"opacity\": 0, \"size\": 1}, \"mode\": \"markers\", \"name\": \"\", \"showlegend\": false, \"text\": [null, null], \"type\": \"scatter\", \"x\": [\"2020-01-01T08:00:00\", \"2020-01-01T16:00:00\"], \"y\": [6, 6]}, {\"legendgroup\": \"rgb(220, 220, 110)\", \"marker\": {\"color\": \"rgb(220, 220, 110)\", \"opacity\": 0, \"size\": 1}, \"mode\": \"markers\", \"name\": \"\", \"showlegend\": false, \"text\": [null, null], \"type\": \"scatter\", \"x\": [\"2020-01-01T14:30:00\", \"2020-01-01T21:00:00\"], \"y\": [1, 1]}, {\"legendgroup\": \"rgb(220, 55, 110)\", \"marker\": {\"color\": \"rgb(220, 55, 110)\", \"opacity\": 0, \"size\": 1}, \"mode\": \"markers\", \"name\": \"\", \"showlegend\": false, \"text\": [null, null], \"type\": \"scatter\", \"x\": [\"2020-01-01T08:00:00\", \"2020-01-01T17:00:00\"], \"y\": [2, 2]}, {\"legendgroup\": \"rgb(55, 0, 0)\", \"marker\": {\"color\": \"rgb(55, 0, 0)\", \"opacity\": 0, \"size\": 1}, \"mode\": \"markers\", \"name\": \"\", \"showlegend\": false, \"text\": [null, null], \"type\": \"scatter\", \"x\": [\"2020-01-01T08:00:00\", \"2020-01-01T17:00:00\"], \"y\": [5, 5]}],\n",
       "                        {\"height\": 600, \"hovermode\": \"closest\", \"showlegend\": true, \"template\": {\"data\": {\"bar\": [{\"error_x\": {\"color\": \"#2a3f5f\"}, \"error_y\": {\"color\": \"#2a3f5f\"}, \"marker\": {\"line\": {\"color\": \"#E5ECF6\", \"width\": 0.5}}, \"type\": \"bar\"}], \"barpolar\": [{\"marker\": {\"line\": {\"color\": \"#E5ECF6\", \"width\": 0.5}}, \"type\": \"barpolar\"}], \"carpet\": [{\"aaxis\": {\"endlinecolor\": \"#2a3f5f\", \"gridcolor\": \"white\", \"linecolor\": \"white\", \"minorgridcolor\": \"white\", \"startlinecolor\": \"#2a3f5f\"}, \"baxis\": {\"endlinecolor\": \"#2a3f5f\", \"gridcolor\": \"white\", \"linecolor\": \"white\", \"minorgridcolor\": \"white\", \"startlinecolor\": \"#2a3f5f\"}, \"type\": \"carpet\"}], \"choropleth\": [{\"colorbar\": {\"outlinewidth\": 0, \"ticks\": \"\"}, \"type\": \"choropleth\"}], \"contour\": [{\"colorbar\": {\"outlinewidth\": 0, \"ticks\": \"\"}, \"colorscale\": [[0.0, \"#0d0887\"], [0.1111111111111111, \"#46039f\"], [0.2222222222222222, \"#7201a8\"], [0.3333333333333333, \"#9c179e\"], [0.4444444444444444, \"#bd3786\"], [0.5555555555555556, \"#d8576b\"], [0.6666666666666666, \"#ed7953\"], [0.7777777777777778, \"#fb9f3a\"], [0.8888888888888888, \"#fdca26\"], [1.0, \"#f0f921\"]], \"type\": \"contour\"}], \"contourcarpet\": [{\"colorbar\": {\"outlinewidth\": 0, \"ticks\": \"\"}, \"type\": \"contourcarpet\"}], \"heatmap\": [{\"colorbar\": {\"outlinewidth\": 0, \"ticks\": \"\"}, \"colorscale\": [[0.0, \"#0d0887\"], [0.1111111111111111, \"#46039f\"], [0.2222222222222222, \"#7201a8\"], [0.3333333333333333, \"#9c179e\"], [0.4444444444444444, \"#bd3786\"], [0.5555555555555556, \"#d8576b\"], [0.6666666666666666, \"#ed7953\"], [0.7777777777777778, \"#fb9f3a\"], [0.8888888888888888, \"#fdca26\"], [1.0, \"#f0f921\"]], \"type\": \"heatmap\"}], \"heatmapgl\": [{\"colorbar\": {\"outlinewidth\": 0, \"ticks\": \"\"}, \"colorscale\": [[0.0, \"#0d0887\"], [0.1111111111111111, \"#46039f\"], [0.2222222222222222, \"#7201a8\"], [0.3333333333333333, \"#9c179e\"], [0.4444444444444444, \"#bd3786\"], [0.5555555555555556, \"#d8576b\"], [0.6666666666666666, \"#ed7953\"], [0.7777777777777778, \"#fb9f3a\"], [0.8888888888888888, \"#fdca26\"], [1.0, \"#f0f921\"]], \"type\": \"heatmapgl\"}], \"histogram\": [{\"marker\": {\"colorbar\": {\"outlinewidth\": 0, \"ticks\": \"\"}}, \"type\": \"histogram\"}], \"histogram2d\": [{\"colorbar\": {\"outlinewidth\": 0, \"ticks\": \"\"}, \"colorscale\": [[0.0, \"#0d0887\"], [0.1111111111111111, \"#46039f\"], [0.2222222222222222, \"#7201a8\"], [0.3333333333333333, \"#9c179e\"], [0.4444444444444444, \"#bd3786\"], [0.5555555555555556, \"#d8576b\"], [0.6666666666666666, \"#ed7953\"], [0.7777777777777778, \"#fb9f3a\"], [0.8888888888888888, \"#fdca26\"], [1.0, \"#f0f921\"]], \"type\": \"histogram2d\"}], \"histogram2dcontour\": [{\"colorbar\": {\"outlinewidth\": 0, \"ticks\": \"\"}, \"colorscale\": [[0.0, \"#0d0887\"], [0.1111111111111111, \"#46039f\"], [0.2222222222222222, \"#7201a8\"], [0.3333333333333333, \"#9c179e\"], [0.4444444444444444, \"#bd3786\"], [0.5555555555555556, \"#d8576b\"], [0.6666666666666666, \"#ed7953\"], [0.7777777777777778, \"#fb9f3a\"], [0.8888888888888888, \"#fdca26\"], [1.0, \"#f0f921\"]], \"type\": \"histogram2dcontour\"}], \"mesh3d\": [{\"colorbar\": {\"outlinewidth\": 0, \"ticks\": \"\"}, \"type\": \"mesh3d\"}], \"parcoords\": [{\"line\": {\"colorbar\": {\"outlinewidth\": 0, \"ticks\": \"\"}}, \"type\": \"parcoords\"}], \"pie\": [{\"automargin\": true, \"type\": \"pie\"}], \"scatter\": [{\"marker\": {\"colorbar\": {\"outlinewidth\": 0, \"ticks\": \"\"}}, \"type\": \"scatter\"}], \"scatter3d\": [{\"line\": {\"colorbar\": {\"outlinewidth\": 0, \"ticks\": \"\"}}, \"marker\": {\"colorbar\": {\"outlinewidth\": 0, \"ticks\": \"\"}}, \"type\": \"scatter3d\"}], \"scattercarpet\": [{\"marker\": {\"colorbar\": {\"outlinewidth\": 0, \"ticks\": \"\"}}, \"type\": \"scattercarpet\"}], \"scattergeo\": [{\"marker\": {\"colorbar\": {\"outlinewidth\": 0, \"ticks\": \"\"}}, \"type\": \"scattergeo\"}], \"scattergl\": [{\"marker\": {\"colorbar\": {\"outlinewidth\": 0, \"ticks\": \"\"}}, \"type\": \"scattergl\"}], \"scattermapbox\": [{\"marker\": {\"colorbar\": {\"outlinewidth\": 0, \"ticks\": \"\"}}, \"type\": \"scattermapbox\"}], \"scatterpolar\": [{\"marker\": {\"colorbar\": {\"outlinewidth\": 0, \"ticks\": \"\"}}, \"type\": \"scatterpolar\"}], \"scatterpolargl\": [{\"marker\": {\"colorbar\": {\"outlinewidth\": 0, \"ticks\": \"\"}}, \"type\": \"scatterpolargl\"}], \"scatterternary\": [{\"marker\": {\"colorbar\": {\"outlinewidth\": 0, \"ticks\": \"\"}}, \"type\": \"scatterternary\"}], \"surface\": [{\"colorbar\": {\"outlinewidth\": 0, \"ticks\": \"\"}, \"colorscale\": [[0.0, \"#0d0887\"], [0.1111111111111111, \"#46039f\"], [0.2222222222222222, \"#7201a8\"], [0.3333333333333333, \"#9c179e\"], [0.4444444444444444, \"#bd3786\"], [0.5555555555555556, \"#d8576b\"], [0.6666666666666666, \"#ed7953\"], [0.7777777777777778, \"#fb9f3a\"], [0.8888888888888888, \"#fdca26\"], [1.0, \"#f0f921\"]], \"type\": \"surface\"}], \"table\": [{\"cells\": {\"fill\": {\"color\": \"#EBF0F8\"}, \"line\": {\"color\": \"white\"}}, \"header\": {\"fill\": {\"color\": \"#C8D4E3\"}, \"line\": {\"color\": \"white\"}}, \"type\": \"table\"}]}, \"layout\": {\"annotationdefaults\": {\"arrowcolor\": \"#2a3f5f\", \"arrowhead\": 0, \"arrowwidth\": 1}, \"coloraxis\": {\"colorbar\": {\"outlinewidth\": 0, \"ticks\": \"\"}}, \"colorscale\": {\"diverging\": [[0, \"#8e0152\"], [0.1, \"#c51b7d\"], [0.2, \"#de77ae\"], [0.3, \"#f1b6da\"], [0.4, \"#fde0ef\"], [0.5, \"#f7f7f7\"], [0.6, \"#e6f5d0\"], [0.7, \"#b8e186\"], [0.8, \"#7fbc41\"], [0.9, \"#4d9221\"], [1, \"#276419\"]], \"sequential\": [[0.0, \"#0d0887\"], [0.1111111111111111, \"#46039f\"], [0.2222222222222222, \"#7201a8\"], [0.3333333333333333, \"#9c179e\"], [0.4444444444444444, \"#bd3786\"], [0.5555555555555556, \"#d8576b\"], [0.6666666666666666, \"#ed7953\"], [0.7777777777777778, \"#fb9f3a\"], [0.8888888888888888, \"#fdca26\"], [1.0, \"#f0f921\"]], \"sequentialminus\": [[0.0, \"#0d0887\"], [0.1111111111111111, \"#46039f\"], [0.2222222222222222, \"#7201a8\"], [0.3333333333333333, \"#9c179e\"], [0.4444444444444444, \"#bd3786\"], [0.5555555555555556, \"#d8576b\"], [0.6666666666666666, \"#ed7953\"], [0.7777777777777778, \"#fb9f3a\"], [0.8888888888888888, \"#fdca26\"], [1.0, \"#f0f921\"]]}, \"colorway\": [\"#636efa\", \"#EF553B\", \"#00cc96\", \"#ab63fa\", \"#FFA15A\", \"#19d3f3\", \"#FF6692\", \"#B6E880\", \"#FF97FF\", \"#FECB52\"], \"font\": {\"color\": \"#2a3f5f\"}, \"geo\": {\"bgcolor\": \"white\", \"lakecolor\": \"white\", \"landcolor\": \"#E5ECF6\", \"showlakes\": true, \"showland\": true, \"subunitcolor\": \"white\"}, \"hoverlabel\": {\"align\": \"left\"}, \"hovermode\": \"closest\", \"mapbox\": {\"style\": \"light\"}, \"paper_bgcolor\": \"white\", \"plot_bgcolor\": \"#E5ECF6\", \"polar\": {\"angularaxis\": {\"gridcolor\": \"white\", \"linecolor\": \"white\", \"ticks\": \"\"}, \"bgcolor\": \"#E5ECF6\", \"radialaxis\": {\"gridcolor\": \"white\", \"linecolor\": \"white\", \"ticks\": \"\"}}, \"scene\": {\"xaxis\": {\"backgroundcolor\": \"#E5ECF6\", \"gridcolor\": \"white\", \"gridwidth\": 2, \"linecolor\": \"white\", \"showbackground\": true, \"ticks\": \"\", \"zerolinecolor\": \"white\"}, \"yaxis\": {\"backgroundcolor\": \"#E5ECF6\", \"gridcolor\": \"white\", \"gridwidth\": 2, \"linecolor\": \"white\", \"showbackground\": true, \"ticks\": \"\", \"zerolinecolor\": \"white\"}, \"zaxis\": {\"backgroundcolor\": \"#E5ECF6\", \"gridcolor\": \"white\", \"gridwidth\": 2, \"linecolor\": \"white\", \"showbackground\": true, \"ticks\": \"\", \"zerolinecolor\": \"white\"}}, \"shapedefaults\": {\"line\": {\"color\": \"#2a3f5f\"}}, \"ternary\": {\"aaxis\": {\"gridcolor\": \"white\", \"linecolor\": \"white\", \"ticks\": \"\"}, \"baxis\": {\"gridcolor\": \"white\", \"linecolor\": \"white\", \"ticks\": \"\"}, \"bgcolor\": \"#E5ECF6\", \"caxis\": {\"gridcolor\": \"white\", \"linecolor\": \"white\", \"ticks\": \"\"}}, \"title\": {\"x\": 0.05}, \"xaxis\": {\"automargin\": true, \"gridcolor\": \"white\", \"linecolor\": \"white\", \"ticks\": \"\", \"title\": {\"standoff\": 15}, \"zerolinecolor\": \"white\", \"zerolinewidth\": 2}, \"yaxis\": {\"automargin\": true, \"gridcolor\": \"white\", \"linecolor\": \"white\", \"ticks\": \"\", \"title\": {\"standoff\": 15}, \"zerolinecolor\": \"white\", \"zerolinewidth\": 2}}}, \"title\": {\"text\": \"D\\u00eda Jueves\"}, \"xaxis\": {\"rangeselector\": {\"buttons\": [{\"count\": 7, \"label\": \"1w\", \"step\": \"day\", \"stepmode\": \"backward\"}, {\"count\": 1, \"label\": \"1m\", \"step\": \"month\", \"stepmode\": \"backward\"}, {\"count\": 6, \"label\": \"6m\", \"step\": \"month\", \"stepmode\": \"backward\"}, {\"count\": 1, \"label\": \"YTD\", \"step\": \"year\", \"stepmode\": \"todate\"}, {\"count\": 1, \"label\": \"1y\", \"step\": \"year\", \"stepmode\": \"backward\"}, {\"step\": \"all\"}]}, \"showgrid\": true, \"type\": \"date\", \"zeroline\": false}, \"yaxis\": {\"autorange\": false, \"range\": [-1, 12], \"showgrid\": true, \"ticktext\": [\"Pabell\\u00f3n 4\", \"Pabell\\u00f3n 3\", \"Pabell\\u00f3n 6\", \"UCA 1\", \"UCA 3\", \"Pabell\\u00f3n 5\", \"Pabell\\u00f3n 7\", \"Pabell\\u00f3n 2\", \"UCA 2\", \"Pabell\\u00f3n 8\", \"Pabell\\u00f3n 1\"], \"tickvals\": [0, 1, 2, 3, 4, 5, 6, 7, 8, 9, 10], \"zeroline\": false}},\n",
       "                        {\"responsive\": true}\n",
       "                    ).then(function(){\n",
       "                            \n",
       "var gd = document.getElementById('8c636f0f-0dd8-40b5-b6ba-5b51f8d76115');\n",
       "var x = new MutationObserver(function (mutations, observer) {{\n",
       "        var display = window.getComputedStyle(gd).display;\n",
       "        if (!display || display === 'none') {{\n",
       "            console.log([gd, 'removed!']);\n",
       "            Plotly.purge(gd);\n",
       "            observer.disconnect();\n",
       "        }}\n",
       "}});\n",
       "\n",
       "// Listen for the removal of the full notebook cells\n",
       "var notebookContainer = gd.closest('#notebook-container');\n",
       "if (notebookContainer) {{\n",
       "    x.observe(notebookContainer, {childList: true});\n",
       "}}\n",
       "\n",
       "// Listen for the clearing of the current output cell\n",
       "var outputEl = gd.closest('.output');\n",
       "if (outputEl) {{\n",
       "    x.observe(outputEl, {childList: true});\n",
       "}}\n",
       "\n",
       "                        })\n",
       "                };\n",
       "                });\n",
       "            </script>\n",
       "        </div>"
      ]
     },
     "metadata": {},
     "output_type": "display_data"
    }
   ],
   "source": [
    "fig_3 = ff.create_gantt(df3, colors=colors_3, index_col='Resource', show_colorbar=True, title='Día Jueves',showgrid_x=True, showgrid_y=True,\n",
    "                      group_tasks=True)\n",
    "fig_3.show()\n",
    "\n"
   ]
  },
  {
   "cell_type": "code",
   "execution_count": 111,
   "metadata": {},
   "outputs": [
    {
     "data": {
      "application/vnd.plotly.v1+json": {
       "config": {
        "plotlyServerURL": "https://plot.ly"
       },
       "data": [
        {
         "fill": "toself",
         "fillcolor": "rgb(175, 0, 0)",
         "hoverinfo": "name",
         "legendgroup": "rgb(175, 0, 0)",
         "mode": "none",
         "name": "Hombro VSC",
         "type": "scatter",
         "x": [
          "2020-01-01T13:30:00",
          "2020-01-01T21:00:00",
          "2020-01-01T21:00:00",
          "2020-01-01T13:30:00"
         ],
         "y": [
          1.8,
          1.8,
          2.2,
          2.2
         ]
        },
        {
         "fill": "toself",
         "fillcolor": "rgb(220, 0, 0)",
         "hoverinfo": "name",
         "legendgroup": "rgb(220, 0, 0)",
         "mode": "none",
         "name": "Maxilo Ley",
         "type": "scatter",
         "x": [
          "2020-01-01T08:00:00",
          "2020-01-01T14:00:00",
          "2020-01-01T14:00:00",
          "2020-01-01T08:00:00",
          "2020-01-01T08:00:00",
          "2020-01-01T08:30:00",
          "2020-01-01T17:30:00",
          "2020-01-01T17:30:00",
          "2020-01-01T08:30:00",
          "2020-01-01T08:30:00",
          "2020-01-01T08:00:00",
          "2020-01-01T17:00:00",
          "2020-01-01T17:00:00",
          "2020-01-01T08:00:00"
         ],
         "y": [
          9.8,
          9.8,
          10.2,
          10.2,
          null,
          3.8,
          3.8,
          4.2,
          4.2,
          null,
          2.8,
          2.8,
          3.2,
          3.2
         ]
        },
        {
         "fill": "toself",
         "fillcolor": "rgb(220, 110, 110)",
         "hoverinfo": "name",
         "legendgroup": "rgb(220, 110, 110)",
         "mode": "none",
         "name": "Neuro VSC",
         "type": "scatter",
         "x": [
          "2020-01-01T12:00:00",
          "2020-01-01T20:30:00",
          "2020-01-01T20:30:00",
          "2020-01-01T12:00:00"
         ],
         "y": [
          -0.2,
          -0.2,
          0.2,
          0.2
         ]
        },
        {
         "fill": "toself",
         "fillcolor": "rgb(220, 220, 0)",
         "hoverinfo": "name",
         "legendgroup": "rgb(220, 220, 0)",
         "mode": "none",
         "name": "CPQ Ley",
         "type": "scatter",
         "x": [
          "2020-01-01T08:00:00",
          "2020-01-01T17:00:00",
          "2020-01-01T17:00:00",
          "2020-01-01T08:00:00",
          "2020-01-01T08:00:00",
          "2020-01-01T09:00:00",
          "2020-01-01T14:00:00",
          "2020-01-01T14:00:00",
          "2020-01-01T09:00:00",
          "2020-01-01T09:00:00",
          "2020-01-01T09:00:00",
          "2020-01-01T18:00:00",
          "2020-01-01T18:00:00",
          "2020-01-01T09:00:00"
         ],
         "y": [
          7.8,
          7.8,
          8.2,
          8.2,
          null,
          6.8,
          6.8,
          7.2,
          7.2,
          null,
          5.8,
          5.8,
          6.2,
          6.2
         ]
        },
        {
         "fill": "toself",
         "fillcolor": "rgb(220, 55, 0)",
         "hoverinfo": "name",
         "legendgroup": "rgb(220, 55, 0)",
         "mode": "none",
         "name": "EESS VSC",
         "type": "scatter",
         "x": [
          "2020-01-01T10:00:00",
          "2020-01-01T19:00:00",
          "2020-01-01T19:00:00",
          "2020-01-01T10:00:00"
         ],
         "y": [
          8.8,
          8.8,
          9.2,
          9.2
         ]
        },
        {
         "fill": "toself",
         "fillcolor": "rgb(220, 55, 110)",
         "hoverinfo": "name",
         "legendgroup": "rgb(220, 55, 110)",
         "mode": "none",
         "name": "Libre VSC",
         "type": "scatter",
         "x": [
          "2020-01-01T08:30:00",
          "2020-01-01T17:30:00",
          "2020-01-01T17:30:00",
          "2020-01-01T08:30:00",
          "2020-01-01T08:30:00",
          "2020-01-01T14:00:00",
          "2020-01-01T21:00:00",
          "2020-01-01T21:00:00",
          "2020-01-01T14:00:00"
         ],
         "y": [
          0.8,
          0.8,
          1.2,
          1.2,
          null,
          6.8,
          6.8,
          7.2,
          7.2
         ]
        },
        {
         "fill": "toself",
         "fillcolor": "rgb(55, 0, 0)",
         "hoverinfo": "name",
         "legendgroup": "rgb(55, 0, 0)",
         "mode": "none",
         "name": "Columna VSC",
         "type": "scatter",
         "x": [
          "2020-01-01T10:30:00",
          "2020-01-01T19:30:00",
          "2020-01-01T19:30:00",
          "2020-01-01T10:30:00"
         ],
         "y": [
          4.8,
          4.8,
          5.2,
          5.2
         ]
        },
        {
         "legendgroup": "rgb(175, 0, 0)",
         "marker": {
          "color": "rgb(175, 0, 0)",
          "opacity": 0,
          "size": 1
         },
         "mode": "markers",
         "name": "",
         "showlegend": false,
         "text": [
          null,
          null
         ],
         "type": "scatter",
         "x": [
          "2020-01-01T13:30:00",
          "2020-01-01T21:00:00"
         ],
         "y": [
          2,
          2
         ]
        },
        {
         "legendgroup": "rgb(220, 0, 0)",
         "marker": {
          "color": "rgb(220, 0, 0)",
          "opacity": 0,
          "size": 1
         },
         "mode": "markers",
         "name": "",
         "showlegend": false,
         "text": [
          null,
          null,
          null,
          null,
          null,
          null
         ],
         "type": "scatter",
         "x": [
          "2020-01-01T08:00:00",
          "2020-01-01T14:00:00",
          "2020-01-01T08:30:00",
          "2020-01-01T17:30:00",
          "2020-01-01T08:00:00",
          "2020-01-01T17:00:00"
         ],
         "y": [
          10,
          10,
          4,
          4,
          3,
          3
         ]
        },
        {
         "legendgroup": "rgb(220, 110, 110)",
         "marker": {
          "color": "rgb(220, 110, 110)",
          "opacity": 0,
          "size": 1
         },
         "mode": "markers",
         "name": "",
         "showlegend": false,
         "text": [
          null,
          null
         ],
         "type": "scatter",
         "x": [
          "2020-01-01T12:00:00",
          "2020-01-01T20:30:00"
         ],
         "y": [
          0,
          0
         ]
        },
        {
         "legendgroup": "rgb(220, 220, 0)",
         "marker": {
          "color": "rgb(220, 220, 0)",
          "opacity": 0,
          "size": 1
         },
         "mode": "markers",
         "name": "",
         "showlegend": false,
         "text": [
          null,
          null,
          null,
          null,
          null,
          null
         ],
         "type": "scatter",
         "x": [
          "2020-01-01T08:00:00",
          "2020-01-01T17:00:00",
          "2020-01-01T09:00:00",
          "2020-01-01T14:00:00",
          "2020-01-01T09:00:00",
          "2020-01-01T18:00:00"
         ],
         "y": [
          8,
          8,
          7,
          7,
          6,
          6
         ]
        },
        {
         "legendgroup": "rgb(220, 55, 0)",
         "marker": {
          "color": "rgb(220, 55, 0)",
          "opacity": 0,
          "size": 1
         },
         "mode": "markers",
         "name": "",
         "showlegend": false,
         "text": [
          null,
          null
         ],
         "type": "scatter",
         "x": [
          "2020-01-01T10:00:00",
          "2020-01-01T19:00:00"
         ],
         "y": [
          9,
          9
         ]
        },
        {
         "legendgroup": "rgb(220, 55, 110)",
         "marker": {
          "color": "rgb(220, 55, 110)",
          "opacity": 0,
          "size": 1
         },
         "mode": "markers",
         "name": "",
         "showlegend": false,
         "text": [
          null,
          null,
          null,
          null
         ],
         "type": "scatter",
         "x": [
          "2020-01-01T08:30:00",
          "2020-01-01T17:30:00",
          "2020-01-01T14:00:00",
          "2020-01-01T21:00:00"
         ],
         "y": [
          1,
          1,
          7,
          7
         ]
        },
        {
         "legendgroup": "rgb(55, 0, 0)",
         "marker": {
          "color": "rgb(55, 0, 0)",
          "opacity": 0,
          "size": 1
         },
         "mode": "markers",
         "name": "",
         "showlegend": false,
         "text": [
          null,
          null
         ],
         "type": "scatter",
         "x": [
          "2020-01-01T10:30:00",
          "2020-01-01T19:30:00"
         ],
         "y": [
          5,
          5
         ]
        }
       ],
       "layout": {
        "height": 600,
        "hovermode": "closest",
        "showlegend": true,
        "template": {
         "data": {
          "bar": [
           {
            "error_x": {
             "color": "#2a3f5f"
            },
            "error_y": {
             "color": "#2a3f5f"
            },
            "marker": {
             "line": {
              "color": "#E5ECF6",
              "width": 0.5
             }
            },
            "type": "bar"
           }
          ],
          "barpolar": [
           {
            "marker": {
             "line": {
              "color": "#E5ECF6",
              "width": 0.5
             }
            },
            "type": "barpolar"
           }
          ],
          "carpet": [
           {
            "aaxis": {
             "endlinecolor": "#2a3f5f",
             "gridcolor": "white",
             "linecolor": "white",
             "minorgridcolor": "white",
             "startlinecolor": "#2a3f5f"
            },
            "baxis": {
             "endlinecolor": "#2a3f5f",
             "gridcolor": "white",
             "linecolor": "white",
             "minorgridcolor": "white",
             "startlinecolor": "#2a3f5f"
            },
            "type": "carpet"
           }
          ],
          "choropleth": [
           {
            "colorbar": {
             "outlinewidth": 0,
             "ticks": ""
            },
            "type": "choropleth"
           }
          ],
          "contour": [
           {
            "colorbar": {
             "outlinewidth": 0,
             "ticks": ""
            },
            "colorscale": [
             [
              0,
              "#0d0887"
             ],
             [
              0.1111111111111111,
              "#46039f"
             ],
             [
              0.2222222222222222,
              "#7201a8"
             ],
             [
              0.3333333333333333,
              "#9c179e"
             ],
             [
              0.4444444444444444,
              "#bd3786"
             ],
             [
              0.5555555555555556,
              "#d8576b"
             ],
             [
              0.6666666666666666,
              "#ed7953"
             ],
             [
              0.7777777777777778,
              "#fb9f3a"
             ],
             [
              0.8888888888888888,
              "#fdca26"
             ],
             [
              1,
              "#f0f921"
             ]
            ],
            "type": "contour"
           }
          ],
          "contourcarpet": [
           {
            "colorbar": {
             "outlinewidth": 0,
             "ticks": ""
            },
            "type": "contourcarpet"
           }
          ],
          "heatmap": [
           {
            "colorbar": {
             "outlinewidth": 0,
             "ticks": ""
            },
            "colorscale": [
             [
              0,
              "#0d0887"
             ],
             [
              0.1111111111111111,
              "#46039f"
             ],
             [
              0.2222222222222222,
              "#7201a8"
             ],
             [
              0.3333333333333333,
              "#9c179e"
             ],
             [
              0.4444444444444444,
              "#bd3786"
             ],
             [
              0.5555555555555556,
              "#d8576b"
             ],
             [
              0.6666666666666666,
              "#ed7953"
             ],
             [
              0.7777777777777778,
              "#fb9f3a"
             ],
             [
              0.8888888888888888,
              "#fdca26"
             ],
             [
              1,
              "#f0f921"
             ]
            ],
            "type": "heatmap"
           }
          ],
          "heatmapgl": [
           {
            "colorbar": {
             "outlinewidth": 0,
             "ticks": ""
            },
            "colorscale": [
             [
              0,
              "#0d0887"
             ],
             [
              0.1111111111111111,
              "#46039f"
             ],
             [
              0.2222222222222222,
              "#7201a8"
             ],
             [
              0.3333333333333333,
              "#9c179e"
             ],
             [
              0.4444444444444444,
              "#bd3786"
             ],
             [
              0.5555555555555556,
              "#d8576b"
             ],
             [
              0.6666666666666666,
              "#ed7953"
             ],
             [
              0.7777777777777778,
              "#fb9f3a"
             ],
             [
              0.8888888888888888,
              "#fdca26"
             ],
             [
              1,
              "#f0f921"
             ]
            ],
            "type": "heatmapgl"
           }
          ],
          "histogram": [
           {
            "marker": {
             "colorbar": {
              "outlinewidth": 0,
              "ticks": ""
             }
            },
            "type": "histogram"
           }
          ],
          "histogram2d": [
           {
            "colorbar": {
             "outlinewidth": 0,
             "ticks": ""
            },
            "colorscale": [
             [
              0,
              "#0d0887"
             ],
             [
              0.1111111111111111,
              "#46039f"
             ],
             [
              0.2222222222222222,
              "#7201a8"
             ],
             [
              0.3333333333333333,
              "#9c179e"
             ],
             [
              0.4444444444444444,
              "#bd3786"
             ],
             [
              0.5555555555555556,
              "#d8576b"
             ],
             [
              0.6666666666666666,
              "#ed7953"
             ],
             [
              0.7777777777777778,
              "#fb9f3a"
             ],
             [
              0.8888888888888888,
              "#fdca26"
             ],
             [
              1,
              "#f0f921"
             ]
            ],
            "type": "histogram2d"
           }
          ],
          "histogram2dcontour": [
           {
            "colorbar": {
             "outlinewidth": 0,
             "ticks": ""
            },
            "colorscale": [
             [
              0,
              "#0d0887"
             ],
             [
              0.1111111111111111,
              "#46039f"
             ],
             [
              0.2222222222222222,
              "#7201a8"
             ],
             [
              0.3333333333333333,
              "#9c179e"
             ],
             [
              0.4444444444444444,
              "#bd3786"
             ],
             [
              0.5555555555555556,
              "#d8576b"
             ],
             [
              0.6666666666666666,
              "#ed7953"
             ],
             [
              0.7777777777777778,
              "#fb9f3a"
             ],
             [
              0.8888888888888888,
              "#fdca26"
             ],
             [
              1,
              "#f0f921"
             ]
            ],
            "type": "histogram2dcontour"
           }
          ],
          "mesh3d": [
           {
            "colorbar": {
             "outlinewidth": 0,
             "ticks": ""
            },
            "type": "mesh3d"
           }
          ],
          "parcoords": [
           {
            "line": {
             "colorbar": {
              "outlinewidth": 0,
              "ticks": ""
             }
            },
            "type": "parcoords"
           }
          ],
          "pie": [
           {
            "automargin": true,
            "type": "pie"
           }
          ],
          "scatter": [
           {
            "marker": {
             "colorbar": {
              "outlinewidth": 0,
              "ticks": ""
             }
            },
            "type": "scatter"
           }
          ],
          "scatter3d": [
           {
            "line": {
             "colorbar": {
              "outlinewidth": 0,
              "ticks": ""
             }
            },
            "marker": {
             "colorbar": {
              "outlinewidth": 0,
              "ticks": ""
             }
            },
            "type": "scatter3d"
           }
          ],
          "scattercarpet": [
           {
            "marker": {
             "colorbar": {
              "outlinewidth": 0,
              "ticks": ""
             }
            },
            "type": "scattercarpet"
           }
          ],
          "scattergeo": [
           {
            "marker": {
             "colorbar": {
              "outlinewidth": 0,
              "ticks": ""
             }
            },
            "type": "scattergeo"
           }
          ],
          "scattergl": [
           {
            "marker": {
             "colorbar": {
              "outlinewidth": 0,
              "ticks": ""
             }
            },
            "type": "scattergl"
           }
          ],
          "scattermapbox": [
           {
            "marker": {
             "colorbar": {
              "outlinewidth": 0,
              "ticks": ""
             }
            },
            "type": "scattermapbox"
           }
          ],
          "scatterpolar": [
           {
            "marker": {
             "colorbar": {
              "outlinewidth": 0,
              "ticks": ""
             }
            },
            "type": "scatterpolar"
           }
          ],
          "scatterpolargl": [
           {
            "marker": {
             "colorbar": {
              "outlinewidth": 0,
              "ticks": ""
             }
            },
            "type": "scatterpolargl"
           }
          ],
          "scatterternary": [
           {
            "marker": {
             "colorbar": {
              "outlinewidth": 0,
              "ticks": ""
             }
            },
            "type": "scatterternary"
           }
          ],
          "surface": [
           {
            "colorbar": {
             "outlinewidth": 0,
             "ticks": ""
            },
            "colorscale": [
             [
              0,
              "#0d0887"
             ],
             [
              0.1111111111111111,
              "#46039f"
             ],
             [
              0.2222222222222222,
              "#7201a8"
             ],
             [
              0.3333333333333333,
              "#9c179e"
             ],
             [
              0.4444444444444444,
              "#bd3786"
             ],
             [
              0.5555555555555556,
              "#d8576b"
             ],
             [
              0.6666666666666666,
              "#ed7953"
             ],
             [
              0.7777777777777778,
              "#fb9f3a"
             ],
             [
              0.8888888888888888,
              "#fdca26"
             ],
             [
              1,
              "#f0f921"
             ]
            ],
            "type": "surface"
           }
          ],
          "table": [
           {
            "cells": {
             "fill": {
              "color": "#EBF0F8"
             },
             "line": {
              "color": "white"
             }
            },
            "header": {
             "fill": {
              "color": "#C8D4E3"
             },
             "line": {
              "color": "white"
             }
            },
            "type": "table"
           }
          ]
         },
         "layout": {
          "annotationdefaults": {
           "arrowcolor": "#2a3f5f",
           "arrowhead": 0,
           "arrowwidth": 1
          },
          "coloraxis": {
           "colorbar": {
            "outlinewidth": 0,
            "ticks": ""
           }
          },
          "colorscale": {
           "diverging": [
            [
             0,
             "#8e0152"
            ],
            [
             0.1,
             "#c51b7d"
            ],
            [
             0.2,
             "#de77ae"
            ],
            [
             0.3,
             "#f1b6da"
            ],
            [
             0.4,
             "#fde0ef"
            ],
            [
             0.5,
             "#f7f7f7"
            ],
            [
             0.6,
             "#e6f5d0"
            ],
            [
             0.7,
             "#b8e186"
            ],
            [
             0.8,
             "#7fbc41"
            ],
            [
             0.9,
             "#4d9221"
            ],
            [
             1,
             "#276419"
            ]
           ],
           "sequential": [
            [
             0,
             "#0d0887"
            ],
            [
             0.1111111111111111,
             "#46039f"
            ],
            [
             0.2222222222222222,
             "#7201a8"
            ],
            [
             0.3333333333333333,
             "#9c179e"
            ],
            [
             0.4444444444444444,
             "#bd3786"
            ],
            [
             0.5555555555555556,
             "#d8576b"
            ],
            [
             0.6666666666666666,
             "#ed7953"
            ],
            [
             0.7777777777777778,
             "#fb9f3a"
            ],
            [
             0.8888888888888888,
             "#fdca26"
            ],
            [
             1,
             "#f0f921"
            ]
           ],
           "sequentialminus": [
            [
             0,
             "#0d0887"
            ],
            [
             0.1111111111111111,
             "#46039f"
            ],
            [
             0.2222222222222222,
             "#7201a8"
            ],
            [
             0.3333333333333333,
             "#9c179e"
            ],
            [
             0.4444444444444444,
             "#bd3786"
            ],
            [
             0.5555555555555556,
             "#d8576b"
            ],
            [
             0.6666666666666666,
             "#ed7953"
            ],
            [
             0.7777777777777778,
             "#fb9f3a"
            ],
            [
             0.8888888888888888,
             "#fdca26"
            ],
            [
             1,
             "#f0f921"
            ]
           ]
          },
          "colorway": [
           "#636efa",
           "#EF553B",
           "#00cc96",
           "#ab63fa",
           "#FFA15A",
           "#19d3f3",
           "#FF6692",
           "#B6E880",
           "#FF97FF",
           "#FECB52"
          ],
          "font": {
           "color": "#2a3f5f"
          },
          "geo": {
           "bgcolor": "white",
           "lakecolor": "white",
           "landcolor": "#E5ECF6",
           "showlakes": true,
           "showland": true,
           "subunitcolor": "white"
          },
          "hoverlabel": {
           "align": "left"
          },
          "hovermode": "closest",
          "mapbox": {
           "style": "light"
          },
          "paper_bgcolor": "white",
          "plot_bgcolor": "#E5ECF6",
          "polar": {
           "angularaxis": {
            "gridcolor": "white",
            "linecolor": "white",
            "ticks": ""
           },
           "bgcolor": "#E5ECF6",
           "radialaxis": {
            "gridcolor": "white",
            "linecolor": "white",
            "ticks": ""
           }
          },
          "scene": {
           "xaxis": {
            "backgroundcolor": "#E5ECF6",
            "gridcolor": "white",
            "gridwidth": 2,
            "linecolor": "white",
            "showbackground": true,
            "ticks": "",
            "zerolinecolor": "white"
           },
           "yaxis": {
            "backgroundcolor": "#E5ECF6",
            "gridcolor": "white",
            "gridwidth": 2,
            "linecolor": "white",
            "showbackground": true,
            "ticks": "",
            "zerolinecolor": "white"
           },
           "zaxis": {
            "backgroundcolor": "#E5ECF6",
            "gridcolor": "white",
            "gridwidth": 2,
            "linecolor": "white",
            "showbackground": true,
            "ticks": "",
            "zerolinecolor": "white"
           }
          },
          "shapedefaults": {
           "line": {
            "color": "#2a3f5f"
           }
          },
          "ternary": {
           "aaxis": {
            "gridcolor": "white",
            "linecolor": "white",
            "ticks": ""
           },
           "baxis": {
            "gridcolor": "white",
            "linecolor": "white",
            "ticks": ""
           },
           "bgcolor": "#E5ECF6",
           "caxis": {
            "gridcolor": "white",
            "linecolor": "white",
            "ticks": ""
           }
          },
          "title": {
           "x": 0.05
          },
          "xaxis": {
           "automargin": true,
           "gridcolor": "white",
           "linecolor": "white",
           "ticks": "",
           "title": {
            "standoff": 15
           },
           "zerolinecolor": "white",
           "zerolinewidth": 2
          },
          "yaxis": {
           "automargin": true,
           "gridcolor": "white",
           "linecolor": "white",
           "ticks": "",
           "title": {
            "standoff": 15
           },
           "zerolinecolor": "white",
           "zerolinewidth": 2
          }
         }
        },
        "title": {
         "text": "Día Viernes"
        },
        "xaxis": {
         "rangeselector": {
          "buttons": [
           {
            "count": 7,
            "label": "1w",
            "step": "day",
            "stepmode": "backward"
           },
           {
            "count": 1,
            "label": "1m",
            "step": "month",
            "stepmode": "backward"
           },
           {
            "count": 6,
            "label": "6m",
            "step": "month",
            "stepmode": "backward"
           },
           {
            "count": 1,
            "label": "YTD",
            "step": "year",
            "stepmode": "todate"
           },
           {
            "count": 1,
            "label": "1y",
            "step": "year",
            "stepmode": "backward"
           },
           {
            "step": "all"
           }
          ]
         },
         "showgrid": true,
         "type": "date",
         "zeroline": false
        },
        "yaxis": {
         "autorange": false,
         "range": [
          -1,
          12
         ],
         "showgrid": true,
         "ticktext": [
          "Pabellón 6",
          "Pabellón 1",
          "UCA 2",
          "Pabellón 8",
          "Pabellón 3",
          "UCA 3",
          "Pabellón 5",
          "Pabellón 4",
          "Pabellón 2",
          "UCA 1",
          "Pabellón 7"
         ],
         "tickvals": [
          0,
          1,
          2,
          3,
          4,
          5,
          6,
          7,
          8,
          9,
          10
         ],
         "zeroline": false
        }
       }
      },
      "text/html": [
       "<div>\n",
       "        \n",
       "        \n",
       "            <div id=\"a80ad7a0-9e41-4979-91ea-bdc998c1f33d\" class=\"plotly-graph-div\" style=\"height:600px; width:100%;\"></div>\n",
       "            <script type=\"text/javascript\">\n",
       "                require([\"plotly\"], function(Plotly) {\n",
       "                    window.PLOTLYENV=window.PLOTLYENV || {};\n",
       "                    \n",
       "                if (document.getElementById(\"a80ad7a0-9e41-4979-91ea-bdc998c1f33d\")) {\n",
       "                    Plotly.newPlot(\n",
       "                        'a80ad7a0-9e41-4979-91ea-bdc998c1f33d',\n",
       "                        [{\"fill\": \"toself\", \"fillcolor\": \"rgb(175, 0, 0)\", \"hoverinfo\": \"name\", \"legendgroup\": \"rgb(175, 0, 0)\", \"mode\": \"none\", \"name\": \"Hombro VSC\", \"type\": \"scatter\", \"x\": [\"2020-01-01T13:30:00\", \"2020-01-01T21:00:00\", \"2020-01-01T21:00:00\", \"2020-01-01T13:30:00\"], \"y\": [1.8, 1.8, 2.2, 2.2]}, {\"fill\": \"toself\", \"fillcolor\": \"rgb(220, 0, 0)\", \"hoverinfo\": \"name\", \"legendgroup\": \"rgb(220, 0, 0)\", \"mode\": \"none\", \"name\": \"Maxilo Ley\", \"type\": \"scatter\", \"x\": [\"2020-01-01T08:00:00\", \"2020-01-01T14:00:00\", \"2020-01-01T14:00:00\", \"2020-01-01T08:00:00\", \"2020-01-01T08:00:00\", \"2020-01-01T08:30:00\", \"2020-01-01T17:30:00\", \"2020-01-01T17:30:00\", \"2020-01-01T08:30:00\", \"2020-01-01T08:30:00\", \"2020-01-01T08:00:00\", \"2020-01-01T17:00:00\", \"2020-01-01T17:00:00\", \"2020-01-01T08:00:00\"], \"y\": [9.8, 9.8, 10.2, 10.2, null, 3.8, 3.8, 4.2, 4.2, null, 2.8, 2.8, 3.2, 3.2]}, {\"fill\": \"toself\", \"fillcolor\": \"rgb(220, 110, 110)\", \"hoverinfo\": \"name\", \"legendgroup\": \"rgb(220, 110, 110)\", \"mode\": \"none\", \"name\": \"Neuro VSC\", \"type\": \"scatter\", \"x\": [\"2020-01-01T12:00:00\", \"2020-01-01T20:30:00\", \"2020-01-01T20:30:00\", \"2020-01-01T12:00:00\"], \"y\": [-0.2, -0.2, 0.2, 0.2]}, {\"fill\": \"toself\", \"fillcolor\": \"rgb(220, 220, 0)\", \"hoverinfo\": \"name\", \"legendgroup\": \"rgb(220, 220, 0)\", \"mode\": \"none\", \"name\": \"CPQ Ley\", \"type\": \"scatter\", \"x\": [\"2020-01-01T08:00:00\", \"2020-01-01T17:00:00\", \"2020-01-01T17:00:00\", \"2020-01-01T08:00:00\", \"2020-01-01T08:00:00\", \"2020-01-01T09:00:00\", \"2020-01-01T14:00:00\", \"2020-01-01T14:00:00\", \"2020-01-01T09:00:00\", \"2020-01-01T09:00:00\", \"2020-01-01T09:00:00\", \"2020-01-01T18:00:00\", \"2020-01-01T18:00:00\", \"2020-01-01T09:00:00\"], \"y\": [7.8, 7.8, 8.2, 8.2, null, 6.8, 6.8, 7.2, 7.2, null, 5.8, 5.8, 6.2, 6.2]}, {\"fill\": \"toself\", \"fillcolor\": \"rgb(220, 55, 0)\", \"hoverinfo\": \"name\", \"legendgroup\": \"rgb(220, 55, 0)\", \"mode\": \"none\", \"name\": \"EESS VSC\", \"type\": \"scatter\", \"x\": [\"2020-01-01T10:00:00\", \"2020-01-01T19:00:00\", \"2020-01-01T19:00:00\", \"2020-01-01T10:00:00\"], \"y\": [8.8, 8.8, 9.2, 9.2]}, {\"fill\": \"toself\", \"fillcolor\": \"rgb(220, 55, 110)\", \"hoverinfo\": \"name\", \"legendgroup\": \"rgb(220, 55, 110)\", \"mode\": \"none\", \"name\": \"Libre VSC\", \"type\": \"scatter\", \"x\": [\"2020-01-01T08:30:00\", \"2020-01-01T17:30:00\", \"2020-01-01T17:30:00\", \"2020-01-01T08:30:00\", \"2020-01-01T08:30:00\", \"2020-01-01T14:00:00\", \"2020-01-01T21:00:00\", \"2020-01-01T21:00:00\", \"2020-01-01T14:00:00\"], \"y\": [0.8, 0.8, 1.2, 1.2, null, 6.8, 6.8, 7.2, 7.2]}, {\"fill\": \"toself\", \"fillcolor\": \"rgb(55, 0, 0)\", \"hoverinfo\": \"name\", \"legendgroup\": \"rgb(55, 0, 0)\", \"mode\": \"none\", \"name\": \"Columna VSC\", \"type\": \"scatter\", \"x\": [\"2020-01-01T10:30:00\", \"2020-01-01T19:30:00\", \"2020-01-01T19:30:00\", \"2020-01-01T10:30:00\"], \"y\": [4.8, 4.8, 5.2, 5.2]}, {\"legendgroup\": \"rgb(175, 0, 0)\", \"marker\": {\"color\": \"rgb(175, 0, 0)\", \"opacity\": 0, \"size\": 1}, \"mode\": \"markers\", \"name\": \"\", \"showlegend\": false, \"text\": [null, null], \"type\": \"scatter\", \"x\": [\"2020-01-01T13:30:00\", \"2020-01-01T21:00:00\"], \"y\": [2, 2]}, {\"legendgroup\": \"rgb(220, 0, 0)\", \"marker\": {\"color\": \"rgb(220, 0, 0)\", \"opacity\": 0, \"size\": 1}, \"mode\": \"markers\", \"name\": \"\", \"showlegend\": false, \"text\": [null, null, null, null, null, null], \"type\": \"scatter\", \"x\": [\"2020-01-01T08:00:00\", \"2020-01-01T14:00:00\", \"2020-01-01T08:30:00\", \"2020-01-01T17:30:00\", \"2020-01-01T08:00:00\", \"2020-01-01T17:00:00\"], \"y\": [10, 10, 4, 4, 3, 3]}, {\"legendgroup\": \"rgb(220, 110, 110)\", \"marker\": {\"color\": \"rgb(220, 110, 110)\", \"opacity\": 0, \"size\": 1}, \"mode\": \"markers\", \"name\": \"\", \"showlegend\": false, \"text\": [null, null], \"type\": \"scatter\", \"x\": [\"2020-01-01T12:00:00\", \"2020-01-01T20:30:00\"], \"y\": [0, 0]}, {\"legendgroup\": \"rgb(220, 220, 0)\", \"marker\": {\"color\": \"rgb(220, 220, 0)\", \"opacity\": 0, \"size\": 1}, \"mode\": \"markers\", \"name\": \"\", \"showlegend\": false, \"text\": [null, null, null, null, null, null], \"type\": \"scatter\", \"x\": [\"2020-01-01T08:00:00\", \"2020-01-01T17:00:00\", \"2020-01-01T09:00:00\", \"2020-01-01T14:00:00\", \"2020-01-01T09:00:00\", \"2020-01-01T18:00:00\"], \"y\": [8, 8, 7, 7, 6, 6]}, {\"legendgroup\": \"rgb(220, 55, 0)\", \"marker\": {\"color\": \"rgb(220, 55, 0)\", \"opacity\": 0, \"size\": 1}, \"mode\": \"markers\", \"name\": \"\", \"showlegend\": false, \"text\": [null, null], \"type\": \"scatter\", \"x\": [\"2020-01-01T10:00:00\", \"2020-01-01T19:00:00\"], \"y\": [9, 9]}, {\"legendgroup\": \"rgb(220, 55, 110)\", \"marker\": {\"color\": \"rgb(220, 55, 110)\", \"opacity\": 0, \"size\": 1}, \"mode\": \"markers\", \"name\": \"\", \"showlegend\": false, \"text\": [null, null, null, null], \"type\": \"scatter\", \"x\": [\"2020-01-01T08:30:00\", \"2020-01-01T17:30:00\", \"2020-01-01T14:00:00\", \"2020-01-01T21:00:00\"], \"y\": [1, 1, 7, 7]}, {\"legendgroup\": \"rgb(55, 0, 0)\", \"marker\": {\"color\": \"rgb(55, 0, 0)\", \"opacity\": 0, \"size\": 1}, \"mode\": \"markers\", \"name\": \"\", \"showlegend\": false, \"text\": [null, null], \"type\": \"scatter\", \"x\": [\"2020-01-01T10:30:00\", \"2020-01-01T19:30:00\"], \"y\": [5, 5]}],\n",
       "                        {\"height\": 600, \"hovermode\": \"closest\", \"showlegend\": true, \"template\": {\"data\": {\"bar\": [{\"error_x\": {\"color\": \"#2a3f5f\"}, \"error_y\": {\"color\": \"#2a3f5f\"}, \"marker\": {\"line\": {\"color\": \"#E5ECF6\", \"width\": 0.5}}, \"type\": \"bar\"}], \"barpolar\": [{\"marker\": {\"line\": {\"color\": \"#E5ECF6\", \"width\": 0.5}}, \"type\": \"barpolar\"}], \"carpet\": [{\"aaxis\": {\"endlinecolor\": \"#2a3f5f\", \"gridcolor\": \"white\", \"linecolor\": \"white\", \"minorgridcolor\": \"white\", \"startlinecolor\": \"#2a3f5f\"}, \"baxis\": {\"endlinecolor\": \"#2a3f5f\", \"gridcolor\": \"white\", \"linecolor\": \"white\", \"minorgridcolor\": \"white\", \"startlinecolor\": \"#2a3f5f\"}, \"type\": \"carpet\"}], \"choropleth\": [{\"colorbar\": {\"outlinewidth\": 0, \"ticks\": \"\"}, \"type\": \"choropleth\"}], \"contour\": [{\"colorbar\": {\"outlinewidth\": 0, \"ticks\": \"\"}, \"colorscale\": [[0.0, \"#0d0887\"], [0.1111111111111111, \"#46039f\"], [0.2222222222222222, \"#7201a8\"], [0.3333333333333333, \"#9c179e\"], [0.4444444444444444, \"#bd3786\"], [0.5555555555555556, \"#d8576b\"], [0.6666666666666666, \"#ed7953\"], [0.7777777777777778, \"#fb9f3a\"], [0.8888888888888888, \"#fdca26\"], [1.0, \"#f0f921\"]], \"type\": \"contour\"}], \"contourcarpet\": [{\"colorbar\": {\"outlinewidth\": 0, \"ticks\": \"\"}, \"type\": \"contourcarpet\"}], \"heatmap\": [{\"colorbar\": {\"outlinewidth\": 0, \"ticks\": \"\"}, \"colorscale\": [[0.0, \"#0d0887\"], [0.1111111111111111, \"#46039f\"], [0.2222222222222222, \"#7201a8\"], [0.3333333333333333, \"#9c179e\"], [0.4444444444444444, \"#bd3786\"], [0.5555555555555556, \"#d8576b\"], [0.6666666666666666, \"#ed7953\"], [0.7777777777777778, \"#fb9f3a\"], [0.8888888888888888, \"#fdca26\"], [1.0, \"#f0f921\"]], \"type\": \"heatmap\"}], \"heatmapgl\": [{\"colorbar\": {\"outlinewidth\": 0, \"ticks\": \"\"}, \"colorscale\": [[0.0, \"#0d0887\"], [0.1111111111111111, \"#46039f\"], [0.2222222222222222, \"#7201a8\"], [0.3333333333333333, \"#9c179e\"], [0.4444444444444444, \"#bd3786\"], [0.5555555555555556, \"#d8576b\"], [0.6666666666666666, \"#ed7953\"], [0.7777777777777778, \"#fb9f3a\"], [0.8888888888888888, \"#fdca26\"], [1.0, \"#f0f921\"]], \"type\": \"heatmapgl\"}], \"histogram\": [{\"marker\": {\"colorbar\": {\"outlinewidth\": 0, \"ticks\": \"\"}}, \"type\": \"histogram\"}], \"histogram2d\": [{\"colorbar\": {\"outlinewidth\": 0, \"ticks\": \"\"}, \"colorscale\": [[0.0, \"#0d0887\"], [0.1111111111111111, \"#46039f\"], [0.2222222222222222, \"#7201a8\"], [0.3333333333333333, \"#9c179e\"], [0.4444444444444444, \"#bd3786\"], [0.5555555555555556, \"#d8576b\"], [0.6666666666666666, \"#ed7953\"], [0.7777777777777778, \"#fb9f3a\"], [0.8888888888888888, \"#fdca26\"], [1.0, \"#f0f921\"]], \"type\": \"histogram2d\"}], \"histogram2dcontour\": [{\"colorbar\": {\"outlinewidth\": 0, \"ticks\": \"\"}, \"colorscale\": [[0.0, \"#0d0887\"], [0.1111111111111111, \"#46039f\"], [0.2222222222222222, \"#7201a8\"], [0.3333333333333333, \"#9c179e\"], [0.4444444444444444, \"#bd3786\"], [0.5555555555555556, \"#d8576b\"], [0.6666666666666666, \"#ed7953\"], [0.7777777777777778, \"#fb9f3a\"], [0.8888888888888888, \"#fdca26\"], [1.0, \"#f0f921\"]], \"type\": \"histogram2dcontour\"}], \"mesh3d\": [{\"colorbar\": {\"outlinewidth\": 0, \"ticks\": \"\"}, \"type\": \"mesh3d\"}], \"parcoords\": [{\"line\": {\"colorbar\": {\"outlinewidth\": 0, \"ticks\": \"\"}}, \"type\": \"parcoords\"}], \"pie\": [{\"automargin\": true, \"type\": \"pie\"}], \"scatter\": [{\"marker\": {\"colorbar\": {\"outlinewidth\": 0, \"ticks\": \"\"}}, \"type\": \"scatter\"}], \"scatter3d\": [{\"line\": {\"colorbar\": {\"outlinewidth\": 0, \"ticks\": \"\"}}, \"marker\": {\"colorbar\": {\"outlinewidth\": 0, \"ticks\": \"\"}}, \"type\": \"scatter3d\"}], \"scattercarpet\": [{\"marker\": {\"colorbar\": {\"outlinewidth\": 0, \"ticks\": \"\"}}, \"type\": \"scattercarpet\"}], \"scattergeo\": [{\"marker\": {\"colorbar\": {\"outlinewidth\": 0, \"ticks\": \"\"}}, \"type\": \"scattergeo\"}], \"scattergl\": [{\"marker\": {\"colorbar\": {\"outlinewidth\": 0, \"ticks\": \"\"}}, \"type\": \"scattergl\"}], \"scattermapbox\": [{\"marker\": {\"colorbar\": {\"outlinewidth\": 0, \"ticks\": \"\"}}, \"type\": \"scattermapbox\"}], \"scatterpolar\": [{\"marker\": {\"colorbar\": {\"outlinewidth\": 0, \"ticks\": \"\"}}, \"type\": \"scatterpolar\"}], \"scatterpolargl\": [{\"marker\": {\"colorbar\": {\"outlinewidth\": 0, \"ticks\": \"\"}}, \"type\": \"scatterpolargl\"}], \"scatterternary\": [{\"marker\": {\"colorbar\": {\"outlinewidth\": 0, \"ticks\": \"\"}}, \"type\": \"scatterternary\"}], \"surface\": [{\"colorbar\": {\"outlinewidth\": 0, \"ticks\": \"\"}, \"colorscale\": [[0.0, \"#0d0887\"], [0.1111111111111111, \"#46039f\"], [0.2222222222222222, \"#7201a8\"], [0.3333333333333333, \"#9c179e\"], [0.4444444444444444, \"#bd3786\"], [0.5555555555555556, \"#d8576b\"], [0.6666666666666666, \"#ed7953\"], [0.7777777777777778, \"#fb9f3a\"], [0.8888888888888888, \"#fdca26\"], [1.0, \"#f0f921\"]], \"type\": \"surface\"}], \"table\": [{\"cells\": {\"fill\": {\"color\": \"#EBF0F8\"}, \"line\": {\"color\": \"white\"}}, \"header\": {\"fill\": {\"color\": \"#C8D4E3\"}, \"line\": {\"color\": \"white\"}}, \"type\": \"table\"}]}, \"layout\": {\"annotationdefaults\": {\"arrowcolor\": \"#2a3f5f\", \"arrowhead\": 0, \"arrowwidth\": 1}, \"coloraxis\": {\"colorbar\": {\"outlinewidth\": 0, \"ticks\": \"\"}}, \"colorscale\": {\"diverging\": [[0, \"#8e0152\"], [0.1, \"#c51b7d\"], [0.2, \"#de77ae\"], [0.3, \"#f1b6da\"], [0.4, \"#fde0ef\"], [0.5, \"#f7f7f7\"], [0.6, \"#e6f5d0\"], [0.7, \"#b8e186\"], [0.8, \"#7fbc41\"], [0.9, \"#4d9221\"], [1, \"#276419\"]], \"sequential\": [[0.0, \"#0d0887\"], [0.1111111111111111, \"#46039f\"], [0.2222222222222222, \"#7201a8\"], [0.3333333333333333, \"#9c179e\"], [0.4444444444444444, \"#bd3786\"], [0.5555555555555556, \"#d8576b\"], [0.6666666666666666, \"#ed7953\"], [0.7777777777777778, \"#fb9f3a\"], [0.8888888888888888, \"#fdca26\"], [1.0, \"#f0f921\"]], \"sequentialminus\": [[0.0, \"#0d0887\"], [0.1111111111111111, \"#46039f\"], [0.2222222222222222, \"#7201a8\"], [0.3333333333333333, \"#9c179e\"], [0.4444444444444444, \"#bd3786\"], [0.5555555555555556, \"#d8576b\"], [0.6666666666666666, \"#ed7953\"], [0.7777777777777778, \"#fb9f3a\"], [0.8888888888888888, \"#fdca26\"], [1.0, \"#f0f921\"]]}, \"colorway\": [\"#636efa\", \"#EF553B\", \"#00cc96\", \"#ab63fa\", \"#FFA15A\", \"#19d3f3\", \"#FF6692\", \"#B6E880\", \"#FF97FF\", \"#FECB52\"], \"font\": {\"color\": \"#2a3f5f\"}, \"geo\": {\"bgcolor\": \"white\", \"lakecolor\": \"white\", \"landcolor\": \"#E5ECF6\", \"showlakes\": true, \"showland\": true, \"subunitcolor\": \"white\"}, \"hoverlabel\": {\"align\": \"left\"}, \"hovermode\": \"closest\", \"mapbox\": {\"style\": \"light\"}, \"paper_bgcolor\": \"white\", \"plot_bgcolor\": \"#E5ECF6\", \"polar\": {\"angularaxis\": {\"gridcolor\": \"white\", \"linecolor\": \"white\", \"ticks\": \"\"}, \"bgcolor\": \"#E5ECF6\", \"radialaxis\": {\"gridcolor\": \"white\", \"linecolor\": \"white\", \"ticks\": \"\"}}, \"scene\": {\"xaxis\": {\"backgroundcolor\": \"#E5ECF6\", \"gridcolor\": \"white\", \"gridwidth\": 2, \"linecolor\": \"white\", \"showbackground\": true, \"ticks\": \"\", \"zerolinecolor\": \"white\"}, \"yaxis\": {\"backgroundcolor\": \"#E5ECF6\", \"gridcolor\": \"white\", \"gridwidth\": 2, \"linecolor\": \"white\", \"showbackground\": true, \"ticks\": \"\", \"zerolinecolor\": \"white\"}, \"zaxis\": {\"backgroundcolor\": \"#E5ECF6\", \"gridcolor\": \"white\", \"gridwidth\": 2, \"linecolor\": \"white\", \"showbackground\": true, \"ticks\": \"\", \"zerolinecolor\": \"white\"}}, \"shapedefaults\": {\"line\": {\"color\": \"#2a3f5f\"}}, \"ternary\": {\"aaxis\": {\"gridcolor\": \"white\", \"linecolor\": \"white\", \"ticks\": \"\"}, \"baxis\": {\"gridcolor\": \"white\", \"linecolor\": \"white\", \"ticks\": \"\"}, \"bgcolor\": \"#E5ECF6\", \"caxis\": {\"gridcolor\": \"white\", \"linecolor\": \"white\", \"ticks\": \"\"}}, \"title\": {\"x\": 0.05}, \"xaxis\": {\"automargin\": true, \"gridcolor\": \"white\", \"linecolor\": \"white\", \"ticks\": \"\", \"title\": {\"standoff\": 15}, \"zerolinecolor\": \"white\", \"zerolinewidth\": 2}, \"yaxis\": {\"automargin\": true, \"gridcolor\": \"white\", \"linecolor\": \"white\", \"ticks\": \"\", \"title\": {\"standoff\": 15}, \"zerolinecolor\": \"white\", \"zerolinewidth\": 2}}}, \"title\": {\"text\": \"D\\u00eda Viernes\"}, \"xaxis\": {\"rangeselector\": {\"buttons\": [{\"count\": 7, \"label\": \"1w\", \"step\": \"day\", \"stepmode\": \"backward\"}, {\"count\": 1, \"label\": \"1m\", \"step\": \"month\", \"stepmode\": \"backward\"}, {\"count\": 6, \"label\": \"6m\", \"step\": \"month\", \"stepmode\": \"backward\"}, {\"count\": 1, \"label\": \"YTD\", \"step\": \"year\", \"stepmode\": \"todate\"}, {\"count\": 1, \"label\": \"1y\", \"step\": \"year\", \"stepmode\": \"backward\"}, {\"step\": \"all\"}]}, \"showgrid\": true, \"type\": \"date\", \"zeroline\": false}, \"yaxis\": {\"autorange\": false, \"range\": [-1, 12], \"showgrid\": true, \"ticktext\": [\"Pabell\\u00f3n 6\", \"Pabell\\u00f3n 1\", \"UCA 2\", \"Pabell\\u00f3n 8\", \"Pabell\\u00f3n 3\", \"UCA 3\", \"Pabell\\u00f3n 5\", \"Pabell\\u00f3n 4\", \"Pabell\\u00f3n 2\", \"UCA 1\", \"Pabell\\u00f3n 7\"], \"tickvals\": [0, 1, 2, 3, 4, 5, 6, 7, 8, 9, 10], \"zeroline\": false}},\n",
       "                        {\"responsive\": true}\n",
       "                    ).then(function(){\n",
       "                            \n",
       "var gd = document.getElementById('a80ad7a0-9e41-4979-91ea-bdc998c1f33d');\n",
       "var x = new MutationObserver(function (mutations, observer) {{\n",
       "        var display = window.getComputedStyle(gd).display;\n",
       "        if (!display || display === 'none') {{\n",
       "            console.log([gd, 'removed!']);\n",
       "            Plotly.purge(gd);\n",
       "            observer.disconnect();\n",
       "        }}\n",
       "}});\n",
       "\n",
       "// Listen for the removal of the full notebook cells\n",
       "var notebookContainer = gd.closest('#notebook-container');\n",
       "if (notebookContainer) {{\n",
       "    x.observe(notebookContainer, {childList: true});\n",
       "}}\n",
       "\n",
       "// Listen for the clearing of the current output cell\n",
       "var outputEl = gd.closest('.output');\n",
       "if (outputEl) {{\n",
       "    x.observe(outputEl, {childList: true});\n",
       "}}\n",
       "\n",
       "                        })\n",
       "                };\n",
       "                });\n",
       "            </script>\n",
       "        </div>"
      ]
     },
     "metadata": {},
     "output_type": "display_data"
    }
   ],
   "source": [
    "fig_4 = ff.create_gantt(df4, colors=colors_4, index_col='Resource', show_colorbar=True, title='Día Viernes',showgrid_x=True, showgrid_y=True,\n",
    "                      group_tasks=True)\n",
    "fig_4.show()"
   ]
  },
  {
   "cell_type": "code",
   "execution_count": null,
   "metadata": {},
   "outputs": [],
   "source": []
  }
 ],
 "metadata": {
  "celltoolbar": "Raw Cell Format",
  "kernelspec": {
   "display_name": "Python 3",
   "language": "python",
   "name": "python3"
  },
  "language_info": {
   "codemirror_mode": {
    "name": "ipython",
    "version": 3
   },
   "file_extension": ".py",
   "mimetype": "text/x-python",
   "name": "python",
   "nbconvert_exporter": "python",
   "pygments_lexer": "ipython3",
   "version": "3.7.7"
  }
 },
 "nbformat": 4,
 "nbformat_minor": 4
}
